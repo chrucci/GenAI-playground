{
 "cells": [
  {
   "cell_type": "markdown",
   "metadata": {},
   "source": [
    "# Lesson 3: Sentence Window Retrieval"
   ]
  },
  {
   "cell_type": "code",
   "execution_count": 1,
   "metadata": {},
   "outputs": [
    {
     "name": "stderr",
     "output_type": "stream",
     "text": [
      "/home/chris/anaconda3/envs/llamaindex/lib/python3.11/site-packages/tqdm/auto.py:21: TqdmWarning: IProgress not found. Please update jupyter and ipywidgets. See https://ipywidgets.readthedocs.io/en/stable/user_install.html\n",
      "  from .autonotebook import tqdm as notebook_tqdm\n"
     ]
    },
    {
     "name": "stdout",
     "output_type": "stream",
     "text": [
      "✅ In Answer Relevance, input prompt will be set to __record__.main_input or `Select.RecordInput` .\n",
      "✅ In Answer Relevance, input response will be set to __record__.main_output or `Select.RecordOutput` .\n",
      "✅ In Context Relevance, input prompt will be set to __record__.main_input or `Select.RecordInput` .\n",
      "✅ In Context Relevance, input response will be set to __record__.app.query.rets.source_nodes[:].node.text .\n",
      "✅ In Groundedness, input source will be set to __record__.app.query.rets.source_nodes[:].node.text .\n",
      "✅ In Groundedness, input statement will be set to __record__.main_output or `Select.RecordOutput` .\n"
     ]
    }
   ],
   "source": [
    "import warnings\n",
    "import utils\n",
    "import os\n",
    "import openai\n",
    "\n",
    "warnings.filterwarnings(\"ignore\")\n",
    "\n",
    "\n",
    "openai.api_key = utils.get_openai_api_key()"
   ]
  },
  {
   "cell_type": "code",
   "execution_count": 2,
   "metadata": {},
   "outputs": [],
   "source": [
    "from llama_index import SimpleDirectoryReader\n",
    "\n",
    "documents = SimpleDirectoryReader(\n",
    "    input_files=[\"./eBook-How-to-Build-a-Career-in-AI.pdf\"]\n",
    ").load_data()"
   ]
  },
  {
   "cell_type": "code",
   "execution_count": 3,
   "metadata": {},
   "outputs": [
    {
     "name": "stdout",
     "output_type": "stream",
     "text": [
      "<class 'list'> \n",
      "\n",
      "41 \n",
      "\n",
      "<class 'llama_index.schema.Document'>\n",
      "Doc ID: 1b47a87c-4f76-4e62-89d7-3bbd6035c205\n",
      "Text: PAGE 1Founder, DeepLearning.AICollected Insights from Andrew Ng\n",
      "How to  Build Your Career in AIA Simple Guide\n"
     ]
    }
   ],
   "source": [
    "print(type(documents), \"\\n\")\n",
    "print(len(documents), \"\\n\")\n",
    "print(type(documents[0]))\n",
    "print(documents[0])"
   ]
  },
  {
   "cell_type": "code",
   "execution_count": 4,
   "metadata": {},
   "outputs": [],
   "source": [
    "from llama_index import Document\n",
    "\n",
    "document = Document(text=\"\\n\\n\".join([doc.text for doc in documents]))"
   ]
  },
  {
   "cell_type": "markdown",
   "metadata": {},
   "source": [
    "## Window-sentence retrieval setup"
   ]
  },
  {
   "cell_type": "code",
   "execution_count": 5,
   "metadata": {},
   "outputs": [
    {
     "name": "stderr",
     "output_type": "stream",
     "text": [
      "[nltk_data] Downloading package punkt to /tmp/llama_index...\n",
      "[nltk_data]   Unzipping tokenizers/punkt.zip.\n"
     ]
    }
   ],
   "source": [
    "from llama_index.node_parser import SentenceWindowNodeParser\n",
    "\n",
    "# create the sentence window node parser w/ default settings\n",
    "node_parser = SentenceWindowNodeParser.from_defaults(\n",
    "    window_size=3,\n",
    "    window_metadata_key=\"window\",\n",
    "    original_text_metadata_key=\"original_text\",\n",
    ")"
   ]
  },
  {
   "cell_type": "code",
   "execution_count": 6,
   "metadata": {},
   "outputs": [],
   "source": [
    "text = \"hello. how are you? I am fine!  \"\n",
    "\n",
    "nodes = node_parser.get_nodes_from_documents([Document(text=text)])"
   ]
  },
  {
   "cell_type": "code",
   "execution_count": 7,
   "metadata": {},
   "outputs": [
    {
     "name": "stdout",
     "output_type": "stream",
     "text": [
      "['hello. ', 'how are you? ', 'I am fine!  ']\n",
      "hello. \n",
      "how are you? \n",
      "I am fine!  \n"
     ]
    }
   ],
   "source": [
    "# Each sentence from the above is split into it's own element.\n",
    "print([x.text for x in nodes])\n",
    "\n",
    "# Loop through each node within the nodes list and print the text of each node.\n",
    "for node in nodes:\n",
    "    print(node.text)"
   ]
  },
  {
   "cell_type": "code",
   "execution_count": 8,
   "metadata": {},
   "outputs": [
    {
     "name": "stdout",
     "output_type": "stream",
     "text": [
      "hello.  how are you?  I am fine!  \n",
      "hello.  how are you?  I am fine!  \n",
      "hello.  how are you?  I am fine!  \n"
     ]
    }
   ],
   "source": [
    "print(nodes[0].metadata[\"window\"])\n",
    "print(nodes[1].metadata[\"window\"])\n",
    "print(nodes[2].metadata[\"window\"])"
   ]
  },
  {
   "cell_type": "code",
   "execution_count": 9,
   "metadata": {},
   "outputs": [],
   "source": [
    "text = \"\"\"\n",
    "Exploring varied color schemes and patterns in your rooms infuses them with life and personality. Get in touch if you need expert guidance on where to begin. Your understanding of basic color theory and pattern use will help you craft visually captivating, harmonious spaces that are true to your style.\n",
    "\n",
    "There is no definitive blueprint for design. The most enchanting spaces are the ones that bring you comfort and joy. Therefore, feel free to experiment, bend the rules, and design a home that is distinctly yours.\n",
    "\n",
    "May these guidelines inspire you to delve into the world of color and pattern in your home. Enjoy the process of decorating! Remember, if you need further inspiration or tips, you can sign up for my newsletter. Happy designing!\n",
    "\"\"\""
   ]
  },
  {
   "cell_type": "code",
   "execution_count": 10,
   "metadata": {},
   "outputs": [
    {
     "name": "stdout",
     "output_type": "stream",
     "text": [
      "\n",
      "Exploring varied color schemes and patterns in your rooms infuses them with life and personality. \n",
      "Get in touch if you need expert guidance on where to begin. \n",
      "Your understanding of basic color theory and pattern use will help you craft visually captivating, harmonious spaces that are true to your style.\n",
      "\n",
      "\n",
      "There is no definitive blueprint for design. \n",
      "The most enchanting spaces are the ones that bring you comfort and joy. \n",
      "Therefore, feel free to experiment, bend the rules, and design a home that is distinctly yours.\n",
      "\n",
      "\n",
      "May these guidelines inspire you to delve into the world of color and pattern in your home. \n",
      "Enjoy the process of decorating! \n",
      "Remember, if you need further inspiration or tips, you can sign up for my newsletter. \n",
      "Happy designing!\n",
      "\n",
      "node 0 = \n",
      "Exploring varied color schemes and patterns in your rooms infuses them with life and personality. \n",
      "node 1 = Get in touch if you need expert guidance on where to begin. \n",
      "node 2 = Your understanding of basic color theory and pattern use will help you craft visually captivating, harmonious spaces that are true to your style.\n",
      "\n",
      "\n",
      "node 3 = There is no definitive blueprint for design. \n",
      "node 4 = The most enchanting spaces are the ones that bring you comfort and joy. \n",
      "node 5 = Therefore, feel free to experiment, bend the rules, and design a home that is distinctly yours.\n",
      "\n",
      "\n",
      "node 6 = May these guidelines inspire you to delve into the world of color and pattern in your home. \n",
      "node 7 = Enjoy the process of decorating! \n",
      "node 8 = Remember, if you need further inspiration or tips, you can sign up for my newsletter. \n",
      "node 9 = Happy designing!\n",
      "\n"
     ]
    }
   ],
   "source": [
    "nodes = node_parser.get_nodes_from_documents([Document(text=text)])\n",
    "# Loop through each node within the nodes list and print the text of each node.\n",
    "for node in nodes:\n",
    "    print(node.text)\n",
    "\n",
    "for i in range(len(nodes)):\n",
    "    print(f\"node {i} = {nodes[i].text}\")"
   ]
  },
  {
   "cell_type": "code",
   "execution_count": 11,
   "metadata": {},
   "outputs": [
    {
     "name": "stdout",
     "output_type": "stream",
     "text": [
      "window 0 = \n",
      "Exploring varied color schemes and patterns in your rooms infuses them with life and personality.  Get in touch if you need expert guidance on where to begin.  Your understanding of basic color theory and pattern use will help you craft visually captivating, harmonious spaces that are true to your style.\n",
      "\n",
      "\n",
      "window 1 = \n",
      "Exploring varied color schemes and patterns in your rooms infuses them with life and personality.  Get in touch if you need expert guidance on where to begin.  Your understanding of basic color theory and pattern use will help you craft visually captivating, harmonious spaces that are true to your style.\n",
      "\n",
      " There is no definitive blueprint for design. \n",
      "window 2 = \n",
      "Exploring varied color schemes and patterns in your rooms infuses them with life and personality.  Get in touch if you need expert guidance on where to begin.  Your understanding of basic color theory and pattern use will help you craft visually captivating, harmonious spaces that are true to your style.\n",
      "\n",
      " There is no definitive blueprint for design.  The most enchanting spaces are the ones that bring you comfort and joy. \n",
      "window 3 = \n",
      "Exploring varied color schemes and patterns in your rooms infuses them with life and personality.  Get in touch if you need expert guidance on where to begin.  Your understanding of basic color theory and pattern use will help you craft visually captivating, harmonious spaces that are true to your style.\n",
      "\n",
      " There is no definitive blueprint for design.  The most enchanting spaces are the ones that bring you comfort and joy.  Therefore, feel free to experiment, bend the rules, and design a home that is distinctly yours.\n",
      "\n",
      "\n",
      "window 4 = Get in touch if you need expert guidance on where to begin.  Your understanding of basic color theory and pattern use will help you craft visually captivating, harmonious spaces that are true to your style.\n",
      "\n",
      " There is no definitive blueprint for design.  The most enchanting spaces are the ones that bring you comfort and joy.  Therefore, feel free to experiment, bend the rules, and design a home that is distinctly yours.\n",
      "\n",
      " May these guidelines inspire you to delve into the world of color and pattern in your home. \n",
      "window 5 = Your understanding of basic color theory and pattern use will help you craft visually captivating, harmonious spaces that are true to your style.\n",
      "\n",
      " There is no definitive blueprint for design.  The most enchanting spaces are the ones that bring you comfort and joy.  Therefore, feel free to experiment, bend the rules, and design a home that is distinctly yours.\n",
      "\n",
      " May these guidelines inspire you to delve into the world of color and pattern in your home.  Enjoy the process of decorating! \n",
      "window 6 = There is no definitive blueprint for design.  The most enchanting spaces are the ones that bring you comfort and joy.  Therefore, feel free to experiment, bend the rules, and design a home that is distinctly yours.\n",
      "\n",
      " May these guidelines inspire you to delve into the world of color and pattern in your home.  Enjoy the process of decorating!  Remember, if you need further inspiration or tips, you can sign up for my newsletter. \n",
      "window 7 = The most enchanting spaces are the ones that bring you comfort and joy.  Therefore, feel free to experiment, bend the rules, and design a home that is distinctly yours.\n",
      "\n",
      " May these guidelines inspire you to delve into the world of color and pattern in your home.  Enjoy the process of decorating!  Remember, if you need further inspiration or tips, you can sign up for my newsletter.  Happy designing!\n",
      "\n",
      "window 8 = Therefore, feel free to experiment, bend the rules, and design a home that is distinctly yours.\n",
      "\n",
      " May these guidelines inspire you to delve into the world of color and pattern in your home.  Enjoy the process of decorating!  Remember, if you need further inspiration or tips, you can sign up for my newsletter.  Happy designing!\n",
      "\n",
      "window 9 = May these guidelines inspire you to delve into the world of color and pattern in your home.  Enjoy the process of decorating!  Remember, if you need further inspiration or tips, you can sign up for my newsletter.  Happy designing!\n",
      "\n"
     ]
    }
   ],
   "source": [
    "for i in range(len(nodes)):\n",
    "    print(f\"window {i} = {nodes[i].metadata['window']}\")"
   ]
  },
  {
   "cell_type": "markdown",
   "metadata": {},
   "source": [
    "### Building the index"
   ]
  },
  {
   "cell_type": "code",
   "execution_count": 12,
   "metadata": {},
   "outputs": [],
   "source": [
    "# create the LLM\n",
    "from llama_index.llms import OpenAI\n",
    "\n",
    "llm = OpenAI(model=\"gpt-3.5-turbo\", temperature=0.1)"
   ]
  },
  {
   "cell_type": "code",
   "execution_count": 13,
   "metadata": {},
   "outputs": [
    {
     "name": "stderr",
     "output_type": "stream",
     "text": [
      "config.json: 100%|██████████| 779/779 [00:00<00:00, 5.76MB/s]\n",
      "model.safetensors: 100%|██████████| 1.34G/1.34G [00:22<00:00, 60.3MB/s]\n",
      "tokenizer_config.json: 100%|██████████| 366/366 [00:00<00:00, 2.48MB/s]\n",
      "vocab.txt: 100%|██████████| 232k/232k [00:00<00:00, 4.17MB/s]\n",
      "tokenizer.json: 100%|██████████| 711k/711k [00:00<00:00, 17.3MB/s]\n",
      "special_tokens_map.json: 100%|██████████| 125/125 [00:00<00:00, 826kB/s]\n"
     ]
    }
   ],
   "source": [
    "# Create the Service Context\n",
    "from llama_index import ServiceContext\n",
    "\n",
    "sentence_context = ServiceContext.from_defaults(\n",
    "    llm=llm,\n",
    "    embed_model=\"local:BAAI/bge-large-en-v1.5\",\n",
    "    node_parser=node_parser,\n",
    ")"
   ]
  },
  {
   "cell_type": "code",
   "execution_count": 14,
   "metadata": {},
   "outputs": [],
   "source": [
    "# Create the VectorStore\n",
    "from llama_index import VectorStoreIndex\n",
    "\n",
    "sentence_index = VectorStoreIndex.from_documents(\n",
    "    [document], service_context=sentence_context\n",
    ")"
   ]
  },
  {
   "cell_type": "code",
   "execution_count": 15,
   "metadata": {},
   "outputs": [],
   "source": [
    "# This block of code is optional to check\n",
    "# if an index file exist, then it will load it\n",
    "# if not, it will rebuild it\n",
    "\n",
    "import os\n",
    "from llama_index import VectorStoreIndex, StorageContext, load_index_from_storage\n",
    "from llama_index import load_index_from_storage\n",
    "\n",
    "\n",
    "if not os.path.exists(\"./sentence_index\"):\n",
    "    # If the index doesn't yet exist, create it\n",
    "    sentence_index = VectorStoreIndex.from_documents(\n",
    "        [document], service_context=sentence_context\n",
    "    )\n",
    "\n",
    "    sentence_index.storage_context.persist(persist_dir=\"./sentence_index\")\n",
    "else:\n",
    "    # If the index already exists, load it from storage\n",
    "    sentence_index = load_index_from_storage(\n",
    "        StorageContext.from_defaults(persist_dir=\"./sentence_index\"),\n",
    "        service_context=sentence_context,\n",
    "    )"
   ]
  },
  {
   "cell_type": "markdown",
   "metadata": {},
   "source": [
    "### Building the postprocessor"
   ]
  },
  {
   "cell_type": "code",
   "execution_count": 16,
   "metadata": {},
   "outputs": [],
   "source": [
    "# This will pull the context window out for each selected node.\n",
    "from llama_index.indices.postprocessor import MetadataReplacementPostProcessor\n",
    "\n",
    "postproc = MetadataReplacementPostProcessor(target_metadata_key=\"window\")"
   ]
  },
  {
   "cell_type": "code",
   "execution_count": 17,
   "metadata": {},
   "outputs": [],
   "source": [
    "from llama_index.schema import NodeWithScore\n",
    "from copy import deepcopy\n",
    "\n",
    "scored_nodes = [NodeWithScore(node=x, score=1.0) for x in nodes]\n",
    "nodes_old = [deepcopy(n) for n in nodes]"
   ]
  },
  {
   "cell_type": "code",
   "execution_count": 18,
   "metadata": {},
   "outputs": [
    {
     "data": {
      "text/plain": [
       "[NodeWithScore(node=TextNode(id_='f946f63b-3dbb-48fa-a515-5570605ec9cd', embedding=None, metadata={'window': '\\nExploring varied color schemes and patterns in your rooms infuses them with life and personality.  Get in touch if you need expert guidance on where to begin.  Your understanding of basic color theory and pattern use will help you craft visually captivating, harmonious spaces that are true to your style.\\n\\n', 'original_text': '\\nExploring varied color schemes and patterns in your rooms infuses them with life and personality. '}, excluded_embed_metadata_keys=['window', 'original_text'], excluded_llm_metadata_keys=['window', 'original_text'], relationships={<NodeRelationship.SOURCE: '1'>: RelatedNodeInfo(node_id='ebf5a6fd-9993-4c4f-b1ba-9ec7d56ae112', node_type=<ObjectType.DOCUMENT: '4'>, metadata={}, hash='a72f3f78499c07bca9853273f1f4359e7c83c28614918f61c6e85288aaf9e5ea'), <NodeRelationship.NEXT: '3'>: RelatedNodeInfo(node_id='1631ab4c-e47a-48ba-9a55-bb0498c26a58', node_type=<ObjectType.TEXT: '1'>, metadata={'window': '\\nExploring varied color schemes and patterns in your rooms infuses them with life and personality.  Get in touch if you need expert guidance on where to begin.  Your understanding of basic color theory and pattern use will help you craft visually captivating, harmonious spaces that are true to your style.\\n\\n There is no definitive blueprint for design. ', 'original_text': 'Get in touch if you need expert guidance on where to begin. '}, hash='be12ddd3b7b03f58f00d83a40bddcb4d36684586554661e0d2c260b47bcbf65f')}, hash='59fbbc4b368fcc0fe06d60aaf2c87bc4c47cc0be8e69f3357b0ce6d5df38e08c', text='\\nExploring varied color schemes and patterns in your rooms infuses them with life and personality. ', start_char_idx=0, end_char_idx=99, text_template='{metadata_str}\\n\\n{content}', metadata_template='{key}: {value}', metadata_seperator='\\n'), score=1.0),\n",
       " NodeWithScore(node=TextNode(id_='1631ab4c-e47a-48ba-9a55-bb0498c26a58', embedding=None, metadata={'window': '\\nExploring varied color schemes and patterns in your rooms infuses them with life and personality.  Get in touch if you need expert guidance on where to begin.  Your understanding of basic color theory and pattern use will help you craft visually captivating, harmonious spaces that are true to your style.\\n\\n There is no definitive blueprint for design. ', 'original_text': 'Get in touch if you need expert guidance on where to begin. '}, excluded_embed_metadata_keys=['window', 'original_text'], excluded_llm_metadata_keys=['window', 'original_text'], relationships={<NodeRelationship.SOURCE: '1'>: RelatedNodeInfo(node_id='ebf5a6fd-9993-4c4f-b1ba-9ec7d56ae112', node_type=<ObjectType.DOCUMENT: '4'>, metadata={}, hash='a72f3f78499c07bca9853273f1f4359e7c83c28614918f61c6e85288aaf9e5ea'), <NodeRelationship.PREVIOUS: '2'>: RelatedNodeInfo(node_id='f946f63b-3dbb-48fa-a515-5570605ec9cd', node_type=<ObjectType.TEXT: '1'>, metadata={'window': '\\nExploring varied color schemes and patterns in your rooms infuses them with life and personality.  Get in touch if you need expert guidance on where to begin.  Your understanding of basic color theory and pattern use will help you craft visually captivating, harmonious spaces that are true to your style.\\n\\n', 'original_text': '\\nExploring varied color schemes and patterns in your rooms infuses them with life and personality. '}, hash='59fbbc4b368fcc0fe06d60aaf2c87bc4c47cc0be8e69f3357b0ce6d5df38e08c'), <NodeRelationship.NEXT: '3'>: RelatedNodeInfo(node_id='cc9a3e40-bda2-4e37-8461-54bf8c82a119', node_type=<ObjectType.TEXT: '1'>, metadata={'window': '\\nExploring varied color schemes and patterns in your rooms infuses them with life and personality.  Get in touch if you need expert guidance on where to begin.  Your understanding of basic color theory and pattern use will help you craft visually captivating, harmonious spaces that are true to your style.\\n\\n There is no definitive blueprint for design.  The most enchanting spaces are the ones that bring you comfort and joy. ', 'original_text': 'Your understanding of basic color theory and pattern use will help you craft visually captivating, harmonious spaces that are true to your style.\\n\\n'}, hash='494adcc4030976184cb17486c810706167e9b9e05e178617c37f84f84fe69865')}, hash='be12ddd3b7b03f58f00d83a40bddcb4d36684586554661e0d2c260b47bcbf65f', text='Get in touch if you need expert guidance on where to begin. ', start_char_idx=99, end_char_idx=159, text_template='{metadata_str}\\n\\n{content}', metadata_template='{key}: {value}', metadata_seperator='\\n'), score=1.0),\n",
       " NodeWithScore(node=TextNode(id_='cc9a3e40-bda2-4e37-8461-54bf8c82a119', embedding=None, metadata={'window': '\\nExploring varied color schemes and patterns in your rooms infuses them with life and personality.  Get in touch if you need expert guidance on where to begin.  Your understanding of basic color theory and pattern use will help you craft visually captivating, harmonious spaces that are true to your style.\\n\\n There is no definitive blueprint for design.  The most enchanting spaces are the ones that bring you comfort and joy. ', 'original_text': 'Your understanding of basic color theory and pattern use will help you craft visually captivating, harmonious spaces that are true to your style.\\n\\n'}, excluded_embed_metadata_keys=['window', 'original_text'], excluded_llm_metadata_keys=['window', 'original_text'], relationships={<NodeRelationship.SOURCE: '1'>: RelatedNodeInfo(node_id='ebf5a6fd-9993-4c4f-b1ba-9ec7d56ae112', node_type=<ObjectType.DOCUMENT: '4'>, metadata={}, hash='a72f3f78499c07bca9853273f1f4359e7c83c28614918f61c6e85288aaf9e5ea'), <NodeRelationship.PREVIOUS: '2'>: RelatedNodeInfo(node_id='1631ab4c-e47a-48ba-9a55-bb0498c26a58', node_type=<ObjectType.TEXT: '1'>, metadata={'window': '\\nExploring varied color schemes and patterns in your rooms infuses them with life and personality.  Get in touch if you need expert guidance on where to begin.  Your understanding of basic color theory and pattern use will help you craft visually captivating, harmonious spaces that are true to your style.\\n\\n There is no definitive blueprint for design. ', 'original_text': 'Get in touch if you need expert guidance on where to begin. '}, hash='be12ddd3b7b03f58f00d83a40bddcb4d36684586554661e0d2c260b47bcbf65f'), <NodeRelationship.NEXT: '3'>: RelatedNodeInfo(node_id='490140e9-34c4-4ea9-8fd8-8256d43b6c2c', node_type=<ObjectType.TEXT: '1'>, metadata={'window': '\\nExploring varied color schemes and patterns in your rooms infuses them with life and personality.  Get in touch if you need expert guidance on where to begin.  Your understanding of basic color theory and pattern use will help you craft visually captivating, harmonious spaces that are true to your style.\\n\\n There is no definitive blueprint for design.  The most enchanting spaces are the ones that bring you comfort and joy.  Therefore, feel free to experiment, bend the rules, and design a home that is distinctly yours.\\n\\n', 'original_text': 'There is no definitive blueprint for design. '}, hash='1545d1cd838bfae1313c5199e87be84911cada87723559e49d964fa4e2a0b9ee')}, hash='494adcc4030976184cb17486c810706167e9b9e05e178617c37f84f84fe69865', text='Your understanding of basic color theory and pattern use will help you craft visually captivating, harmonious spaces that are true to your style.\\n\\n', start_char_idx=159, end_char_idx=306, text_template='{metadata_str}\\n\\n{content}', metadata_template='{key}: {value}', metadata_seperator='\\n'), score=1.0),\n",
       " NodeWithScore(node=TextNode(id_='490140e9-34c4-4ea9-8fd8-8256d43b6c2c', embedding=None, metadata={'window': '\\nExploring varied color schemes and patterns in your rooms infuses them with life and personality.  Get in touch if you need expert guidance on where to begin.  Your understanding of basic color theory and pattern use will help you craft visually captivating, harmonious spaces that are true to your style.\\n\\n There is no definitive blueprint for design.  The most enchanting spaces are the ones that bring you comfort and joy.  Therefore, feel free to experiment, bend the rules, and design a home that is distinctly yours.\\n\\n', 'original_text': 'There is no definitive blueprint for design. '}, excluded_embed_metadata_keys=['window', 'original_text'], excluded_llm_metadata_keys=['window', 'original_text'], relationships={<NodeRelationship.SOURCE: '1'>: RelatedNodeInfo(node_id='ebf5a6fd-9993-4c4f-b1ba-9ec7d56ae112', node_type=<ObjectType.DOCUMENT: '4'>, metadata={}, hash='a72f3f78499c07bca9853273f1f4359e7c83c28614918f61c6e85288aaf9e5ea'), <NodeRelationship.PREVIOUS: '2'>: RelatedNodeInfo(node_id='cc9a3e40-bda2-4e37-8461-54bf8c82a119', node_type=<ObjectType.TEXT: '1'>, metadata={'window': '\\nExploring varied color schemes and patterns in your rooms infuses them with life and personality.  Get in touch if you need expert guidance on where to begin.  Your understanding of basic color theory and pattern use will help you craft visually captivating, harmonious spaces that are true to your style.\\n\\n There is no definitive blueprint for design.  The most enchanting spaces are the ones that bring you comfort and joy. ', 'original_text': 'Your understanding of basic color theory and pattern use will help you craft visually captivating, harmonious spaces that are true to your style.\\n\\n'}, hash='494adcc4030976184cb17486c810706167e9b9e05e178617c37f84f84fe69865'), <NodeRelationship.NEXT: '3'>: RelatedNodeInfo(node_id='235151c5-d644-45da-beab-1805ac1dbe31', node_type=<ObjectType.TEXT: '1'>, metadata={'window': 'Get in touch if you need expert guidance on where to begin.  Your understanding of basic color theory and pattern use will help you craft visually captivating, harmonious spaces that are true to your style.\\n\\n There is no definitive blueprint for design.  The most enchanting spaces are the ones that bring you comfort and joy.  Therefore, feel free to experiment, bend the rules, and design a home that is distinctly yours.\\n\\n May these guidelines inspire you to delve into the world of color and pattern in your home. ', 'original_text': 'The most enchanting spaces are the ones that bring you comfort and joy. '}, hash='544a7cc16e0fc5ff5cd4da1bfeb825245375c1063b57967b05e7b157d077ac19')}, hash='1545d1cd838bfae1313c5199e87be84911cada87723559e49d964fa4e2a0b9ee', text='There is no definitive blueprint for design. ', start_char_idx=306, end_char_idx=351, text_template='{metadata_str}\\n\\n{content}', metadata_template='{key}: {value}', metadata_seperator='\\n'), score=1.0),\n",
       " NodeWithScore(node=TextNode(id_='235151c5-d644-45da-beab-1805ac1dbe31', embedding=None, metadata={'window': 'Get in touch if you need expert guidance on where to begin.  Your understanding of basic color theory and pattern use will help you craft visually captivating, harmonious spaces that are true to your style.\\n\\n There is no definitive blueprint for design.  The most enchanting spaces are the ones that bring you comfort and joy.  Therefore, feel free to experiment, bend the rules, and design a home that is distinctly yours.\\n\\n May these guidelines inspire you to delve into the world of color and pattern in your home. ', 'original_text': 'The most enchanting spaces are the ones that bring you comfort and joy. '}, excluded_embed_metadata_keys=['window', 'original_text'], excluded_llm_metadata_keys=['window', 'original_text'], relationships={<NodeRelationship.SOURCE: '1'>: RelatedNodeInfo(node_id='ebf5a6fd-9993-4c4f-b1ba-9ec7d56ae112', node_type=<ObjectType.DOCUMENT: '4'>, metadata={}, hash='a72f3f78499c07bca9853273f1f4359e7c83c28614918f61c6e85288aaf9e5ea'), <NodeRelationship.PREVIOUS: '2'>: RelatedNodeInfo(node_id='490140e9-34c4-4ea9-8fd8-8256d43b6c2c', node_type=<ObjectType.TEXT: '1'>, metadata={'window': '\\nExploring varied color schemes and patterns in your rooms infuses them with life and personality.  Get in touch if you need expert guidance on where to begin.  Your understanding of basic color theory and pattern use will help you craft visually captivating, harmonious spaces that are true to your style.\\n\\n There is no definitive blueprint for design.  The most enchanting spaces are the ones that bring you comfort and joy.  Therefore, feel free to experiment, bend the rules, and design a home that is distinctly yours.\\n\\n', 'original_text': 'There is no definitive blueprint for design. '}, hash='1545d1cd838bfae1313c5199e87be84911cada87723559e49d964fa4e2a0b9ee'), <NodeRelationship.NEXT: '3'>: RelatedNodeInfo(node_id='4385f607-ef90-4241-821b-9ee76b7fc889', node_type=<ObjectType.TEXT: '1'>, metadata={'window': 'Your understanding of basic color theory and pattern use will help you craft visually captivating, harmonious spaces that are true to your style.\\n\\n There is no definitive blueprint for design.  The most enchanting spaces are the ones that bring you comfort and joy.  Therefore, feel free to experiment, bend the rules, and design a home that is distinctly yours.\\n\\n May these guidelines inspire you to delve into the world of color and pattern in your home.  Enjoy the process of decorating! ', 'original_text': 'Therefore, feel free to experiment, bend the rules, and design a home that is distinctly yours.\\n\\n'}, hash='6bbd3f08ada04274a97c9c81ba1d0b8ee1549066b3e18c283420bf0788203256')}, hash='544a7cc16e0fc5ff5cd4da1bfeb825245375c1063b57967b05e7b157d077ac19', text='The most enchanting spaces are the ones that bring you comfort and joy. ', start_char_idx=351, end_char_idx=423, text_template='{metadata_str}\\n\\n{content}', metadata_template='{key}: {value}', metadata_seperator='\\n'), score=1.0),\n",
       " NodeWithScore(node=TextNode(id_='4385f607-ef90-4241-821b-9ee76b7fc889', embedding=None, metadata={'window': 'Your understanding of basic color theory and pattern use will help you craft visually captivating, harmonious spaces that are true to your style.\\n\\n There is no definitive blueprint for design.  The most enchanting spaces are the ones that bring you comfort and joy.  Therefore, feel free to experiment, bend the rules, and design a home that is distinctly yours.\\n\\n May these guidelines inspire you to delve into the world of color and pattern in your home.  Enjoy the process of decorating! ', 'original_text': 'Therefore, feel free to experiment, bend the rules, and design a home that is distinctly yours.\\n\\n'}, excluded_embed_metadata_keys=['window', 'original_text'], excluded_llm_metadata_keys=['window', 'original_text'], relationships={<NodeRelationship.SOURCE: '1'>: RelatedNodeInfo(node_id='ebf5a6fd-9993-4c4f-b1ba-9ec7d56ae112', node_type=<ObjectType.DOCUMENT: '4'>, metadata={}, hash='a72f3f78499c07bca9853273f1f4359e7c83c28614918f61c6e85288aaf9e5ea'), <NodeRelationship.PREVIOUS: '2'>: RelatedNodeInfo(node_id='235151c5-d644-45da-beab-1805ac1dbe31', node_type=<ObjectType.TEXT: '1'>, metadata={'window': 'Get in touch if you need expert guidance on where to begin.  Your understanding of basic color theory and pattern use will help you craft visually captivating, harmonious spaces that are true to your style.\\n\\n There is no definitive blueprint for design.  The most enchanting spaces are the ones that bring you comfort and joy.  Therefore, feel free to experiment, bend the rules, and design a home that is distinctly yours.\\n\\n May these guidelines inspire you to delve into the world of color and pattern in your home. ', 'original_text': 'The most enchanting spaces are the ones that bring you comfort and joy. '}, hash='544a7cc16e0fc5ff5cd4da1bfeb825245375c1063b57967b05e7b157d077ac19'), <NodeRelationship.NEXT: '3'>: RelatedNodeInfo(node_id='a5bbcc72-2f4f-445c-bd12-dbab202a07e3', node_type=<ObjectType.TEXT: '1'>, metadata={'window': 'There is no definitive blueprint for design.  The most enchanting spaces are the ones that bring you comfort and joy.  Therefore, feel free to experiment, bend the rules, and design a home that is distinctly yours.\\n\\n May these guidelines inspire you to delve into the world of color and pattern in your home.  Enjoy the process of decorating!  Remember, if you need further inspiration or tips, you can sign up for my newsletter. ', 'original_text': 'May these guidelines inspire you to delve into the world of color and pattern in your home. '}, hash='8841d1f5a45155df6ec2d54280db634513498857dad644287b91c88f41f901b4')}, hash='6bbd3f08ada04274a97c9c81ba1d0b8ee1549066b3e18c283420bf0788203256', text='Therefore, feel free to experiment, bend the rules, and design a home that is distinctly yours.\\n\\n', start_char_idx=423, end_char_idx=520, text_template='{metadata_str}\\n\\n{content}', metadata_template='{key}: {value}', metadata_seperator='\\n'), score=1.0),\n",
       " NodeWithScore(node=TextNode(id_='a5bbcc72-2f4f-445c-bd12-dbab202a07e3', embedding=None, metadata={'window': 'There is no definitive blueprint for design.  The most enchanting spaces are the ones that bring you comfort and joy.  Therefore, feel free to experiment, bend the rules, and design a home that is distinctly yours.\\n\\n May these guidelines inspire you to delve into the world of color and pattern in your home.  Enjoy the process of decorating!  Remember, if you need further inspiration or tips, you can sign up for my newsletter. ', 'original_text': 'May these guidelines inspire you to delve into the world of color and pattern in your home. '}, excluded_embed_metadata_keys=['window', 'original_text'], excluded_llm_metadata_keys=['window', 'original_text'], relationships={<NodeRelationship.SOURCE: '1'>: RelatedNodeInfo(node_id='ebf5a6fd-9993-4c4f-b1ba-9ec7d56ae112', node_type=<ObjectType.DOCUMENT: '4'>, metadata={}, hash='a72f3f78499c07bca9853273f1f4359e7c83c28614918f61c6e85288aaf9e5ea'), <NodeRelationship.PREVIOUS: '2'>: RelatedNodeInfo(node_id='4385f607-ef90-4241-821b-9ee76b7fc889', node_type=<ObjectType.TEXT: '1'>, metadata={'window': 'Your understanding of basic color theory and pattern use will help you craft visually captivating, harmonious spaces that are true to your style.\\n\\n There is no definitive blueprint for design.  The most enchanting spaces are the ones that bring you comfort and joy.  Therefore, feel free to experiment, bend the rules, and design a home that is distinctly yours.\\n\\n May these guidelines inspire you to delve into the world of color and pattern in your home.  Enjoy the process of decorating! ', 'original_text': 'Therefore, feel free to experiment, bend the rules, and design a home that is distinctly yours.\\n\\n'}, hash='6bbd3f08ada04274a97c9c81ba1d0b8ee1549066b3e18c283420bf0788203256'), <NodeRelationship.NEXT: '3'>: RelatedNodeInfo(node_id='ef01bbd2-ce40-4dc3-bc2d-3fa5c4675f62', node_type=<ObjectType.TEXT: '1'>, metadata={'window': 'The most enchanting spaces are the ones that bring you comfort and joy.  Therefore, feel free to experiment, bend the rules, and design a home that is distinctly yours.\\n\\n May these guidelines inspire you to delve into the world of color and pattern in your home.  Enjoy the process of decorating!  Remember, if you need further inspiration or tips, you can sign up for my newsletter.  Happy designing!\\n', 'original_text': 'Enjoy the process of decorating! '}, hash='33ad1b7205f859ea0d1a6436b913fa82024f199f7e5eb25f1b2796cbaaa84c67')}, hash='8841d1f5a45155df6ec2d54280db634513498857dad644287b91c88f41f901b4', text='May these guidelines inspire you to delve into the world of color and pattern in your home. ', start_char_idx=520, end_char_idx=612, text_template='{metadata_str}\\n\\n{content}', metadata_template='{key}: {value}', metadata_seperator='\\n'), score=1.0),\n",
       " NodeWithScore(node=TextNode(id_='ef01bbd2-ce40-4dc3-bc2d-3fa5c4675f62', embedding=None, metadata={'window': 'The most enchanting spaces are the ones that bring you comfort and joy.  Therefore, feel free to experiment, bend the rules, and design a home that is distinctly yours.\\n\\n May these guidelines inspire you to delve into the world of color and pattern in your home.  Enjoy the process of decorating!  Remember, if you need further inspiration or tips, you can sign up for my newsletter.  Happy designing!\\n', 'original_text': 'Enjoy the process of decorating! '}, excluded_embed_metadata_keys=['window', 'original_text'], excluded_llm_metadata_keys=['window', 'original_text'], relationships={<NodeRelationship.SOURCE: '1'>: RelatedNodeInfo(node_id='ebf5a6fd-9993-4c4f-b1ba-9ec7d56ae112', node_type=<ObjectType.DOCUMENT: '4'>, metadata={}, hash='a72f3f78499c07bca9853273f1f4359e7c83c28614918f61c6e85288aaf9e5ea'), <NodeRelationship.PREVIOUS: '2'>: RelatedNodeInfo(node_id='a5bbcc72-2f4f-445c-bd12-dbab202a07e3', node_type=<ObjectType.TEXT: '1'>, metadata={'window': 'There is no definitive blueprint for design.  The most enchanting spaces are the ones that bring you comfort and joy.  Therefore, feel free to experiment, bend the rules, and design a home that is distinctly yours.\\n\\n May these guidelines inspire you to delve into the world of color and pattern in your home.  Enjoy the process of decorating!  Remember, if you need further inspiration or tips, you can sign up for my newsletter. ', 'original_text': 'May these guidelines inspire you to delve into the world of color and pattern in your home. '}, hash='8841d1f5a45155df6ec2d54280db634513498857dad644287b91c88f41f901b4'), <NodeRelationship.NEXT: '3'>: RelatedNodeInfo(node_id='4e33a4d5-d0c9-4021-a3b5-85898d2d1e30', node_type=<ObjectType.TEXT: '1'>, metadata={'window': 'Therefore, feel free to experiment, bend the rules, and design a home that is distinctly yours.\\n\\n May these guidelines inspire you to delve into the world of color and pattern in your home.  Enjoy the process of decorating!  Remember, if you need further inspiration or tips, you can sign up for my newsletter.  Happy designing!\\n', 'original_text': 'Remember, if you need further inspiration or tips, you can sign up for my newsletter. '}, hash='6b345f5b0a23a5ccfb4bd52d47b1d93a90e279d4428ab82951b1057ab0c9bc65')}, hash='33ad1b7205f859ea0d1a6436b913fa82024f199f7e5eb25f1b2796cbaaa84c67', text='Enjoy the process of decorating! ', start_char_idx=612, end_char_idx=645, text_template='{metadata_str}\\n\\n{content}', metadata_template='{key}: {value}', metadata_seperator='\\n'), score=1.0),\n",
       " NodeWithScore(node=TextNode(id_='4e33a4d5-d0c9-4021-a3b5-85898d2d1e30', embedding=None, metadata={'window': 'Therefore, feel free to experiment, bend the rules, and design a home that is distinctly yours.\\n\\n May these guidelines inspire you to delve into the world of color and pattern in your home.  Enjoy the process of decorating!  Remember, if you need further inspiration or tips, you can sign up for my newsletter.  Happy designing!\\n', 'original_text': 'Remember, if you need further inspiration or tips, you can sign up for my newsletter. '}, excluded_embed_metadata_keys=['window', 'original_text'], excluded_llm_metadata_keys=['window', 'original_text'], relationships={<NodeRelationship.SOURCE: '1'>: RelatedNodeInfo(node_id='ebf5a6fd-9993-4c4f-b1ba-9ec7d56ae112', node_type=<ObjectType.DOCUMENT: '4'>, metadata={}, hash='a72f3f78499c07bca9853273f1f4359e7c83c28614918f61c6e85288aaf9e5ea'), <NodeRelationship.PREVIOUS: '2'>: RelatedNodeInfo(node_id='ef01bbd2-ce40-4dc3-bc2d-3fa5c4675f62', node_type=<ObjectType.TEXT: '1'>, metadata={'window': 'The most enchanting spaces are the ones that bring you comfort and joy.  Therefore, feel free to experiment, bend the rules, and design a home that is distinctly yours.\\n\\n May these guidelines inspire you to delve into the world of color and pattern in your home.  Enjoy the process of decorating!  Remember, if you need further inspiration or tips, you can sign up for my newsletter.  Happy designing!\\n', 'original_text': 'Enjoy the process of decorating! '}, hash='33ad1b7205f859ea0d1a6436b913fa82024f199f7e5eb25f1b2796cbaaa84c67'), <NodeRelationship.NEXT: '3'>: RelatedNodeInfo(node_id='a77c4be4-4514-4416-95da-7ed7a3a45763', node_type=<ObjectType.TEXT: '1'>, metadata={'window': 'May these guidelines inspire you to delve into the world of color and pattern in your home.  Enjoy the process of decorating!  Remember, if you need further inspiration or tips, you can sign up for my newsletter.  Happy designing!\\n', 'original_text': 'Happy designing!\\n'}, hash='8df8ec7cf655cb59f698e92becf34d0e464f086884936fbbe386e2514351b18d')}, hash='6b345f5b0a23a5ccfb4bd52d47b1d93a90e279d4428ab82951b1057ab0c9bc65', text='Remember, if you need further inspiration or tips, you can sign up for my newsletter. ', start_char_idx=645, end_char_idx=731, text_template='{metadata_str}\\n\\n{content}', metadata_template='{key}: {value}', metadata_seperator='\\n'), score=1.0),\n",
       " NodeWithScore(node=TextNode(id_='a77c4be4-4514-4416-95da-7ed7a3a45763', embedding=None, metadata={'window': 'May these guidelines inspire you to delve into the world of color and pattern in your home.  Enjoy the process of decorating!  Remember, if you need further inspiration or tips, you can sign up for my newsletter.  Happy designing!\\n', 'original_text': 'Happy designing!\\n'}, excluded_embed_metadata_keys=['window', 'original_text'], excluded_llm_metadata_keys=['window', 'original_text'], relationships={<NodeRelationship.SOURCE: '1'>: RelatedNodeInfo(node_id='ebf5a6fd-9993-4c4f-b1ba-9ec7d56ae112', node_type=<ObjectType.DOCUMENT: '4'>, metadata={}, hash='a72f3f78499c07bca9853273f1f4359e7c83c28614918f61c6e85288aaf9e5ea'), <NodeRelationship.PREVIOUS: '2'>: RelatedNodeInfo(node_id='4e33a4d5-d0c9-4021-a3b5-85898d2d1e30', node_type=<ObjectType.TEXT: '1'>, metadata={'window': 'Therefore, feel free to experiment, bend the rules, and design a home that is distinctly yours.\\n\\n May these guidelines inspire you to delve into the world of color and pattern in your home.  Enjoy the process of decorating!  Remember, if you need further inspiration or tips, you can sign up for my newsletter.  Happy designing!\\n', 'original_text': 'Remember, if you need further inspiration or tips, you can sign up for my newsletter. '}, hash='6b345f5b0a23a5ccfb4bd52d47b1d93a90e279d4428ab82951b1057ab0c9bc65')}, hash='8df8ec7cf655cb59f698e92becf34d0e464f086884936fbbe386e2514351b18d', text='Happy designing!\\n', start_char_idx=731, end_char_idx=748, text_template='{metadata_str}\\n\\n{content}', metadata_template='{key}: {value}', metadata_seperator='\\n'), score=1.0)]"
      ]
     },
     "execution_count": 18,
     "metadata": {},
     "output_type": "execute_result"
    }
   ],
   "source": [
    "scored_nodes"
   ]
  },
  {
   "cell_type": "code",
   "execution_count": 19,
   "metadata": {},
   "outputs": [
    {
     "data": {
      "text/plain": [
       "'Get in touch if you need expert guidance on where to begin. '"
      ]
     },
     "execution_count": 19,
     "metadata": {},
     "output_type": "execute_result"
    }
   ],
   "source": [
    "nodes_old[1].text"
   ]
  },
  {
   "cell_type": "code",
   "execution_count": 20,
   "metadata": {},
   "outputs": [],
   "source": [
    "replaced_nodes = postproc.postprocess_nodes(scored_nodes)"
   ]
  },
  {
   "cell_type": "code",
   "execution_count": 21,
   "metadata": {},
   "outputs": [
    {
     "name": "stdout",
     "output_type": "stream",
     "text": [
      "\n",
      "Exploring varied color schemes and patterns in your rooms infuses them with life and personality.  Get in touch if you need expert guidance on where to begin.  Your understanding of basic color theory and pattern use will help you craft visually captivating, harmonious spaces that are true to your style.\n",
      "\n",
      " There is no definitive blueprint for design. \n"
     ]
    }
   ],
   "source": [
    "print(replaced_nodes[1].text)"
   ]
  },
  {
   "cell_type": "markdown",
   "metadata": {},
   "source": [
    "### Adding a reranker"
   ]
  },
  {
   "cell_type": "code",
   "execution_count": 22,
   "metadata": {},
   "outputs": [],
   "source": [
    "from llama_index.indices.postprocessor import SentenceTransformerRerank\n",
    "\n",
    "# BAAI/bge-reranker-base\n",
    "# link: https://huggingface.co/BAAI/bge-reranker-base\n",
    "rerank = SentenceTransformerRerank(top_n=2, model=\"BAAI/bge-reranker-base\")"
   ]
  },
  {
   "cell_type": "code",
   "execution_count": 23,
   "metadata": {},
   "outputs": [
    {
     "name": "stdout",
     "output_type": "stream",
     "text": [
      "[('This is a dog', 0.91827404), ('This is a cat', 0.0014040867)]\n"
     ]
    }
   ],
   "source": [
    "# Exploring re-ranking\n",
    "# This assumes the orig query is \"I want a dog\"\n",
    "# And the original results are \"This is a cat\" which is RANKED HIGHER (0.6) than \"This is a dog\" (0.4)\n",
    "# But the re-ranked results should have \"This is a dog\" ranked higher\n",
    "\n",
    "from llama_index import QueryBundle\n",
    "from llama_index.schema import TextNode, NodeWithScore\n",
    "\n",
    "query = QueryBundle(\"I want a dog.\")\n",
    "\n",
    "scored_nodes = [\n",
    "    NodeWithScore(node=TextNode(text=\"This is a cat\"), score=0.6),\n",
    "    NodeWithScore(node=TextNode(text=\"This is a dog\"), score=0.4),\n",
    "]\n",
    "\n",
    "reranked_nodes = rerank.postprocess_nodes(scored_nodes, query_bundle=query)\n",
    "\n",
    "print([(x.text, x.score) for x in reranked_nodes])"
   ]
  },
  {
   "cell_type": "markdown",
   "metadata": {},
   "source": [
    "### Runing the query engine"
   ]
  },
  {
   "cell_type": "code",
   "execution_count": 24,
   "metadata": {},
   "outputs": [],
   "source": [
    "# NOTE that the k value here (6) is higher than that used in the re-ranker.  This gives the re-ranker some options.\n",
    "sentence_window_engine = sentence_index.as_query_engine(\n",
    "    similarity_top_k=6, node_postprocessors=[postproc, rerank]\n",
    ")"
   ]
  },
  {
   "cell_type": "code",
   "execution_count": 25,
   "metadata": {},
   "outputs": [],
   "source": [
    "window_response = sentence_window_engine.query(\n",
    "    \"What are the keys to building a career in AI?\"\n",
    ")"
   ]
  },
  {
   "cell_type": "code",
   "execution_count": 26,
   "metadata": {},
   "outputs": [
    {
     "data": {
      "text/markdown": [
       "**`Final Response:`** The keys to building a career in AI are learning foundational technical skills, working on projects, and finding a job, all of which is supported by being part of a community."
      ],
      "text/plain": [
       "<IPython.core.display.Markdown object>"
      ]
     },
     "metadata": {},
     "output_type": "display_data"
    }
   ],
   "source": [
    "from llama_index.response.notebook_utils import display_response\n",
    "\n",
    "display_response(window_response)"
   ]
  },
  {
   "cell_type": "markdown",
   "metadata": {},
   "source": [
    "## Putting it all Together"
   ]
  },
  {
   "cell_type": "code",
   "execution_count": 27,
   "metadata": {},
   "outputs": [],
   "source": [
    "import os\n",
    "from llama_index import ServiceContext, VectorStoreIndex, StorageContext\n",
    "from llama_index.node_parser import SentenceWindowNodeParser\n",
    "from llama_index.indices.postprocessor import MetadataReplacementPostProcessor\n",
    "from llama_index.indices.postprocessor import SentenceTransformerRerank\n",
    "from llama_index import load_index_from_storage\n",
    "\n",
    "\n",
    "def build_sentence_window_index(\n",
    "    documents,\n",
    "    llm,\n",
    "    embed_model=\"local:BAAI/bge-small-en-v1.5\",\n",
    "    sentence_window_size=3,\n",
    "    save_dir=\"sentence_index\",\n",
    "):\n",
    "    # create the sentence window node parser w/ default settings\n",
    "    node_parser = SentenceWindowNodeParser.from_defaults(\n",
    "        window_size=sentence_window_size,\n",
    "        window_metadata_key=\"window\",\n",
    "        original_text_metadata_key=\"original_text\",\n",
    "    )\n",
    "    sentence_context = ServiceContext.from_defaults(\n",
    "        llm=llm,\n",
    "        embed_model=embed_model,\n",
    "        node_parser=node_parser,\n",
    "    )\n",
    "    if not os.path.exists(save_dir):\n",
    "        sentence_index = VectorStoreIndex.from_documents(\n",
    "            documents, service_context=sentence_context\n",
    "        )\n",
    "        sentence_index.storage_context.persist(persist_dir=save_dir)\n",
    "    else:\n",
    "        sentence_index = load_index_from_storage(\n",
    "            StorageContext.from_defaults(persist_dir=save_dir),\n",
    "            service_context=sentence_context,\n",
    "        )\n",
    "\n",
    "    return sentence_index\n",
    "\n",
    "\n",
    "def get_sentence_window_query_engine(\n",
    "    sentence_index, similarity_top_k=6, rerank_top_n=2\n",
    "):\n",
    "    # define postprocessors\n",
    "    postproc = MetadataReplacementPostProcessor(target_metadata_key=\"window\")\n",
    "    rerank = SentenceTransformerRerank(\n",
    "        top_n=rerank_top_n, model=\"BAAI/bge-reranker-base\"\n",
    "    )\n",
    "\n",
    "    sentence_window_engine = sentence_index.as_query_engine(\n",
    "        similarity_top_k=similarity_top_k, node_postprocessors=[postproc, rerank]\n",
    "    )\n",
    "    return sentence_window_engine"
   ]
  },
  {
   "cell_type": "code",
   "execution_count": 28,
   "metadata": {},
   "outputs": [
    {
     "name": "stderr",
     "output_type": "stream",
     "text": [
      "config.json: 100%|██████████| 743/743 [00:00<00:00, 5.09MB/s]\n",
      "model.safetensors: 100%|██████████| 133M/133M [00:01<00:00, 75.6MB/s] \n",
      "tokenizer_config.json: 100%|██████████| 366/366 [00:00<00:00, 3.20MB/s]\n",
      "vocab.txt: 100%|██████████| 232k/232k [00:00<00:00, 20.3MB/s]\n",
      "tokenizer.json: 100%|██████████| 711k/711k [00:00<00:00, 31.3MB/s]\n",
      "special_tokens_map.json: 100%|██████████| 125/125 [00:00<00:00, 799kB/s]\n"
     ]
    }
   ],
   "source": [
    "from llama_index.llms import OpenAI\n",
    "\n",
    "index = build_sentence_window_index(\n",
    "    [document],\n",
    "    llm=OpenAI(model=\"gpt-3.5-turbo\", temperature=0.1),\n",
    "    save_dir=\"./sentence_index\",\n",
    ")"
   ]
  },
  {
   "cell_type": "code",
   "execution_count": 29,
   "metadata": {},
   "outputs": [],
   "source": [
    "query_engine = get_sentence_window_query_engine(index, similarity_top_k=6)"
   ]
  },
  {
   "cell_type": "markdown",
   "metadata": {},
   "source": [
    "## TruLens Evaluation\n",
    "- Gradually increase the sentence window size start with one\n",
    "- Evaluate app versions with the RAG Triad\n",
    "- Track experiments to pick the best sentence window size\n",
    "- Note tradeoff between token usage/cost and context relevance\n",
    "- note tradeoff between context relevance and groundedness"
   ]
  },
  {
   "cell_type": "markdown",
   "metadata": {},
   "source": [
    "### Experiments\n",
    "- Load different questions\n",
    "- try different sentence-window size\n",
    "  - 1\n",
    "  - 3\n",
    "  - 5\n",
    "- Check the impact of the different window size on the RAG Triad"
   ]
  },
  {
   "cell_type": "code",
   "execution_count": 35,
   "metadata": {},
   "outputs": [
    {
     "name": "stdout",
     "output_type": "stream",
     "text": [
      "In the context of job switching, what advantages does working in a startup offer over a big company, particularly for someone looking to transition into an AI role?\n",
      "Explain the scenario planning exercise mentioned in the context of the Covid-19 pandemic. How can this method be applied to personal life situations such as job hunting or exam preparation?\n",
      "In the context of project selection and execution, explain the difference between the \"Ready, Aim, Fire\" and \"Ready, Fire, Aim\" approaches. Provide examples where each approach might be more beneficial.\n",
      "Discuss the importance of working on projects that complement your career goals. How can these projects serve as stepping stones to larger projects and contribute to technical growth and skill progression?\n",
      "According to the text, what are some of the key areas of mathematics that are relevant to machine learning and why are they important in the field of AI?\n"
     ]
    }
   ],
   "source": [
    "eval_questions = []\n",
    "with open(\"generated_questions_01_05.text\", \"r\") as file:\n",
    "    for line in file:\n",
    "        # Remove newline character and convert to integer\n",
    "        item = line.strip()\n",
    "        print(item)\n",
    "        eval_questions.append(item)"
   ]
  },
  {
   "cell_type": "code",
   "execution_count": 32,
   "metadata": {},
   "outputs": [],
   "source": [
    "from trulens_eval import Tru\n",
    "\n",
    "\n",
    "def run_evals(eval_questions, tru_recorder, query_engine):\n",
    "    for question in eval_questions:\n",
    "        with tru_recorder as recording:\n",
    "            response = query_engine.query(question)"
   ]
  },
  {
   "cell_type": "code",
   "execution_count": 33,
   "metadata": {},
   "outputs": [
    {
     "name": "stdout",
     "output_type": "stream",
     "text": [
      "🦑 Tru initialized with db url sqlite:///default.sqlite .\n",
      "🛑 Secret keys may be written to the database. See the `database_redact_keys` option of `Tru` to prevent this.\n"
     ]
    }
   ],
   "source": [
    "from utils import get_prebuilt_trulens_recorder\n",
    "\n",
    "from trulens_eval import Tru\n",
    "\n",
    "Tru().reset_database()"
   ]
  },
  {
   "cell_type": "markdown",
   "metadata": {},
   "source": [
    "### Sentence window size = 1"
   ]
  },
  {
   "cell_type": "code",
   "execution_count": 36,
   "metadata": {},
   "outputs": [],
   "source": [
    "sentence_index_1 = build_sentence_window_index(\n",
    "    documents,\n",
    "    llm=OpenAI(model=\"gpt-3.5-turbo\", temperature=0.1),\n",
    "    embed_model=\"local:BAAI/bge-small-en-v1.5\",\n",
    "    sentence_window_size=1,\n",
    "    save_dir=\"sentence_index_1\",\n",
    ")"
   ]
  },
  {
   "cell_type": "code",
   "execution_count": 37,
   "metadata": {},
   "outputs": [],
   "source": [
    "sentence_window_engine_1 = get_sentence_window_query_engine(sentence_index_1)"
   ]
  },
  {
   "cell_type": "code",
   "execution_count": 38,
   "metadata": {},
   "outputs": [],
   "source": [
    "tru_recorder_1 = get_prebuilt_trulens_recorder(\n",
    "    sentence_window_engine_1, app_id=\"sentence window engine 1\"\n",
    ")"
   ]
  },
  {
   "cell_type": "code",
   "execution_count": 39,
   "metadata": {},
   "outputs": [],
   "source": [
    "run_evals(eval_questions, tru_recorder_1, sentence_window_engine_1)"
   ]
  },
  {
   "cell_type": "markdown",
   "metadata": {},
   "source": [
    "https://learn.deeplearning.ai/building-evaluating-advanced-rag/lesson/4/sentence-window-retrieval\n",
    "- start at 19:19"
   ]
  },
  {
   "cell_type": "code",
   "execution_count": 41,
   "metadata": {},
   "outputs": [
    {
     "name": "stdout",
     "output_type": "stream",
     "text": [
      "Starting dashboard ...\n",
      "Config file already exists. Skipping writing process.\n",
      "Credentials file already exists. Skipping writing process.\n"
     ]
    },
    {
     "data": {
      "application/vnd.jupyter.widget-view+json": {
       "model_id": "94b700125bc04e769d649f2850302cc4",
       "version_major": 2,
       "version_minor": 0
      },
      "text/plain": [
       "Accordion(children=(VBox(children=(VBox(children=(Label(value='STDOUT'), Output())), VBox(children=(Label(valu…"
      ]
     },
     "metadata": {},
     "output_type": "display_data"
    }
   ],
   "source": [
    "Tru().run_dashboard()"
   ]
  },
  {
   "cell_type": "code",
   "execution_count": null,
   "metadata": {},
   "outputs": [],
   "source": []
  }
 ],
 "metadata": {
  "kernelspec": {
   "display_name": "llamaindex",
   "language": "python",
   "name": "python3"
  },
  "language_info": {
   "codemirror_mode": {
    "name": "ipython",
    "version": 3
   },
   "file_extension": ".py",
   "mimetype": "text/x-python",
   "name": "python",
   "nbconvert_exporter": "python",
   "pygments_lexer": "ipython3",
   "version": "3.11.5"
  }
 },
 "nbformat": 4,
 "nbformat_minor": 2
}
