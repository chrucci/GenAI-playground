{
 "cells": [
  {
   "cell_type": "markdown",
   "id": "cd7996c5-91eb-41de-ac6a-0b22462b76f1",
   "metadata": {},
   "source": [
    "# Lesson 4: Auto-merging Retrieval"
   ]
  },
  {
   "cell_type": "code",
   "execution_count": 1,
   "id": "e8f0928d-4505-437c-9ee8-bada425a5e22",
   "metadata": {},
   "outputs": [],
   "source": [
    "import warnings\n",
    "\n",
    "warnings.filterwarnings(\"ignore\")"
   ]
  },
  {
   "cell_type": "code",
   "execution_count": 2,
   "id": "20373372-03c5-41e9-8bc9-dfa6ce35d666",
   "metadata": {},
   "outputs": [
    {
     "name": "stdout",
     "output_type": "stream",
     "text": [
      "✅ In Answer Relevance, input prompt will be set to __record__.main_input or `Select.RecordInput` .\n",
      "✅ In Answer Relevance, input response will be set to __record__.main_output or `Select.RecordOutput` .\n",
      "✅ In Context Relevance, input prompt will be set to __record__.main_input or `Select.RecordInput` .\n",
      "✅ In Context Relevance, input response will be set to __record__.app.query.rets.source_nodes[:].node.text .\n",
      "✅ In Groundedness, input source will be set to __record__.app.query.rets.source_nodes[:].node.text .\n",
      "✅ In Groundedness, input statement will be set to __record__.main_output or `Select.RecordOutput` .\n"
     ]
    }
   ],
   "source": [
    "import utils\n",
    "\n",
    "import os\n",
    "import openai\n",
    "\n",
    "openai.api_key = utils.get_openai_api_key()"
   ]
  },
  {
   "cell_type": "code",
   "execution_count": 3,
   "id": "f58fc195-9619-4088-831e-66b3cc6e0425",
   "metadata": {
    "tags": []
   },
   "outputs": [],
   "source": [
    "from llama_index import SimpleDirectoryReader\n",
    "\n",
    "documents = SimpleDirectoryReader(\n",
    "    input_files=[\"./eBook-How-to-Build-a-Career-in-AI.pdf\"]\n",
    ").load_data()"
   ]
  },
  {
   "cell_type": "code",
   "execution_count": 4,
   "id": "89ad555b-48d4-441b-b5f3-79a685b4c3f2",
   "metadata": {
    "tags": []
   },
   "outputs": [
    {
     "name": "stdout",
     "output_type": "stream",
     "text": [
      "<class 'list'> \n",
      "\n",
      "41 \n",
      "\n",
      "<class 'llama_index.schema.Document'>\n",
      "Doc ID: 7bede8b2-a51c-4ae9-b507-baa275975e03\n",
      "Text: PAGE 1Founder, DeepLearning.AICollected Insights from Andrew Ng\n",
      "How to  Build Your Career in AIA Simple Guide\n"
     ]
    }
   ],
   "source": [
    "print(type(documents), \"\\n\")\n",
    "print(len(documents), \"\\n\")\n",
    "print(type(documents[0]))\n",
    "print(documents[0])"
   ]
  },
  {
   "cell_type": "markdown",
   "id": "0c143850-72c6-4a09-9fb0-a216108314c0",
   "metadata": {},
   "source": [
    "## Auto-merging retrieval setup"
   ]
  },
  {
   "cell_type": "code",
   "execution_count": 5,
   "id": "8926348c-a4c5-471b-99ed-e6bf170f1fe1",
   "metadata": {
    "tags": []
   },
   "outputs": [],
   "source": [
    "from llama_index import Document\n",
    "\n",
    "document = Document(text=\"\\n\\n\".join([doc.text for doc in documents]))"
   ]
  },
  {
   "cell_type": "code",
   "execution_count": 6,
   "id": "202ccfb5-cf94-48a4-b23b-8c5a5ab73ebc",
   "metadata": {
    "tags": []
   },
   "outputs": [],
   "source": [
    "from llama_index.node_parser import HierarchicalNodeParser\n",
    "\n",
    "# create the hierarchical node parser w/ default settings\n",
    "node_parser = HierarchicalNodeParser.from_defaults(chunk_sizes=[2048, 512, 128])"
   ]
  },
  {
   "cell_type": "code",
   "execution_count": 37,
   "id": "672fd574-6b3c-43ad-9a9a-2db423cadd48",
   "metadata": {
    "tags": []
   },
   "outputs": [],
   "source": [
    "# Returns all levels of nodes.  This should be Leaf, Intermediate and Root (Parent) nodes.  They all form the hierachy.  The text of parent nodes is composed of the text of multiple intermeidate nodes.\n",
    "\n",
    "nodes = node_parser.get_nodes_from_documents([document])"
   ]
  },
  {
   "cell_type": "code",
   "execution_count": 8,
   "id": "341777ed",
   "metadata": {},
   "outputs": [
    {
     "data": {
      "text/plain": [
       "144"
      ]
     },
     "execution_count": 8,
     "metadata": {},
     "output_type": "execute_result"
    }
   ],
   "source": [
    "len(nodes)"
   ]
  },
  {
   "cell_type": "code",
   "execution_count": 36,
   "id": "83cfc301-1887-4b1c-a8aa-1fb55e30be78",
   "metadata": {
    "tags": []
   },
   "outputs": [
    {
     "name": "stdout",
     "output_type": "stream",
     "text": [
      "count of leaf_nodes: 112\n",
      "count of root_nodes: 6\n",
      "ROOT_NODE Length: 9642\n",
      "LEAF_NODE Length:: 444\n",
      "ROOT_NODE: PAGE 1Founder, DeepLearning.AICollected Insights\n",
      "from Andrew Ng\n",
      "How to \n",
      "Build\n",
      "Your\n",
      "Career\n",
      "in AIA Simple Guide\n",
      "\n",
      "\n",
      "PAGE 2\"AI is the new \n",
      "electricity. It will \n",
      "transform and improve \n",
      "all areas of human life.\"\n",
      "Andrew Ng\n",
      "\n",
      "PAGE 3Table of \n",
      "ContentsIntroduction: Coding AI is the New Literacy.\n",
      "Chapter 1: Three Steps to Career Growth.\n",
      "Chapter 2: Learning Technical Skills for a \n",
      "Promising AI Career.\n",
      "Chapter 3: Should You Learn Math to Get a Job \n",
      "in AI?\n",
      "Chapter 4: Scoping Successful AI Projects.\n",
      "Chapter 5: Finding Projects that Complement \n",
      "Your Career Goals.\n",
      "Chapter 6: Building a Portfolio of Projects that \n",
      "Shows Skill Progression.\n",
      "Chapter 7: A Simple Framework for Starting Your AI \n",
      "Job Search.\n",
      "Chapter 8: Using Informational Interviews to Find \n",
      "the Right Job.\n",
      "Chapter 9: Finding the Right AI Job for You.\n",
      "Chapter 10: Keys to Building a Career in AI.\n",
      "Chapter 11: Overcoming Imposter Syndrome.\n",
      "Final Thoughts: Make Every Day Count.LEARNING\n",
      "PROJECTS\n",
      "JOB\n",
      "\n",
      "PAGE 4Coding AI Is the New Literacy\n",
      "Today we take it for granted that many people know how to read and write. Someday, I hope, \n",
      "it will be just as common that people know how to write code, specifically for AI.\n",
      "Several hundred years ago, society didn’t view language literacy as a necessary skill. A small \n",
      "number of people learned to read and write, and everyone else let them do the reading and \n",
      "writing. It took centuries for literacy to spread, and now society is far richer for it.\n",
      "Words enable deep human-to-human communication. Code is the deepest form of human-to-\n",
      "machine communication. As machines become more central to daily life, that communication \n",
      "becomes ever more important.\n",
      "Traditional software engineering — writing programs that explicitly tell a computer sequences \n",
      "of steps to execute — has been the main path to code literacy. Many introductory programming \n",
      "classes use creating a video game or building a website as examples. But AI, machine learning, \n",
      "and data science offer a new paradigm in which computers extract knowledge from data. This \n",
      "technology offers an even better pathway to coding.\n",
      "Many Sundays, I buy a slice of pizza from my neighborhood pizza parlor. The gentleman \n",
      "behind the counter has little reason to learn how to build a video game or write his own \n",
      "website software (beyond personal growth and the pleasure of gaining a new skill).\n",
      "But AI and data science have great value even for a pizza maker. A linear regression model might \n",
      "enable him to better estimate demand so he can optimize the restaurant’s staffing and supply \n",
      "chain. He could better predict sales of Hawaiian pizza — my favorite! — so he could make more \n",
      "Hawaiian pies in advance and reduce the amount of time customers had to wait for them.\n",
      "Uses of AI and data science can be found in almost any situation that produces data.  Thus, \n",
      "a wide variety of professions will find more uses for custom AI applications and data-derived \n",
      "insights than for traditional software engineering. This makes literacy in AI-oriented coding \n",
      "even more valuable than traditional coding. It could enable countless individuals to harness \n",
      "data to make their lives richer.\n",
      "I hope the promise of building basic AI applications, even more than that of building basic \n",
      "traditional software, encourages more people to learn how to code. If society embraces this \n",
      "new form of literacy as it has the ability to read and write, we will all benefit.Introduction\n",
      "\n",
      "PAGE 5Three Steps to \n",
      "Career GrowthCHAPTER 1\n",
      "\n",
      "PAGE 6The rapid rise of AI has led to a rapid rise in AI jobs, and many people are building exciting \n",
      "careers in this field. A career is a decades-long journey, and the path is not straightforward. \n",
      "Over many years, I’ve been privileged to see thousands of students, as well as engineers in \n",
      "companies large and small, navigate careers in AI.\n",
      " \n",
      "Here’s a framework for charting your own course.\n",
      "Later, you will work \n",
      "on finding a job. \n",
      "Throughout this \n",
      "process, you’ll continue \n",
      "to learn and work on \n",
      "meaningful projects. \n",
      "Chapters with the\n",
      "focus on a job search.Three key steps of career growth are learning foundational skills, working on projects (to \n",
      "deepen your skills, build a portfolio, and create impact), and finding a job. These steps stack \n",
      "on top of each other:Three Steps to Career Growth\n",
      "LEARNING PROJECTS JOBCHAPTER 1\n",
      "Initially, you \n",
      "focus on learning \n",
      "foundational skills. \n",
      "Chapters with the \n",
      "cover topics about \n",
      "learning foundational \n",
      "technical skills. After having gained \n",
      "foundational technical \n",
      "skills, you will begin \n",
      "working on projects. \n",
      "During this period, you’ll \n",
      "also keep learning. \n",
      "Chapters with the     \n",
      "focus on projects. \n",
      "\n",
      "PAGE 7These phases apply in a wide \n",
      "range of professions, but AI \n",
      "involves unique elements.\n",
      "For example:Three Steps to Career Growth\n",
      "AI is nascent, and many technologies are still evolving. While the \n",
      "foundations of machine learning and deep learning are maturing — \n",
      "and coursework is an efficient way to master them — beyond these \n",
      "foundations, keeping up-to-date with changing technology is more \n",
      "important in AI than fields that are more mature.Learning foundational skills is a career-long process:\n",
      "This can make it challenging to find a suitable project, estimate the project’s \n",
      "timeline and return on investment, and set expectations. In addition, the \n",
      "highly iterative nature of AI projects leads to special challenges in project \n",
      "management: How can you come up with a plan for building a system \n",
      "when you don’t know in advance how long it will take to achieve the target \n",
      "accuracy? Even after the system has hit the target, further iteration may \n",
      "be necessary to address post-deployment drift.Working on projects often means collaborating with \n",
      "stakeholders who lack expertise in AI:\n",
      "While searching for a job in AI can be similar to searching for a job in \n",
      "other sectors, there are also important differences. Many companies are \n",
      "still trying to figure out which AI skills they need, and how to hire people \n",
      "who have them. Things you’ve worked on may be significantly different \n",
      "than anything your interviewer has seen, and you’re more likely to have to \n",
      "educate potential employers about some elements of your work.Inconsistent opinions on AI skills and jobs roles: CHAPTER 1\n",
      "As you go through each step, you should also build a supportive community. Having friends and \n",
      "allies who can help you — and who you strive to help — makes the path easier. This is true whether \n",
      "you’re taking your first steps or you’ve been on the journey for years.LEARNING\n",
      "PROJECTS\n",
      "JOB\n",
      "\n",
      "PAGE 8Learning Technical \n",
      "Skills for a Promising \n",
      "AI CareerCHAPTER 2\n",
      "LEARNING\n",
      "\n",
      "PAGE 9In the previous chapter, I introduced three key steps for building a career in AI: learning \n",
      "foundational technical skills, working on projects, and finding a job, all of which is supported \n",
      "by being part of a community. In this chapter, I’d like to dive more deeply into the first step: \n",
      "learning foundational skills.\n",
      "More research papers have been published on AI than anyone can read in a lifetime. So, when \n",
      "learning, it’s critical to prioritize topic selection. I believe the most important topics for a technical \n",
      "career in machine learning are:\n",
      "Foundational machine learning skills: For example, it’s important to understand models such \n",
      "as linear regression, logistic regression, neural networks, decision trees, clustering, and anomaly \n",
      "detection. Beyond specific models, it’s even more important to understand the core concepts \n",
      "behind how and why machine learning works, such as bias/variance, cost functions, regularization, \n",
      "optimization algorithms, and error analysis.\n",
      "Deep learning: This has become such a large fraction of machine learning that it’s hard to excel \n",
      "in the field without some understanding of it! It’s valuable to know the basics of neural networks, \n",
      "practical skills for making them work (such as hyperparameter tuning), convolutional networks, \n",
      "sequence models, and transformers.\n",
      "Software development: While you can get a job and make huge contributions with only machine \n",
      "learning modeling skills, your job opportunities will increase if you can also write good software \n",
      "to implement complex AI systems. These skills include programming fundamentals, data \n",
      "structures (especially those that relate to machine learning, such as data frames), algorithms \n",
      "(including those related to databases and data manipulation), software design, familiarity with \n",
      "Python, and familiarity with key libraries such as TensorFlow or PyTorch, and scikit-learn.Math relevant to machine learning:  Key areas include linear algebra (vectors, matrices, and various \n",
      "manipulations of them) as well as probability and statistics (including discrete and continuous \n",
      "probability, standard probability distributions, basic rules such as independence and Bayes’ rule, \n",
      "and hypothesis testing). In addition, exploratory data analysis (EDA) — using visualizations and other \n",
      "methods to systematically explore a dataset — is an underrated skill. I’ve found EDA particularly \n",
      "useful in data-centric AI development, where analyzing errors and gaining insights can really help \n",
      "drive progress! Finally, a basic intuitive understanding of calculus will also help. The math needed \n",
      "to do machine learning well has been changing. For instance, although some tasks require calculus, \n",
      "improved automatic differentiation software makes it possible to invent and implement new neural \n",
      "network architectures without doing any calculus. This was almost impossible a decade ago.Learning Technical Skills For a Promising AI Career CHAPTER 2\n",
      "\n",
      "PAGE 10This is a lot to learn!\n",
      "Even after you master everything on this list, I hope you’ll keep learning and continue to deepen \n",
      "your technical knowledge.\n",
      "LEAF_NODE: PAGE 1Founder, DeepLearning.AICollected Insights\n",
      "from Andrew Ng\n",
      "How to \n",
      "Build\n",
      "Your\n",
      "Career\n",
      "in AIA Simple Guide\n",
      "\n",
      "\n",
      "PAGE 2\"AI is the new \n",
      "electricity. It will \n",
      "transform and improve \n",
      "all areas of human life.\"\n",
      "Andrew Ng\n",
      "\n",
      "PAGE 3Table of \n",
      "ContentsIntroduction: Coding AI is the New Literacy.\n",
      "Chapter 1: Three Steps to Career Growth.\n",
      "Chapter 2: Learning Technical Skills for a \n",
      "Promising AI Career.\n",
      "Chapter 3: Should You Learn Math to Get a Job \n",
      "in AI?\n"
     ]
    }
   ],
   "source": [
    "from llama_index.node_parser import get_leaf_nodes, get_root_nodes\n",
    "\n",
    "leaf_nodes = get_leaf_nodes(nodes)\n",
    "root_nodes = get_root_nodes(nodes)\n",
    "print(f\"count of leaf_nodes: {len(leaf_nodes)}\")\n",
    "print(f\"count of root_nodes: {len(root_nodes)}\")\n",
    "print(f\"ROOT_NODE Length: {len(root_nodes[0].text)}\")\n",
    "print(f\"LEAF_NODE Length:: {len(leaf_nodes[0].text)}\")\n",
    "print(\"ROOT_NODE: \" + root_nodes[0].text)\n",
    "print(\"LEAF_NODE: \" + leaf_nodes[0].text)"
   ]
  },
  {
   "cell_type": "code",
   "execution_count": 29,
   "id": "b6667650",
   "metadata": {},
   "outputs": [
    {
     "data": {
      "text/plain": [
       "TextNode(id_='55c658d7-11c6-4b01-b812-14b3ce7a1bde', embedding=None, metadata={}, excluded_embed_metadata_keys=[], excluded_llm_metadata_keys=[], relationships={<NodeRelationship.SOURCE: '1'>: RelatedNodeInfo(node_id='45c4ff9b-17b2-45d1-ab76-dc11fd8bb99f', node_type=<ObjectType.TEXT: '1'>, metadata={}, hash='55bc135e5090691b219b2ac617e8e31549c7f346bac85fe72557c3c5fa640d90'), <NodeRelationship.PREVIOUS: '2'>: RelatedNodeInfo(node_id='d97b48a0-7a71-434b-a09b-0717f83148ef', node_type=<ObjectType.TEXT: '1'>, metadata={}, hash='b2044ddc300d7051774032da15a8f50599527cfb3809e02c1d820338593a9852'), <NodeRelationship.NEXT: '3'>: RelatedNodeInfo(node_id='fbbfbf39-e24c-4499-8197-28612ed59637', node_type=<ObjectType.TEXT: '1'>, metadata={}, hash='668a0c56d7367f073644c6f438e3942ea824ca28d2e22119473a562d18b20f45'), <NodeRelationship.PARENT: '4'>: RelatedNodeInfo(node_id='45c4ff9b-17b2-45d1-ab76-dc11fd8bb99f', node_type=<ObjectType.TEXT: '1'>, metadata={}, hash='55bc135e5090691b219b2ac617e8e31549c7f346bac85fe72557c3c5fa640d90')}, hash='13e424d7dc1628b15f3058789c8468b2eace1b8fa68563ce938ba9ccb4f96396', text='These skills include programming fundamentals, data \\nstructures (especially those that relate to machine learning, such as data frames), algorithms \\n(including those related to databases and data manipulation), software design, familiarity with \\nPython, and familiarity with key libraries such as TensorFlow or PyTorch, and scikit-learn.Math relevant to machine learning:  Key areas include linear algebra (vectors, matrices, and various \\nmanipulations of them) as well as probability and statistics (including discrete and continuous \\nprobability, standard probability distributions, basic rules such as independence and Bayes’ rule, \\nand hypothesis testing).', start_char_idx=1740, end_char_idx=2400, text_template='{metadata_str}\\n\\n{content}', metadata_template='{key}: {value}', metadata_seperator='\\n')"
      ]
     },
     "execution_count": 29,
     "metadata": {},
     "output_type": "execute_result"
    }
   ],
   "source": [
    "nodes_by_id[\"55c658d7-11c6-4b01-b812-14b3ce7a1bde\"]"
   ]
  },
  {
   "cell_type": "code",
   "execution_count": 23,
   "id": "0703abeb-3bcc-4dd6-8010-3bcf95d8b483",
   "metadata": {
    "tags": []
   },
   "outputs": [
    {
     "name": "stdout",
     "output_type": "stream",
     "text": [
      "PAGE 12Should You \n",
      "Learn Math to \n",
      "Get a Job in AI? CHAPTER 3\n",
      "LEARNING\n",
      "\n",
      "PAGE 13Should you Learn Math to Get a Job in AI? CHAPTER 3\n",
      "Is math a foundational skill for AI? It’s always nice to know more math! But there’s so much to \n",
      "learn that, realistically, it’s necessary to prioritize. Here’s how you might go about strengthening \n",
      "your math background.\n",
      "To figure out what’s important to know, I find it useful to ask what you need to know to make \n",
      "the decisions required for the work you want to do. At DeepLearning.AI, we frequently ask, \n",
      "“What does someone need to know to accomplish their goals?” The goal might be building a \n",
      "machine learning model, architecting a system, or passing a job interview.\n",
      "Understanding the math behind algorithms you use is often helpful, since it enables you to \n",
      "debug them. But the depth of knowledge that’s useful changes over time. As machine learning \n",
      "techniques mature and become more reliable and turnkey, they require less debugging, and a \n",
      "shallower understanding of the math involved may be sufficient to make them work.\n",
      "For instance, in an earlier era of machine learning, linear algebra libraries for solving linear \n",
      "systems of equations (for linear regression) were immature. I had to understand how these \n",
      "libraries worked so I could choose among different libraries and avoid numerical roundoff \n",
      "pitfalls. But this became less important as numerical linear algebra libraries matured.\n",
      "Deep learning is still an emerging technology, so when you train a neural network and the \n",
      "optimization algorithm struggles to converge, understanding the math behind gradient \n",
      "descent, momentum, and the Adam  optimization algorithm will help you make better decisions. \n",
      "Similarly, if your neural network does something funny — say, it makes bad predictions on \n",
      "images of a certain resolution, but not others — understanding the math behind neural network \n",
      "architectures puts you in a better position to figure out what to do.\n",
      "Of course, I also encourage learning driven by curiosity. If something interests you, go ahead \n",
      "and learn it regardless of how useful it might turn out to be!  Maybe this will lead to a creative \n",
      "spark or technical breakthrough.How much math do you need to know to be a machine learning engineer?\n"
     ]
    }
   ],
   "source": [
    "nodes_by_id = {node.node_id: node for node in nodes}\n",
    "\n",
    "parent_node = nodes_by_id[leaf_nodes[27].parent_node.node_id]\n",
    "print(parent_node.text)"
   ]
  },
  {
   "cell_type": "markdown",
   "id": "b6bafef6-02f6-4029-a5eb-dfbc4369da56",
   "metadata": {},
   "source": [
    "### Building the index"
   ]
  },
  {
   "cell_type": "code",
   "execution_count": 30,
   "id": "6b0350cd-392e-45e9-8664-ff22a39a8bcd",
   "metadata": {
    "tags": []
   },
   "outputs": [],
   "source": [
    "from llama_index.llms import OpenAI\n",
    "\n",
    "llm = OpenAI(model=\"gpt-3.5-turbo\", temperature=0.1)"
   ]
  },
  {
   "cell_type": "code",
   "execution_count": 38,
   "id": "03213595-6581-47f5-90a7-cfa381d42872",
   "metadata": {
    "tags": []
   },
   "outputs": [],
   "source": [
    "from llama_index import ServiceContext\n",
    "\n",
    "auto_merging_context = ServiceContext.from_defaults(\n",
    "    llm=llm,\n",
    "    embed_model=\"local:BAAI/bge-small-en-v1.5\",\n",
    "    node_parser=node_parser,\n",
    ")"
   ]
  },
  {
   "cell_type": "code",
   "execution_count": 39,
   "id": "a0f84886-e1aa-40f1-a812-4b6f8d0204af",
   "metadata": {
    "tags": []
   },
   "outputs": [],
   "source": [
    "# NOTE: all nodes are stores in the docstore, but only leaf_nodes are included in the vectorstore index.\n",
    "from llama_index import VectorStoreIndex, StorageContext\n",
    "\n",
    "storage_context = StorageContext.from_defaults()\n",
    "storage_context.docstore.add_documents(nodes)\n",
    "\n",
    "automerging_index = VectorStoreIndex(\n",
    "    leaf_nodes, storage_context=storage_context, service_context=auto_merging_context\n",
    ")\n",
    "\n",
    "automerging_index.storage_context.persist(persist_dir=\"./merging_index\")"
   ]
  },
  {
   "cell_type": "code",
   "execution_count": 40,
   "id": "4a8ddbff-6fdd-448d-9ce8-53ed782a6d66",
   "metadata": {
    "tags": []
   },
   "outputs": [],
   "source": [
    "# This block of code is optional to check\n",
    "# if an index file exist, then it will load it\n",
    "# if not, it will rebuild it\n",
    "\n",
    "import os\n",
    "from llama_index import VectorStoreIndex, StorageContext, load_index_from_storage\n",
    "from llama_index import load_index_from_storage\n",
    "\n",
    "if not os.path.exists(\"./merging_index\"):\n",
    "    storage_context = StorageContext.from_defaults()\n",
    "    storage_context.docstore.add_documents(nodes)\n",
    "\n",
    "    automerging_index = VectorStoreIndex(\n",
    "        leaf_nodes,\n",
    "        storage_context=storage_context,\n",
    "        service_context=auto_merging_context,\n",
    "    )\n",
    "\n",
    "    automerging_index.storage_context.persist(persist_dir=\"./merging_index\")\n",
    "else:\n",
    "    automerging_index = load_index_from_storage(\n",
    "        StorageContext.from_defaults(persist_dir=\"./merging_index\"),\n",
    "        service_context=auto_merging_context,\n",
    "    )"
   ]
  },
  {
   "cell_type": "markdown",
   "id": "2710c689-0596-45c5-a63f-1e8bb9481846",
   "metadata": {},
   "source": [
    "### Defining the retriever and running the query engine"
   ]
  },
  {
   "cell_type": "code",
   "execution_count": 41,
   "id": "d443d25a-2a5e-425c-9cca-4bf8503c6db3",
   "metadata": {
    "tags": []
   },
   "outputs": [],
   "source": [
    "from llama_index.indices.postprocessor import SentenceTransformerRerank\n",
    "from llama_index.retrievers import AutoMergingRetriever\n",
    "from llama_index.query_engine import RetrieverQueryEngine\n",
    "\n",
    "automerging_retriever = automerging_index.as_retriever(similarity_top_k=12)\n",
    "\n",
    "retriever = AutoMergingRetriever(\n",
    "    automerging_retriever, automerging_index.storage_context, verbose=True\n",
    ")\n",
    "\n",
    "rerank = SentenceTransformerRerank(top_n=6, model=\"BAAI/bge-reranker-base\")\n",
    "\n",
    "auto_merging_engine = RetrieverQueryEngine.from_args(\n",
    "    automerging_retriever, node_postprocessors=[rerank]\n",
    ")"
   ]
  },
  {
   "cell_type": "code",
   "execution_count": 42,
   "id": "c458d0ac-24a0-430b-acc4-c05252134527",
   "metadata": {
    "tags": []
   },
   "outputs": [],
   "source": [
    "auto_merging_response = auto_merging_engine.query(\n",
    "    \"What is the importance of networking in AI?\"\n",
    ")"
   ]
  },
  {
   "cell_type": "code",
   "execution_count": 43,
   "id": "569e70b4-daae-4181-a953-7ea37f4620c7",
   "metadata": {},
   "outputs": [
    {
     "data": {
      "text/markdown": [
       "**`Final Response:`** Networking is important in AI because it allows individuals to build a strong professional network and community. This network can provide valuable information, help with career advancement, and offer support and advice when needed. By connecting with others in the AI community, individuals can also increase their visibility and recognition for their expertise. Additionally, networking can lead to referrals for potential job opportunities. Building a community and fostering relationships within the AI field can be more beneficial than simply focusing on personal networking efforts."
      ],
      "text/plain": [
       "<IPython.core.display.Markdown object>"
      ]
     },
     "metadata": {},
     "output_type": "display_data"
    }
   ],
   "source": [
    "from llama_index.response.notebook_utils import display_response\n",
    "\n",
    "display_response(auto_merging_response)"
   ]
  },
  {
   "cell_type": "markdown",
   "id": "a841036a-0bb6-4037-920e-ae555748e111",
   "metadata": {},
   "source": [
    "## Putting it all Together"
   ]
  },
  {
   "cell_type": "code",
   "execution_count": 44,
   "id": "8949da64-bc7f-4929-b394-51d11732e62f",
   "metadata": {},
   "outputs": [],
   "source": [
    "import os\n",
    "\n",
    "from llama_index import (\n",
    "    ServiceContext,\n",
    "    StorageContext,\n",
    "    VectorStoreIndex,\n",
    "    load_index_from_storage,\n",
    ")\n",
    "from llama_index.node_parser import HierarchicalNodeParser\n",
    "from llama_index.node_parser import get_leaf_nodes\n",
    "from llama_index import StorageContext, load_index_from_storage\n",
    "from llama_index.retrievers import AutoMergingRetriever\n",
    "from llama_index.indices.postprocessor import SentenceTransformerRerank\n",
    "from llama_index.query_engine import RetrieverQueryEngine\n",
    "\n",
    "\n",
    "def build_automerging_index(\n",
    "    documents,\n",
    "    llm,\n",
    "    embed_model=\"local:BAAI/bge-small-en-v1.5\",\n",
    "    save_dir=\"merging_index\",\n",
    "    chunk_sizes=None,\n",
    "):\n",
    "    chunk_sizes = chunk_sizes or [2048, 512, 128]\n",
    "    node_parser = HierarchicalNodeParser.from_defaults(chunk_sizes=chunk_sizes)\n",
    "    nodes = node_parser.get_nodes_from_documents(documents)\n",
    "    leaf_nodes = get_leaf_nodes(nodes)\n",
    "    merging_context = ServiceContext.from_defaults(\n",
    "        llm=llm,\n",
    "        embed_model=embed_model,\n",
    "    )\n",
    "    storage_context = StorageContext.from_defaults()\n",
    "    storage_context.docstore.add_documents(nodes)\n",
    "\n",
    "    if not os.path.exists(save_dir):\n",
    "        automerging_index = VectorStoreIndex(\n",
    "            leaf_nodes, storage_context=storage_context, service_context=merging_context\n",
    "        )\n",
    "        automerging_index.storage_context.persist(persist_dir=save_dir)\n",
    "    else:\n",
    "        automerging_index = load_index_from_storage(\n",
    "            StorageContext.from_defaults(persist_dir=save_dir),\n",
    "            service_context=merging_context,\n",
    "        )\n",
    "    return automerging_index\n",
    "\n",
    "\n",
    "def get_automerging_query_engine(\n",
    "    automerging_index,\n",
    "    similarity_top_k=12,\n",
    "    rerank_top_n=6,\n",
    "):\n",
    "    base_retriever = automerging_index.as_retriever(similarity_top_k=similarity_top_k)\n",
    "    retriever = AutoMergingRetriever(\n",
    "        base_retriever, automerging_index.storage_context, verbose=True\n",
    "    )\n",
    "    rerank = SentenceTransformerRerank(\n",
    "        top_n=rerank_top_n, model=\"BAAI/bge-reranker-base\"\n",
    "    )\n",
    "    auto_merging_engine = RetrieverQueryEngine.from_args(\n",
    "        retriever, node_postprocessors=[rerank]\n",
    "    )\n",
    "    return auto_merging_engine"
   ]
  },
  {
   "cell_type": "code",
   "execution_count": 46,
   "id": "b7f52577-2e8e-4fee-ade9-2f5ce96a7a8c",
   "metadata": {},
   "outputs": [],
   "source": [
    "from llama_index.llms import OpenAI\n",
    "\n",
    "index = build_automerging_index(\n",
    "    [document],\n",
    "    llm=OpenAI(model=\"gpt-3.5-turbo\", temperature=0.1),\n",
    "    save_dir=\"./merging_index\",\n",
    ")"
   ]
  },
  {
   "cell_type": "code",
   "execution_count": 47,
   "id": "c753885f-bfaf-4ac0-8410-b62f619827c4",
   "metadata": {},
   "outputs": [],
   "source": [
    "query_engine = get_automerging_query_engine(index, similarity_top_k=6)"
   ]
  },
  {
   "cell_type": "markdown",
   "id": "9130e35d-bc09-4e4d-bbd9-61c9d6847110",
   "metadata": {},
   "source": [
    "## TruLens Evaluation"
   ]
  },
  {
   "cell_type": "code",
   "execution_count": null,
   "id": "cf034319-2f0a-43ac-896b-2aef1762b3bd",
   "metadata": {},
   "outputs": [],
   "source": [
    "from trulens_eval import Tru\n",
    "\n",
    "Tru().reset_database()"
   ]
  },
  {
   "cell_type": "markdown",
   "id": "76e8c8b7-8d47-45cb-94f3-70c2d75c9500",
   "metadata": {},
   "source": [
    "### Two layers"
   ]
  },
  {
   "cell_type": "code",
   "execution_count": null,
   "id": "6fd32404-2760-420d-b406-61d50c5ae7de",
   "metadata": {},
   "outputs": [],
   "source": [
    "auto_merging_index_0 = build_automerging_index(\n",
    "    documents,\n",
    "    llm=OpenAI(model=\"gpt-3.5-turbo\", temperature=0.1),\n",
    "    embed_model=\"local:BAAI/bge-small-en-v1.5\",\n",
    "    save_dir=\"merging_index_0\",\n",
    "    chunk_sizes=[2048, 512],\n",
    ")"
   ]
  },
  {
   "cell_type": "code",
   "execution_count": null,
   "id": "ad319255-b86a-4d05-8dd2-a8fa02d15ed0",
   "metadata": {},
   "outputs": [],
   "source": [
    "auto_merging_engine_0 = get_automerging_query_engine(\n",
    "    auto_merging_index_0,\n",
    "    similarity_top_k=12,\n",
    "    rerank_top_n=6,\n",
    ")"
   ]
  },
  {
   "cell_type": "code",
   "execution_count": null,
   "id": "c669cee9-7be9-4a4d-8c17-1672bb9c3abf",
   "metadata": {},
   "outputs": [],
   "source": [
    "from utils import get_prebuilt_trulens_recorder\n",
    "\n",
    "tru_recorder = get_prebuilt_trulens_recorder(auto_merging_engine_0, app_id=\"app_0\")"
   ]
  },
  {
   "cell_type": "code",
   "execution_count": null,
   "id": "ad216bb7-100e-455f-8c33-aa68b3e42026",
   "metadata": {},
   "outputs": [],
   "source": [
    "eval_questions = []\n",
    "with open(\"generated_questions.text\", \"r\") as file:\n",
    "    for line in file:\n",
    "        # Remove newline character and convert to integer\n",
    "        item = line.strip()\n",
    "        eval_questions.append(item)"
   ]
  },
  {
   "cell_type": "code",
   "execution_count": null,
   "id": "d471cb1d-be4e-423b-a5a5-f216cbd8c9ff",
   "metadata": {},
   "outputs": [],
   "source": [
    "def run_evals(eval_questions, tru_recorder, query_engine):\n",
    "    for question in eval_questions:\n",
    "        with tru_recorder as recording:\n",
    "            response = query_engine.query(question)"
   ]
  },
  {
   "cell_type": "code",
   "execution_count": null,
   "id": "eea6f236-fe6a-470f-82b5-1a1e3d2593ce",
   "metadata": {},
   "outputs": [],
   "source": [
    "run_evals(eval_questions, tru_recorder, auto_merging_engine_0)"
   ]
  },
  {
   "cell_type": "code",
   "execution_count": null,
   "id": "54cc6991-e743-4e33-9e22-414362a6aae0",
   "metadata": {},
   "outputs": [],
   "source": [
    "from trulens_eval import Tru\n",
    "\n",
    "Tru().get_leaderboard(app_ids=[])"
   ]
  },
  {
   "cell_type": "code",
   "execution_count": null,
   "id": "f204af1a-ab10-4e50-b2d6-ba78e2a66e90",
   "metadata": {},
   "outputs": [],
   "source": [
    "Tru().run_dashboard()"
   ]
  },
  {
   "cell_type": "markdown",
   "id": "c36721ff-9fe4-43e9-b7ed-435f6d054e29",
   "metadata": {},
   "source": [
    "### Three layers"
   ]
  },
  {
   "cell_type": "code",
   "execution_count": null,
   "id": "5a575af9-37b8-442a-b6f2-3ed04bf742f1",
   "metadata": {},
   "outputs": [],
   "source": [
    "auto_merging_index_1 = build_automerging_index(\n",
    "    documents,\n",
    "    llm=OpenAI(model=\"gpt-3.5-turbo\", temperature=0.1),\n",
    "    embed_model=\"local:BAAI/bge-small-en-v1.5\",\n",
    "    save_dir=\"merging_index_1\",\n",
    "    chunk_sizes=[2048, 512, 128],\n",
    ")"
   ]
  },
  {
   "cell_type": "code",
   "execution_count": null,
   "id": "b0493fb6-3a5b-4d14-81ba-f26d9e4d46b3",
   "metadata": {},
   "outputs": [],
   "source": [
    "auto_merging_engine_1 = get_automerging_query_engine(\n",
    "    auto_merging_index_1,\n",
    "    similarity_top_k=12,\n",
    "    rerank_top_n=6,\n",
    ")"
   ]
  },
  {
   "cell_type": "code",
   "execution_count": null,
   "id": "d3198fa2-6a81-4edd-a0c8-843c3838f56f",
   "metadata": {},
   "outputs": [],
   "source": [
    "tru_recorder = get_prebuilt_trulens_recorder(auto_merging_engine_1, app_id=\"app_1\")"
   ]
  },
  {
   "cell_type": "code",
   "execution_count": null,
   "id": "5063c989-9f96-4bfa-bb50-fa9dbf6d576c",
   "metadata": {},
   "outputs": [],
   "source": [
    "run_evals(eval_questions, tru_recorder, auto_merging_engine_1)"
   ]
  },
  {
   "cell_type": "code",
   "execution_count": null,
   "id": "c26b5c94-16ce-415d-93ca-a131b05f903f",
   "metadata": {},
   "outputs": [],
   "source": [
    "from trulens_eval import Tru\n",
    "\n",
    "Tru().get_leaderboard(app_ids=[])"
   ]
  },
  {
   "cell_type": "code",
   "execution_count": null,
   "id": "3988b3f8-bd4c-41e5-be50-e90b8366f4bd",
   "metadata": {},
   "outputs": [],
   "source": [
    "Tru().run_dashboard()"
   ]
  }
 ],
 "metadata": {
  "kernelspec": {
   "display_name": "Python 3 (ipykernel)",
   "language": "python",
   "name": "python3"
  },
  "language_info": {
   "codemirror_mode": {
    "name": "ipython",
    "version": 3
   },
   "file_extension": ".py",
   "mimetype": "text/x-python",
   "name": "python",
   "nbconvert_exporter": "python",
   "pygments_lexer": "ipython3",
   "version": "3.11.5"
  }
 },
 "nbformat": 4,
 "nbformat_minor": 5
}
