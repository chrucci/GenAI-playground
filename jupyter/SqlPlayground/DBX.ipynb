{
 "cells": [
  {
   "cell_type": "code",
   "execution_count": 2,
   "metadata": {},
   "outputs": [],
   "source": [
    "# Import Required Libraries\n",
    "import sqlite3\n",
    "import pandas as pd\n",
    "\n",
    "# Create SQLite Database\n",
    "conn = sqlite3.connect(\"example.db\")\n",
    "cursor = conn.cursor()\n"
   ]
  },
  {
   "cell_type": "code",
   "execution_count": 3,
   "metadata": {},
   "outputs": [],
   "source": [
    "# Create a Table for Data Products\n",
    "cursor.execute(\"\"\"\n",
    "CREATE TABLE IF NOT EXISTS data_products (\n",
    "    id INTEGER PRIMARY KEY,\n",
    "    data_product_name TEXT,\n",
    "    data_product_published_date TEXT,\n",
    "    output_port_name TEXT,\n",
    "    output_port_published_date TEXT\n",
    ")\n",
    "\"\"\")\n",
    "conn.commit()"
   ]
  },
  {
   "cell_type": "code",
   "execution_count": 4,
   "metadata": {
    "vscode": {
     "languageId": "sql"
    }
   },
   "outputs": [
    {
     "name": "stdout",
     "output_type": "stream",
     "text": [
      "   id data_product_name data_product_published_date output_port_name  \\\n",
      "0   1          Product1                  2023-01-01            Port1   \n",
      "1   2          Product2                  2023-02-01            Port2   \n",
      "2   3          Product3                  2023-03-01            Port3   \n",
      "\n",
      "  output_port_published_date  \n",
      "0                 2023-01-02  \n",
      "1                 2023-02-02  \n",
      "2                 2023-03-02  \n"
     ]
    }
   ],
   "source": [
    "# Insert Data into data_products Table\n",
    "cursor.execute(\"\"\"\n",
    "INSERT INTO data_products (data_product_name, data_product_published_date, output_port_name, output_port_published_date) VALUES\n",
    "('Product4', '2024-01-01', 'Port4', '2024-01-01'),\n",
    "('Product4', '2024-01-01', 'Port5', '2024-06-01'),\n",
    "('Product4', '2024-01-01', 'Port6', '2024-09-01')\n",
    "\"\"\")\n",
    "conn.commit()\n",
    "\n",
    "# Query Data from data_products Table to Verify Insertion\n",
    "df = pd.read_sql_query(\"SELECT * FROM data_products\", conn)\n",
    "print(df)"
   ]
  },
  {
   "cell_type": "code",
   "execution_count": null,
   "metadata": {},
   "outputs": [],
   "source": [
    "# Create a Table\n",
    "cursor.execute(\"\"\"\n",
    "CREATE TABLE IF NOT EXISTS users (\n",
    "    id INTEGER PRIMARY KEY,\n",
    "    name TEXT,\n",
    "    age INTEGER\n",
    ")\n",
    "\"\"\")\n",
    "conn.commit()\n",
    "\n",
    "# Insert Data into Table\n",
    "cursor.execute(\"\"\"\n",
    "INSERT INTO users (name, age) VALUES\n",
    "('Alice', 30),\n",
    "('Bob', 25),\n",
    "('Charlie', 35)\n",
    "\"\"\")\n",
    "conn.commit()\n",
    "\n",
    "# Query Data from Table\n",
    "df = pd.read_sql_query(\"SELECT * FROM users\", conn)\n",
    "print(df)\n",
    "\n",
    "# Update Data in Table\n",
    "cursor.execute(\"\"\"\n",
    "UPDATE users\n",
    "SET age = 26\n",
    "WHERE name = 'Bob'\n",
    "\"\"\")\n",
    "conn.commit()\n",
    "\n",
    "# Query Data to Verify Update\n",
    "df = pd.read_sql_query(\"SELECT * FROM users\", conn)\n",
    "print(df)\n",
    "\n",
    "# Delete Data from Table\n",
    "cursor.execute(\"\"\"\n",
    "DELETE FROM users\n",
    "WHERE name = 'Charlie'\n",
    "\"\"\")\n",
    "conn.commit()\n",
    "\n",
    "# Query Data to Verify Deletion\n",
    "df = pd.read_sql_query(\"SELECT * FROM users\", conn)\n",
    "print(df)\n",
    "\n",
    "# Drop Table\n",
    "cursor.execute(\"DROP TABLE IF EXISTS users\")\n",
    "conn.commit()\n",
    "\n",
    "# Close the Connection\n",
    "conn.close()"
   ]
  }
 ],
 "metadata": {
  "kernelspec": {
   "display_name": "venv",
   "language": "python",
   "name": "python3"
  },
  "language_info": {
   "codemirror_mode": {
    "name": "ipython",
    "version": 3
   },
   "file_extension": ".py",
   "mimetype": "text/x-python",
   "name": "python",
   "nbconvert_exporter": "python",
   "pygments_lexer": "ipython3",
   "version": "3.12.4"
  }
 },
 "nbformat": 4,
 "nbformat_minor": 2
}
