{
 "cells": [
  {
   "cell_type": "code",
   "execution_count": 1,
   "metadata": {},
   "outputs": [],
   "source": [
    "import sys\n",
    "import os\n",
    "import openai\n",
    "from openai import OpenAI\n",
    "\n",
    "sys.path.append(\"../..\")\n",
    "\n",
    "from dotenv import load_dotenv, find_dotenv\n",
    "\n",
    "_ = load_dotenv(find_dotenv())  # read local .env file\n",
    "\n",
    "\n",
    "openai.api_key = os.environ[\"OPENAI_API_KEY\"]\n",
    "client = OpenAI()"
   ]
  },
  {
   "cell_type": "code",
   "execution_count": 33,
   "metadata": {},
   "outputs": [],
   "source": [
    "import time\n",
    "def upload_file(local_path):\n",
    "    file=client.files.create(\n",
    "        file=open(local_path, 'rb'),\n",
    "        purpose='assistants'\n",
    "    )\n",
    "    return file\n",
    "\n",
    "def create_assistant(file):\n",
    "    assistant = client.beta.assistants.create(\n",
    "        name=\"Test assistant\",\n",
    "        instructions=\"Test instructions\",\n",
    "        tools=[{\"type\":\"retrieval\"}],\n",
    "        model=\"gpt-4-1106-preview\",\n",
    "        file_ids=[file.id],\n",
    "    )\n",
    "    return assistant\n",
    "\n",
    "def generate_response(message_body):\n",
    "    thread = client.beta.threads.create()\n",
    "    thread_id = thread.id\n",
    "    message = client.beta.threads.messages.create(\n",
    "        thread_id=thread_id,\n",
    "        role=\"user\",\n",
    "        content=message_body,\n",
    "    )\n",
    "    return thread_id\n",
    "    \n",
    "def run_assistant(assistant_id, thread_id):\n",
    "    assistant = client.beta.assistants.retrieve(assistant_id)\n",
    "    thread = client.beta.threads.retrieve(thread_id)\n",
    "    \n",
    "    run = client.beta.threads.runs.create(\n",
    "        thread_id=thread.id,\n",
    "        assistant_id=assistant.id,\n",
    "    )\n",
    "    \n",
    "    #wait for completion of the run\n",
    "    while run.status != \"completed\":\n",
    "        time.sleep(1)\n",
    "        run = client.beta.threads.runs.retrieve(\n",
    "            thread_id=thread.id,\n",
    "            run_id=run.id,\n",
    "        )\n",
    "    \n",
    "    messages = client.beta.threads.messages.list(thread_id=thread.id)\n",
    "    new_message = messages.data[0].content[0].text.value\n",
    "    # logging.info(f\"Generated Messages: {new_message}\" )\n",
    "    return new_message"
   ]
  },
  {
   "cell_type": "code",
   "execution_count": 31,
   "metadata": {},
   "outputs": [
    {
     "name": "stdout",
     "output_type": "stream",
     "text": [
      "The search did not return relevant information about the winner of the 1986 World Series. Given the nature of the document, it appears to be a driver's manual for Connecticut, which would not likely contain information about the World Series. \n",
      "\n",
      "To answer your question directly, the New York Mets won the 1986 World Series, defeating the Boston Red Sox in seven games.\n"
     ]
    }
   ],
   "source": [
    "print(run_assistant(\"asst_nb7ScJrV5TmrRdSEY2AI5wve\"))"
   ]
  },
  {
   "cell_type": "code",
   "execution_count": 10,
   "metadata": {},
   "outputs": [],
   "source": [
    "file = upload_file(\"CT_Drivers_Manual.pdf\")"
   ]
  },
  {
   "cell_type": "code",
   "execution_count": 11,
   "metadata": {},
   "outputs": [
    {
     "name": "stdout",
     "output_type": "stream",
     "text": [
      "FileObject(id='file-QaneotyETXdU3P2qmhtfBdbd', bytes=4661101, created_at=1701228302, filename='CT_Drivers_Manual.pdf', object='file', purpose='assistants', status='processed', status_details=None)\n"
     ]
    }
   ],
   "source": [
    "print (file)"
   ]
  },
  {
   "cell_type": "code",
   "execution_count": 12,
   "metadata": {},
   "outputs": [],
   "source": [
    "assistant = create_assistant(file)"
   ]
  },
  {
   "cell_type": "code",
   "execution_count": 36,
   "metadata": {},
   "outputs": [
    {
     "name": "stdout",
     "output_type": "stream",
     "text": [
      "The manual states that when used on roadways, bicyclists are considered vehicles and are expected to follow the same rules of the road as motorized vehicles. Motorists should be aware that a bicyclist has the same rights, privileges, and responsibilities as them.\n",
      "\n",
      "Here are the key points mentioned about bicyclists in the manual:\n",
      "\n",
      "- **Bicyclists on the Road:** They should be expected on the road, obeying traffic rules and potentially using the left lane when turning. If a lane is too narrow for cars and bikes to drive side-by-side, a bicyclist may take the travel lane, meaning occupying the center of the lane.\n",
      "\n",
      "- **Visibility and Skill Levels:** Bicyclists may not be easily seen. Motorists must be careful when approaching bicyclists, understanding that they come with varying levels of skill.\n",
      "\n",
      "**For Bicyclists:**\n",
      "\n",
      "- They must ride on the right side of the road as far to the right as safely possible. They are allowed on the left edge of a right turn lane if going straight.\n",
      "- They must obey traffic signs and signals and are expected to use hand signals for turns and stops.\n",
      "- They must yield to pedestrians.\n",
      "- Those under 16 years of age are required to wear a helmet. Older bicyclists are encouraged to wear helmets for safety.\n",
      "\n",
      "**For Drivers regarding Bicyclists:**\n",
      "\n",
      "- Drivers must yield to bicyclists in intersections and when bicycle paths or lanes intersect with roads.\n",
      "- There are increased fines for failing to yield the right-of-way to bicyclists.\n",
      "- When passing a bicyclist, a driver must give at least three feet of clearance and be cautious of the vehicle’s width and load.\n",
      "- Drivers are cautioned not to honk abruptly near bicyclists, which could cause them to swerve.\n",
      "- Bicyclists may use the full travel lane when the shoulder or bike lane is unsafe due to road conditions.\n",
      "- Drivers may pass slow-moving vehicles, including bicyclists, in a no-passing zone if done safely.\n",
      "- Drivers should be cautious not to pass bicyclists immediately before making a right turn and should avoid stopping, parking, or driving in designated bicycle paths or lanes.\n",
      "\n",
      "Special attention is required to ensure that drivers and bicyclists cooperate on the road for the safety of all【9†source】.\n"
     ]
    }
   ],
   "source": [
    "thread_id = generate_response(\"What does the manual say about bicyclists?\")\n",
    "print(run_assistant(\"asst_nb7ScJrV5TmrRdSEY2AI5wve\", thread_id))\n"
   ]
  },
  {
   "cell_type": "code",
   "execution_count": null,
   "metadata": {},
   "outputs": [],
   "source": []
  }
 ],
 "metadata": {
  "kernelspec": {
   "display_name": "ai-dev",
   "language": "python",
   "name": "python3"
  },
  "language_info": {
   "codemirror_mode": {
    "name": "ipython",
    "version": 3
   },
   "file_extension": ".py",
   "mimetype": "text/x-python",
   "name": "python",
   "nbconvert_exporter": "python",
   "pygments_lexer": "ipython3",
   "version": "3.11.5"
  }
 },
 "nbformat": 4,
 "nbformat_minor": 2
}
