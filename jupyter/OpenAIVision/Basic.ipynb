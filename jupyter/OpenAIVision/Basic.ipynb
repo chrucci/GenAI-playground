{
 "cells": [
  {
   "cell_type": "code",
   "execution_count": 5,
   "metadata": {},
   "outputs": [],
   "source": [
    "import sys\n",
    "import os\n",
    "import openai\n",
    "from openai import OpenAI\n",
    "\n",
    "sys.path.append(\"../..\")\n",
    "\n",
    "from dotenv import load_dotenv, find_dotenv\n",
    "\n",
    "_ = load_dotenv(find_dotenv())  # read local .env file\n",
    "\n",
    "\n",
    "openai.api_key = os.environ[\"OPENAI_API_KEY\"]\n",
    "client = OpenAI()"
   ]
  },
  {
   "cell_type": "code",
   "execution_count": null,
   "metadata": {},
   "outputs": [],
   "source": [
    "import base64\n",
    "import mimetypes\n",
    "\n",
    "def image_to_base64(image_path):\n",
    "    # Guess the MIME type of the image\n",
    "    mime_type, _ = mimetypes.guess_type(image_path)\n",
    "    \n",
    "    if not mime_type or not mime_type.startswith('image'):\n",
    "        raise ValueError(\"The file type is not recognized as an image\")\n",
    "    \n",
    "    # Read the image binary data\n",
    "    with open(image_path, 'rb') as image_file:\n",
    "        encoded_string = base64.b64encode(image_file.read()).decode('utf-8')\n",
    "    \n",
    "    # Format the result with the appropriate prefix\n",
    "    image_base64 = f\"data:{mime_type};base64,{encoded_string}\"\n",
    "    \n",
    "    return image_base64"
   ]
  },
  {
   "cell_type": "code",
   "execution_count": 8,
   "metadata": {},
   "outputs": [],
   "source": [
    "response = client.chat.completions.create(\n",
    "    model=\"gpt-4-vision-preview\",\n",
    "    messages=[\n",
    "        {\n",
    "            \"role\": \"user\",\n",
    "            \"content\": [    \n",
    "                {\n",
    "                    \"type\": \"text\",\n",
    "                    \"text\": \"Please describe the image.  What pieces of a furniture do you see?  What colors, materials, and patterns do you see?  What interior design elements are present?\",\n",
    "                },\n",
    "                {\n",
    "                    \"type\": \"image_url\",\n",
    "                    \"image_url\": \"http://deborahrucci.decoratingden.com/wp-content/uploads/sites/280/2023/11/Picture9.jpg\",\n",
    "                }\n",
    "            ],\n",
    "        }\n",
    "    ],\n",
    "    max_tokens=300,\n",
    ")"
   ]
  },
  {
   "cell_type": "code",
   "execution_count": 9,
   "metadata": {},
   "outputs": [
    {
     "name": "stdout",
     "output_type": "stream",
     "text": [
      "The image depicts a room with a vintage or classic interior design element. The wall features a green wallpaper with a subtle botanical print. In front of the wall stands a dark brown, possibly wooden credenza with clean lines and a modern silhouette. On top of the credenza, there is a framed painting with red and orange tones, giving a hint of autumn scenery, and the frame seems to have a golden finish. Leaning against the wall and partially overlapping the painting is a taller framed piece in a vertical orientation with a red and gold palette.\n",
      "\n",
      "To the left, there's a decorative object that appears to be a small golden sculpture of a slender animal, possibly a gazelle or antelope. To the right of the credenza, a sleek, arched floor lamp with a gold finish and a white lampshade adds a touch of modern elegance.\n",
      "\n",
      "In the foreground, there is a coral-pink armchair with a mid-century design influence, featuring clean lines and a smooth, unadorned fabric. Draped over its arm is a white throw, which adds a layer of texture and invites a sense of comfort. To the side of the chair, on the floor, lies a small, casually placed pile of books or magazines, suggesting a lived-in feel. \n",
      "\n",
      "The setting conveys a harmonious blend of color, with the warmth of the coral-pink chairs contrasting the cool green of the wallpaper. The golden accents from the lamp, sculpture, and picture frames add a luxurious dimension to\n"
     ]
    }
   ],
   "source": [
    "print(response.choices[0].message.content)"
   ]
  },
  {
   "cell_type": "code",
   "execution_count": null,
   "metadata": {},
   "outputs": [],
   "source": []
  }
 ],
 "metadata": {
  "kernelspec": {
   "display_name": "gpt4v",
   "language": "python",
   "name": "python3"
  },
  "language_info": {
   "codemirror_mode": {
    "name": "ipython",
    "version": 3
   },
   "file_extension": ".py",
   "mimetype": "text/x-python",
   "name": "python",
   "nbconvert_exporter": "python",
   "pygments_lexer": "ipython3",
   "version": "3.10.13"
  }
 },
 "nbformat": 4,
 "nbformat_minor": 2
}
