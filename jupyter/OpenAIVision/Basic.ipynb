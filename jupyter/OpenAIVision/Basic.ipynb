{
 "cells": [
  {
   "cell_type": "code",
   "execution_count": 1,
   "metadata": {},
   "outputs": [],
   "source": [
    "import sys\n",
    "import os\n",
    "import openai\n",
    "from openai import OpenAI\n",
    "\n",
    "sys.path.append(\"../..\")\n",
    "\n",
    "from dotenv import load_dotenv, find_dotenv\n",
    "\n",
    "_ = load_dotenv(find_dotenv())  # read local .env file\n",
    "\n",
    "\n",
    "openai.api_key = os.environ[\"OPENAI_API_KEY\"]\n",
    "client = OpenAI()"
   ]
  },
  {
   "cell_type": "code",
   "execution_count": 2,
   "metadata": {},
   "outputs": [],
   "source": [
    "import base64\n",
    "import mimetypes\n",
    "\n",
    "\n",
    "def image_to_base64(image_path):\n",
    "    # Guess the MIME type of the image\n",
    "    mime_type, _ = mimetypes.guess_type(image_path)\n",
    "\n",
    "    if not mime_type or not mime_type.startswith(\"image\"):\n",
    "        raise ValueError(\"The file type is not recognized as an image\")\n",
    "\n",
    "    # Read the image binary data\n",
    "    with open(image_path, \"rb\") as image_file:\n",
    "        encoded_string = base64.b64encode(image_file.read()).decode(\"utf-8\")\n",
    "\n",
    "    # Format the result with the appropriate prefix\n",
    "    image_base64 = f\"data:{mime_type};base64,{encoded_string}\"\n",
    "\n",
    "    return image_base64"
   ]
  },
  {
   "cell_type": "code",
   "execution_count": 3,
   "metadata": {},
   "outputs": [],
   "source": [
    "response = client.chat.completions.create(\n",
    "    model=\"gpt-4-vision-preview\",\n",
    "    messages=[\n",
    "        {\n",
    "            \"role\": \"user\",\n",
    "            \"content\": [\n",
    "                {\n",
    "                    \"type\": \"text\",\n",
    "                    \"text\": \"Please describe the image.  What pieces of a furniture do you see?  What colors, materials, and patterns do you see?  What interior design elements are present?\",\n",
    "                },\n",
    "                {\n",
    "                    \"type\": \"image_url\",\n",
    "                    \"image_url\": \"http://deborahrucci.decoratingden.com/wp-content/uploads/sites/280/2023/11/Picture9.jpg\",\n",
    "                },\n",
    "            ],\n",
    "        }\n",
    "    ],\n",
    "    max_tokens=300,\n",
    ")"
   ]
  },
  {
   "cell_type": "code",
   "execution_count": 4,
   "metadata": {},
   "outputs": [
    {
     "name": "stdout",
     "output_type": "stream",
     "text": [
      "The image features a living room scene with a mid-century modern aesthetic. The pieces of furniture visible include two coral-colored armchairs with clean lines indicative of mid-century design, and a dark wood credenza or sideboard with a simple, elegant form.\n",
      "\n",
      "The room's wallpaper is a deep teal with a repetitive botanical print, adding a vintage touch to the space. A tall, slender floor lamp with a curved neck and a large white shade provides a modern, sophisticated lighting option.\n",
      "\n",
      "On top of the credenza, there's a small, stylized sculpture of an animal, possibly a dog or a giraffe due to its long neck, next to a framed artwork with a portrait-oriented orientation. Another landscape-oriented artwork is leaning against the wall on the credenza, featuring warm reddish and orange tones.\n",
      "\n",
      "A white throw is casually draped over one of the armchairs, adding texture and a sense of coziness. The color scheme mainly revolves around the coral chairs, the dark wood furniture, the teal wallpaper, and accents in gold, white, and warm colors from the art pieces, creating a harmonious yet dynamic composition. This setting reflects a keen eye for color coordination, a mix of textures, and an appreciation for both form and function in the selected furniture pieces.\n"
     ]
    }
   ],
   "source": [
    "print(response.choices[0].message.content)"
   ]
  },
  {
   "cell_type": "code",
   "execution_count": null,
   "metadata": {},
   "outputs": [],
   "source": []
  }
 ],
 "metadata": {
  "kernelspec": {
   "display_name": "gpt4v",
   "language": "python",
   "name": "python3"
  },
  "language_info": {
   "codemirror_mode": {
    "name": "ipython",
    "version": 3
   },
   "file_extension": ".py",
   "mimetype": "text/x-python",
   "name": "python",
   "nbconvert_exporter": "python",
   "pygments_lexer": "ipython3",
   "version": "3.11.7"
  }
 },
 "nbformat": 4,
 "nbformat_minor": 2
}
