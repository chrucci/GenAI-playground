{
 "cells": [
  {
   "cell_type": "code",
   "execution_count": 1,
   "metadata": {},
   "outputs": [],
   "source": [
    "import xml.etree.ElementTree as ET\n",
    "\n",
    "\n",
    "def parseXML(xmlfile):\n",
    "    # create element tree object\n",
    "    tree = ET.parse(xmlfile)\n",
    "\n",
    "    # get root element\n",
    "    root = tree.getroot()\n",
    "\n",
    "    # create empty list for news items\n",
    "    newsitems = []\n",
    "\n",
    "    # iterate news items\n",
    "    for item in root.findall(\"./channel/item\"):\n",
    "        # empty news dictionary\n",
    "        news = {}\n",
    "\n",
    "        # iterate child elements of item\n",
    "        for child in item:\n",
    "            # special checking for namespace object content:media\n",
    "            if child.tag == \"{http://search.yahoo.com/mrss/}content\":\n",
    "                news[\"media\"] = child.attrib[\"url\"]\n",
    "            else:\n",
    "                news[child.tag] = child.text.encode(\"utf8\")\n",
    "\n",
    "        # append news dictionary to news items list\n",
    "        newsitems.append(news)\n",
    "\n",
    "    # return news items list\n",
    "    return newsitems"
   ]
  },
  {
   "cell_type": "code",
   "execution_count": 2,
   "metadata": {},
   "outputs": [],
   "source": [
    "tree = ET.parse(\"./deborahlynndesigns-decoratingdeninteriors.WordPress.2024-01-14.xml\")\n",
    "root = tree.getroot()"
   ]
  },
  {
   "cell_type": "code",
   "execution_count": 4,
   "metadata": {},
   "outputs": [
    {
     "data": {
      "text/plain": [
       "'\\n\\n'"
      ]
     },
     "execution_count": 4,
     "metadata": {},
     "output_type": "execute_result"
    }
   ],
   "source": [
    "root.text"
   ]
  },
  {
   "cell_type": "code",
   "execution_count": null,
   "metadata": {},
   "outputs": [],
   "source": []
  }
 ],
 "metadata": {
  "kernelspec": {
   "display_name": "blog",
   "language": "python",
   "name": "python3"
  },
  "language_info": {
   "codemirror_mode": {
    "name": "ipython",
    "version": 3
   },
   "file_extension": ".py",
   "mimetype": "text/x-python",
   "name": "python",
   "nbconvert_exporter": "python",
   "pygments_lexer": "ipython3",
   "version": "3.11.7"
  }
 },
 "nbformat": 4,
 "nbformat_minor": 2
}
