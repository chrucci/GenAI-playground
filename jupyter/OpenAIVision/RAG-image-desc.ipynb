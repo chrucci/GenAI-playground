{
 "cells": [
  {
   "cell_type": "code",
   "execution_count": 1,
   "metadata": {},
   "outputs": [],
   "source": [
    "import sys\n",
    "import os\n",
    "import openai\n",
    "from openai import OpenAI\n",
    "\n",
    "sys.path.append(\"../..\")\n",
    "\n",
    "from dotenv import load_dotenv, find_dotenv\n",
    "\n",
    "_ = load_dotenv(find_dotenv())  # read local .env file\n",
    "\n",
    "\n",
    "openai.api_key = os.environ[\"OPENAI_API_KEY\"]"
   ]
  },
  {
   "cell_type": "code",
   "execution_count": 2,
   "metadata": {},
   "outputs": [
    {
     "name": "stderr",
     "output_type": "stream",
     "text": [
      "[nltk_data] Downloading package punkt to /tmp/llama_index...\n",
      "[nltk_data]   Unzipping tokenizers/punkt.zip.\n"
     ]
    }
   ],
   "source": [
    "from llama_index.node_parser import SentenceWindowNodeParser\n",
    "\n",
    "# create the sentence window node parser w/ default settings\n",
    "node_parser = SentenceWindowNodeParser.from_defaults(\n",
    "    window_size=3,\n",
    "    window_metadata_key=\"window\",\n",
    "    original_text_metadata_key=\"original_text\",\n",
    ")"
   ]
  },
  {
   "cell_type": "code",
   "execution_count": 3,
   "metadata": {},
   "outputs": [],
   "source": [
    "from llama_index import Document\n",
    "\n",
    "pool_table_desc = \"This is an interior photo of a well-lit game room featuring a yellow-felt pool table in the foreground with a triangle rack of billiard balls ready for a game. To the left, there is a sectional sofa with yellow patterned cushions and a blue throw blanket on an ottoman. Above the sofa, there is a colorful painting of a cow and a set of longhorns mounted on the wall. A movie poster decorates the wall to the left of a window with shutters. On the right side of the image, sports memorabilia including framed baseball bats and a clock with a sports team logo are displayed on the wall. The room has a warm ambiance with recessed ceiling lights and a floor lamp.\"\n",
    "coffee_table_desc = \"This image shows an elegant, bright living room with large windows dressed in white curtains with a patterned design. The room is furnished with four light blue upholstered armchairs with silver nailhead trim, arranged around a white marble coffee table with silver accents. On the table, there are two decorative vases in gold and silver tones and a potted orchid. The room has a sophisticated feel with white walls, crown molding, and a herringbone-patterned wooden floor. A soft patterned area rug lies beneath the furniture, adding texture to the space.\"\n",
    "document = Document(text=pool_table_desc)\n",
    "document.metadata = {\n",
    "    \"url\": \"https://deborahrucci.decoratingden.com/wp-content/uploads/sites/280/2024/01/0612A1-21.jpg\"\n",
    "}\n",
    "\n",
    "nodes = node_parser.get_nodes_from_documents([document])"
   ]
  },
  {
   "cell_type": "code",
   "execution_count": 4,
   "metadata": {},
   "outputs": [
    {
     "data": {
      "text/plain": [
       "{'url': 'https://deborahrucci.decoratingden.com/wp-content/uploads/sites/280/2024/01/0612A1-21.jpg'}"
      ]
     },
     "execution_count": 4,
     "metadata": {},
     "output_type": "execute_result"
    }
   ],
   "source": [
    "document.metadata"
   ]
  },
  {
   "cell_type": "code",
   "execution_count": 5,
   "metadata": {},
   "outputs": [
    {
     "data": {
      "text/plain": [
       "{'window': 'This is an interior photo of a well-lit game room featuring a yellow-felt pool table in the foreground with a triangle rack of billiard balls ready for a game.  To the left, there is a sectional sofa with yellow patterned cushions and a blue throw blanket on an ottoman.  Above the sofa, there is a colorful painting of a cow and a set of longhorns mounted on the wall. ',\n",
       " 'original_text': 'This is an interior photo of a well-lit game room featuring a yellow-felt pool table in the foreground with a triangle rack of billiard balls ready for a game. ',\n",
       " 'url': 'https://deborahrucci.decoratingden.com/wp-content/uploads/sites/280/2024/01/0612A1-21.jpg'}"
      ]
     },
     "execution_count": 5,
     "metadata": {},
     "output_type": "execute_result"
    }
   ],
   "source": [
    "nodes[0].metadata"
   ]
  },
  {
   "cell_type": "code",
   "execution_count": 10,
   "metadata": {},
   "outputs": [],
   "source": [
    "import os\n",
    "from llama_index import VectorStoreIndex, StorageContext, load_index_from_storage\n",
    "from llama_index.node_parser import SentenceWindowNodeParser\n",
    "from llama_index.indices.postprocessor import MetadataReplacementPostProcessor\n",
    "from llama_index.indices.postprocessor import SentenceTransformerRerank\n",
    "\n",
    "\n",
    "def get_or_create_vector_store_index(document, service_context):\n",
    "    if not os.path.exists(\"./sentence_index\"):\n",
    "        # If the index doesn't yet exist, create it\n",
    "        sentence_index = VectorStoreIndex.from_documents(\n",
    "            [document], service_context=service_context\n",
    "        )\n",
    "\n",
    "        sentence_index.storage_context.persist(persist_dir=\"./sentence_index\")\n",
    "    else:\n",
    "        # If the index already exists, load it from storage\n",
    "        sentence_index = load_index_from_storage(\n",
    "            StorageContext.from_defaults(persist_dir=\"./sentence_index\"),\n",
    "            service_context=service_context,\n",
    "        )\n",
    "        sentence_index.insert(document)\n",
    "    return sentence_index\n",
    "\n",
    "\n",
    "def build_sentence_window_index(\n",
    "    document, llm, embed_model=\"local:BAAI/bge-small-en-v1.5\", save_dir=\"sentence_index\"\n",
    "):\n",
    "    # create the sentence window node parser w/ default settings\n",
    "    node_parser = SentenceWindowNodeParser.from_defaults(\n",
    "        window_size=3,\n",
    "        window_metadata_key=\"window\",\n",
    "        original_text_metadata_key=\"original_text\",\n",
    "    )\n",
    "    sentence_context = ServiceContext.from_defaults(\n",
    "        llm=llm,\n",
    "        embed_model=embed_model,\n",
    "        node_parser=node_parser,\n",
    "    )\n",
    "    if not os.path.exists(save_dir):\n",
    "        sentence_index = VectorStoreIndex.from_documents(\n",
    "            [document], service_context=sentence_context\n",
    "        )\n",
    "        sentence_index.storage_context.persist(persist_dir=save_dir)\n",
    "    else:\n",
    "        sentence_index = load_index_from_storage(\n",
    "            StorageContext.from_defaults(persist_dir=save_dir),\n",
    "            service_context=sentence_context,\n",
    "        )\n",
    "\n",
    "    return sentence_index\n",
    "\n",
    "\n",
    "def get_sentence_window_query_engine(\n",
    "    sentence_index,\n",
    "    similarity_top_k=6,\n",
    "    rerank_top_n=2,\n",
    "):\n",
    "    # define postprocessors\n",
    "    postproc = MetadataReplacementPostProcessor(target_metadata_key=\"window\")\n",
    "    rerank = SentenceTransformerRerank(\n",
    "        top_n=rerank_top_n, model=\"BAAI/bge-reranker-base\"\n",
    "    )\n",
    "\n",
    "    sentence_window_engine = sentence_index.as_query_engine(\n",
    "        similarity_top_k=similarity_top_k, node_postprocessors=[postproc, rerank]\n",
    "    )\n",
    "    return sentence_window_engine"
   ]
  },
  {
   "cell_type": "code",
   "execution_count": 11,
   "metadata": {},
   "outputs": [],
   "source": [
    "from llama_index import ServiceContext\n",
    "from llama_index.llms import OpenAI\n",
    "\n",
    "llm = OpenAI(temperature=0, model=\"gpt-4\")\n",
    "# service_context = ServiceContext.from_defaults(\n",
    "#     llm=llm,\n",
    "#     embed_model=\"local:BAAI/bge-large-en-v1.5\",\n",
    "#     node_parser=node_parser,\n",
    "# )\n",
    "\n",
    "# index = get_or_create_vector_store_index(document, service_context)\n",
    "index = build_sentence_window_index(\n",
    "    document,\n",
    "    llm,\n",
    "    embed_model=\"local:BAAI/bge-large-en-v1.5\",\n",
    "    save_dir=\"./sentence_index\",\n",
    ")"
   ]
  },
  {
   "cell_type": "code",
   "execution_count": 12,
   "metadata": {},
   "outputs": [],
   "source": [
    "sentence_window_engine = get_sentence_window_query_engine(index)"
   ]
  },
  {
   "cell_type": "code",
   "execution_count": 13,
   "metadata": {},
   "outputs": [],
   "source": [
    "response = sentence_window_engine.query(\n",
    "    \"please select a picture that has a pool table.\"\n",
    ")"
   ]
  },
  {
   "cell_type": "code",
   "execution_count": 17,
   "metadata": {},
   "outputs": [
    {
     "data": {
      "text/plain": [
       "Response(response='Both provided pictures feature a well-lit game room with a yellow-felt pool table in the foreground.', source_nodes=[NodeWithScore(node=TextNode(id_='833c7e69-2ccc-47ec-a228-f8f76ac7a299', embedding=None, metadata={'window': 'This is an interior photo of a well-lit game room featuring a yellow-felt pool table in the foreground with a triangle rack of billiard balls ready for a game.  To the left, there is a sectional sofa with yellow patterned cushions and a blue throw blanket on an ottoman.  Above the sofa, there is a colorful painting of a cow and a set of longhorns mounted on the wall.  A movie poster decorates the wall to the left of a window with shutters.  On the right side of the image, sports memorabilia including framed baseball bats and a clock with a sports team logo are displayed on the wall. ', 'original_text': 'Above the sofa, there is a colorful painting of a cow and a set of longhorns mounted on the wall. ', 'url': 'https://deborahrucci.decoratingden.com/wp-content/uploads/sites/280/2024/01/0612A1-21.jpg'}, excluded_embed_metadata_keys=['window', 'original_text'], excluded_llm_metadata_keys=['window', 'original_text'], relationships={<NodeRelationship.SOURCE: '1'>: RelatedNodeInfo(node_id='530f2127-b849-4beb-ac6e-8622dec45c34', node_type=<ObjectType.DOCUMENT: '4'>, metadata={'url': 'https://deborahrucci.decoratingden.com/wp-content/uploads/sites/280/2024/01/0612A1-21.jpg'}, hash='8d099f8c8e42b988cb059611d16fe52d4c4e3c6ac2b6d25ccd60cb64f7a8fc9e'), <NodeRelationship.PREVIOUS: '2'>: RelatedNodeInfo(node_id='05bc2ef6-d120-435a-b42b-701d2abeb1f4', node_type=<ObjectType.TEXT: '1'>, metadata={'window': 'This is an interior photo of a well-lit game room featuring a yellow-felt pool table in the foreground with a triangle rack of billiard balls ready for a game.  To the left, there is a sectional sofa with yellow patterned cushions and a blue throw blanket on an ottoman.  Above the sofa, there is a colorful painting of a cow and a set of longhorns mounted on the wall.  A movie poster decorates the wall to the left of a window with shutters. ', 'original_text': 'To the left, there is a sectional sofa with yellow patterned cushions and a blue throw blanket on an ottoman. ', 'url': 'https://deborahrucci.decoratingden.com/wp-content/uploads/sites/280/2024/01/0612A1-21.jpg'}, hash='07a9fa4d523a6e238056edc96129d2704e5a9281d2b435dcf03f4b67eb627522'), <NodeRelationship.NEXT: '3'>: RelatedNodeInfo(node_id='5a1bbdf3-a5a3-4e07-b1c1-50077a42b4c7', node_type=<ObjectType.TEXT: '1'>, metadata={'window': 'This is an interior photo of a well-lit game room featuring a yellow-felt pool table in the foreground with a triangle rack of billiard balls ready for a game.  To the left, there is a sectional sofa with yellow patterned cushions and a blue throw blanket on an ottoman.  Above the sofa, there is a colorful painting of a cow and a set of longhorns mounted on the wall.  A movie poster decorates the wall to the left of a window with shutters.  On the right side of the image, sports memorabilia including framed baseball bats and a clock with a sports team logo are displayed on the wall.  The room has a warm ambiance with recessed ceiling lights and a floor lamp.', 'original_text': 'A movie poster decorates the wall to the left of a window with shutters. '}, hash='9a3094538cd2cb00993caab8560b4c1573b825e570369c47d409369ff4e8ee0a')}, hash='429c67e73f2eebf0accaf4650f6877a8caff341ef0d96d9b4c75d2517cc7e6a8', text='This is an interior photo of a well-lit game room featuring a yellow-felt pool table in the foreground with a triangle rack of billiard balls ready for a game.  To the left, there is a sectional sofa with yellow patterned cushions and a blue throw blanket on an ottoman.  Above the sofa, there is a colorful painting of a cow and a set of longhorns mounted on the wall.  A movie poster decorates the wall to the left of a window with shutters.  On the right side of the image, sports memorabilia including framed baseball bats and a clock with a sports team logo are displayed on the wall. ', start_char_idx=270, end_char_idx=368, text_template='{metadata_str}\\n\\n{content}', metadata_template='{key}: {value}', metadata_seperator='\\n'), score=0.2519828), NodeWithScore(node=TextNode(id_='c12925fa-d2fc-4a60-9663-f023c05ea6b9', embedding=None, metadata={'window': 'This is an interior photo of a well-lit game room featuring a yellow-felt pool table in the foreground with a triangle rack of billiard balls ready for a game.  To the left, there is a sectional sofa with yellow patterned cushions and a blue throw blanket on an ottoman.  Above the sofa, there is a colorful painting of a cow and a set of longhorns mounted on the wall. ', 'original_text': 'This is an interior photo of a well-lit game room featuring a yellow-felt pool table in the foreground with a triangle rack of billiard balls ready for a game. ', 'url': 'https://deborahrucci.decoratingden.com/wp-content/uploads/sites/280/2024/01/0612A1-21.jpg'}, excluded_embed_metadata_keys=['window', 'original_text'], excluded_llm_metadata_keys=['window', 'original_text'], relationships={<NodeRelationship.SOURCE: '1'>: RelatedNodeInfo(node_id='530f2127-b849-4beb-ac6e-8622dec45c34', node_type=<ObjectType.DOCUMENT: '4'>, metadata={'url': 'https://deborahrucci.decoratingden.com/wp-content/uploads/sites/280/2024/01/0612A1-21.jpg'}, hash='8d099f8c8e42b988cb059611d16fe52d4c4e3c6ac2b6d25ccd60cb64f7a8fc9e'), <NodeRelationship.NEXT: '3'>: RelatedNodeInfo(node_id='05bc2ef6-d120-435a-b42b-701d2abeb1f4', node_type=<ObjectType.TEXT: '1'>, metadata={'window': 'This is an interior photo of a well-lit game room featuring a yellow-felt pool table in the foreground with a triangle rack of billiard balls ready for a game.  To the left, there is a sectional sofa with yellow patterned cushions and a blue throw blanket on an ottoman.  Above the sofa, there is a colorful painting of a cow and a set of longhorns mounted on the wall.  A movie poster decorates the wall to the left of a window with shutters. ', 'original_text': 'To the left, there is a sectional sofa with yellow patterned cushions and a blue throw blanket on an ottoman. '}, hash='07a9fa4d523a6e238056edc96129d2704e5a9281d2b435dcf03f4b67eb627522')}, hash='2e56b8a82511bbdc457d02c52039dcec64531016678a76ed8bb624ec3fa5295f', text='This is an interior photo of a well-lit game room featuring a yellow-felt pool table in the foreground with a triangle rack of billiard balls ready for a game.  To the left, there is a sectional sofa with yellow patterned cushions and a blue throw blanket on an ottoman.  Above the sofa, there is a colorful painting of a cow and a set of longhorns mounted on the wall. ', start_char_idx=0, end_char_idx=160, text_template='{metadata_str}\\n\\n{content}', metadata_template='{key}: {value}', metadata_seperator='\\n'), score=0.24690758)], metadata={'833c7e69-2ccc-47ec-a228-f8f76ac7a299': {'window': 'This is an interior photo of a well-lit game room featuring a yellow-felt pool table in the foreground with a triangle rack of billiard balls ready for a game.  To the left, there is a sectional sofa with yellow patterned cushions and a blue throw blanket on an ottoman.  Above the sofa, there is a colorful painting of a cow and a set of longhorns mounted on the wall.  A movie poster decorates the wall to the left of a window with shutters.  On the right side of the image, sports memorabilia including framed baseball bats and a clock with a sports team logo are displayed on the wall. ', 'original_text': 'Above the sofa, there is a colorful painting of a cow and a set of longhorns mounted on the wall. ', 'url': 'https://deborahrucci.decoratingden.com/wp-content/uploads/sites/280/2024/01/0612A1-21.jpg'}, 'c12925fa-d2fc-4a60-9663-f023c05ea6b9': {'window': 'This is an interior photo of a well-lit game room featuring a yellow-felt pool table in the foreground with a triangle rack of billiard balls ready for a game.  To the left, there is a sectional sofa with yellow patterned cushions and a blue throw blanket on an ottoman.  Above the sofa, there is a colorful painting of a cow and a set of longhorns mounted on the wall. ', 'original_text': 'This is an interior photo of a well-lit game room featuring a yellow-felt pool table in the foreground with a triangle rack of billiard balls ready for a game. ', 'url': 'https://deborahrucci.decoratingden.com/wp-content/uploads/sites/280/2024/01/0612A1-21.jpg'}})"
      ]
     },
     "execution_count": 17,
     "metadata": {},
     "output_type": "execute_result"
    }
   ],
   "source": [
    "response"
   ]
  },
  {
   "cell_type": "code",
   "execution_count": null,
   "metadata": {},
   "outputs": [],
   "source": []
  }
 ],
 "metadata": {
  "kernelspec": {
   "display_name": "llamaindex",
   "language": "python",
   "name": "python3"
  },
  "language_info": {
   "codemirror_mode": {
    "name": "ipython",
    "version": 3
   },
   "file_extension": ".py",
   "mimetype": "text/x-python",
   "name": "python",
   "nbconvert_exporter": "python",
   "pygments_lexer": "ipython3",
   "version": "3.11.5"
  }
 },
 "nbformat": 4,
 "nbformat_minor": 2
}
