{
 "cells": [
  {
   "cell_type": "code",
   "execution_count": 1,
   "metadata": {},
   "outputs": [],
   "source": [
    "import sys\n",
    "import os\n",
    "import openai\n",
    "from openai import OpenAI\n",
    "from dotenv import load_dotenv, find_dotenv\n",
    "\n",
    "sys.path.append(\"../..\")\n",
    "\n",
    "_ = load_dotenv(find_dotenv())  # read local .env file\n",
    "\n",
    "openai.api_key = os.environ[\"OPENAI_API_KEY\"]"
   ]
  },
  {
   "cell_type": "code",
   "execution_count": 2,
   "metadata": {},
   "outputs": [],
   "source": [
    "from llama_index.node_parser import SentenceWindowNodeParser\n",
    "\n",
    "# create the sentence window node parser w/ default settings\n",
    "node_parser = SentenceWindowNodeParser.from_defaults(\n",
    "    window_size=3,\n",
    "    window_metadata_key=\"window\",\n",
    "    original_text_metadata_key=\"original_text\",\n",
    ")"
   ]
  },
  {
   "cell_type": "code",
   "execution_count": 3,
   "metadata": {},
   "outputs": [],
   "source": [
    "from llama_index import Document\n",
    "\n",
    "pool_table_desc = \"\"\"ROOM: The picture is taken in a living room or a lounge area.\n",
    "\n",
    "FURNITURE: There is a gray upholstered sofa with decorative pillows, a round coffee table with a metal frame and a wooden top, and a patterned armchair to the right.\n",
    "\n",
    "COLOR: The predominant colors in the picture are neutral tones, including shades of gray, beige, and brown.\n",
    "\n",
    "ELEMENTS: The design elements visible include a mix of geometric and organic patterns on the pillows and armchair, as well as a clean, contemporary style in the furniture design.\n",
    "\n",
    "ACCENTS: Accent pieces include a white vase with white artificial flowers on the coffee table, a stack of books, and a woven basket with a fringed throw blanket.\n",
    "\n",
    "TEXTURES: Visible textures include the fabric of the sofa and armchair, the smooth surface of the coffee table, the woven texture of the basket, and the plush carpet.\n",
    "\n",
    "WINDOWS: There are no window coverings visible in the picture.\n",
    "\n",
    "LIGHTING: The lighting is not directly visible, but the room appears to be lit by ambient light, possibly from a source outside the frame.\n",
    "\n",
    "FLOORING: The floor is covered with a light-colored plush carpet.\n",
    "\"\"\"\n",
    "\n",
    "document = Document(text=pool_table_desc)\n",
    "document.metadata = {\n",
    "    \"url\": \"https://deborahrucci.decoratingden.com/wp-content/uploads/sites/280/2019/10/0908O2-19.jpg\"\n",
    "}\n",
    "\n",
    "nodes = node_parser.get_nodes_from_documents([document])"
   ]
  },
  {
   "cell_type": "code",
   "execution_count": 4,
   "metadata": {},
   "outputs": [
    {
     "data": {
      "text/plain": [
       "{'url': 'https://deborahrucci.decoratingden.com/wp-content/uploads/sites/280/2019/10/0908O2-19.jpg'}"
      ]
     },
     "execution_count": 4,
     "metadata": {},
     "output_type": "execute_result"
    }
   ],
   "source": [
    "document.metadata"
   ]
  },
  {
   "cell_type": "code",
   "execution_count": 6,
   "metadata": {},
   "outputs": [
    {
     "data": {
      "text/plain": [
       "9"
      ]
     },
     "execution_count": 6,
     "metadata": {},
     "output_type": "execute_result"
    }
   ],
   "source": [
    "len(nodes)"
   ]
  },
  {
   "cell_type": "code",
   "execution_count": 5,
   "metadata": {},
   "outputs": [
    {
     "data": {
      "text/plain": [
       "{'window': 'ROOM: The picture is taken in a living room or a lounge area.\\n\\n FURNITURE: There is a gray upholstered sofa with decorative pillows, a round coffee table with a metal frame and a wooden top, and a patterned armchair to the right.\\n\\n COLOR: The predominant colors in the picture are neutral tones, including shades of gray, beige, and brown.\\n\\n',\n",
       " 'original_text': 'ROOM: The picture is taken in a living room or a lounge area.\\n\\n',\n",
       " 'url': 'https://deborahrucci.decoratingden.com/wp-content/uploads/sites/280/2019/10/0908O2-19.jpg'}"
      ]
     },
     "execution_count": 5,
     "metadata": {},
     "output_type": "execute_result"
    }
   ],
   "source": [
    "nodes[0].metadata"
   ]
  },
  {
   "cell_type": "code",
   "execution_count": 7,
   "metadata": {},
   "outputs": [],
   "source": [
    "import os\n",
    "from llama_index import VectorStoreIndex, StorageContext, load_index_from_storage\n",
    "from llama_index.node_parser import SentenceWindowNodeParser\n",
    "from llama_index.indices.postprocessor import MetadataReplacementPostProcessor\n",
    "from llama_index.indices.postprocessor import SentenceTransformerRerank\n",
    "\n",
    "\n",
    "def get_or_create_vector_store_index(document, service_context):\n",
    "    if not os.path.exists(\"./sentence_index\"):\n",
    "        # If the index doesn't yet exist, create it\n",
    "        sentence_index = VectorStoreIndex.from_documents(\n",
    "            [document], service_context=service_context\n",
    "        )\n",
    "\n",
    "        sentence_index.storage_context.persist(persist_dir=\"./sentence_index\")\n",
    "    else:\n",
    "        # If the index already exists, load it from storage\n",
    "        sentence_index = load_index_from_storage(\n",
    "            StorageContext.from_defaults(persist_dir=\"./sentence_index\"),\n",
    "            service_context=service_context,\n",
    "        )\n",
    "        sentence_index.insert(document)\n",
    "    return sentence_index\n",
    "\n",
    "\n",
    "def build_sentence_window_index(\n",
    "    document, llm, embed_model=\"local:BAAI/bge-small-en-v1.5\", save_dir=\"sentence_index\"\n",
    "):\n",
    "    # create the sentence window node parser w/ default settings\n",
    "    node_parser = SentenceWindowNodeParser.from_defaults(\n",
    "        window_size=3,\n",
    "        window_metadata_key=\"window\",\n",
    "        original_text_metadata_key=\"original_text\",\n",
    "    )\n",
    "    sentence_context = ServiceContext.from_defaults(\n",
    "        llm=llm,\n",
    "        embed_model=embed_model,\n",
    "        node_parser=node_parser,\n",
    "    )\n",
    "    if not os.path.exists(save_dir):\n",
    "        sentence_index = VectorStoreIndex.from_documents(\n",
    "            [document], service_context=sentence_context\n",
    "        )\n",
    "        sentence_index.storage_context.persist(persist_dir=save_dir)\n",
    "    else:\n",
    "        sentence_index = load_index_from_storage(\n",
    "            StorageContext.from_defaults(persist_dir=save_dir),\n",
    "            service_context=sentence_context,\n",
    "        )\n",
    "\n",
    "    return sentence_index\n",
    "\n",
    "\n",
    "def get_sentence_window_query_engine(\n",
    "    sentence_index,\n",
    "    similarity_top_k=6,\n",
    "    rerank_top_n=2,\n",
    "):\n",
    "    # define postprocessors\n",
    "    postproc = MetadataReplacementPostProcessor(target_metadata_key=\"window\")\n",
    "    rerank = SentenceTransformerRerank(\n",
    "        top_n=rerank_top_n, model=\"BAAI/bge-reranker-base\"\n",
    "    )\n",
    "\n",
    "    sentence_window_engine = sentence_index.as_query_engine(\n",
    "        similarity_top_k=similarity_top_k, node_postprocessors=[postproc, rerank]\n",
    "    )\n",
    "    return sentence_window_engine"
   ]
  },
  {
   "cell_type": "code",
   "execution_count": 8,
   "metadata": {},
   "outputs": [],
   "source": [
    "from llama_index import ServiceContext\n",
    "from llama_index.llms import OpenAI\n",
    "\n",
    "llm = OpenAI(temperature=0, model=\"gpt-4\")\n",
    "# service_context = ServiceContext.from_defaults(\n",
    "#     llm=llm,\n",
    "#     embed_model=\"local:BAAI/bge-large-en-v1.5\",\n",
    "#     node_parser=node_parser,\n",
    "# )\n",
    "\n",
    "# index = get_or_create_vector_store_index(document, service_context)\n",
    "index = build_sentence_window_index(\n",
    "    document,\n",
    "    llm,\n",
    "    embed_model=\"local:BAAI/bge-large-en-v1.5\",\n",
    "    save_dir=\"./sentence_index\",\n",
    ")"
   ]
  },
  {
   "cell_type": "code",
   "execution_count": 16,
   "metadata": {},
   "outputs": [],
   "source": [
    "index.insert(document)"
   ]
  },
  {
   "cell_type": "code",
   "execution_count": 32,
   "metadata": {},
   "outputs": [],
   "source": [
    "sentence_window_engine = get_sentence_window_query_engine(index)"
   ]
  },
  {
   "cell_type": "code",
   "execution_count": 18,
   "metadata": {},
   "outputs": [
    {
     "data": {
      "text/plain": [
       "dict_keys(['530f2127-b849-4beb-ac6e-8622dec45c34', 'bef2caca-7be5-48ec-a09a-560846d3162b'])"
      ]
     },
     "execution_count": 18,
     "metadata": {},
     "output_type": "execute_result"
    }
   ],
   "source": [
    "type(index)\n",
    "index.ref_doc_info.keys()"
   ]
  },
  {
   "cell_type": "code",
   "execution_count": 37,
   "metadata": {},
   "outputs": [],
   "source": [
    "response = sentence_window_engine.query(\n",
    "    \"please return the URL of an image that includes a coffee table with some books on it\"\n",
    ")"
   ]
  },
  {
   "cell_type": "code",
   "execution_count": 38,
   "metadata": {},
   "outputs": [
    {
     "data": {
      "text/markdown": [
       "**`Final Response:`** The URL of the image that includes a coffee table with some books on it is https://deborahrucci.decoratingden.com/wp-content/uploads/sites/280/2019/10/0908O2-19.jpg."
      ],
      "text/plain": [
       "<IPython.core.display.Markdown object>"
      ]
     },
     "metadata": {},
     "output_type": "display_data"
    },
    {
     "data": {
      "text/markdown": [
       "---"
      ],
      "text/plain": [
       "<IPython.core.display.Markdown object>"
      ]
     },
     "metadata": {},
     "output_type": "display_data"
    },
    {
     "data": {
      "text/markdown": [
       "**`Source Node 1/2`**"
      ],
      "text/plain": [
       "<IPython.core.display.Markdown object>"
      ]
     },
     "metadata": {},
     "output_type": "display_data"
    },
    {
     "data": {
      "text/markdown": [
       "**Node ID:** fae12fff-7e4c-4f1b-9683-e339067686c5<br>**Similarity:** 0.5907028317451477<br>**Text:** FURNITURE: There is a gray upholstered sofa with decorative pillows, a round coffee table with a ...<br>"
      ],
      "text/plain": [
       "<IPython.core.display.Markdown object>"
      ]
     },
     "metadata": {},
     "output_type": "display_data"
    },
    {
     "data": {
      "text/markdown": [
       "---"
      ],
      "text/plain": [
       "<IPython.core.display.Markdown object>"
      ]
     },
     "metadata": {},
     "output_type": "display_data"
    },
    {
     "data": {
      "text/markdown": [
       "**`Source Node 2/2`**"
      ],
      "text/plain": [
       "<IPython.core.display.Markdown object>"
      ]
     },
     "metadata": {},
     "output_type": "display_data"
    },
    {
     "data": {
      "text/markdown": [
       "**Node ID:** 03b89337-8a99-4ab1-8c9e-40c7d22e3a50<br>**Similarity:** 0.44890716671943665<br>**Text:** COLOR: The predominant colors in the picture are neutral tones, including shades of gray, beige, ...<br>"
      ],
      "text/plain": [
       "<IPython.core.display.Markdown object>"
      ]
     },
     "metadata": {},
     "output_type": "display_data"
    }
   ],
   "source": [
    "from llama_index.response.notebook_utils import display_response\n",
    "\n",
    "display_response(response, show_source=True)"
   ]
  },
  {
   "cell_type": "code",
   "execution_count": null,
   "metadata": {},
   "outputs": [],
   "source": []
  }
 ],
 "metadata": {
  "kernelspec": {
   "display_name": "llamaindex",
   "language": "python",
   "name": "python3"
  },
  "language_info": {
   "codemirror_mode": {
    "name": "ipython",
    "version": 3
   },
   "file_extension": ".py",
   "mimetype": "text/x-python",
   "name": "python",
   "nbconvert_exporter": "python",
   "pygments_lexer": "ipython3",
   "version": "3.11.5"
  }
 },
 "nbformat": 4,
 "nbformat_minor": 2
}
