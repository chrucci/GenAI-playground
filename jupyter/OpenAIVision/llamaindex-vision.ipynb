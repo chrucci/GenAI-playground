{
 "cells": [
  {
   "cell_type": "code",
   "execution_count": 2,
   "metadata": {},
   "outputs": [],
   "source": [
    "import sys\n",
    "import os\n",
    "import openai\n",
    "from openai import OpenAI\n",
    "\n",
    "sys.path.append(\"../..\")\n",
    "\n",
    "from dotenv import load_dotenv, find_dotenv\n",
    "\n",
    "_ = load_dotenv(find_dotenv())  # read local .env file\n",
    "\n",
    "\n",
    "openai.api_key = os.environ[\"OPENAI_API_KEY\"]"
   ]
  },
  {
   "cell_type": "code",
   "execution_count": 12,
   "metadata": {},
   "outputs": [],
   "source": [
    "from llama_index.multi_modal_llms.openai import OpenAIMultiModal\n",
    "from llama_index.multi_modal_llms.generic_utils import (\n",
    "    load_image_urls,\n",
    ")\n",
    "\n",
    "\n",
    "# image_urls = [\n",
    "#     \"https://deborahrucci.decoratingden.com/wp-content/uploads/sites/280/2024/01/0612A1-21.jpg\",\n",
    "#     \"http://deborahrucci.decoratingden.com/wp-content/uploads/sites/280/2023/07/0913O2-23-scaled.jpg\",\n",
    "#     # \"https://res.cloudinary.com/hello-tickets/image/upload/c_limit,f_auto,q_auto,w_1920/v1640835927/o3pfl41q7m5bj8jardk0.jpg\",\n",
    "#     # \"https://www.cleverfiles.com/howto/wp-content/uploads/2018/03/minion.jpg\",\n",
    "# ]\n",
    "\n",
    "# image_documents = load_image_urls(image_urls)\n",
    "\n",
    "openai_mm_llm = OpenAIMultiModal(\n",
    "    model=\"gpt-4-vision-preview\", api_key=openai.api_key, max_new_tokens=1000\n",
    ")\n",
    "\n",
    "# response = openai_mm_llm.complete(\n",
    "#     prompt=\"Describe the images as an alternative text\",\n",
    "#     image_documents=image_documents,\n",
    "# )"
   ]
  },
  {
   "cell_type": "code",
   "execution_count": 16,
   "metadata": {},
   "outputs": [],
   "source": [
    "furniture_prompt = \"Please list the furniture that is visible in this picture\"\n",
    "color_prompt = \"Please list the colors that are visible in this picture\"\n",
    "design_elem_prompt = \"Please list the design elements that are visible in this picture\"\n",
    "accent_prompt = \"Please list the accent pieces that are visible in this picture\"\n",
    "textures_prompt = \"Please list the textures that are visible in this picture\"\n",
    "room_prompt = \"If this picture is taken inside a room, what kind of room is it?\"\n",
    "window_prompt = \"Please describe all of the window coverings, including blinds, shades, curtains, and drapes that are visible in this picture\"\n",
    "all_in_prompt = \"\"\"Please describe what you see in the picture.\n",
    "\n",
    "I'd like to see your response take into account various elements of the picture, in the following sections:\n",
    "\n",
    "- ROOM: The type of room the picture is taken inthe type of room the picture is take in.  If the picture is not an image of the inside of room, do not describe the picture at all, simply respond with 'NOT A ROOM', \n",
    "- FURNITURE: the furniture in the room, \n",
    "- COLOR: the colors that are predominant in the picture,\n",
    "- ELEMENTS: the design elements that are visible in the picture,\n",
    "- ACCENTS: the accent pieces that are visible in the picture,\n",
    "- TEXTURES: the textures that are visible in the picture,\n",
    "- WINDOWS: the window coverings that are visible in the picture,\n",
    "- LIGHTING: the lighting that is visible in the picture,\n",
    "- FLOORING: the floor coverings that are visible in the picture\n",
    "- WALL HANGINGS: items that are hung on the walls of the room that are visible in the picture\n",
    "\n",
    "\n",
    "\n",
    "\"\"\""
   ]
  },
  {
   "cell_type": "code",
   "execution_count": 26,
   "metadata": {},
   "outputs": [],
   "source": [
    "image_url = \"https://deborahrucci.decoratingden.com/wp-content/uploads/sites/280/2019/10/0908O2-19.jpg\"\n",
    "image_docs = load_image_urls([image_url])"
   ]
  },
  {
   "cell_type": "code",
   "execution_count": 27,
   "metadata": {},
   "outputs": [],
   "source": [
    "# furniture_response = openai_mm_llm.complete(\n",
    "#     prompt=furniture_prompt,\n",
    "#     image_documents=image_docs,\n",
    "# )\n",
    "# color_response = openai_mm_llm.complete(\n",
    "#     prompt=color_prompt,\n",
    "#     image_documents=image_docs,\n",
    "# )\n",
    "# room_response = openai_mm_llm.complete(\n",
    "#     prompt=room_prompt,\n",
    "#     image_documents=image_docs,\n",
    "# )\n",
    "# design_elem_response = openai_mm_llm.complete(\n",
    "#     prompt=design_elem_prompt,\n",
    "#     image_documents=image_docs,\n",
    "# )\n",
    "# accent_response = openai_mm_llm.complete(\n",
    "#     prompt=accent_prompt,\n",
    "#     image_documents=image_docs,\n",
    "# )\n",
    "# textures_response = openai_mm_llm.complete(\n",
    "#     prompt=textures_prompt,\n",
    "#     image_documents=image_docs,\n",
    "# )\n",
    "# window_response = openai_mm_llm.complete(\n",
    "#     prompt=window_prompt,\n",
    "#     image_documents=image_docs,\n",
    "# )"
   ]
  },
  {
   "cell_type": "code",
   "execution_count": 28,
   "metadata": {},
   "outputs": [
    {
     "name": "stdout",
     "output_type": "stream",
     "text": [
      "ROOM: The picture is taken in a living room or a lounge area.\n",
      "\n",
      "FURNITURE: There is a gray upholstered sofa with decorative pillows, a round coffee table with a metal frame and a wooden top, and a patterned armchair to the right.\n",
      "\n",
      "COLOR: The predominant colors in the picture are neutral tones, including shades of gray, beige, and brown.\n",
      "\n",
      "ELEMENTS: The design elements visible include a mix of geometric and organic patterns on the pillows and armchair, as well as a clean, contemporary style in the furniture design.\n",
      "\n",
      "ACCENTS: Accent pieces include a white vase with white artificial flowers on the coffee table, a stack of books, and a woven basket with a fringed throw blanket.\n",
      "\n",
      "TEXTURES: Visible textures include the fabric of the sofa and armchair, the smooth surface of the coffee table, the woven texture of the basket, and the plush carpet.\n",
      "\n",
      "WINDOWS: There are no window coverings visible in the picture.\n",
      "\n",
      "LIGHTING: The lighting is not directly visible, but the room appears to be lit by ambient light, possibly from a source outside the frame.\n",
      "\n",
      "FLOORING: The floor is covered with a light-colored plush carpet.\n"
     ]
    }
   ],
   "source": [
    "response = openai_mm_llm.complete(\n",
    "    prompt=all_in_prompt,\n",
    "    image_documents=image_docs,\n",
    ")\n",
    "print(response.text)"
   ]
  },
  {
   "cell_type": "code",
   "execution_count": null,
   "metadata": {},
   "outputs": [],
   "source": [
    "# print(furniture_response.text)\n",
    "# print(color_response.text)\n",
    "# print(room_response.text)\n",
    "# print(design_elem_response.text)\n",
    "# print(accent_response.text)\n",
    "# print(textures_response.text)\n",
    "# print(window_response.text)"
   ]
  },
  {
   "cell_type": "code",
   "execution_count": null,
   "metadata": {},
   "outputs": [],
   "source": []
  }
 ],
 "metadata": {
  "kernelspec": {
   "display_name": "llamaindex",
   "language": "python",
   "name": "python3"
  },
  "language_info": {
   "codemirror_mode": {
    "name": "ipython",
    "version": 3
   },
   "file_extension": ".py",
   "mimetype": "text/x-python",
   "name": "python",
   "nbconvert_exporter": "python",
   "pygments_lexer": "ipython3",
   "version": "3.11.5"
  }
 },
 "nbformat": 4,
 "nbformat_minor": 2
}
