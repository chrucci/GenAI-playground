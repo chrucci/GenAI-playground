{
 "cells": [
  {
   "cell_type": "code",
   "execution_count": 6,
   "metadata": {},
   "outputs": [],
   "source": [
    "import sys\n",
    "import os\n",
    "import openai\n",
    "from openai import OpenAI\n",
    "\n",
    "sys.path.append(\"../..\")\n",
    "\n",
    "from dotenv import load_dotenv, find_dotenv\n",
    "\n",
    "_ = load_dotenv(find_dotenv())  # read local .env file\n",
    "\n",
    "\n",
    "openai.api_key = os.environ[\"OPENAI_API_KEY\"]"
   ]
  },
  {
   "cell_type": "code",
   "execution_count": 11,
   "metadata": {},
   "outputs": [],
   "source": [
    "from llama_index.multi_modal_llms.openai import OpenAIMultiModal\n",
    "from llama_index.multi_modal_llms.generic_utils import (\n",
    "    load_image_urls,\n",
    ")\n",
    "\n",
    "\n",
    "image_urls = [\n",
    "    \"https://deborahrucci.decoratingden.com/wp-content/uploads/sites/280/2024/01/0612A1-21.jpg\",\n",
    "    \"http://deborahrucci.decoratingden.com/wp-content/uploads/sites/280/2023/07/0913O2-23-scaled.jpg\",\n",
    "    # \"https://res.cloudinary.com/hello-tickets/image/upload/c_limit,f_auto,q_auto,w_1920/v1640835927/o3pfl41q7m5bj8jardk0.jpg\",\n",
    "    # \"https://www.cleverfiles.com/howto/wp-content/uploads/2018/03/minion.jpg\",\n",
    "]\n",
    "\n",
    "image_documents = load_image_urls(image_urls)\n",
    "\n",
    "openai_mm_llm = OpenAIMultiModal(\n",
    "    model=\"gpt-4-vision-preview\", api_key=openai.api_key, max_new_tokens=300\n",
    ")\n",
    "\n",
    "response = openai_mm_llm.complete(\n",
    "    prompt=\"Describe the images as an alternative text\",\n",
    "    image_documents=image_documents,\n",
    ")"
   ]
  },
  {
   "cell_type": "code",
   "execution_count": 13,
   "metadata": {},
   "outputs": [
    {
     "data": {
      "text/plain": [
       "'Image 1: This is an interior photo of a well-lit game room featuring a yellow-felt pool table in the foreground with a triangle rack of billiard balls ready for a game. To the left, there is a sectional sofa with yellow patterned cushions and a blue throw blanket on an ottoman. Above the sofa, there is a colorful painting of a cow and a set of longhorns mounted on the wall. A movie poster decorates the wall to the left of a window with shutters. On the right side of the image, sports memorabilia including framed baseball bats and a clock with a sports team logo are displayed on the wall. The room has a warm ambiance with recessed ceiling lights and a floor lamp.\\n\\nImage 2: This image shows an elegant, bright living room with large windows dressed in white curtains with a patterned design. The room is furnished with four light blue upholstered armchairs with silver nailhead trim, arranged around a white marble coffee table with silver accents. On the table, there are two decorative vases in gold and silver tones and a potted orchid. The room has a sophisticated feel with white walls, crown molding, and a herringbone-patterned wooden floor. A soft patterned area rug lies beneath the furniture, adding texture to the space.'"
      ]
     },
     "execution_count": 13,
     "metadata": {},
     "output_type": "execute_result"
    }
   ],
   "source": [
    "response.text"
   ]
  },
  {
   "cell_type": "code",
   "execution_count": 10,
   "metadata": {},
   "outputs": [
    {
     "data": {
      "text/plain": [
       "CompletionResponse(text='This image shows a well-lit, cozy game room or living area. On the left, there is a sectional sofa with light gray upholstery adorned with yellow patterned throw pillows. In front of the sofa, there\\'s a large, colorful area rug with a traditional pattern, and a brown leather ottoman serves as a coffee table. A small side table with a plant and a vintage movie poster on the wall add to the room\\'s decor.\\n\\nTo the right, there\\'s a pool table with a yellow felt surface and a set of billiard balls arranged for the start of a game. A cue rack is mounted on the wall beside a neon-lit sign that reads \"GIANTS\" and a framed picture below it. Above the pool table is a modern light fixture. The room also features a large painting of a cow\\'s head above the sofa and a longhorn skull mounted on the wall, contributing to a unique, eclectic aesthetic. There\\'s a floor lamp with a simple design near the wall on the right, and the room is completed with a window with closed shutters, providing natural light.', additional_kwargs={}, raw={'id': 'chatcmpl-8hIhy3Lcbf1nWTn0l4ld14rmQTNay', 'choices': [Choice(finish_reason='stop', index=0, logprobs=None, message=ChatCompletionMessage(content='This image shows a well-lit, cozy game room or living area. On the left, there is a sectional sofa with light gray upholstery adorned with yellow patterned throw pillows. In front of the sofa, there\\'s a large, colorful area rug with a traditional pattern, and a brown leather ottoman serves as a coffee table. A small side table with a plant and a vintage movie poster on the wall add to the room\\'s decor.\\n\\nTo the right, there\\'s a pool table with a yellow felt surface and a set of billiard balls arranged for the start of a game. A cue rack is mounted on the wall beside a neon-lit sign that reads \"GIANTS\" and a framed picture below it. Above the pool table is a modern light fixture. The room also features a large painting of a cow\\'s head above the sofa and a longhorn skull mounted on the wall, contributing to a unique, eclectic aesthetic. There\\'s a floor lamp with a simple design near the wall on the right, and the room is completed with a window with closed shutters, providing natural light.', role='assistant', function_call=None, tool_calls=None))], 'created': 1705330710, 'model': 'gpt-4-1106-vision-preview', 'object': 'chat.completion', 'system_fingerprint': None, 'usage': CompletionUsage(completion_tokens=221, prompt_tokens=1119, total_tokens=1340)}, delta=None)"
      ]
     },
     "execution_count": 10,
     "metadata": {},
     "output_type": "execute_result"
    }
   ],
   "source": [
    "response"
   ]
  },
  {
   "cell_type": "code",
   "execution_count": 1,
   "metadata": {},
   "outputs": [
    {
     "name": "stdout",
     "output_type": "stream",
     "text": [
      "Doc ID: 3ef614b7-d5f7-4852-b880-6d86bb1f53a1\n",
      "Text:\n"
     ]
    }
   ],
   "source": [
    "from llama_index.multi_modal_llms.openai import OpenAIMultiModal\n",
    "from llama_index.multi_modal_llms.generic_utils import (\n",
    "    load_image_urls,\n",
    ")\n",
    "\n",
    "\n",
    "image_urls = [\n",
    "    \"https://www.visualcapitalist.com/wp-content/uploads/2023/10/US_Mortgage_Rate_Surge-Sept-11-1.jpg\",\n",
    "    \"https://www.sportsnet.ca/wp-content/uploads/2023/11/CP1688996471-1040x572.jpg\",\n",
    "    # \"https://res.cloudinary.com/hello-tickets/image/upload/c_limit,f_auto,q_auto,w_1920/v1640835927/o3pfl41q7m5bj8jardk0.jpg\",\n",
    "    # \"https://www.cleverfiles.com/howto/wp-content/uploads/2018/03/minion.jpg\",\n",
    "]\n",
    "\n",
    "image_documents = load_image_urls(image_urls)\n",
    "\n",
    "print(image_documents[0])"
   ]
  },
  {
   "cell_type": "code",
   "execution_count": 5,
   "metadata": {},
   "outputs": [
    {
     "data": {
      "text/plain": [
       "llama_index.schema.ImageDocument"
      ]
     },
     "execution_count": 5,
     "metadata": {},
     "output_type": "execute_result"
    }
   ],
   "source": [
    "type(image_documents[0])"
   ]
  },
  {
   "cell_type": "code",
   "execution_count": null,
   "metadata": {},
   "outputs": [],
   "source": []
  }
 ],
 "metadata": {
  "kernelspec": {
   "display_name": "llamaindex",
   "language": "python",
   "name": "python3"
  },
  "language_info": {
   "codemirror_mode": {
    "name": "ipython",
    "version": 3
   },
   "file_extension": ".py",
   "mimetype": "text/x-python",
   "name": "python",
   "nbconvert_exporter": "python",
   "pygments_lexer": "ipython3",
   "version": "3.11.5"
  }
 },
 "nbformat": 4,
 "nbformat_minor": 2
}
