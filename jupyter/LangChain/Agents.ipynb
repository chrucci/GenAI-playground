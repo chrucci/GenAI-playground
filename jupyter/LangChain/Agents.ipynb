{
 "cells": [
  {
   "cell_type": "markdown",
   "id": "29a79f61-7d12-45ba-a408-e63e320a3fdc",
   "metadata": {},
   "source": [
    "# LangChain: Agents\n",
    "From [https://learn.deeplearning.ai/langchain/lesson/7/agents](https://learn.deeplearning.ai/langchain/lesson/7/agents)\n",
    "\n",
    "## Outline:\n",
    "\n",
    "* Using built in LangChain tools: DuckDuckGo search and Wikipedia\n",
    "* Defi your own g\n",
    "\n",
    "\n",
    "tools"
   ]
  },
  {
   "cell_type": "code",
   "execution_count": 14,
   "id": "27ff4757-9ecc-47e8-9d55-eaf39898199e",
   "metadata": {},
   "outputs": [],
   "source": [
    "import os\n",
    "\n",
    "from dotenv import load_dotenv, find_dotenv\n",
    "\n",
    "_ = load_dotenv(find_dotenv())  # read local .env file\n",
    "\n",
    "import warnings\n",
    "\n",
    "warnings.filterwarnings(\"ignore\")"
   ]
  },
  {
   "cell_type": "code",
   "execution_count": 15,
   "id": "19010b04-01c8-4729-b080-9319edf5bf92",
   "metadata": {},
   "outputs": [],
   "source": [
    "# account for deprecation of LLM model\n",
    "import datetime\n",
    "\n",
    "# Get the current date\n",
    "current_date = datetime.datetime.now().date()\n",
    "\n",
    "# Define the date after which the model should be set to \"gpt-3.5-turbo\"\n",
    "target_date = datetime.date(2024, 6, 12)\n",
    "\n",
    "# Set the model variable based on the current date\n",
    "if current_date > target_date:\n",
    "    llm_model = \"gpt-3.5-turbo\"\n",
    "else:\n",
    "    llm_model = \"gpt-3.5-turbo-0301\""
   ]
  },
  {
   "cell_type": "markdown",
   "id": "6795b8cb-a53b-4fb1-9ad1-f4f0204a7f74",
   "metadata": {},
   "source": [
    "## Built-in LangChain tools"
   ]
  },
  {
   "cell_type": "code",
   "execution_count": 16,
   "id": "23de01d8-f8fb-4f01-8fe9-c3371995d6c3",
   "metadata": {},
   "outputs": [],
   "source": [
    "# !pip install wikipedia"
   ]
  },
  {
   "cell_type": "code",
   "execution_count": 17,
   "id": "b7892bf1-ab24-46b5-9504-5529f6308552",
   "metadata": {},
   "outputs": [],
   "source": [
    "from langchain.agents.agent_toolkits import create_python_agent\n",
    "from langchain.agents import load_tools, initialize_agent\n",
    "from langchain.agents import AgentType\n",
    "from langchain.tools.python.tool import PythonREPLTool\n",
    "from langchain.python import PythonREPL\n",
    "from langchain.chat_models import ChatOpenAI"
   ]
  },
  {
   "cell_type": "code",
   "execution_count": 18,
   "id": "da869146-eab8-4e6f-a9c3-f3bcc8d4b48f",
   "metadata": {},
   "outputs": [],
   "source": [
    "llm_model = \"gpt-4\""
   ]
  },
  {
   "cell_type": "code",
   "execution_count": 19,
   "id": "bfbf84cb-ed01-430b-998d-7ecc91c961c4",
   "metadata": {},
   "outputs": [],
   "source": [
    "llm = ChatOpenAI(temperature=0.5, model=llm_model)"
   ]
  },
  {
   "cell_type": "code",
   "execution_count": 20,
   "id": "1d8b6244-3639-4769-b9f9-62a2feb95a84",
   "metadata": {},
   "outputs": [],
   "source": [
    "tools = load_tools([\"llm-math\", \"wikipedia\"], llm=llm)"
   ]
  },
  {
   "cell_type": "code",
   "execution_count": 21,
   "id": "0533debe-0406-4f90-a334-9d53db454cc6",
   "metadata": {},
   "outputs": [],
   "source": [
    "agent = initialize_agent(\n",
    "    tools,\n",
    "    llm,\n",
    "    agent=AgentType.CHAT_ZERO_SHOT_REACT_DESCRIPTION,\n",
    "    handle_parsing_errors=True,\n",
    "    verbose=True,\n",
    ")"
   ]
  },
  {
   "cell_type": "markdown",
   "id": "99140677-f155-4d66-8444-c2cadedad0ab",
   "metadata": {},
   "source": [
    "### Using the llm-math tool"
   ]
  },
  {
   "cell_type": "code",
   "execution_count": null,
   "id": "2c393c8d-01b6-4129-a9db-fa78204e6a89",
   "metadata": {},
   "outputs": [],
   "source": [
    "agent(\"What is the 25% of 300?\")"
   ]
  },
  {
   "cell_type": "code",
   "execution_count": null,
   "id": "f5fe1304-0a9e-4fb4-a1de-38d5480d890a",
   "metadata": {},
   "outputs": [],
   "source": [
    "agent(\"What is the 300% of 25?\")"
   ]
  },
  {
   "cell_type": "markdown",
   "id": "7508590e-0231-46e8-b5fe-a74a6e3b05e1",
   "metadata": {},
   "source": [
    "### Using the Wikipedia tool"
   ]
  },
  {
   "cell_type": "code",
   "execution_count": 22,
   "id": "90f9b84a-0cd1-42e8-8c84-48192ba976a1",
   "metadata": {},
   "outputs": [
    {
     "name": "stdout",
     "output_type": "stream",
     "text": [
      "\n",
      "\n",
      "\u001b[1m> Entering new AgentExecutor chain...\u001b[0m\n",
      "\u001b[32;1m\u001b[1;3mThought: This question seems to be asking about a specific event in a superhero story. I don't have this information readily available, so I'll use the Wikipedia tool to search for a superhero who defeated a creature in the manner described.\n",
      "\n",
      "Action:\n",
      "```\n",
      "{\n",
      "  \"action\": \"Wikipedia\",\n",
      "  \"action_input\": \"superhero defeated creature by feeding it oxygen\"\n",
      "}\n",
      "```\u001b[0m\n",
      "Observation: \u001b[33;1m\u001b[1;3mPage: List of The Tick characters\n",
      "Summary: This article details the characters found in all four versions of The Tick.\n",
      "\n",
      "\n",
      "\n",
      "Page: Godzilla (2014 film)\n",
      "Summary: Godzilla is a 2014 American monster film directed by Gareth Edwards. Produced by Legendary Pictures and distributed by Warner Bros. Pictures, it is a reboot of Toho Co., Ltd.'s Godzilla franchise, and the first film in the MonsterVerse. It is also the 30th film in the Godzilla franchise, and the second Godzilla film to be completely produced by a Hollywood studio. The film stars Aaron Taylor-Johnson, Ken Watanabe, Elizabeth Olsen, Juliette Binoche, Sally Hawkins, David Strathairn, and Bryan Cranston. In the film, an American sailor attempts to return to his family while caught in the crossfire of an ancient rivalry between Godzilla and two parasitic monsters known as MUTOs.\n",
      "The project began as an IMAX short film in 2004 but was transferred to Legendary in 2009 to be redeveloped as a feature film. The film was officially announced in March 2010 and Edwards was announced as the director in January 2011. Principal photography began in March 2013 in the United States and Canada and ended in July 2013.\n",
      "Godzilla was theatrically released on May 16, 2014, to generally positive reviews from critics, who praised the direction, visual effects, music, cinematography, respect to the source material, and Cranston's performance, but criticized the script, characters, and Godzilla's insufficient screen time. The film was a box office success, grossing $529 million worldwide against a production budget of $160 million, print and advertisement costs of $100 million, and a break-even point of $380 million. The film's success prompted Toho to produce a reboot of their own and Legendary to proceed with sequels and a shared cinematic franchise.\n",
      "\n",
      "Page: Doctor Who (series 10)\n",
      "Summary: The tenth series of the British science fiction television programme Doctor Who premiered on 15 April 2017 and concluded on 1 July 2017 with twelve episodes, after it was formally announced in July 2015. The series is led by head writer and executive producer Steven Moffat, alongside executive producer Brian Minchin. It is the third and final series overseen by the two as executive producers, as well as Moffat's sixth and final series as head writer. This series is the tenth to air following the programme's revival in 2005 and is the thirty-sixth season overall.\n",
      "Preceded by a Christmas special in December 2016, \"The Return of Doctor Mysterio\", the series is the third and final series starring Peter Capaldi as the Twelfth Doctor, an incarnation of the Doctor, an alien Time Lord who travels through time and space in his TARDIS, which appears to be a British police box on the outside; Capaldi announced in January 2017 that he would be stepping down from the role after the tenth series. The series introduces Pearl Mackie as Bill Potts, and also features Matt Lucas as Nardole. Michelle Gomez and John Simm return as their respective incarnations of the Master. The main story arc for the first half of the series revolves around the Doctor and Nardole occupying themselves at a university while they guard an underground vault containing Missy. Missy later travels with the team in the TARDIS, and eventually partners with her previous incarnation as they battle a Cyberman onslaught.\n",
      "Steven Moffat wrote four episodes for the series. Other returning writers include Frank Cottrell-Boyce, Sarah Dollard, Jamie Mathieson, Peter Harness, Toby Whithouse, and Mark Gatiss, as well as two new writers for the revived era, Mike Bartlett and Rona Munro, the latter of whom wrote the classic-era story Survival (1989). Directors of the series included three who have previously worked on the show and three brand new ones. Filming occurred between June 2016 and April 2017. The series received positive reviews from critics. The performances of Capaldi and Mackie were met with the most praise, as well as the writing, plots, and themes of the ep\u001b[0m\n",
      "Thought:\u001b[32;1m\u001b[1;3mThe search results from Wikipedia do not seem to provide any information about a superhero who defeated a creature by feeding it oxygen. The information provided is about unrelated topics such as Godzilla and Doctor Who. I might need to refine my search or try a different approach to find the answer. Perhaps I can search for superheroes known for using whirlwind force, as this was a key part of the strategy used to defeat the creature. \n",
      "\n",
      "Action:\n",
      "```\n",
      "{\n",
      "  \"action\": \"Wikipedia\",\n",
      "  \"action_input\": \"superhero known for using whirlwind force\"\n",
      "}\n",
      "```\u001b[0m\n",
      "Observation: \u001b[33;1m\u001b[1;3mPage: Superman\n",
      "Summary: Superman is a superhero who appears in American comic books published by DC Comics. The character was created by writer Jerry Siegel and artist Joe Shuster, and debuted in the comic book Action Comics #1 (cover-dated June 1938 and published April 18, 1938). Superman has been adapted to a number of other media, which includes radio serials, novels, films, television shows, theater, and video games.\n",
      "Superman was born on the fictional planet Krypton and was named Kal-El. As a baby, his parents sent him to Earth in a small spaceship moments before Krypton was destroyed in a natural cataclysm. His ship landed in the American countryside, near the fictional town of Smallville. He was found and adopted by farmers Jonathan and Martha Kent, who named him Clark Kent. Clark began developing his various superhuman powers and abilities, such as incredible strength and impervious skin. His adoptive parents advised him to use his powers for the benefit of humanity, and he decided to use his powers to fight crime. To protect his personal life, he changes into a colorful costume and uses the alias \"Superman\" when fighting crime. Clark resides in the fictional American city of Metropolis, where he works as a journalist for the Daily Planet. Superman's supporting characters include his love interest and fellow journalist Lois Lane, Daily Planet photographer Jimmy Olsen and editor-in-chief Perry White, and his enemies include Brainiac, General Zod, Darkseid, and his archenemy Lex Luthor.\n",
      "Superman is the archetype of the superhero: he wears an outlandish costume, uses a codename, and fights evil with the aid of extraordinary abilities. Although there are earlier characters who arguably fit this definition, it was Superman who popularized the superhero genre and established its conventions. He was the best-selling superhero in American comic books up until the 1980s.\n",
      "\n",
      "Page: Hank Pym\n",
      "Summary: Dr. Henry Jonathan \"Hank\" Pym () is a  character appearing in American comic books published by Marvel Comics. Created by penciller Jack Kirby, editor-plotter Stan Lee and writer Larry Lieber, Pym debuted in Tales to Astonish #27 (January 1962). He returned several issues later as the original iteration of Ant-Man, a superhero with the power to shrink to the size of an ant. He later assumed other superhero identities, including the size-changing Giant-Man and Goliath; the insect-themed Yellowjacket; and briefly, the Wasp. He is a founding member of the Avengers superhero team, and the creator of the robotic villain Ultron. He is also the ex-husband of Janet van Dyne and the father of Nadia van Dyne, his daughter by his first wife, Maria Pym.\n",
      "Since his beginnings in the Silver Age of Comic Books, Pym has been featured in various Marvel-endorsed products including animated films, video games, television series, and feature films. Michael Douglas plays Pym in the Marvel Cinematic Universe films Ant-Man (2015), Ant-Man and the Wasp (2018), Avengers: Endgame (2019), and Ant-Man and the Wasp: Quantumania (2023). Douglas also voiced alternate-timeline versions of Pym in the Disney+ animated series What If...? (2021).\n",
      "\n",
      "Page: Iron Man (TV series)\n",
      "Summary: Iron Man, also known as Iron Man: The Animated Series, is an American animated television series based on Marvel Comics' superhero, Iron Man. The series aired from 1994 to 1996 in syndication as part of The Marvel Action Hour, which packaged Iron Man with another animated series based on Marvel properties, the Fantastic Four, with one half-hour episode from each series airing back-to-back. The show was backed by a toy line that featured many armor variants.This series of Iron Man was among the few television series to be re-recorded in THX. This may have been usual at the time for a motion picture, but it is rare for a television series. Off the heels of the release of the live-action Iron Man film in 2008, reruns began airing on the Jetix block on Toon Disney.\n",
      "Although only lasting two seasons,\u001b[0m\n",
      "Thought:\u001b[32;1m\u001b[1;3mThe search results from Wikipedia provide information about Superman, Hank Pym (Ant-Man), and Iron Man. Out of these, Superman is known for his superhuman strength and abilities, including the ability to create whirlwinds. Given the details provided in the question, it's likely that the superhero who defeated the creature is Superman. However, the information available does not directly confirm this. To be sure, I'll search specifically for an event where Superman defeated a creature by feeding it oxygen.\n",
      "\n",
      "Action:\n",
      "```\n",
      "{\n",
      "  \"action\": \"Wikipedia\",\n",
      "  \"action_input\": \"Superman defeated creature by feeding it oxygen\"\n",
      "}\n",
      "```\u001b[0m\n",
      "Observation: \u001b[33;1m\u001b[1;3mPage: List of Batman: The Brave and the Bold characters\n",
      "Summary: The following is a list of characters appearing in Batman: The Brave and the Bold.\n",
      "\n",
      "Page: List of Green Arrow enemies\n",
      "Summary: This is a list of fictional characters from DC Comics who are enemies of Green Arrow.\n",
      "\n",
      "Page: List of Green Lantern enemies\n",
      "Summary: This is a list of fictional characters from DC Comics who are or have been enemies of Green Lantern.\u001b[0m\n",
      "Thought:\u001b[32;1m\u001b[1;3mThe search results from Wikipedia do not provide any information about an event where Superman defeated a creature by feeding it oxygen. The information provided is about unrelated topics such as Batman: The Brave and the Bold, and enemies of Green Arrow and Green Lantern. It seems that the specific event described in the question might not be documented on Wikipedia, or it might be part of a less well-known story that's not coming up in my searches. Given the information I have available, I think the most likely answer is Superman, but I can't confirm this with certainty. \n",
      "Final Answer: The superhero is likely Superman, but I cannot confirm this with certainty based on the available information.\u001b[0m\n",
      "\n",
      "\u001b[1m> Finished chain.\u001b[0m\n"
     ]
    }
   ],
   "source": [
    "question = \"In order to destroy a superhero, an evil scientific genius sent one of his henchmen to drop a nuclear device into a dormant Alaskan volcano to cause an eruption, and create a creature which fed on any source of heat. As planned, the creature proceeded to look for, and find the superhero. They fought, and the creature was defeated when the superhero swirled around it with whirlwind force, feeding the monster with oxygen and causing it to burn so fiercely that it exploded. What is the name of the superhero who triumphed over this creature?\"\n",
    "result = agent(question)"
   ]
  },
  {
   "cell_type": "markdown",
   "id": "8694e7c6-ffb3-4b8e-8a60-ce1b98c37107",
   "metadata": {},
   "source": [
    "## Python Agent"
   ]
  },
  {
   "cell_type": "code",
   "execution_count": 35,
   "id": "3ea5e84c-1984-4da3-9db0-01b17584da51",
   "metadata": {},
   "outputs": [],
   "source": [
    "agent = create_python_agent(llm, tool=PythonREPLTool(), verbose=True)"
   ]
  },
  {
   "cell_type": "code",
   "execution_count": 36,
   "id": "7ae85ddd-4939-4b17-b277-60ba17aaf107",
   "metadata": {},
   "outputs": [],
   "source": [
    "customer_list = [\n",
    "    [\"Harrison\", \"Chase\"],\n",
    "    [\"Lang\", \"Chain\"],\n",
    "    [\"Dolly\", \"Too\"],\n",
    "    [\"Elle\", \"Elem\"],\n",
    "    [\"Geoff\", \"Fusion\"],\n",
    "    [\"Trance\", \"Former\"],\n",
    "    [\"Jen\", \"Ayai\"],\n",
    "]"
   ]
  },
  {
   "cell_type": "code",
   "execution_count": 37,
   "id": "90b40c92-e7fa-4c25-bf37-0ed1cf94d283",
   "metadata": {},
   "outputs": [
    {
     "name": "stdout",
     "output_type": "stream",
     "text": [
      "\n",
      "\n",
      "\u001b[1m> Entering new AgentExecutor chain...\u001b[0m\n"
     ]
    },
    {
     "name": "stderr",
     "output_type": "stream",
     "text": [
      "Python REPL can execute arbitrary code. Use with caution.\n"
     ]
    },
    {
     "name": "stdout",
     "output_type": "stream",
     "text": [
      "\u001b[32;1m\u001b[1;3mI need to sort the list of customers first by their last name and then by their first name. I can use the built-in sorted function in Python for this. The sorted function can take a key argument, which can be a function that returns the values to sort by. In this case, I can use a lambda function that returns a tuple of the last name and first name. The sorted function will then sort the customers first by the last name and then by the first name. I will then print the sorted list. \n",
      "Action: Python_REPL\n",
      "Action Input: \n",
      "```python\n",
      "customers = [['Harrison', 'Chase'], ['Lang', 'Chain'], ['Dolly', 'Too'], ['Elle', 'Elem'], ['Geoff', 'Fusion'], ['Trance', 'Former'], ['Jen', 'Ayai']]\n",
      "sorted_customers = sorted(customers, key=lambda x: (x[1], x[0]))\n",
      "print(sorted_customers)\n",
      "```\u001b[0m\n",
      "Observation: \u001b[36;1m\u001b[1;3m[['Jen', 'Ayai'], ['Lang', 'Chain'], ['Harrison', 'Chase'], ['Elle', 'Elem'], ['Trance', 'Former'], ['Geoff', 'Fusion'], ['Dolly', 'Too']]\n",
      "\u001b[0m\n",
      "Thought:\u001b[32;1m\u001b[1;3mThe code has successfully sorted the list of customers first by their last name and then by their first name. The sorted list is [['Jen', 'Ayai'], ['Lang', 'Chain'], ['Harrison', 'Chase'], ['Elle', 'Elem'], ['Trance', 'Former'], ['Geoff', 'Fusion'], ['Dolly', 'Too']].\n",
      "Final Answer: [['Jen', 'Ayai'], ['Lang', 'Chain'], ['Harrison', 'Chase'], ['Elle', 'Elem'], ['Trance', 'Former'], ['Geoff', 'Fusion'], ['Dolly', 'Too']]\u001b[0m\n",
      "\n",
      "\u001b[1m> Finished chain.\u001b[0m\n"
     ]
    },
    {
     "data": {
      "text/plain": [
       "\"[['Jen', 'Ayai'], ['Lang', 'Chain'], ['Harrison', 'Chase'], ['Elle', 'Elem'], ['Trance', 'Former'], ['Geoff', 'Fusion'], ['Dolly', 'Too']]\""
      ]
     },
     "execution_count": 37,
     "metadata": {},
     "output_type": "execute_result"
    }
   ],
   "source": [
    "agent.run(\n",
    "    f\"\"\"Sort these customers by \\\n",
    "last name and then first name \\\n",
    "and print the output: {customer_list}\"\"\"\n",
    ")"
   ]
  },
  {
   "cell_type": "markdown",
   "id": "714fe30d-b630-46a9-929e-f184659d6c9c",
   "metadata": {},
   "source": [
    "#### View detailed outputs of the chains"
   ]
  },
  {
   "cell_type": "code",
   "execution_count": 38,
   "id": "2157b086-1c9d-41aa-a2d0-8b2c9a2b6c6f",
   "metadata": {},
   "outputs": [
    {
     "name": "stdout",
     "output_type": "stream",
     "text": [
      "\u001b[32;1m\u001b[1;3m[chain/start]\u001b[0m \u001b[1m[1:chain:AgentExecutor] Entering Chain run with input:\n",
      "\u001b[0m{\n",
      "  \"input\": \"Sort these customers by last name and then first name and print the output: [['Harrison', 'Chase'], ['Lang', 'Chain'], ['Dolly', 'Too'], ['Elle', 'Elem'], ['Geoff', 'Fusion'], ['Trance', 'Former'], ['Jen', 'Ayai']]\"\n",
      "}\n",
      "\u001b[32;1m\u001b[1;3m[chain/start]\u001b[0m \u001b[1m[1:chain:AgentExecutor > 2:chain:LLMChain] Entering Chain run with input:\n",
      "\u001b[0m{\n",
      "  \"input\": \"Sort these customers by last name and then first name and print the output: [['Harrison', 'Chase'], ['Lang', 'Chain'], ['Dolly', 'Too'], ['Elle', 'Elem'], ['Geoff', 'Fusion'], ['Trance', 'Former'], ['Jen', 'Ayai']]\",\n",
      "  \"agent_scratchpad\": \"\",\n",
      "  \"stop\": [\n",
      "    \"\\nObservation:\",\n",
      "    \"\\n\\tObservation:\"\n",
      "  ]\n",
      "}\n",
      "\u001b[32;1m\u001b[1;3m[llm/start]\u001b[0m \u001b[1m[1:chain:AgentExecutor > 2:chain:LLMChain > 3:llm:ChatOpenAI] Entering LLM run with input:\n",
      "\u001b[0m{\n",
      "  \"prompts\": [\n",
      "    \"Human: You are an agent designed to write and execute python code to answer questions.\\nYou have access to a python REPL, which you can use to execute python code.\\nIf you get an error, debug your code and try again.\\nOnly use the output of your code to answer the question. \\nYou might know the answer without running any code, but you should still run the code to get the answer.\\nIf it does not seem like you can write code to answer the question, just return \\\"I don't know\\\" as the answer.\\n\\n\\nPython_REPL: A Python shell. Use this to execute python commands. Input should be a valid python command. If you want to see the output of a value, you should print it out with `print(...)`.\\n\\nUse the following format:\\n\\nQuestion: the input question you must answer\\nThought: you should always think about what to do\\nAction: the action to take, should be one of [Python_REPL]\\nAction Input: the input to the action\\nObservation: the result of the action\\n... (this Thought/Action/Action Input/Observation can repeat N times)\\nThought: I now know the final answer\\nFinal Answer: the final answer to the original input question\\n\\nBegin!\\n\\nQuestion: Sort these customers by last name and then first name and print the output: [['Harrison', 'Chase'], ['Lang', 'Chain'], ['Dolly', 'Too'], ['Elle', 'Elem'], ['Geoff', 'Fusion'], ['Trance', 'Former'], ['Jen', 'Ayai']]\\nThought:\"\n",
      "  ]\n",
      "}\n",
      "\u001b[36;1m\u001b[1;3m[llm/end]\u001b[0m \u001b[1m[1:chain:AgentExecutor > 2:chain:LLMChain > 3:llm:ChatOpenAI] [23.53s] Exiting LLM run with output:\n",
      "\u001b[0m{\n",
      "  \"generations\": [\n",
      "    [\n",
      "      {\n",
      "        \"text\": \"I need to sort the list of customers first by their last name and then by their first name. I can use the built-in sorted function in Python for this. The sorted function takes an iterable and returns a new sorted list of the elements in the iterable. I can pass a function to the key parameter of the sorted function to specify a custom sort order. In this case, I want to sort by the last name and then the first name, so I can pass a function that returns a tuple of the last name and first name. The sorted function will then sort the customers based on this tuple. Action: Python_REPL\\nAction Input: \\n```python\\ncustomers = [['Harrison', 'Chase'], ['Lang', 'Chain'], ['Dolly', 'Too'], ['Elle', 'Elem'], ['Geoff', 'Fusion'], ['Trance', 'Former'], ['Jen', 'Ayai']]\\nsorted_customers = sorted(customers, key=lambda x: (x[1], x[0]))\\nprint(sorted_customers)\\n```\",\n",
      "        \"generation_info\": {\n",
      "          \"finish_reason\": \"stop\"\n",
      "        },\n",
      "        \"message\": {\n",
      "          \"lc\": 1,\n",
      "          \"type\": \"constructor\",\n",
      "          \"id\": [\n",
      "            \"langchain\",\n",
      "            \"schema\",\n",
      "            \"messages\",\n",
      "            \"AIMessage\"\n",
      "          ],\n",
      "          \"kwargs\": {\n",
      "            \"content\": \"I need to sort the list of customers first by their last name and then by their first name. I can use the built-in sorted function in Python for this. The sorted function takes an iterable and returns a new sorted list of the elements in the iterable. I can pass a function to the key parameter of the sorted function to specify a custom sort order. In this case, I want to sort by the last name and then the first name, so I can pass a function that returns a tuple of the last name and first name. The sorted function will then sort the customers based on this tuple. Action: Python_REPL\\nAction Input: \\n```python\\ncustomers = [['Harrison', 'Chase'], ['Lang', 'Chain'], ['Dolly', 'Too'], ['Elle', 'Elem'], ['Geoff', 'Fusion'], ['Trance', 'Former'], ['Jen', 'Ayai']]\\nsorted_customers = sorted(customers, key=lambda x: (x[1], x[0]))\\nprint(sorted_customers)\\n```\",\n",
      "            \"additional_kwargs\": {}\n",
      "          }\n",
      "        }\n",
      "      }\n",
      "    ]\n",
      "  ],\n",
      "  \"llm_output\": {\n",
      "    \"token_usage\": {\n",
      "      \"prompt_tokens\": 328,\n",
      "      \"completion_tokens\": 214,\n",
      "      \"total_tokens\": 542\n",
      "    },\n",
      "    \"model_name\": \"gpt-4\"\n",
      "  },\n",
      "  \"run\": null\n",
      "}\n",
      "\u001b[36;1m\u001b[1;3m[chain/end]\u001b[0m \u001b[1m[1:chain:AgentExecutor > 2:chain:LLMChain] [23.53s] Exiting Chain run with output:\n",
      "\u001b[0m{\n",
      "  \"text\": \"I need to sort the list of customers first by their last name and then by their first name. I can use the built-in sorted function in Python for this. The sorted function takes an iterable and returns a new sorted list of the elements in the iterable. I can pass a function to the key parameter of the sorted function to specify a custom sort order. In this case, I want to sort by the last name and then the first name, so I can pass a function that returns a tuple of the last name and first name. The sorted function will then sort the customers based on this tuple. Action: Python_REPL\\nAction Input: \\n```python\\ncustomers = [['Harrison', 'Chase'], ['Lang', 'Chain'], ['Dolly', 'Too'], ['Elle', 'Elem'], ['Geoff', 'Fusion'], ['Trance', 'Former'], ['Jen', 'Ayai']]\\nsorted_customers = sorted(customers, key=lambda x: (x[1], x[0]))\\nprint(sorted_customers)\\n```\"\n",
      "}\n",
      "\u001b[32;1m\u001b[1;3m[tool/start]\u001b[0m \u001b[1m[1:chain:AgentExecutor > 4:tool:Python_REPL] Entering Tool run with input:\n",
      "\u001b[0m\"```python\n",
      "customers = [['Harrison', 'Chase'], ['Lang', 'Chain'], ['Dolly', 'Too'], ['Elle', 'Elem'], ['Geoff', 'Fusion'], ['Trance', 'Former'], ['Jen', 'Ayai']]\n",
      "sorted_customers = sorted(customers, key=lambda x: (x[1], x[0]))\n",
      "print(sorted_customers)\n",
      "```\"\n",
      "\u001b[36;1m\u001b[1;3m[tool/end]\u001b[0m \u001b[1m[1:chain:AgentExecutor > 4:tool:Python_REPL] [4ms] Exiting Tool run with output:\n",
      "\u001b[0m\"[['Jen', 'Ayai'], ['Lang', 'Chain'], ['Harrison', 'Chase'], ['Elle', 'Elem'], ['Trance', 'Former'], ['Geoff', 'Fusion'], ['Dolly', 'Too']]\"\n",
      "\u001b[32;1m\u001b[1;3m[chain/start]\u001b[0m \u001b[1m[1:chain:AgentExecutor > 5:chain:LLMChain] Entering Chain run with input:\n",
      "\u001b[0m{\n",
      "  \"input\": \"Sort these customers by last name and then first name and print the output: [['Harrison', 'Chase'], ['Lang', 'Chain'], ['Dolly', 'Too'], ['Elle', 'Elem'], ['Geoff', 'Fusion'], ['Trance', 'Former'], ['Jen', 'Ayai']]\",\n",
      "  \"agent_scratchpad\": \"I need to sort the list of customers first by their last name and then by their first name. I can use the built-in sorted function in Python for this. The sorted function takes an iterable and returns a new sorted list of the elements in the iterable. I can pass a function to the key parameter of the sorted function to specify a custom sort order. In this case, I want to sort by the last name and then the first name, so I can pass a function that returns a tuple of the last name and first name. The sorted function will then sort the customers based on this tuple. Action: Python_REPL\\nAction Input: \\n```python\\ncustomers = [['Harrison', 'Chase'], ['Lang', 'Chain'], ['Dolly', 'Too'], ['Elle', 'Elem'], ['Geoff', 'Fusion'], ['Trance', 'Former'], ['Jen', 'Ayai']]\\nsorted_customers = sorted(customers, key=lambda x: (x[1], x[0]))\\nprint(sorted_customers)\\n```\\nObservation: [['Jen', 'Ayai'], ['Lang', 'Chain'], ['Harrison', 'Chase'], ['Elle', 'Elem'], ['Trance', 'Former'], ['Geoff', 'Fusion'], ['Dolly', 'Too']]\\n\\nThought:\",\n",
      "  \"stop\": [\n",
      "    \"\\nObservation:\",\n",
      "    \"\\n\\tObservation:\"\n",
      "  ]\n",
      "}\n",
      "\u001b[32;1m\u001b[1;3m[llm/start]\u001b[0m \u001b[1m[1:chain:AgentExecutor > 5:chain:LLMChain > 6:llm:ChatOpenAI] Entering LLM run with input:\n",
      "\u001b[0m{\n",
      "  \"prompts\": [\n",
      "    \"Human: You are an agent designed to write and execute python code to answer questions.\\nYou have access to a python REPL, which you can use to execute python code.\\nIf you get an error, debug your code and try again.\\nOnly use the output of your code to answer the question. \\nYou might know the answer without running any code, but you should still run the code to get the answer.\\nIf it does not seem like you can write code to answer the question, just return \\\"I don't know\\\" as the answer.\\n\\n\\nPython_REPL: A Python shell. Use this to execute python commands. Input should be a valid python command. If you want to see the output of a value, you should print it out with `print(...)`.\\n\\nUse the following format:\\n\\nQuestion: the input question you must answer\\nThought: you should always think about what to do\\nAction: the action to take, should be one of [Python_REPL]\\nAction Input: the input to the action\\nObservation: the result of the action\\n... (this Thought/Action/Action Input/Observation can repeat N times)\\nThought: I now know the final answer\\nFinal Answer: the final answer to the original input question\\n\\nBegin!\\n\\nQuestion: Sort these customers by last name and then first name and print the output: [['Harrison', 'Chase'], ['Lang', 'Chain'], ['Dolly', 'Too'], ['Elle', 'Elem'], ['Geoff', 'Fusion'], ['Trance', 'Former'], ['Jen', 'Ayai']]\\nThought:I need to sort the list of customers first by their last name and then by their first name. I can use the built-in sorted function in Python for this. The sorted function takes an iterable and returns a new sorted list of the elements in the iterable. I can pass a function to the key parameter of the sorted function to specify a custom sort order. In this case, I want to sort by the last name and then the first name, so I can pass a function that returns a tuple of the last name and first name. The sorted function will then sort the customers based on this tuple. Action: Python_REPL\\nAction Input: \\n```python\\ncustomers = [['Harrison', 'Chase'], ['Lang', 'Chain'], ['Dolly', 'Too'], ['Elle', 'Elem'], ['Geoff', 'Fusion'], ['Trance', 'Former'], ['Jen', 'Ayai']]\\nsorted_customers = sorted(customers, key=lambda x: (x[1], x[0]))\\nprint(sorted_customers)\\n```\\nObservation: [['Jen', 'Ayai'], ['Lang', 'Chain'], ['Harrison', 'Chase'], ['Elle', 'Elem'], ['Trance', 'Former'], ['Geoff', 'Fusion'], ['Dolly', 'Too']]\\n\\nThought:\"\n",
      "  ]\n",
      "}\n",
      "\u001b[36;1m\u001b[1;3m[llm/end]\u001b[0m \u001b[1m[1:chain:AgentExecutor > 5:chain:LLMChain > 6:llm:ChatOpenAI] [7.03s] Exiting LLM run with output:\n",
      "\u001b[0m{\n",
      "  \"generations\": [\n",
      "    [\n",
      "      {\n",
      "        \"text\": \"I now know the final answer\\nFinal Answer: [['Jen', 'Ayai'], ['Lang', 'Chain'], ['Harrison', 'Chase'], ['Elle', 'Elem'], ['Trance', 'Former'], ['Geoff', 'Fusion'], ['Dolly', 'Too']]\",\n",
      "        \"generation_info\": {\n",
      "          \"finish_reason\": \"stop\"\n",
      "        },\n",
      "        \"message\": {\n",
      "          \"lc\": 1,\n",
      "          \"type\": \"constructor\",\n",
      "          \"id\": [\n",
      "            \"langchain\",\n",
      "            \"schema\",\n",
      "            \"messages\",\n",
      "            \"AIMessage\"\n",
      "          ],\n",
      "          \"kwargs\": {\n",
      "            \"content\": \"I now know the final answer\\nFinal Answer: [['Jen', 'Ayai'], ['Lang', 'Chain'], ['Harrison', 'Chase'], ['Elle', 'Elem'], ['Trance', 'Former'], ['Geoff', 'Fusion'], ['Dolly', 'Too']]\",\n",
      "            \"additional_kwargs\": {}\n",
      "          }\n",
      "        }\n",
      "      }\n",
      "    ]\n",
      "  ],\n",
      "  \"llm_output\": {\n",
      "    \"token_usage\": {\n",
      "      \"prompt_tokens\": 599,\n",
      "      \"completion_tokens\": 61,\n",
      "      \"total_tokens\": 660\n",
      "    },\n",
      "    \"model_name\": \"gpt-4\"\n",
      "  },\n",
      "  \"run\": null\n",
      "}\n",
      "\u001b[36;1m\u001b[1;3m[chain/end]\u001b[0m \u001b[1m[1:chain:AgentExecutor > 5:chain:LLMChain] [7.03s] Exiting Chain run with output:\n",
      "\u001b[0m{\n",
      "  \"text\": \"I now know the final answer\\nFinal Answer: [['Jen', 'Ayai'], ['Lang', 'Chain'], ['Harrison', 'Chase'], ['Elle', 'Elem'], ['Trance', 'Former'], ['Geoff', 'Fusion'], ['Dolly', 'Too']]\"\n",
      "}\n",
      "\u001b[36;1m\u001b[1;3m[chain/end]\u001b[0m \u001b[1m[1:chain:AgentExecutor] [30.57s] Exiting Chain run with output:\n",
      "\u001b[0m{\n",
      "  \"output\": \"[['Jen', 'Ayai'], ['Lang', 'Chain'], ['Harrison', 'Chase'], ['Elle', 'Elem'], ['Trance', 'Former'], ['Geoff', 'Fusion'], ['Dolly', 'Too']]\"\n",
      "}\n"
     ]
    }
   ],
   "source": [
    "import langchain\n",
    "\n",
    "langchain.debug = True\n",
    "agent.run(\n",
    "    f\"\"\"Sort these customers by \\\n",
    "last name and then first name \\\n",
    "and print the output: {customer_list}\"\"\"\n",
    ")\n",
    "langchain.debug = False"
   ]
  },
  {
   "cell_type": "markdown",
   "id": "345299ca-63cc-4d4e-b421-a609e240c374",
   "metadata": {},
   "source": [
    "## Define your own tool"
   ]
  },
  {
   "cell_type": "code",
   "execution_count": 39,
   "id": "aa4a4028-6622-456c-9f93-a8d4cee14262",
   "metadata": {},
   "outputs": [
    {
     "name": "stdout",
     "output_type": "stream",
     "text": [
      "Collecting DateTime\n",
      "  Obtaining dependency information for DateTime from https://files.pythonhosted.org/packages/95/88/3b9d4042b396221a132180b392ab2a174031a6fb579f7927f3909fc183a7/DateTime-5.2-py3-none-any.whl.metadata\n",
      "  Downloading DateTime-5.2-py3-none-any.whl.metadata (33 kB)\n",
      "Collecting zope.interface (from DateTime)\n",
      "  Downloading zope.interface-6.0-cp39-cp39-win_amd64.whl (204 kB)\n",
      "     ---------------------------------------- 0.0/204.1 kB ? eta -:--:--\n",
      "     -------------------------------------- 204.1/204.1 kB 6.3 MB/s eta 0:00:00\n",
      "Requirement already satisfied: pytz in c:\\users\\chruc\\appdata\\local\\programs\\python\\python39\\lib\\site-packages (from DateTime) (2023.3)\n",
      "Requirement already satisfied: setuptools in c:\\users\\chruc\\appdata\\local\\programs\\python\\python39\\lib\\site-packages (from zope.interface->DateTime) (49.2.1)\n",
      "Downloading DateTime-5.2-py3-none-any.whl (52 kB)\n",
      "   ---------------------------------------- 0.0/52.2 kB ? eta -:--:--\n",
      "   ---------------------------------------- 52.2/52.2 kB ? eta 0:00:00\n",
      "Installing collected packages: zope.interface, DateTime\n",
      "Successfully installed DateTime-5.2 zope.interface-6.0\n"
     ]
    }
   ],
   "source": [
    "!pip install DateTime"
   ]
  },
  {
   "cell_type": "code",
   "execution_count": 40,
   "id": "f85a75d1-b317-4f98-a818-3e7a6d399759",
   "metadata": {},
   "outputs": [],
   "source": [
    "from langchain.agents import tool\n",
    "from datetime import date"
   ]
  },
  {
   "cell_type": "code",
   "execution_count": 41,
   "id": "342ce9c3-abcb-40c1-ada4-3d0eb0acdd5e",
   "metadata": {},
   "outputs": [],
   "source": [
    "@tool\n",
    "def time(text: str) -> str:\n",
    "    \"\"\"Returns todays date, use this for any \\\n",
    "    questions related to knowing todays date. \\\n",
    "    The input should always be an empty string, \\\n",
    "    and this function will always return todays \\\n",
    "    date - any date mathmatics should occur \\\n",
    "    outside this function.\"\"\"\n",
    "    return str(date.today())"
   ]
  },
  {
   "cell_type": "code",
   "execution_count": 42,
   "id": "5c42c838-66f8-4cf1-9c78-76c86cbabd4f",
   "metadata": {},
   "outputs": [],
   "source": [
    "agent = initialize_agent(\n",
    "    tools + [time],\n",
    "    llm,\n",
    "    agent=AgentType.CHAT_ZERO_SHOT_REACT_DESCRIPTION,\n",
    "    handle_parsing_errors=True,\n",
    "    verbose=True,\n",
    ")"
   ]
  },
  {
   "cell_type": "code",
   "execution_count": 45,
   "id": "f96d792f-ef33-459b-a4fc-5de9a20870db",
   "metadata": {},
   "outputs": [
    {
     "name": "stdout",
     "output_type": "stream",
     "text": [
      "\n",
      "\n",
      "\u001b[1m> Entering new AgentExecutor chain...\u001b[0m\n",
      "\u001b[32;1m\u001b[1;3mThought: To answer this question, I need to know today's date first. I will use the 'time' tool to get today's date.\n",
      "Action:\n",
      "```\n",
      "{\n",
      "  \"action\": \"time\",\n",
      "  \"action_input\": \"\"\n",
      "}\n",
      "```\u001b[0m\n",
      "Observation: \u001b[38;5;200m\u001b[1;3m2023-09-04\u001b[0m\n",
      "Thought:\u001b[32;1m\u001b[1;3mToday is September 4, 2023, which is a Monday. Therefore, the Tuesday of last week would be August 29, 2023. Final Answer: August 29, 2023.\u001b[0m\n",
      "\n",
      "\u001b[1m> Finished chain.\u001b[0m\n"
     ]
    }
   ],
   "source": [
    "try:\n",
    "    result = agent(\"whats the date of Tuesday of last week?\")\n",
    "except:\n",
    "    print(\"exception on external access\")"
   ]
  },
  {
   "cell_type": "code",
   "execution_count": null,
   "id": "686100d6-2f31-4368-b7d2-9185f4ab50a1",
   "metadata": {},
   "outputs": [],
   "source": []
  }
 ],
 "metadata": {
  "kernelspec": {
   "display_name": "Python 3 (ipykernel)",
   "language": "python",
   "name": "python3"
  },
  "language_info": {
   "codemirror_mode": {
    "name": "ipython",
    "version": 3
   },
   "file_extension": ".py",
   "mimetype": "text/x-python",
   "name": "python",
   "nbconvert_exporter": "python",
   "pygments_lexer": "ipython3",
   "version": "3.11.5"
  }
 },
 "nbformat": 4,
 "nbformat_minor": 5
}
