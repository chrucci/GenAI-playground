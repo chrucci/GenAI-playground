{
 "cells": [
  {
   "cell_type": "markdown",
   "id": "946d3008-b630-4771-b8b3-7635edeb5f21",
   "metadata": {},
   "source": [
    "# Chains in LangChain\n",
    "\n",
    "## Outline\n",
    "\n",
    "* LLMChain\n",
    "* Sequential Chains\n",
    "  * SimpleSequentialChain\n",
    "  * SequentialChain\n",
    "* Router Chain"
   ]
  },
  {
   "cell_type": "code",
   "execution_count": 1,
   "id": "5da2b4ce-8956-41aa-b32e-e9f1df5ccf2e",
   "metadata": {},
   "outputs": [],
   "source": [
    "import warnings\n",
    "warnings.filterwarnings('ignore')"
   ]
  },
  {
   "cell_type": "code",
   "execution_count": 2,
   "id": "81ad10c0-79a8-4318-9a48-aa5f1bdb7447",
   "metadata": {},
   "outputs": [],
   "source": [
    "import os\n",
    "\n",
    "from dotenv import load_dotenv, find_dotenv\n",
    "_ = load_dotenv(find_dotenv()) # read local .env file"
   ]
  },
  {
   "cell_type": "markdown",
   "id": "e5cc614c-7573-4fb0-ae3e-7a4e64e9d930",
   "metadata": {},
   "source": [
    "Note: LLM's do not always produce the same results. When executing the code in your notebook, you may get slightly different answers that those in the video."
   ]
  },
  {
   "cell_type": "code",
   "execution_count": 4,
   "id": "681452ea-a906-4965-b938-3e4824a0ba2b",
   "metadata": {},
   "outputs": [],
   "source": [
    "# account for deprecation of LLM model\n",
    "import datetime\n",
    "# Get the current date\n",
    "current_date = datetime.datetime.now().date()\n",
    "\n",
    "# Define the date after which the model should be set to \"gpt-3.5-turbo\"\n",
    "target_date = datetime.date(2024, 6, 12)\n",
    "\n",
    "# Set the model variable based on the current date\n",
    "if current_date > target_date:\n",
    "    llm_model = \"gpt-3.5-turbo\"\n",
    "else:\n",
    "    llm_model = \"gpt-3.5-turbo-0301\""
   ]
  },
  {
   "cell_type": "code",
   "execution_count": 48,
   "id": "4b16300c-5e5a-4509-a0c3-417744ee6f08",
   "metadata": {},
   "outputs": [],
   "source": [
    "import pandas as pd\n",
    "df = pd.read_csv('Data.csv')"
   ]
  },
  {
   "cell_type": "code",
   "execution_count": 50,
   "id": "13fa46e4-625d-4314-a13c-8bc6e7134de1",
   "metadata": {},
   "outputs": [
    {
     "data": {
      "text/plain": [
       "\"Je trouve le goût médiocre. La mousse ne tient pas, c'est bizarre. J'achète les mêmes dans le commerce et le goût est bien meilleur...\\\\nVieux lot ou contrefaçon !?\""
      ]
     },
     "execution_count": 50,
     "metadata": {},
     "output_type": "execute_result"
    }
   ],
   "source": [
    "df[\"Review\"][5]"
   ]
  },
  {
   "cell_type": "markdown",
   "id": "ab3d7583-4fd2-4175-b14b-54c71771f749",
   "metadata": {},
   "source": [
    "## LLMChain"
   ]
  },
  {
   "cell_type": "code",
   "execution_count": 8,
   "id": "c00df54a-3c00-4303-a2da-ccfe69e744ba",
   "metadata": {},
   "outputs": [],
   "source": [
    "from langchain.chat_models import ChatOpenAI\n",
    "from langchain.prompts import ChatPromptTemplate\n",
    "from langchain.chains import LLMChain"
   ]
  },
  {
   "cell_type": "code",
   "execution_count": 9,
   "id": "57d418b3-1a50-43ec-a468-85d30a6ce219",
   "metadata": {},
   "outputs": [],
   "source": [
    "llm = ChatOpenAI(temperature=0.9, model=llm_model)"
   ]
  },
  {
   "cell_type": "code",
   "execution_count": 15,
   "id": "3eff63cf-e5b5-48f6-b204-a6924f2ed7f1",
   "metadata": {},
   "outputs": [],
   "source": [
    "prompt = ChatPromptTemplate.from_template(\n",
    "    \"What is the best name to describe \\\n",
    "    a company that makes {product}?\"\n",
    ")"
   ]
  },
  {
   "cell_type": "code",
   "execution_count": 16,
   "id": "3ec977ed-c0d6-46f5-a98d-2638702c809e",
   "metadata": {},
   "outputs": [],
   "source": [
    "chain = LLMChain(llm=llm, prompt=prompt)"
   ]
  },
  {
   "cell_type": "code",
   "execution_count": 20,
   "id": "dc2cf366-c1bc-4d02-bd62-bd4090c4ba8d",
   "metadata": {},
   "outputs": [
    {
     "data": {
      "text/plain": [
       "'Royal Linens.'"
      ]
     },
     "execution_count": 20,
     "metadata": {},
     "output_type": "execute_result"
    }
   ],
   "source": [
    "product = \"Queen Size Sheet Set\"\n",
    "chain.run(product)"
   ]
  },
  {
   "cell_type": "markdown",
   "id": "891efe24-3a6e-4755-9fdc-4fccf347c61b",
   "metadata": {},
   "source": [
    "## SimpleSequentialChain"
   ]
  },
  {
   "cell_type": "code",
   "execution_count": 21,
   "id": "a98bce49-ecdb-4e68-be63-0ccb7bf55169",
   "metadata": {},
   "outputs": [],
   "source": [
    "from langchain.chains import SimpleSequentialChain"
   ]
  },
  {
   "cell_type": "code",
   "execution_count": null,
   "id": "4541a985-30ef-4af6-a237-86d3fac1ce19",
   "metadata": {},
   "outputs": [],
   "source": [
    "llm = ChatOpenAI(temperature=0.9, model=llm_model)\n",
    "\n",
    "#prompt_template 1\n",
    "prompt_1 = ChatPromptTemplate.from_template(\n",
    "    \"What is the best name to describe \\\n",
    "    a company that makes {product}?\"\n",
    ")\n",
    "\n",
    "#Chain 1\n",
    "chain_one = LLMChain(llm=llm, prompt=prompt_1)"
   ]
  },
  {
   "cell_type": "code",
   "execution_count": 31,
   "id": "97c8f106-2a32-495d-9c61-d76c85de8ccd",
   "metadata": {},
   "outputs": [],
   "source": [
    "# Second Prompt\n",
    "prompt_2 = ChatPromptTemplate.from_template(\n",
    "    \"Write a 20 words description of the following \\\n",
    "    company: {company_name}\"\n",
    ")\n",
    "\n",
    "#Chain 2\n",
    "chain_two = LLMChain(llm=llm, prompt=prompt_2)"
   ]
  },
  {
   "cell_type": "code",
   "execution_count": 32,
   "id": "27dbc4db-4655-412d-964a-e0cb71685163",
   "metadata": {},
   "outputs": [],
   "source": [
    "overall_simple_chain = SimpleSequentialChain(chains=[chain_one, chain_two], verbose=True)"
   ]
  },
  {
   "cell_type": "code",
   "execution_count": 33,
   "id": "9d2161ec-a9a7-463a-867c-d1b9fe2f2cc5",
   "metadata": {},
   "outputs": [
    {
     "name": "stdout",
     "output_type": "stream",
     "text": [
      "\n",
      "\n",
      "\u001b[1m> Entering new SimpleSequentialChain chain...\u001b[0m\n",
      "\u001b[36;1m\u001b[1;3mRoyal Bedding Co.\u001b[0m\n",
      "\u001b[33;1m\u001b[1;3mRoyal Bedding Co. is a high-end bedding company that provides luxurious and comfortable products to customers seeking quality sleep solutions.\u001b[0m\n",
      "\n",
      "\u001b[1m> Finished chain.\u001b[0m\n"
     ]
    },
    {
     "data": {
      "text/plain": [
       "'Royal Bedding Co. is a high-end bedding company that provides luxurious and comfortable products to customers seeking quality sleep solutions.'"
      ]
     },
     "execution_count": 33,
     "metadata": {},
     "output_type": "execute_result"
    }
   ],
   "source": [
    "overall_simple_chain.run(product)"
   ]
  },
  {
   "cell_type": "markdown",
   "id": "4626d0a3-14c0-49cc-a690-32cb8db5cde1",
   "metadata": {},
   "source": [
    "## SequentialChain"
   ]
  },
  {
   "cell_type": "code",
   "execution_count": 34,
   "id": "26a0a9bc-348d-426e-8256-f32dde6cdc89",
   "metadata": {},
   "outputs": [],
   "source": [
    "from langchain.chains import SequentialChain"
   ]
  },
  {
   "cell_type": "code",
   "execution_count": 53,
   "id": "50bee56c-1b32-4af7-9091-574f79df89fe",
   "metadata": {},
   "outputs": [],
   "source": [
    "llm = ChatOpenAI(temperature=0.9, model=llm_model)\n",
    "\n",
    "# prompt template 1: translate to english\n",
    "first_prompt = ChatPromptTemplate.from_template(\n",
    "    \"Translate the following review to english: \\\n",
    "    \\n\\n {Review}.\"\n",
    ")\n",
    "\n",
    "# chain 1: input= Review and output= English_Review\n",
    "chain_one = LLMChain(llm=llm, prompt=first_prompt, output_key=\"English_Review\")"
   ]
  },
  {
   "cell_type": "code",
   "execution_count": 54,
   "id": "353d50b6-6515-4b07-8a12-d348dff26ac0",
   "metadata": {},
   "outputs": [],
   "source": [
    "second_prompt=ChatPromptTemplate.from_template(\n",
    "    \"Can you summarize the following review in 1 sentence:\"\n",
    "    \"\\n\\n{English_Review}\"\n",
    ")\n",
    "\n",
    "# chain 2: input=English_Review and output= summary\n",
    "chain_two = LLMChain(llm=llm, prompt=second_prompt, output_key=\"Summary\")"
   ]
  },
  {
   "cell_type": "code",
   "execution_count": 55,
   "id": "c3101ada-542e-4424-a6f5-a46604799378",
   "metadata": {},
   "outputs": [],
   "source": [
    "# prompt template 3: identify original language\n",
    "third_prompt = ChatPromptTemplate.from_template(\n",
    "    \"What language is the following review:\\n\\n{Review}\"\n",
    ")\n",
    "# chain 3: input= Review and output= language\n",
    "chain_three = LLMChain(llm=llm, prompt=third_prompt,\n",
    "                       output_key=\"Language\"\n",
    "                      )\n"
   ]
  },
  {
   "cell_type": "code",
   "execution_count": 56,
   "id": "b3ddcf40-b212-488c-a2e7-7ed32e3b9cdc",
   "metadata": {},
   "outputs": [],
   "source": [
    "\n",
    "# prompt template 4: follow up message\n",
    "fourth_prompt = ChatPromptTemplate.from_template(\n",
    "    \"Write a follow up response to the following \"\n",
    "    \"summary in the specified language:\"\n",
    "    \"\\n\\nSummary: {Summary}\\n\\nLanguage: {Language}\"\n",
    ")\n",
    "# chain 4: input= summary, language and output= followup_message\n",
    "chain_four = LLMChain(llm=llm, prompt=fourth_prompt,\n",
    "                      output_key=\"Followup_message\"\n",
    "                     )\n"
   ]
  },
  {
   "cell_type": "code",
   "execution_count": 57,
   "id": "0414cfb5-9aab-49fc-b5d4-3b1fe685d165",
   "metadata": {},
   "outputs": [],
   "source": [
    "overall_chain = SequentialChain(\n",
    "    chains = [chain_one, chain_two, chain_three, chain_four],\n",
    "    input_variables = [\"Review\"],\n",
    "    output_variables = [\"English_Review\", \"Summary\", \"Language\", \"Followup_message\"],\n",
    "    verbose=True\n",
    ")"
   ]
  },
  {
   "cell_type": "code",
   "execution_count": 60,
   "id": "0f5b532f-4863-489d-9c14-283e9acfc10a",
   "metadata": {},
   "outputs": [
    {
     "name": "stdout",
     "output_type": "stream",
     "text": [
      "\n",
      "\n",
      "\u001b[1m> Entering new SequentialChain chain...\u001b[0m\n",
      "\n",
      "\u001b[1m> Finished chain.\u001b[0m\n"
     ]
    },
    {
     "data": {
      "text/plain": [
       "{'Review': 'I ordered a king size set. My only criticism would be that I wish seller would offer the king size set with 4 pillowcases. I separately ordered a two pack of pillowcases so I could have a total of four. When I saw the two packages, it looked like the color did not exactly match. Customer service was excellent about sending me two more pillowcases so I would have four that matched. Excellent! For the cost of these sheets, I am satisfied with the characteristics and coolness of the sheets.',\n",
       " 'English_Review': \"I purchased a king size set and my only complaint is that I wish the seller offered the set with four pillowcases. I ended up ordering an additional two pack of pillowcases to have a total of four, but the color didn't completely match. However, the customer service was fantastic and they sent me two more pillowcases that matched perfectly. Overall, I'm satisfied with the quality and coolness of the sheets considering the price.\",\n",
       " 'Summary': 'The reviewer bought a king size set of sheets and wished it came with four pillowcases, but customer service was great in helping them get matching pillowcases and they are satisfied with the quality and price.',\n",
       " 'Language': 'English',\n",
       " 'Followup_message': \"Thank you for sharing your experience with us. It's great to hear that the customer service team was able to assist you in finding matching pillowcases for your king size sheet set. We're also pleased to hear that you're satisfied with the quality and price of the sheets. We appreciate your feedback and hope to continue providing you with excellent products and service in the future.\"}"
      ]
     },
     "execution_count": 60,
     "metadata": {},
     "output_type": "execute_result"
    }
   ],
   "source": [
    "review = df.Review[0]\n",
    "overall_chain(review)"
   ]
  },
  {
   "cell_type": "markdown",
   "id": "8c1b2b06-a3e1-454c-a9cd-2effc46d0d95",
   "metadata": {},
   "source": [
    "## Router Chain"
   ]
  },
  {
   "cell_type": "code",
   "execution_count": 96,
   "id": "1ae8adda-3347-445e-be38-9f41a7d46967",
   "metadata": {},
   "outputs": [],
   "source": [
    "physics_template = \"\"\"You are a very smart physics professor. \\\n",
    "You are great at answering questions about physics in a concise\\\n",
    "and easy to understand manner. \\\n",
    "When you don't know the answer to a question you admit\\\n",
    "that you don't know.\n",
    "\n",
    "Here is a question:\n",
    "{input}\"\"\"\n",
    "\n",
    "\n",
    "math_template = \"\"\"You are a very good mathematician. \\\n",
    "You are great at answering math questions. \\\n",
    "You are so good because you are able to break down \\\n",
    "hard problems into their component parts, \n",
    "answer the component parts, and then put them together\\\n",
    "to answer the broader question.\n",
    "\n",
    "Here is a question:\n",
    "{input}\"\"\"\n",
    "\n",
    "history_template = \"\"\"You are a very good historian. \\\n",
    "You have an excellent knowledge of and understanding of people,\\\n",
    "events and contexts from a range of historical periods. \\\n",
    "You have the ability to think, reflect, debate, discuss and \\\n",
    "evaluate the past. You have a respect for historical evidence\\\n",
    "and the ability to make use of it to support your explanations \\\n",
    "and judgements.\n",
    "\n",
    "Here is a question:\n",
    "{input}\"\"\"\n",
    "\n",
    "\n",
    "computerscience_template = \"\"\" You are a successful computer scientist.\\\n",
    "You have a passion for creativity, collaboration,\\\n",
    "forward-thinking, confidence, strong problem-solving capabilities,\\\n",
    "understanding of theories and algorithms, and excellent communication \\\n",
    "skills. You are great at answering coding questions. \\\n",
    "You are so good because you know how to solve a problem by \\\n",
    "describing the solution in imperative steps \\\n",
    "that a machine can easily interpret and you know how to \\\n",
    "choose a solution that has a good balance between \\\n",
    "time complexity and space complexity. \n",
    "\n",
    "Here is a question:\n",
    "{input}\"\"\"\n",
    "\n",
    "english_template = \"\"\"You are an excellent High School English teacher.\n",
    "You enjoy helping your students learn the ins and outs of English grammar.\n",
    "You love to identify part of speech and grammatical rules, explaining in simple \n",
    "language what the relavant terms mean and giving at least 3 examples of proper use.\n",
    "When you provide the examples to identify the specific words from the example that \n",
    "align to area of grammar that you are referring to.  You also pride yourself in your accuracy.\n",
    "If you don't know the answer to something you would proudly say so.  You would never risk \n",
    "giving and incorrect or misleading answer.\n",
    "\n",
    "Here is a question:\n",
    "{input}\"\"\""
   ]
  },
  {
   "cell_type": "code",
   "execution_count": 97,
   "id": "f98a9791-5501-4b82-bca7-7064eafe6064",
   "metadata": {},
   "outputs": [],
   "source": [
    "prompt_infos = [\n",
    "    {\n",
    "        \"name\": \"physics\", \n",
    "        \"description\": \"Good for answering questions about physics\", \n",
    "        \"prompt_template\": physics_template\n",
    "    },\n",
    "    {\n",
    "        \"name\": \"math\", \n",
    "        \"description\": \"Good for answering math questions\", \n",
    "        \"prompt_template\": math_template\n",
    "    },\n",
    "    {\n",
    "        \"name\": \"History\", \n",
    "        \"description\": \"Good for answering history questions\", \n",
    "        \"prompt_template\": history_template\n",
    "    },\n",
    "    {\n",
    "        \"name\": \"computer science\", \n",
    "        \"description\": \"Good for answering computer science questions\", \n",
    "        \"prompt_template\": computerscience_template\n",
    "    },\n",
    "    {\n",
    "        \"name\": \"english grammar\", \n",
    "        \"description\": \"Good for answering english grammar questions\", \n",
    "        \"prompt_template\": english_template\n",
    "    }\n",
    "]"
   ]
  },
  {
   "cell_type": "code",
   "execution_count": 98,
   "id": "9b994b38-a3dd-4584-acbb-ef98c266f3e7",
   "metadata": {},
   "outputs": [],
   "source": [
    "from langchain.chains.router import MultiPromptChain\n",
    "from langchain.chains.router.llm_router import LLMRouterChain, RouterOutputParser\n",
    "from langchain.prompts import PromptTemplate"
   ]
  },
  {
   "cell_type": "code",
   "execution_count": 99,
   "id": "95273c54-ad84-4d67-be4a-c5b1122a7510",
   "metadata": {},
   "outputs": [],
   "source": [
    "llm = ChatOpenAI(temperature=0, model=llm_model)"
   ]
  },
  {
   "cell_type": "code",
   "execution_count": 100,
   "id": "69d8dbe7-a01c-47f3-accf-78545233ab3d",
   "metadata": {},
   "outputs": [],
   "source": [
    "destination_chains = {}"
   ]
  },
  {
   "cell_type": "code",
   "execution_count": 101,
   "id": "797c50c9-bea1-47cc-9faf-252fd213e4f7",
   "metadata": {},
   "outputs": [],
   "source": [
    "for p_info in prompt_infos:\n",
    "    name = p_info[\"name\"]\n",
    "    prompt_template = p_info[\"prompt_template\"]\n",
    "    prompt = ChatPromptTemplate.from_template(template=prompt_template)\n",
    "    chain = LLMChain(llm=llm, prompt=prompt)\n",
    "    destination_chains[name] = chain\n",
    "\n",
    "destinations = [f\"{p['name']}: {p['description']}\" for p in prompt_infos]\n",
    "destinations_str = \"\\n\".join(destinations)"
   ]
  },
  {
   "cell_type": "code",
   "execution_count": 102,
   "id": "1bb4e9b8-405a-4b48-9845-cd0596288b78",
   "metadata": {},
   "outputs": [],
   "source": [
    "default_prompt = ChatPromptTemplate.from_template(\"{input}\")\n",
    "default_chain = LLMChain(llm=llm, prompt=default_prompt)"
   ]
  },
  {
   "cell_type": "code",
   "execution_count": 103,
   "id": "a23e9bfc-28f1-481b-93b5-b62b266212a3",
   "metadata": {},
   "outputs": [],
   "source": [
    "MULTI_PROMPT_ROUTER_TEMPLATE = \"\"\"Given a raw text input to a \\\n",
    "language model select the model prompt best suited for the input. \\\n",
    "You will be given the names of the available prompts and a \\\n",
    "description of what the prompt is best suited for. \\\n",
    "You may also revise the original input if you think that revising\\\n",
    "it will ultimately lead to a better response from the language model.\n",
    "\n",
    "<< FORMATTING >>\n",
    "Return a markdown code snippet with a JSON object formatted to look like:\n",
    "```json\n",
    "{{{{\n",
    "    \"destination\": string \\ name of the prompt to use or \"DEFAULT\"\n",
    "    \"next_inputs\": string \\ a potentially modified version of the original input\n",
    "}}}}\n",
    "```\n",
    "\n",
    "REMEMBER: \"destination\" MUST be one of the candidate prompt \\\n",
    "names specified below OR it can be \"DEFAULT\" if the input is not\\\n",
    "well suited for any of the candidate prompts.\n",
    "REMEMBER: \"next_inputs\" can just be the original input \\\n",
    "if you don't think any modifications are needed.\n",
    "\n",
    "<< CANDIDATE PROMPTS >>\n",
    "{destinations}\n",
    "\n",
    "<< INPUT >>\n",
    "{{input}}\n",
    "\n",
    "<< OUTPUT (remember to include the ```json)>>\"\"\""
   ]
  },
  {
   "cell_type": "code",
   "execution_count": 104,
   "id": "bfe91c78-b9f5-4edc-b273-6f328b3faaed",
   "metadata": {},
   "outputs": [],
   "source": [
    "router_template = MULTI_PROMPT_ROUTER_TEMPLATE.format(\n",
    "    destinations=destinations_str\n",
    ")\n",
    "\n",
    "router_prompt = PromptTemplate(\n",
    "    template=router_template,\n",
    "    input_variables=[\"input\"],\n",
    "    output_parser=RouterOutputParser(),\n",
    ")\n",
    "\n",
    "router_chain = LLMRouterChain.from_llm(llm, router_prompt)"
   ]
  },
  {
   "cell_type": "code",
   "execution_count": 105,
   "id": "53c0a6d4-ba60-4a98-af45-a6172c89365d",
   "metadata": {},
   "outputs": [],
   "source": [
    "chain = MultiPromptChain(\n",
    "            router_chain=router_chain,\n",
    "            destination_chains=destination_chains,\n",
    "            default_chain=default_chain,\n",
    "            verbose=True\n",
    ")"
   ]
  },
  {
   "cell_type": "code",
   "execution_count": 120,
   "id": "a8d68a06-3514-4047-a654-153bb43f3ce5",
   "metadata": {},
   "outputs": [
    {
     "name": "stdout",
     "output_type": "stream",
     "text": [
      "\n",
      "\n",
      "\u001b[1m> Entering new MultiPromptChain chain...\u001b[0m\n",
      "computer science: {'input': 'what are some examples of list comprehension in Python?'}\n",
      "\u001b[1m> Finished chain.\u001b[0m\n"
     ]
    }
   ],
   "source": [
    "input = \"\"\"what are some exapmles of list comprension in Python?\n",
    "\"\"\"\n",
    "output = chain.run(input)"
   ]
  },
  {
   "cell_type": "code",
   "execution_count": 121,
   "id": "4542e546-5b50-40d4-bf8d-933500602d3c",
   "metadata": {},
   "outputs": [
    {
     "name": "stdout",
     "output_type": "stream",
     "text": [
      "As an AI language model, I can provide you with some examples of list comprehension in Python:\n",
      "\n",
      "1. Creating a list of even numbers from 0 to 10:\n",
      "\n",
      "even_numbers = [x for x in range(11) if x % 2 == 0]\n",
      "\n",
      "2. Creating a list of squares of numbers from 1 to 10:\n",
      "\n",
      "squares = [x**2 for x in range(1, 11)]\n",
      "\n",
      "3. Creating a list of uppercase letters from a string:\n",
      "\n",
      "string = \"Hello World\"\n",
      "uppercase_letters = [x for x in string if x.isupper()]\n",
      "\n",
      "4. Creating a list of tuples from two lists:\n",
      "\n",
      "list1 = [1, 2, 3]\n",
      "list2 = ['a', 'b', 'c']\n",
      "tuples = [(x, y) for x in list1 for y in list2]\n",
      "\n",
      "These are just a few examples of list comprehension in Python. List comprehension is a powerful tool that allows you to create lists in a concise and readable way.\n"
     ]
    }
   ],
   "source": [
    "print(output)"
   ]
  },
  {
   "cell_type": "code",
   "execution_count": 109,
   "id": "42d38c02-eb57-4788-9fd7-f6c502b7fa12",
   "metadata": {},
   "outputs": [
    {
     "name": "stdout",
     "output_type": "stream",
     "text": [
      "physics: Good for answering questions about physics\n",
      "math: Good for answering math questions\n",
      "History: Good for answering history questions\n",
      "computer science: Good for answering computer science questions\n",
      "english grammar: Good for answering english grammar questions\n"
     ]
    }
   ],
   "source": [
    "print(destinations_str)"
   ]
  },
  {
   "cell_type": "code",
   "execution_count": null,
   "id": "22bfc71c-ad98-47c6-861b-db2d314db843",
   "metadata": {},
   "outputs": [],
   "source": []
  }
 ],
 "metadata": {
  "kernelspec": {
   "display_name": "Python 3 (ipykernel)",
   "language": "python",
   "name": "python3"
  },
  "language_info": {
   "codemirror_mode": {
    "name": "ipython",
    "version": 3
   },
   "file_extension": ".py",
   "mimetype": "text/x-python",
   "name": "python",
   "nbconvert_exporter": "python",
   "pygments_lexer": "ipython3",
   "version": "3.11.5"
  }
 },
 "nbformat": 4,
 "nbformat_minor": 5
}
