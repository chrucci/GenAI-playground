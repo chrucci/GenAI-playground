{
 "cells": [
  {
   "cell_type": "code",
   "execution_count": 1,
   "id": "b710c7da-74e0-4534-97e6-d42f25828f40",
   "metadata": {},
   "outputs": [],
   "source": [
    "import os\n",
    "import openai\n",
    "import tiktoken\n",
    "\n",
    "openai.api_key  = os.environ['OPENAI_API_KEY']"
   ]
  },
  {
   "cell_type": "code",
   "execution_count": 2,
   "id": "7dd72937-e8cc-44ed-9e6d-073d02d3c3ed",
   "metadata": {},
   "outputs": [],
   "source": [
    "def get_completion(prompt, model=\"gpt-4\", temperature=0):\n",
    "    messages = [{\"role\": \"user\", \"content\": prompt}]\n",
    "    response = openai.ChatCompletion.create(\n",
    "        model=model,\n",
    "        messages=messages,\n",
    "        temperature=temperature, # this is the degree of randomness of the model's output\n",
    "    )\n",
    "    return response.choices[0].message[\"content\"]"
   ]
  },
  {
   "cell_type": "code",
   "execution_count": 3,
   "id": "e9da1cec-4745-4a78-a165-b9d33a3e732b",
   "metadata": {},
   "outputs": [],
   "source": [
    "user_messages = [\n",
    "  \"La performance du système est plus lente que d'habitude.\",  # System performance is slower than normal         \n",
    "  \"Mi monitor tiene píxeles que no se iluminan.\",              # My monitor has pixels that are not lighting\n",
    "  \"Il mio mouse non funziona\",                                 # My mouse is not working\n",
    "  \"Mój klawisz Ctrl jest zepsuty\",                             # My keyboard has a broken control key\n",
    "  \"我的屏幕在闪烁\"                                               # My screen is flashing\n",
    "] "
   ]
  },
  {
   "cell_type": "code",
   "execution_count": 4,
   "id": "3873049a-a1c3-42e8-918d-bc11dff87a7f",
   "metadata": {},
   "outputs": [
    {
     "data": {
      "text/plain": [
       "'The language is Chinese.'"
      ]
     },
     "execution_count": 4,
     "metadata": {},
     "output_type": "execute_result"
    }
   ],
   "source": [
    "get_completion(f\"Tell me what language this is: ```{user_messages[4]}```\")"
   ]
  },
  {
   "cell_type": "code",
   "execution_count": null,
   "id": "2c6e69f0-ae99-4769-b793-a5ce882fe18d",
   "metadata": {},
   "outputs": [],
   "source": [
    "for issue in user_messages:\n",
    "    prompt = f\"Tell me in one word what language this is: ```{issue}```\"\n",
    "    lang = get_completion(prompt)\n",
    "    print(f\"Original message ({lang}): {issue}\\n\")\n",
    "\n",
    "    prompt = f\"\"\"\n",
    "    Translate the following  text to English \\\n",
    "    and Korean and please label which response is the English translation and which is the Korean one: ```{issue}\\n```\n",
    "    \"\"\"\n",
    "    response = get_completion(prompt)\n",
    "    print(response, \"\\n\\n\")"
   ]
  },
  {
   "cell_type": "code",
   "execution_count": 15,
   "id": "f4246fec-e3ba-4977-9a79-1296e89447cb",
   "metadata": {},
   "outputs": [
    {
     "name": "stdout",
     "output_type": "stream",
     "text": [
      "I purchased this for my daughter's birthday because she constantly borrows mine from my room. Yes, adults also enjoy pandas. She carries it everywhere with her, and it's incredibly soft and adorable. However, one of the ears is slightly lower than the other, and I don't believe it was designed to be asymmetrical. It's somewhat small for the price I paid. I suspect there might be larger options available for the same cost. It arrived a day earlier than expected, allowing me to enjoy it myself before giving it to my daughter.\n"
     ]
    }
   ],
   "source": [
    "text = f\"\"\"\n",
    "Got this for my daughter for her birthday cuz she keeps taking \\\n",
    "mine from my room.  Yes, adults also like pandas too.  She takes \\\n",
    "it everywhere with her, and it's super soft and cute.  One of the \\\n",
    "ears is a bit lower than the other, and I don't think that was \\\n",
    "designed to be asymmetrical. It's a bit small for what I paid for it \\\n",
    "though. I think there might be other options that are bigger for \\\n",
    "the same price.  It arrived a day earlier than expected, so I got \\\n",
    "to play with it myself before I gave it to my daughter.\n",
    "\"\"\"\n",
    "prompt = f\"proofread and correct this review: ```{text}```\"\n",
    "response = get_completion(prompt)\n",
    "print(response)"
   ]
  },
  {
   "cell_type": "code",
   "execution_count": 21,
   "id": "20084261-6081-438f-b051-a8fce30ee30a",
   "metadata": {},
   "outputs": [
    {
     "name": "stdout",
     "output_type": "stream",
     "text": [
      "\n",
      "Got this for my daughter for her birthday cuz she keeps taking mine from my room.  Yes, adults also like pandas too.  She takes it everywhere with her, and it's super soft and cute.  One of the ears is a bit lower than the other, and I don't think that was designed to be asymmetrical. It's a bit small for what I paid for it though. I think there might be other options that are bigger for the same price.  It arrived a day earlier than expected, so I got to play with it myself before I gave it to my daughter.\n",
      "\n"
     ]
    }
   ],
   "source": [
    "print(text)"
   ]
  },
  {
   "cell_type": "code",
   "execution_count": 23,
   "id": "647938d6-42c8-4253-9dfb-1668f401ffcf",
   "metadata": {},
   "outputs": [
    {
     "data": {
      "text/markdown": [
       "<span style='color:red;font-weight:700;text-decoration:line-through;'>Got </span><span style='color:green;font-weight:700;'>```markdown </span>\n",
       "\n",
       "<span style='color:green;font-weight:700;'>I purchased </span>this <span style='color:green;font-weight:700;'>delightful panda-themed item as a birthday gift </span>for my <span style='color:green;font-weight:700;'>daughter, primarily because she had developed a habit of borrowing mine. It is worth noting that the appeal of pandas is not limited to children; adults can also find them endearing. </span>\n",
       "\n",
       "<span style='color:green;font-weight:700;'>My </span>daughter <span style='color:red;font-weight:700;text-decoration:line-through;'>for </span><span style='color:green;font-weight:700;'>has grown incredibly fond of this gift, carrying it with </span>her <span style='color:red;font-weight:700;text-decoration:line-through;'>birthday cuz </span><span style='color:green;font-weight:700;'>wherever </span>she <span style='color:red;font-weight:700;text-decoration:line-through;'>keeps taking mine from my room.  Yes, adults also like pandas too.  She takes it everywhere with her, and it's super </span><span style='color:green;font-weight:700;'>goes. The plush toy is exceptionally </span>soft and <span style='color:red;font-weight:700;text-decoration:line-through;'>cute.  One </span><span style='color:green;font-weight:700;'>charming, making it an instant favorite. However, there is a minor design flaw: one </span>of the ears is <span style='color:red;font-weight:700;text-decoration:line-through;'>a bit </span><span style='color:green;font-weight:700;'>positioned slightly </span>lower than the other, <span style='color:red;font-weight:700;text-decoration:line-through;'>and I don't think </span><span style='color:green;font-weight:700;'>suggesting </span>that <span style='color:green;font-weight:700;'>it </span>was <span style='color:red;font-weight:700;text-decoration:line-through;'>designed </span><span style='color:green;font-weight:700;'>not intended </span>to be asymmetrical. <span style='color:red;font-weight:700;text-decoration:line-through;'>It's </span><span style='color:green;font-weight:700;'></span>\n",
       "\n",
       "<span style='color:green;font-weight:700;'>In terms of size, the panda is somewhat smaller than I anticipated, given the price I paid. I believe there may be larger alternatives available at </span>a <span style='color:red;font-weight:700;text-decoration:line-through;'>bit small for what I paid for it though. I think there might be other options that are bigger for </span><span style='color:green;font-weight:700;'>similar cost. Despite this, </span>the <span style='color:red;font-weight:700;text-decoration:line-through;'>same price.  It arrived </span><span style='color:green;font-weight:700;'>delivery was prompt, arriving </span>a day earlier than <span style='color:red;font-weight:700;text-decoration:line-through;'>expected, so I got </span><span style='color:green;font-weight:700;'>expected. This allowed me </span>to <span style='color:red;font-weight:700;text-decoration:line-through;'>play with it myself </span><span style='color:green;font-weight:700;'>personally experience the toy's charm </span>before <span style='color:red;font-weight:700;text-decoration:line-through;'>I gave </span><span style='color:green;font-weight:700;'>presenting </span>it to my <span style='color:red;font-weight:700;text-decoration:line-through;'>daughter.</span><span style='color:green;font-weight:700;'>daughter. </span>\n",
       "\n",
       "<span style='color:green;font-weight:700;'>```</span>"
      ],
      "text/plain": [
       "<IPython.core.display.Markdown object>"
      ]
     },
     "metadata": {},
     "output_type": "display_data"
    }
   ],
   "source": [
    "from redlines import Redlines\n",
    "\n",
    "diff = Redlines(text,response)\n",
    "display(Markdown(diff.output_markdown))"
   ]
  },
  {
   "cell_type": "code",
   "execution_count": 22,
   "id": "5279168c-55e1-48df-b32e-308573f24a94",
   "metadata": {},
   "outputs": [
    {
     "data": {
      "text/markdown": [
       "```markdown\n",
       "I purchased this delightful panda-themed item as a birthday gift for my daughter, primarily because she had developed a habit of borrowing mine. It is worth noting that the appeal of pandas is not limited to children; adults can also find them endearing. \n",
       "\n",
       "My daughter has grown incredibly fond of this gift, carrying it with her wherever she goes. The plush toy is exceptionally soft and charming, making it an instant favorite. However, there is a minor design flaw: one of the ears is positioned slightly lower than the other, suggesting that it was not intended to be asymmetrical. \n",
       "\n",
       "In terms of size, the panda is somewhat smaller than I anticipated, given the price I paid. I believe there may be larger alternatives available at a similar cost. Despite this, the delivery was prompt, arriving a day earlier than expected. This allowed me to personally experience the toy's charm before presenting it to my daughter. \n",
       "```\n"
      ],
      "text/plain": [
       "<IPython.core.display.Markdown object>"
      ]
     },
     "metadata": {},
     "output_type": "display_data"
    }
   ],
   "source": [
    "prompt = f\"\"\"\n",
    "proofread and correct this review. Make it more compelling. \n",
    "Ensure it follows APA style guide and targets an advanced reader. \n",
    "Output in markdown format.\n",
    "Text: ```{text}```\n",
    "\"\"\"\n",
    "response = get_completion(prompt)\n",
    "display(Markdown(response))"
   ]
  },
  {
   "cell_type": "code",
   "execution_count": null,
   "id": "a405075f-831e-4c05-ade6-5e7a378f31d5",
   "metadata": {},
   "outputs": [],
   "source": []
  }
 ],
 "metadata": {
  "kernelspec": {
   "display_name": "Python 3 (ipykernel)",
   "language": "python",
   "name": "python3"
  },
  "language_info": {
   "codemirror_mode": {
    "name": "ipython",
    "version": 3
   },
   "file_extension": ".py",
   "mimetype": "text/x-python",
   "name": "python",
   "nbconvert_exporter": "python",
   "pygments_lexer": "ipython3",
   "version": "3.11.4"
  }
 },
 "nbformat": 4,
 "nbformat_minor": 5
}
