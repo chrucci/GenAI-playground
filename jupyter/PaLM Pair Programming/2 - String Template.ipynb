{
 "cells": [
  {
   "cell_type": "code",
   "execution_count": 1,
   "id": "8715dc4d-3ebb-47f2-ac1f-7db567227d2b",
   "metadata": {},
   "outputs": [],
   "source": [
    "import os\n",
    "import openai\n",
    "import sys\n",
    "sys.path.append('../..')\n",
    "\n",
    "from dotenv import load_dotenv, find_dotenv\n",
    "_ = load_dotenv(find_dotenv()) # read local .env file"
   ]
  },
  {
   "cell_type": "code",
   "execution_count": 2,
   "id": "c7a14fcc-6fb1-46e9-a50c-c03bdf7dea51",
   "metadata": {},
   "outputs": [],
   "source": [
    "import os\n",
    "import google.generativeai as palm\n",
    "from google.api_core import client_options as client_options_lib\n",
    "\n",
    "palm.configure(\n",
    "    api_key=os.getenv(\"PALM_API_KEY\"),\n",
    "    transport=\"rest\",\n",
    "    client_options=client_options_lib.ClientOptions(\n",
    "        api_endpoint=os.getenv(\"GOOGLE_API_BASE\"),\n",
    "    )\n",
    ")"
   ]
  },
  {
   "cell_type": "code",
   "execution_count": 3,
   "id": "9634ea11-36cf-4866-9ed1-da4cea031028",
   "metadata": {},
   "outputs": [
    {
     "data": {
      "text/plain": [
       "Model(name='models/text-bison-001', base_model_id='', version='001', display_name='Text Bison', description='Model targeted for text generation.', input_token_limit=8196, output_token_limit=1024, supported_generation_methods=['generateText', 'countTextTokens', 'createTunedTextModel'], temperature=0.7, top_p=0.95, top_k=40)"
      ]
     },
     "execution_count": 3,
     "metadata": {},
     "output_type": "execute_result"
    }
   ],
   "source": [
    "models = [m for m in palm.list_models() \n",
    "          if 'generateText' \n",
    "          in m.supported_generation_methods]\n",
    "model_bison = models[0]\n",
    "model_bison"
   ]
  },
  {
   "cell_type": "code",
   "execution_count": 12,
   "id": "90c1c660-37c5-4770-99ea-d53218cb2af2",
   "metadata": {},
   "outputs": [],
   "source": [
    "from google.api_core import retry\n",
    "@retry.Retry()\n",
    "def generate_text(prompt, \n",
    "                  model=model_bison, \n",
    "                  temperature=0.0):\n",
    "    return palm.generate_text(prompt=prompt,\n",
    "                              model=model,\n",
    "                              temperature=temperature)"
   ]
  },
  {
   "cell_type": "markdown",
   "id": "f9f293a6-47ca-471f-bdf9-cd2701238229",
   "metadata": {},
   "source": [
    "#### Prompt template\n",
    "\n",
    "1. priming: getting the LLM ready for the type of task you'll ask it to do.\n",
    "2. question: the specific task.\n",
    "3. decorator: how to provide or format the output."
   ]
  },
  {
   "cell_type": "code",
   "execution_count": 5,
   "id": "38952aad-2d8c-45aa-9c45-13528f6323e7",
   "metadata": {},
   "outputs": [],
   "source": [
    "prompt_template = \"\"\"\n",
    "{priming}\n",
    "\n",
    "{question}\n",
    "\n",
    "{decorator}\n",
    "\n",
    "Your solution:\n",
    "\"\"\""
   ]
  },
  {
   "cell_type": "code",
   "execution_count": 6,
   "id": "1d430614-3244-4c9c-b938-304dd474b11c",
   "metadata": {},
   "outputs": [],
   "source": [
    "priming_text = \"You are an expert at writing clear, concise, Python code.\""
   ]
  },
  {
   "cell_type": "code",
   "execution_count": 7,
   "id": "c1ad1da8-425e-4d08-9091-d23c95dea131",
   "metadata": {},
   "outputs": [],
   "source": [
    "question = \"create a doubly linked list\""
   ]
  },
  {
   "cell_type": "markdown",
   "id": "09694476-7b3b-4c0e-a1ef-0332494159dd",
   "metadata": {},
   "source": [
    "#### Observe how the decorator affects the output\n",
    "- In other non-coding prompt engineering tasks, it's common to use \"chain-of-thought prompting\" by asking the model to work through the task \"step by step\".\n",
    "- For certain tasks like generating code, you may want to experiment with other wording that would make sense if you were asking a developer the same question.\n",
    "\n",
    "In the code cell below, try out option 1 first, then try out option 2."
   ]
  },
  {
   "cell_type": "code",
   "execution_count": 8,
   "id": "58a4a271-999e-47a3-bf7b-1135a64792ea",
   "metadata": {},
   "outputs": [],
   "source": [
    "# option 1\n",
    "# decorator = \"Work through it step by step, and show your work. One step per line.\"\n",
    "\n",
    "# option 2\n",
    "decorator = \"Insert comments for each line of code.\""
   ]
  },
  {
   "cell_type": "code",
   "execution_count": 9,
   "id": "e2dcd6f8-5d2f-4b4c-b577-f331caa65ccc",
   "metadata": {},
   "outputs": [],
   "source": [
    "prompt = prompt_template.format(priming=priming_text,\n",
    "                                question=question,\n",
    "                                decorator=decorator)"
   ]
  },
  {
   "cell_type": "code",
   "execution_count": 10,
   "id": "085f30f6-7333-4250-b991-4850da4f547d",
   "metadata": {},
   "outputs": [
    {
     "name": "stdout",
     "output_type": "stream",
     "text": [
      "\n",
      "You are an expert at writing clear, concise, Python code.\n",
      "\n",
      "create a doubly linked list\n",
      "\n",
      "Insert comments for each line of code.\n",
      "\n",
      "Your solution:\n",
      "\n"
     ]
    }
   ],
   "source": [
    "print(prompt)"
   ]
  },
  {
   "cell_type": "code",
   "execution_count": 13,
   "id": "d54e7188-3a6e-4d08-99f1-fec71334a8a0",
   "metadata": {},
   "outputs": [
    {
     "name": "stdout",
     "output_type": "stream",
     "text": [
      "```python\n",
      "class Node:\n",
      "\n",
      "    \"\"\"Node in a doubly linked list.\"\"\"\n",
      "\n",
      "    def __init__(self, data):\n",
      "        \"\"\"Initialize a node with the given data.\"\"\"\n",
      "        self.data = data\n",
      "        self.next = None\n",
      "        self.prev = None\n",
      "\n",
      "\n",
      "class DoublyLinkedList:\n",
      "\n",
      "    \"\"\"Doubly linked list.\"\"\"\n",
      "\n",
      "    def __init__(self):\n",
      "        \"\"\"Initialize an empty doubly linked list.\"\"\"\n",
      "        self.head = None\n",
      "        self.tail = None\n",
      "        self.size = 0\n",
      "\n",
      "    def __len__(self):\n",
      "        \"\"\"Return the number of nodes in the list.\"\"\"\n",
      "        return self.size\n",
      "\n",
      "    def is_empty(self):\n",
      "        \"\"\"Return True if the list is empty.\"\"\"\n",
      "        return self.size == 0\n",
      "\n",
      "    def add_first(self, data):\n",
      "        \"\"\"Add a new node with the given data to the front of the list.\"\"\"\n",
      "        new_node = Node(data)\n",
      "        if self.is_empty():\n",
      "            self.head = new_node\n",
      "            self.tail = new_node\n",
      "        else:\n",
      "            new_node.next = self.head\n",
      "            self.head.prev = new_node\n",
      "            self.head = new_node\n",
      "        self.size += 1\n",
      "\n",
      "    def add_last(self, data):\n",
      "        \"\"\"Add a new node with the given data to the end of the list.\"\"\"\n",
      "        new_node = Node(data)\n",
      "        if self.is_empty():\n",
      "            self.head = new_node\n",
      "            self.tail = new_node\n",
      "        else:\n",
      "            new_node.prev = self.tail\n",
      "            self.tail.next = new_node\n",
      "            self.tail = new_node\n",
      "        self.size += 1\n",
      "\n",
      "    def remove_first(self):\n",
      "        \"\"\"Remove the first node in the list.\"\"\"\n",
      "        if self.is_empty():\n",
      "            raise ValueError(\"List is empty\")\n",
      "        self.head = self.head.next\n",
      "        if self.head is None:\n",
      "            self.tail = None\n",
      "        else:\n",
      "            self.head.prev = None\n",
      "        self.size -= 1\n",
      "\n",
      "    def remove_last(self):\n",
      "        \"\"\"Remove the last node in the list.\"\"\"\n",
      "        if self.is_empty():\n",
      "            raise ValueError(\"List is empty\")\n",
      "        self.tail = self.tail.prev\n",
      "        if self.tail is None:\n",
      "            self.head = None\n",
      "        else:\n",
      "            self.tail.next = None\n",
      "        self.size -= 1\n",
      "\n",
      "    def __iter__(self):\n",
      "        \"\"\"Iterate over the nodes in the list in order.\"\"\"\n",
      "        node = self.head\n",
      "        while node is not None:\n",
      "            yield node.data\n",
      "            node = node.next\n",
      "\n",
      "    def __str__(self):\n",
      "        \"\"\"Return a string representation of the list.\"\"\"\n",
      "        return \"[\" + \", \".join(str(node.data) for node in self) + \"]\"\n",
      "\n",
      "```\n"
     ]
    }
   ],
   "source": [
    "completion = generate_text(prompt)\n",
    "print(completion.result)"
   ]
  },
  {
   "cell_type": "markdown",
   "id": "4d73107a-903f-4fd1-aab1-fe44aef68be5",
   "metadata": {},
   "source": [
    "#### Try another question"
   ]
  },
  {
   "cell_type": "code",
   "execution_count": 14,
   "id": "d71defc9-aed5-4909-ab31-99a41cdd6449",
   "metadata": {},
   "outputs": [],
   "source": [
    "question = \"\"\"create a very large list of random numbers in python, \n",
    "and then write code to sort that list\"\"\""
   ]
  },
  {
   "cell_type": "code",
   "execution_count": 15,
   "id": "14dfdf7a-3fdc-4727-9a9f-89c4d7b9db7a",
   "metadata": {},
   "outputs": [],
   "source": [
    "prompt = prompt_template.format(priming=priming_text,\n",
    "                                question=question,\n",
    "                                decorator=decorator)"
   ]
  },
  {
   "cell_type": "code",
   "execution_count": 16,
   "id": "8e1b79c7-99de-4a29-8b3e-5bb25c2c3b91",
   "metadata": {},
   "outputs": [
    {
     "name": "stdout",
     "output_type": "stream",
     "text": [
      "\n",
      "You are an expert at writing clear, concise, Python code.\n",
      "\n",
      "create a very large list of random numbers in python, \n",
      "and then write code to sort that list\n",
      "\n",
      "Insert comments for each line of code.\n",
      "\n",
      "Your solution:\n",
      "\n"
     ]
    }
   ],
   "source": [
    "print(prompt)"
   ]
  },
  {
   "cell_type": "code",
   "execution_count": 17,
   "id": "6e8932b3-47ed-4750-8d81-9ad8e5ca5edc",
   "metadata": {},
   "outputs": [
    {
     "name": "stdout",
     "output_type": "stream",
     "text": [
      "```python\n",
      "# Create a list of 100,000 random numbers between 0 and 100\n",
      "random_numbers = [random.randint(0, 100) for _ in range(100000)]\n",
      "\n",
      "# Sort the list of random numbers\n",
      "sorted_random_numbers = sorted(random_numbers)\n",
      "\n",
      "# Print the first 10 elements of the sorted list\n",
      "print(sorted_random_numbers[:10])\n",
      "\n",
      "```\n",
      "\n",
      "**Explanation:**\n",
      "\n",
      "* The first line of code creates a list of 100,000 random numbers between 0 and 100. The `random.randint()` function is used to generate a random integer between two specified values.\n",
      "* The second line of code sorts the list of random numbers using the `sorted()` function. The `sorted()` function takes a list as its argument and returns a new list that is sorted in ascending order.\n",
      "* The third line of code prints the first 10 elements of the sorted list. The `print()` function is used to print the contents of a list to the console.\n",
      "\n",
      "This code is clear, concise, and Pythonic. It uses the standard Python library functions to create a list of random numbers, sort the list, and print the results.\n"
     ]
    }
   ],
   "source": [
    "completion = generate_text(prompt)\n",
    "print(completion.result)"
   ]
  },
  {
   "cell_type": "code",
   "execution_count": null,
   "id": "661cc460-777d-409d-a054-a171b2c11e77",
   "metadata": {},
   "outputs": [],
   "source": []
  }
 ],
 "metadata": {
  "kernelspec": {
   "display_name": "env",
   "language": "python",
   "name": "env"
  },
  "language_info": {
   "codemirror_mode": {
    "name": "ipython",
    "version": 3
   },
   "file_extension": ".py",
   "mimetype": "text/x-python",
   "name": "python",
   "nbconvert_exporter": "python",
   "pygments_lexer": "ipython3",
   "version": "3.9.2"
  }
 },
 "nbformat": 4,
 "nbformat_minor": 5
}
