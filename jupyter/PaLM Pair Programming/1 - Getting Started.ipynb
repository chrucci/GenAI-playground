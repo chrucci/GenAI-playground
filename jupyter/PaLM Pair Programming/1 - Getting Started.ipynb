{
 "cells": [
  {
   "cell_type": "code",
   "execution_count": 8,
   "id": "4d8a2268-871d-46ad-9380-15579f53d341",
   "metadata": {},
   "outputs": [],
   "source": [
    "import os\n",
    "import openai\n",
    "import sys\n",
    "sys.path.append('../..')\n",
    "\n",
    "from dotenv import load_dotenv, find_dotenv\n",
    "_ = load_dotenv(find_dotenv()) # read local .env file"
   ]
  },
  {
   "cell_type": "code",
   "execution_count": 4,
   "id": "3112bbe2-5030-4170-bc63-9b246007f094",
   "metadata": {},
   "outputs": [],
   "source": [
    "# pip install -q google.generativeai"
   ]
  },
  {
   "cell_type": "code",
   "execution_count": 9,
   "id": "a31bbcc8-d22f-4901-9a29-ba4e5602d3cd",
   "metadata": {},
   "outputs": [],
   "source": [
    "import os\n",
    "import google.generativeai as palm\n",
    "from google.api_core import client_options as client_options_lib\n",
    "\n",
    "palm.configure(\n",
    "    api_key=os.getenv(\"PALM_API_KEY\"),\n",
    "    transport=\"rest\",\n",
    "    client_options=client_options_lib.ClientOptions(\n",
    "        api_endpoint=os.getenv(\"GOOGLE_API_BASE\"),\n",
    "    )\n",
    ")"
   ]
  },
  {
   "cell_type": "markdown",
   "id": "78ad7a7c-8eb3-408e-9997-da12f83fafc5",
   "metadata": {},
   "source": [
    "### Explore the available models"
   ]
  },
  {
   "cell_type": "code",
   "execution_count": 10,
   "id": "c2393a6f-a40e-40f1-ae04-566c7bbfc7bd",
   "metadata": {},
   "outputs": [
    {
     "name": "stdout",
     "output_type": "stream",
     "text": [
      "name: models/chat-bison-001\n",
      "description: Chat-optimized generative language model.\n",
      "generation methods:['generateMessage', 'countMessageTokens']\n",
      "\n",
      "name: models/text-bison-001\n",
      "description: Model targeted for text generation.\n",
      "generation methods:['generateText', 'countTextTokens', 'createTunedTextModel']\n",
      "\n",
      "name: models/embedding-gecko-001\n",
      "description: Obtain a distributed representation of a text.\n",
      "generation methods:['embedText']\n",
      "\n"
     ]
    }
   ],
   "source": [
    "for m in palm.list_models():\n",
    "    print(f\"name: {m.name}\")\n",
    "    print(f\"description: {m.description}\")\n",
    "    print(f\"generation methods:{m.supported_generation_methods}\\n\")"
   ]
  },
  {
   "cell_type": "markdown",
   "id": "156bc898-a046-44e3-a82b-24144dffe23f",
   "metadata": {},
   "source": [
    "#### Filter models by their supported generation methods\n",
    "- `generateText` is currently recommended for coding-related prompts.\n",
    "- `generateMessage` is optimized for multi-turn chats (dialogues) with an LLM.`"
   ]
  },
  {
   "cell_type": "code",
   "execution_count": 12,
   "id": "22604f34-f9d9-485e-b1c1-eba81e43f846",
   "metadata": {},
   "outputs": [
    {
     "name": "stdout",
     "output_type": "stream",
     "text": [
      "[Model(name='models/text-bison-001', base_model_id='', version='001', display_name='Text Bison', description='Model targeted for text generation.', input_token_limit=8196, output_token_limit=1024, supported_generation_methods=['generateText', 'countTextTokens', 'createTunedTextModel'], temperature=0.7, top_p=0.95, top_k=40)]\n"
     ]
    }
   ],
   "source": [
    "models = [m for m in palm.list_models() \n",
    "          if 'generateText' \n",
    "          in m.supported_generation_methods]\n",
    "print(models)"
   ]
  },
  {
   "cell_type": "code",
   "execution_count": 13,
   "id": "9501b90e-d0ea-4a20-a740-1c7f9610c3d2",
   "metadata": {},
   "outputs": [
    {
     "data": {
      "text/plain": [
       "Model(name='models/text-bison-001', base_model_id='', version='001', display_name='Text Bison', description='Model targeted for text generation.', input_token_limit=8196, output_token_limit=1024, supported_generation_methods=['generateText', 'countTextTokens', 'createTunedTextModel'], temperature=0.7, top_p=0.95, top_k=40)"
      ]
     },
     "execution_count": 13,
     "metadata": {},
     "output_type": "execute_result"
    }
   ],
   "source": [
    "model_bison = models[0]\n",
    "model_bison"
   ]
  },
  {
   "cell_type": "markdown",
   "id": "5dad1651-32c5-4103-9299-10693a57bf4c",
   "metadata": {},
   "source": [
    "#### helper function to generate text\n",
    "\n",
    "- The `@retry` decorator helps you to retry the API call if it fails.\n",
    "- We set the temperature to 0.0 so that the model returns the same output (completion) if given the same input (the prompt)."
   ]
  },
  {
   "cell_type": "code",
   "execution_count": 14,
   "id": "1f798a2c-7ca9-48a3-a069-031a8433f35a",
   "metadata": {},
   "outputs": [],
   "source": [
    "from google.api_core import retry\n",
    "@retry.Retry()\n",
    "def generate_text(prompt,\n",
    "                  model=model_bison,\n",
    "                  temperature=0.0):\n",
    "    return palm.generate_text(prompt=prompt,\n",
    "                              model=model,\n",
    "                              temperature=temperature)"
   ]
  },
  {
   "cell_type": "markdown",
   "id": "f2b71a9d-be97-482a-b06d-02821c8d7127",
   "metadata": {},
   "source": [
    "#### Ask the LLM how to write some code\n"
   ]
  },
  {
   "cell_type": "code",
   "execution_count": 25,
   "id": "58a31b53-8904-4571-95db-12531aef202c",
   "metadata": {},
   "outputs": [
    {
     "name": "stdout",
     "output_type": "stream",
     "text": [
      "```python\n",
      "import sqlite3\n",
      "\n",
      "class SQLiteDB:\n",
      "\n",
      "    def __init__(self, db_file):\n",
      "        \"\"\"Create a connection to the SQLite database file.\n",
      "\n",
      "        Args:\n",
      "            db_file (str): The path to the SQLite database file.\n",
      "        \"\"\"\n",
      "        self.conn = sqlite3.connect(db_file)\n",
      "        self.cur = self.conn.cursor()\n",
      "\n",
      "    def create_table(self, table_name, columns):\n",
      "        \"\"\"Create a table in the database.\n",
      "\n",
      "        Args:\n",
      "            table_name (str): The name of the table to create.\n",
      "            columns (list): A list of tuples, where each tuple contains the name and type of a column.\n",
      "        \"\"\"\n",
      "        sql = \"\"\"CREATE TABLE {} ({})\"\"\".format(\n",
      "            table_name,\n",
      "            ', '.join('{} {}'.format(col[0], col[1]) for col in columns)\n",
      "        )\n",
      "        self.cur.execute(sql)\n",
      "        self.conn.commit()\n",
      "\n",
      "    def insert_row(self, table_name, values):\n",
      "        \"\"\"Insert a row into a table.\n",
      "\n",
      "        Args:\n",
      "            table_name (str): The name of the table to insert into.\n",
      "            values (list): A list of values to insert into the table.\n",
      "        \"\"\"\n",
      "        sql = \"\"\"INSERT INTO {} VALUES ({})\"\"\".format(\n",
      "            table_name,\n",
      "            ', '.join('?' for value in values)\n",
      "        )\n",
      "        self.cur.execute(sql, values)\n",
      "        self.conn.commit()\n",
      "\n",
      "    def update_row(self, table_name, values, where_clause):\n",
      "        \"\"\"Update a row in a table.\n",
      "\n",
      "        Args:\n",
      "            table_name (str): The name of the table to update.\n",
      "            values (dict): A dictionary of column names and values to update.\n",
      "            where_clause (str): A WHERE clause to filter the rows to update.\n",
      "        \"\"\"\n",
      "        sql = \"\"\"UPDATE {} SET {} WHERE {}\"\"\".format(\n",
      "            table_name,\n",
      "            ', '.join('{}=?'.format(col) for col in values.keys()),\n",
      "            where_clause\n",
      "        )\n",
      "        self.cur.execute(sql, list(values.values()))\n",
      "        self.conn.commit()\n",
      "\n",
      "    def delete_row(self, table_name, where_clause):\n",
      "        \"\"\"Delete a row from a table.\n",
      "\n",
      "        Args:\n",
      "            table_name (str): The name of the table to delete from.\n",
      "            where_clause (str): A WHERE clause to filter the rows to delete.\n",
      "        \"\"\"\n",
      "        sql = \"\"\"DELETE FROM {} WHERE {}\"\"\".format(\n",
      "            table_name,\n",
      "            where_clause\n",
      "        )\n",
      "        self.cur.execute(sql)\n",
      "        self.conn.commit()\n",
      "\n",
      "    def get_rows(self, table_name, where_clause=None):\n",
      "        \"\"\"Get a list of rows from a table.\n",
      "\n",
      "        Args:\n",
      "            table_name (str): The name of the table to get rows from.\n",
      "            where_clause (str): A WHERE clause to filter the rows to get.\n",
      "\n",
      "        Returns:\n",
      "            list: A list of rows, where each row is a dictionary of column names and values.\n",
      "        \"\"\"\n",
      "        sql = \"\"\"SELECT * FROM {}\"\"\".format(table_name)\n",
      "        if where_clause:\n",
      "            sql += ' WHERE {}'.format(where_clause)\n",
      "        self.cur.execute(sql)\n",
      "        return self.cur.fetchall()\n",
      "\n",
      "    def close(self):\n",
      "        \"\"\"Close the connection to the database.\n",
      "        \"\"\"\n",
      "        self.cur.close()\n",
      "        self.conn.close()\n",
      "\n",
      "```\n",
      "\n",
      "**Examples of how to call the functions of the class:**\n",
      "\n",
      "To create a table called `users` with two columns, `name` and `email`:\n",
      "\n",
      "```python\n",
      "db = SQLiteDB('mydatabase.sqlite')\n",
      "db.create_table('users', [('name', 'TEXT'), ('email', 'TEXT')])\n",
      "```\n",
      "\n",
      "To insert a row into the `users` table with the values `'John Doe'` and `'john.doe@example.com'`:\n",
      "\n",
      "```python\n",
      "db.insert_row('users', ['John Doe', 'john.doe@example.com'])\n",
      "```\n",
      "\n",
      "To update the row in the `users` table with the `name` column set to `'Jane Doe'` and the\n"
     ]
    }
   ],
   "source": [
    "prompt = \"Show me how to write a Python class that would connect to a SQLite database, create tables, and do all of the CRUD operations on the data.  Also, I'd like to see examples of how to call the functions of that class.\"\n",
    "completion = generate_text(prompt)\n",
    "print(completion.result)"
   ]
  },
  {
   "cell_type": "markdown",
   "id": "6628d845-0b17-400d-809a-78c43e84ff03",
   "metadata": {},
   "source": [
    "#### Try out the code\n",
    "- Try copy-pasting some of the generated code and running it in the notebook.\n",
    "- Remember to test out the LLM-generated code and debug it make sure it works as intended."
   ]
  },
  {
   "cell_type": "code",
   "execution_count": 23,
   "id": "03575f11-4579-4f03-bb42-ac8a9f3b0ba4",
   "metadata": {},
   "outputs": [
    {
     "name": "stdout",
     "output_type": "stream",
     "text": [
      "apple\n",
      "banana\n",
      "cherry\n"
     ]
    }
   ],
   "source": [
    "# Create a list\n",
    "list1 = [\"apple\", \"banana\", \"cherry\"]\n",
    "\n",
    "# Iterate over the list using a for loop\n",
    "for item in list1:\n",
    "    print(item)"
   ]
  },
  {
   "cell_type": "code",
   "execution_count": null,
   "id": "a6e53956-0969-4d41-9db7-40a03050a018",
   "metadata": {},
   "outputs": [],
   "source": []
  }
 ],
 "metadata": {
  "kernelspec": {
   "display_name": "env",
   "language": "python",
   "name": "env"
  },
  "language_info": {
   "codemirror_mode": {
    "name": "ipython",
    "version": 3
   },
   "file_extension": ".py",
   "mimetype": "text/x-python",
   "name": "python",
   "nbconvert_exporter": "python",
   "pygments_lexer": "ipython3",
   "version": "3.9.2"
  }
 },
 "nbformat": 4,
 "nbformat_minor": 5
}
