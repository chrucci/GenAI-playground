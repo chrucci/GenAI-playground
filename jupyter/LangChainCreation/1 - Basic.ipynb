{
 "cells": [
  {
   "cell_type": "code",
   "execution_count": 89,
   "metadata": {},
   "outputs": [],
   "source": [
    "import os\n",
    "import openai\n",
    "import sys\n",
    "sys.path.append('../..')\n",
    "\n",
    "from dotenv import load_dotenv, find_dotenv\n",
    "_ = load_dotenv(find_dotenv()) # read local .env file\n",
    "\n",
    "openai.api_key  = os.environ['OPENAI_API_KEY']"
   ]
  },
  {
   "cell_type": "code",
   "execution_count": 90,
   "metadata": {},
   "outputs": [],
   "source": [
    "from langchain.chat_models import ChatOpenAI\n",
    "from langchain.chains import LLMChain, SequentialChain\n",
    "\n",
    "llm_model = \"gpt-3.5-turbo\"\n",
    "llm = ChatOpenAI(temperature=0.9, model=llm_model)"
   ]
  },
  {
   "cell_type": "code",
   "execution_count": 97,
   "metadata": {},
   "outputs": [],
   "source": [
    "url_contact = os.environ[\"URL_CONTACT\"]\n",
    "url_newsletter = os.environ[\"URL_NEWSLETTER\"]\n",
    "system_msg = \"You are a world class interior designer that specializes in the Transitional Design style.  You have a knack for explaining concepts related to interior design in a way that is accessible and engaging.  You avoid using the passive voice in any sentence.  Your sentences should be no more than 20 words long.\"\n",
    "outline_human_msg = \"\"\"Please write a blog post outline with 5 sections in addition to the introduction and conclusion in the first person about \"{input}\" \n",
    "\"\"\"\n",
    "write_section_msg=\"\"\"\n",
    "I would like you to craft each section with enough detail for three paragraphs each.\n",
    "I would like each section, including the introduction and the conclusion should be preceded with a \"####\" delimiter.  \n",
    "\"\"\"\n",
    "write_introduction_msg=\"\"\"\n",
    "Include an introduction that indicates that this article is part of my series of interior design blog posts called the \"{series_title}\" series.\n",
    "This should be 3 paragraphs long.\n",
    "\"\"\"\n",
    "write_conclusion_msg=\"\"\"\n",
    "\n",
    "\"\"\"\n",
    "write_call_to_action_msg=\"\"\"\n",
    "write a call to action that will appearat the end of the full blog post to contact me for a free consultation or to sign up for my newsletter. \n",
    "The link to my newsletter is {url_newsletter}\n",
    "The \"Contact Me\" link should have a URL of {url_contact}\n",
    "\"\"\"\n",
    "write_seo_msg=\"\"\"\n",
    "Examine this blog post and make sure that it is SEO friendly. \n",
    "Please list a good seo keyphrase and a meta description at the end. \n",
    "\"\"\"\n"
   ]
  },
  {
   "cell_type": "code",
   "execution_count": 98,
   "metadata": {},
   "outputs": [],
   "source": [
    "from langchain.prompts.chat import (\n",
    "    ChatPromptTemplate,\n",
    "    SystemMessage,\n",
    "    HumanMessagePromptTemplate,\n",
    "    PromptTemplate,\n",
    ")\n",
    "system_message_prompt = SystemMessage(\n",
    "    content=(system_msg)\n",
    ")\n",
    "human_message_prompt = HumanMessagePromptTemplate(\n",
    "        prompt=PromptTemplate(\n",
    "            template=outline_human_msg,\n",
    "            input_variables=[\"input\"],\n",
    "            # input_variables=[\"input\", \"series_title\", \"url_contact\", \"url_newsletter\"],\n",
    "        )\n",
    "    )"
   ]
  },
  {
   "cell_type": "code",
   "execution_count": 99,
   "metadata": {},
   "outputs": [],
   "source": [
    "main_template = ChatPromptTemplate.from_messages([\n",
    "    system_message_prompt,\n",
    "    human_message_prompt\n",
    "])\n",
    "draft_chain = LLMChain(llm=llm, prompt=main_template, output_key=\"first_draft\")"
   ]
  },
  {
   "cell_type": "code",
   "execution_count": 100,
   "metadata": {},
   "outputs": [],
   "source": [
    "input=\"How to place picture frames on a bookshelf for maximum effect.\""
   ]
  },
  {
   "cell_type": "code",
   "execution_count": 101,
   "metadata": {},
   "outputs": [
    {
     "data": {
      "text/plain": [
       "'Introduction:\\n- Briefly explain the importance of picture frames in interior design and the impact they can have on a bookshelf.\\n\\nSection 1: Choosing the Right Frames\\n- Discuss the importance of selecting frames that complement the overall style and color scheme of the room.\\n- Offer tips on mixing different frame sizes and shapes to create visual interest.\\n\\nSection 2: Grouping and Arranging\\n- Explain how to group frames together based on size, shape, or theme.\\n- Provide guidance on arranging frames in an asymmetrical or balanced manner for a visually pleasing look.\\n\\nSection 3: Layering and Stacking\\n- Describe how to layer frames by placing smaller ones in front of larger ones.\\n- Offer tips on stacking frames vertically or horizontally to add depth and dimension to the bookshelf.\\n\\nSection 4: Incorporating Other Decorative Items\\n- Suggest adding decorative items such as small sculptures or vases to enhance the overall display.\\n- Explain how to position these items strategically to complement the picture frames.\\n\\nSection 5: Showcasing Personal Memories\\n- Encourage incorporating personal photographs or sentimental items into the display.\\n- Explain how to intersperse these items with other decorative frames to create a personalized touch.\\n\\nConclusion:\\n- Recap the key points discussed throughout the blog post, emphasizing the importance of creativity and personalization.\\n- Encourage readers to experiment with different arrangements and styles to find what works best for their bookshelf.'"
      ]
     },
     "execution_count": 101,
     "metadata": {},
     "output_type": "execute_result"
    }
   ],
   "source": [
    "draft_chain.run({\"input\": input})"
   ]
  },
  {
   "cell_type": "code",
   "execution_count": 103,
   "metadata": {},
   "outputs": [],
   "source": [
    "outline='Introduction:\\n- Briefly explain the importance of picture frames in interior design and the impact they can have on a bookshelf.\\n\\nSection 1: Choosing the Right Frames\\n- Discuss the importance of selecting frames that complement the overall style and color scheme of the room.\\n- Offer tips on mixing different frame sizes and shapes to create visual interest.\\n\\nSection 2: Grouping and Arranging\\n- Explain how to group frames together based on size, shape, or theme.\\n- Provide guidance on arranging frames in an asymmetrical or balanced manner for a visually pleasing look.\\n\\nSection 3: Layering and Stacking\\n- Describe how to layer frames by placing smaller ones in front of larger ones.\\n- Offer tips on stacking frames vertically or horizontally to add depth and dimension to the bookshelf.\\n\\nSection 4: Incorporating Other Decorative Items\\n- Suggest adding decorative items such as small sculptures or vases to enhance the overall display.\\n- Explain how to position these items strategically to complement the picture frames.\\n\\nSection 5: Showcasing Personal Memories\\n- Encourage incorporating personal photographs or sentimental items into the display.\\n- Explain how to intersperse these items with other decorative frames to create a personalized touch.\\n\\nConclusion:\\n- Recap the key points discussed throughout the blog post, emphasizing the importance of creativity and personalization.\\n- Encourage readers to experiment with different arrangements and styles to find what works best for their bookshelf.'"
   ]
  },
  {
   "cell_type": "code",
   "execution_count": null,
   "metadata": {},
   "outputs": [],
   "source": [
    "style_instructions = \"As always, you should keep your sentences to a maximum of 20 words and never write a sentence in the passive voice.\"\n",
    "section_1_prompt=ChatPromptTemplate.from_template(\n",
    "    \"\"\"Please write 5 paragraphs on the topic of Section 1 in the outline provided below.\n",
    "    \n",
    "    ### OUTLINE\n",
    "    {outline}\n",
    "    \n",
    "    {style_instructions}\"\"\"\n",
    ")\n",
    "\n",
    "ChatPromptTemplate.from_messages([\n",
    "    system_message_prompt,\n",
    "    human_message_prompt\n",
    "])\n",
    "section_1_chain = LLMChain(llm=llm, prompt=section_1_prompt)\n",
    "# section_1_chain = LLMChain(llm=llm, prompt=section_1_prompt, output_key=\"first_draft\")\n",
    "section_1_chain.run({\"outline\": outline, \"style_instructions\": style_instructions})\n",
    "\n",
    "# section_1_chain = LLMChain(llm=llm, prompt=section_1_prompt, output_key=\"expanded_section_1\")"
   ]
  },
  {
   "cell_type": "code",
   "execution_count": 71,
   "metadata": {},
   "outputs": [],
   "source": [
    "section_1_prompt=ChatPromptTemplate.from_template(\n",
    "    \"Could you rewrite Section 1 of this blog post and provide more detail?\"\n",
    "    \"\\n\\n{first_draft}\"\n",
    ")\n",
    "\n",
    "section_1_chain = LLMChain(llm=llm, prompt=section_1_prompt, output_key=\"expanded_section_1\")"
   ]
  },
  {
   "cell_type": "code",
   "execution_count": 72,
   "metadata": {},
   "outputs": [],
   "source": [
    "section_2_prompt=ChatPromptTemplate.from_template(\n",
    "    \"Could you rewrite Section 2 of this blog post and provide more detail?\"\n",
    "    \"\\n\\n{first_draft}\"\n",
    ")\n",
    "\n",
    "section_2_chain = LLMChain(llm=llm, prompt=section_2_prompt, output_key=\"expanded_section_2\")"
   ]
  },
  {
   "cell_type": "code",
   "execution_count": 73,
   "metadata": {},
   "outputs": [],
   "source": [
    "second_draft_prompt=ChatPromptTemplate.from_template(\n",
    "    \"Now, please assemble these re\"\n",
    "    \"\\n\\n FIRST DRAFT: {first_draft}\"\n",
    "    \"\\n\\n REWRITTEN SECTION 1: {expanded_section_1}\"\n",
    ")\n",
    "\n",
    "second_draft_chain = LLMChain(llm=llm, prompt=second_draft_prompt, output_key=\"second_draft\")"
   ]
  },
  {
   "cell_type": "code",
   "execution_count": 79,
   "metadata": {},
   "outputs": [],
   "source": [
    "overall_chain = SequentialChain(\n",
    "    chains = [draft_chain, section_1_chain, section_2_chain],\n",
    "    input_variables = [\"input\", \"series_title\", \"url_contact\", \"url_newsletter\"],\n",
    "    output_variables = [\"first_draft\", \"expanded_section_1\", \"expanded_section_2\"],\n",
    "    verbose=True\n",
    ")"
   ]
  },
  {
   "cell_type": "code",
   "execution_count": 80,
   "metadata": {},
   "outputs": [
    {
     "name": "stdout",
     "output_type": "stream",
     "text": [
      "\n",
      "\n",
      "\u001b[1m> Entering new SequentialChain chain...\u001b[0m\n",
      "\n",
      "\u001b[1m> Finished chain.\u001b[0m\n"
     ]
    }
   ],
   "source": [
    "output = overall_chain({\n",
    "    'input': \"How to place picture frames on a bookshelf for maximum effect.\",\n",
    "    'series_title': \"Do It Yourself\",\n",
    "    'url_newsletter': \"foo\",\n",
    "    'url_contact': \"bar\",\n",
    "    })"
   ]
  },
  {
   "cell_type": "code",
   "execution_count": 87,
   "metadata": {},
   "outputs": [],
   "source": [
    "sec1 = output[\"expanded_section_1\"]\n",
    "sec2 = output[\"expanded_section_2\"]\n",
    "first_draft = output[\"first_draft\"]"
   ]
  },
  {
   "cell_type": "code",
   "execution_count": 88,
   "metadata": {},
   "outputs": [
    {
     "name": "stdout",
     "output_type": "stream",
     "text": [
      "#### Section 2: The Power of Layering\n",
      "\n",
      "Now that you've mastered the importance of alignment, let's explore the power of layering when it comes to placing picture frames on a bookshelf. Bookshelves are not just for holding books, they're an opportunity to showcase your personal taste and style. So why not make the most of it? By incorporating layers, you can add depth and visual interest to your bookshelf display.\n",
      "\n",
      "To begin, select a variety of frames in different sizes, shapes, and colors. This diverse selection will create a dynamic and visually captivating arrangement. Don't shy away from including frames that are unique and eye-catching.\n",
      "\n",
      "When arranging your frames, consider layering them in front of books or other objects on the shelves. By placing a smaller frame in front of a larger one, you can create a sense of depth and dimension. This technique draws the eye in and adds a three-dimensional quality to the display.\n",
      "\n",
      "For the more adventurous decorator, try leaning some frames against the back of the bookshelf instead of hanging them. This unconventional approach adds a relaxed and artistic vibe to your shelves. Just remember to ensure that the frames are securely positioned or leaning against something sturdy to prevent any accidents.\n",
      "\n",
      "By incorporating layers into your bookshelf design, you can transform a simple storage space into a stunning focal point in your home. This technique allows you to curate your own mini art gallery and showcase your favorite memories and artwork. So go ahead, unleash your creativity, and start experimenting with layering your picture frames on your bookshelf display. \n",
      "\n",
      "And if you find yourself feeling overwhelmed or simply want an expert touch, don't hesitate to contact me for a free consultation. Together, we can bring your vision to life and create a bookshelf display that perfectly reflects your style. And don't forget to sign up for my newsletter to receive more design tips and inspiration straight to your inbox. Happy decorating!\n"
     ]
    }
   ],
   "source": [
    "\n",
    "print(sec2)"
   ]
  },
  {
   "cell_type": "code",
   "execution_count": null,
   "metadata": {},
   "outputs": [],
   "source": []
  }
 ],
 "metadata": {
  "kernelspec": {
   "display_name": "ai-dev",
   "language": "python",
   "name": "python3"
  },
  "language_info": {
   "codemirror_mode": {
    "name": "ipython",
    "version": 3
   },
   "file_extension": ".py",
   "mimetype": "text/x-python",
   "name": "python",
   "nbconvert_exporter": "python",
   "pygments_lexer": "ipython3",
   "version": "3.11.5"
  },
  "orig_nbformat": 4
 },
 "nbformat": 4,
 "nbformat_minor": 2
}
