{
 "cells": [
  {
   "cell_type": "code",
   "execution_count": 18,
   "metadata": {},
   "outputs": [],
   "source": [
    "import os\n",
    "import openai\n",
    "import sys\n",
    "sys.path.append('../..')\n",
    "\n",
    "from dotenv import load_dotenv, find_dotenv\n",
    "_ = load_dotenv(find_dotenv()) # read local .env file\n",
    "\n",
    "openai.api_key  = os.environ['OPENAI_API_KEY']"
   ]
  },
  {
   "cell_type": "code",
   "execution_count": 19,
   "metadata": {},
   "outputs": [],
   "source": [
    "from langchain.chat_models import ChatOpenAI\n",
    "from langchain.chains import LLMChain\n",
    "\n",
    "llm_model = \"gpt-3.5-turbo\"\n",
    "llm = ChatOpenAI(temperature=0.9, model=llm_model)"
   ]
  },
  {
   "cell_type": "code",
   "execution_count": 42,
   "metadata": {},
   "outputs": [],
   "source": [
    "url_contact = os.environ[\"URL_CONTACT\"]\n",
    "url_newsletter = os.environ[\"URL_NEWSLETTER\"]\n",
    "system_msg = \"You are a world class interior designer that specializes in the Transitional Design style.  You have a knack for explaining concepts related to interior design in a way that is accessible and engaging.\"\n",
    "human_msg = \"\"\"Please write a blog post with 2 sections in the first person with a bit of humor about \"{input}\" \n",
    "with a call to action at the end to contact me for a free consultation or to sign up for my newsletter. \n",
    "Include an introduction that indicates that this article is part of my series of interior design blog posts called the \"{series_title}\" series.\n",
    "The link to my newsletter is {url_newsletter}\n",
    "The \"Contact Me\" link should have a URL of {url_contact}\n",
    "I would like you to craft each section with enough detail for three paragraphs each.\n",
    "I would like each section, including the introduction and the conclusion should be preceded with a \"####\" delimiter.  \n",
    "Please list a good seo keyphrase and a meta description at the end. \n",
    "Avoid using the passive voice in any sentence.  Sentences should be no more than 20 words long.\"\"\""
   ]
  },
  {
   "cell_type": "code",
   "execution_count": 39,
   "metadata": {},
   "outputs": [],
   "source": [
    "from langchain.prompts.chat import (\n",
    "    ChatPromptTemplate,\n",
    "    SystemMessage,\n",
    "    HumanMessagePromptTemplate,\n",
    "    PromptTemplate,\n",
    ")\n",
    "system_message_prompt = SystemMessage(\n",
    "    content=(system_msg)\n",
    ")\n",
    "human_message_prompt = HumanMessagePromptTemplate(\n",
    "        prompt=PromptTemplate(\n",
    "            template=human_msg,\n",
    "            input_variables=[\"input\", \"series_title\", \"url_contact\", \"url_newsletter\"],\n",
    "        )\n",
    "    )"
   ]
  },
  {
   "cell_type": "code",
   "execution_count": 40,
   "metadata": {},
   "outputs": [],
   "source": [
    "template = ChatPromptTemplate.from_messages([\n",
    "    system_message_prompt,\n",
    "    human_message_prompt\n",
    "])"
   ]
  },
  {
   "cell_type": "code",
   "execution_count": null,
   "metadata": {},
   "outputs": [],
   "source": []
  },
  {
   "cell_type": "code",
   "execution_count": 22,
   "metadata": {},
   "outputs": [],
   "source": [
    "prompt=template.format_messages(\n",
    "    input=\"How to place picture frames on a bookshelf for maximum effect.\",\n",
    "    series_title=\"Do It Yourself\"\n",
    ")"
   ]
  },
  {
   "cell_type": "code",
   "execution_count": 24,
   "metadata": {},
   "outputs": [
    {
     "data": {
      "text/plain": [
       "AIMessage(content='#### Introduction\\n\\nWelcome to the \"{series_title}\" series, where we dive into the world of interior design with a touch of humor and a lot of expertise. In this installment, we\\'ll explore the concept of \"{input}\" and how it can transform your space. If you\\'re looking for a fresh, sophisticated style that blends the best of traditional and contemporary design, then you\\'re in for a treat. So grab a cup of coffee and let\\'s get started!\\n\\n#### Section 1: What is \"{input}\"?\\n\\nYou\\'ve probably heard the term \"{input}\" thrown around, but what exactly does it mean? At its core, \"{input}\" is all about balance. It\\'s the perfect marriage between traditional and contemporary design, creating a harmonious and timeless look. Essentially, \"{input}\" takes the best elements from both styles and combines them to create a fresh and inviting space.\\n\\nIn a \"{input}\" design, you\\'ll find clean lines and simple forms, just like you would in a contemporary space. However, it also incorporates rich textures, warm colors, and classic patterns that are often associated with traditional design. The result is a space that feels comfortable and inviting, yet still has a modern edge.\\n\\n#### Section 2: Achieving \"{input}\" in Your Home\\n\\nNow that you understand what \"{input}\" is all about, how can you bring it into your own home? The key to achieving a successful \"{input}\" design is finding the right balance between traditional and contemporary elements.\\n\\nStart by selecting a neutral color palette as your base. Shades of grey, beige, or cream work well as they provide a timeless backdrop that can be easily updated with accessories and accents. Once you have your color scheme, focus on adding texture and layering different materials. For example, pair smooth leather furniture with a plush, patterned rug or mix sleek metal finishes with rustic wood accents.\\n\\nWhen it comes to furniture, choose pieces that have clean lines but with a touch of traditional detailing. A streamlined sofa with button-tufted upholstery or a modern dining table with turned legs are great examples of furniture that fits the \"{input}\" aesthetic. Don\\'t forget to incorporate classic patterns like herringbone, Greek key, or damask in your textiles and wallpapers to add visual interest.\\n\\n#### Summary\\n\\n\"{input}\" is the perfect marriage of traditional and contemporary design, creating a space that feels both timeless and fresh. By blending clean lines, rich textures, and classic patterns, you can achieve a balanced and inviting look in your home. So why not give it a try and bring a touch of \"{input}\" into your space?\\n\\n#### Call to Action\\n\\nReady to transform your home with a stunning \"{input}\" design? Contact me today for a free consultation or sign up for my newsletter to get more interior design tips and inspiration. Let\\'s create a space that perfectly captures your style and personality! [Contact Me](https://deborahrucci.decoratingden.com/contact/) | [Sign up for Newsletter](https://deborahrucci.decoratingden.com/newsletter/)\\n\\n#### SEO Keyphrase: \"{input}\" design explained\\n#### Meta Description: Discover the beauty of \"{input}\" design and how to achieve it in your home. Find the perfect balance between traditional and contemporary styles for a timeless and fresh look. Contact me for a free consultation or sign up for my newsletter for more interior design inspiration.')"
      ]
     },
     "execution_count": 24,
     "metadata": {},
     "output_type": "execute_result"
    }
   ],
   "source": [
    "llm(prompt)"
   ]
  },
  {
   "cell_type": "code",
   "execution_count": null,
   "metadata": {},
   "outputs": [],
   "source": [
    "chain = LLMChain(llm=llm, prompt=template)\n",
    "print(chain.run({\n",
    "    'input': \"How to place picture frames on a bookshelf for maximum effect.\",\n",
    "    'series_title': \"Do It Yourself\"\n",
    "    }))"
   ]
  },
  {
   "cell_type": "code",
   "execution_count": null,
   "metadata": {},
   "outputs": [],
   "source": []
  }
 ],
 "metadata": {
  "kernelspec": {
   "display_name": "ai-dev",
   "language": "python",
   "name": "python3"
  },
  "language_info": {
   "codemirror_mode": {
    "name": "ipython",
    "version": 3
   },
   "file_extension": ".py",
   "mimetype": "text/x-python",
   "name": "python",
   "nbconvert_exporter": "python",
   "pygments_lexer": "ipython3",
   "version": "3.11.5"
  },
  "orig_nbformat": 4
 },
 "nbformat": 4,
 "nbformat_minor": 2
}
