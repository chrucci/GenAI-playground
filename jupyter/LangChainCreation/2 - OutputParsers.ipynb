{
 "cells": [
  {
   "cell_type": "code",
   "execution_count": 50,
   "metadata": {},
   "outputs": [],
   "source": [
    "import os\n",
    "import openai\n",
    "import sys\n",
    "sys.path.append('../..')\n",
    "\n",
    "from dotenv import load_dotenv, find_dotenv\n",
    "_ = load_dotenv(find_dotenv()) # read local .env file\n",
    "\n",
    "openai.api_key  = os.environ['OPENAI_API_KEY']"
   ]
  },
  {
   "cell_type": "code",
   "execution_count": 126,
   "metadata": {},
   "outputs": [],
   "source": [
    "from langchain.prompts import PromptTemplate, ChatPromptTemplate, HumanMessagePromptTemplate\n",
    "from langchain.llms import OpenAI\n",
    "from langchain.chat_models import ChatOpenAI\n",
    "from langchain.chains import LLMChain, SequentialChain\n",
    "\n",
    "from langchain.output_parsers import PydanticOutputParser\n",
    "from pydantic import BaseModel, Field, validator\n",
    "from typing import List"
   ]
  },
  {
   "cell_type": "code",
   "execution_count": 205,
   "metadata": {},
   "outputs": [
    {
     "name": "stderr",
     "output_type": "stream",
     "text": [
      "/home/chris/anaconda3/envs/ai-dev/lib/python3.11/site-packages/langchain/llms/openai.py:216: UserWarning: You are trying to use a chat model. This way of initializing it is no longer supported. Instead, please use: `from langchain.chat_models import ChatOpenAI`\n",
      "  warnings.warn(\n",
      "/home/chris/anaconda3/envs/ai-dev/lib/python3.11/site-packages/langchain/llms/openai.py:811: UserWarning: You are trying to use a chat model. This way of initializing it is no longer supported. Instead, please use: `from langchain.chat_models import ChatOpenAI`\n",
      "  warnings.warn(\n"
     ]
    }
   ],
   "source": [
    "model_name = \"gpt-4\"\n",
    "temperature = 0.7\n",
    "model = OpenAI(model_name=model_name, temperature=temperature, max_tokens=4097)"
   ]
  },
  {
   "cell_type": "code",
   "execution_count": 174,
   "metadata": {},
   "outputs": [],
   "source": [
    "# Define your desired data structure.\n",
    "class Outline(BaseModel):\n",
    "    intro: str = Field(description=\"The introduction to the blog post\")\n",
    "    section1: str = Field(description=\"The first section of the blog post, not including the introduction\")\n",
    "    section2: str = Field(description=\"The second section of the blog post, not including the introduction\")\n",
    "    # section3: str = Field(description=\"The third section of the blog post, not including the introduction\")\n",
    "    # section4: str = Field(description=\"The fourth section of the blog post, not including the introduction\")\n",
    "    # section5: str = Field(description=\"The fith section of the blog post, not including the introduction\")\n",
    "    conclusion: str = Field(description=\"The conclusion of the blog post\")\n",
    "    \n"
   ]
  },
  {
   "cell_type": "code",
   "execution_count": 175,
   "metadata": {},
   "outputs": [],
   "source": [
    "# Set up a parser + inject instructions into the prompt template.\n",
    "parser = PydanticOutputParser(pydantic_object=Outline)"
   ]
  },
  {
   "cell_type": "code",
   "execution_count": 206,
   "metadata": {},
   "outputs": [],
   "source": [
    "outline_human_msg = \"\"\"Please write a blog post with 2 sections in addition to the introduction and conclusion in the first person about \"{input}\" \n",
    "\n",
    "Each section, including the introduction and conclusion, should be at least 3 paragraphs.\n",
    "\n",
    "{format_instructions}\n",
    "\"\"\"\n",
    "input=\"How to place picture frames on a bookshelf for maximum effect.\"\n",
    "prompt = PromptTemplate(\n",
    "    template=outline_human_msg,\n",
    "    input_variables=[\"input\"],\n",
    "    partial_variables={\"format_instructions\": parser.get_format_instructions()}\n",
    ")"
   ]
  },
  {
   "cell_type": "code",
   "execution_count": 207,
   "metadata": {},
   "outputs": [
    {
     "name": "stdout",
     "output_type": "stream",
     "text": [
      "The output should be formatted as a JSON instance that conforms to the JSON schema below.\n",
      "\n",
      "As an example, for the schema {\"properties\": {\"foo\": {\"title\": \"Foo\", \"description\": \"a list of strings\", \"type\": \"array\", \"items\": {\"type\": \"string\"}}}, \"required\": [\"foo\"]}\n",
      "the object {\"foo\": [\"bar\", \"baz\"]} is a well-formatted instance of the schema. The object {\"properties\": {\"foo\": [\"bar\", \"baz\"]}} is not well-formatted.\n",
      "\n",
      "Here is the output schema:\n",
      "```\n",
      "{\"properties\": {\"intro\": {\"title\": \"Intro\", \"description\": \"The introduction to the blog post\", \"type\": \"string\"}, \"section1\": {\"title\": \"Section1\", \"description\": \"The first section of the blog post, not including the introduction\", \"type\": \"string\"}, \"section2\": {\"title\": \"Section2\", \"description\": \"The second section of the blog post, not including the introduction\", \"type\": \"string\"}, \"conclusion\": {\"title\": \"Conclusion\", \"description\": \"The conclusion of the blog post\", \"type\": \"string\"}}, \"required\": [\"intro\", \"section1\", \"section2\", \"conclusion\"]}\n",
      "```\n"
     ]
    }
   ],
   "source": [
    "print(parser.get_format_instructions())"
   ]
  },
  {
   "cell_type": "code",
   "execution_count": 208,
   "metadata": {},
   "outputs": [],
   "source": [
    "_input = prompt.format_prompt(input=input)"
   ]
  },
  {
   "cell_type": "code",
   "execution_count": 209,
   "metadata": {},
   "outputs": [],
   "source": [
    "output = model(_input.to_string())"
   ]
  },
  {
   "cell_type": "code",
   "execution_count": 210,
   "metadata": {},
   "outputs": [
    {
     "name": "stdout",
     "output_type": "stream",
     "text": [
      "Please write a blog post with 2 sections in addition to the introduction and conclusion in the first person about \"How to place picture frames on a bookshelf for maximum effect.\" \n",
      "\n",
      "Each section, including the introduction and conclusion, should be at least 3 paragraphs.\n",
      "\n",
      "The output should be formatted as a JSON instance that conforms to the JSON schema below.\n",
      "\n",
      "As an example, for the schema {\"properties\": {\"foo\": {\"title\": \"Foo\", \"description\": \"a list of strings\", \"type\": \"array\", \"items\": {\"type\": \"string\"}}}, \"required\": [\"foo\"]}\n",
      "the object {\"foo\": [\"bar\", \"baz\"]} is a well-formatted instance of the schema. The object {\"properties\": {\"foo\": [\"bar\", \"baz\"]}} is not well-formatted.\n",
      "\n",
      "Here is the output schema:\n",
      "```\n",
      "{\"properties\": {\"intro\": {\"title\": \"Intro\", \"description\": \"The introduction to the blog post\", \"type\": \"string\"}, \"section1\": {\"title\": \"Section1\", \"description\": \"The first section of the blog post, not including the introduction\", \"type\": \"string\"}, \"section2\": {\"title\": \"Section2\", \"description\": \"The second section of the blog post, not including the introduction\", \"type\": \"string\"}, \"conclusion\": {\"title\": \"Conclusion\", \"description\": \"The conclusion of the blog post\", \"type\": \"string\"}}, \"required\": [\"intro\", \"section1\", \"section2\", \"conclusion\"]}\n",
      "```\n",
      "\n"
     ]
    }
   ],
   "source": [
    "print(_input.to_string())"
   ]
  },
  {
   "cell_type": "code",
   "execution_count": 211,
   "metadata": {},
   "outputs": [],
   "source": [
    "parsed_output = parser.parse(output)"
   ]
  },
  {
   "cell_type": "code",
   "execution_count": 212,
   "metadata": {},
   "outputs": [
    {
     "data": {
      "text/plain": [
       "__main__.Outline"
      ]
     },
     "execution_count": 212,
     "metadata": {},
     "output_type": "execute_result"
    }
   ],
   "source": [
    "type(parsed_output)"
   ]
  },
  {
   "cell_type": "code",
   "execution_count": 213,
   "metadata": {},
   "outputs": [
    {
     "data": {
      "text/plain": [
       "Outline(intro=\"Hello readers, have you ever wondered how to best place picture frames on a bookshelf for maximum effect? Well, you're not alone. Many of us have bookshelves at home that we want to make look attractive, but we're not sure how. In fact, decorating a bookshelf can be a complex task, especially if you want to incorporate picture frames. But don't worry, that's what this blog post is all about. Over the next few paragraphs, I'll share with you some of the best tips and tricks I've learned over the years for placing picture frames on a bookshelf.\", section1=\"To begin with, it's important to understand that balance and symmetry are key when it comes to placing picture frames on a bookshelf. This doesn't mean all picture frames need to be the same size or in the same position. Rather, it means that the overall look of the bookshelf should feel balanced. For instance, you might place a large picture frame on one shelf and then balance it out with a couple of smaller frames on another shelf. Or, you might position a tall frame on the left side of a shelf and a shorter one on the right, creating a pleasing asymmetrical balance. Remember, the goal is to create a visually appealing balance, not perfect symmetry.\\n\\nAnother key aspect to consider when placing picture frames on a bookshelf is the use of color. This can make a huge difference to the overall look of your bookshelf. Try to choose frames that complement the color of the books and other items on your bookshelf. If your bookshelf is mostly filled with books of muted colors, a bright colored frame can add a pop of color and make your bookshelf more interesting. Conversely, if your bookshelf is filled with brightly colored items, a frame in a neutral color can help tone down the look and make it more pleasing to the eye.\\n\\nLastly, don't forget to think about spacing. It's important to give each picture frame, and indeed each item on your bookshelf, enough space to breathe. Overcrowding your bookshelf with too many frames or other items can make it look messy and chaotic, which is definitely not what you want. Instead, try to space out your frames and other items evenly across the bookshelf.\", section2=\"Now, let's talk about how to arrange picture frames in a way that tells a story. After all, your bookshelf is not just a storage space, it's also a display space that can reflect your personality and interests. One way to do this is by creating a theme with your picture frames. For instance, you might choose to display photos from a particular trip or event, or photos of a certain subject like your children or pets. This can give your bookshelf a personal touch and make it more interesting to look at.\\n\\nAnother way to tell a story with your picture frames is by playing with sizes and shapes. For instance, you might choose to use a mix of small, medium, and large frames, or a mix of square, rectangular, and circular frames. This can create a dynamic look and make your bookshelf more visually interesting. Just remember to keep balance and symmetry in mind when playing with sizes and shapes.\\n\\nFinally, don't forget to consider the content of your picture frames. The photos or artwork you choose to display can say a lot about you and your tastes. For instance, you might choose to display black and white photos for a timeless, classic look, or colorful artwork for a fun, modern look. Whatever you choose, make sure it's something that you love and that reflects your personality.\", conclusion=\"In conclusion, placing picture frames on a bookshelf can seem like a daunting task, but it doesn't have to be. By keeping balance and symmetry in mind, considering the use of color, ensuring proper spacing, and telling a story with your frames, you can create a bookshelf display that is both visually appealing and personal. Remember, the most important thing is to have fun with it and let your personality shine through. After all, your bookshelf is a reflection of you. So go ahead, start experimenting with different placements and arrangements. You might be surprised by what you can achieve. Happy decorating!\")"
      ]
     },
     "execution_count": 213,
     "metadata": {},
     "output_type": "execute_result"
    }
   ],
   "source": [
    "parsed_output"
   ]
  },
  {
   "cell_type": "code",
   "execution_count": 214,
   "metadata": {},
   "outputs": [],
   "source": [
    "section_1_prompt=ChatPromptTemplate.from_template(\n",
    "    \"\"\"Below is a short version of a section from a blog post on '{blog_topic}'. \n",
    "    Please expand the section by writing at least 5 paragraphs on this topic. \n",
    "    Because this is one section in a larger blog post, do not start any paragraph with \"Lastly\" or \"In Conclusion\".  \n",
    "    This secion merely must transition to the next one.  \n",
    "    The end of this section is NOT the end of the blog post.\n",
    "   \n",
    "   \n",
    "   ### SECTION TOPIC STATEMENT   \n",
    "   {section_1}\n",
    "    \"\"\"\n",
    ")\n",
    "\n",
    "section_1_chain = LLMChain(llm=model, prompt=section_1_prompt, output_key=\"expanded_section_1\")\n"
   ]
  },
  {
   "cell_type": "code",
   "execution_count": 215,
   "metadata": {},
   "outputs": [],
   "source": [
    "section_2_prompt=ChatPromptTemplate.from_template(\n",
    "    \"\"\"Below is a short version of a section from a blog post on '{blog_topic}'. \n",
    "    Please expand the section by writing at least 5 paragraphs on this topic.  \n",
    "    Because this is one section in a larger blog post, do not start any paragraph with \"Lastly\" or \"In Conclusion\".  \n",
    "    This secion merely must transition to the next one.  \n",
    "    The end of this section is NOT the end of the blog post.\n",
    "   \n",
    "   ### SECTION TOPIC STATEMENT   \n",
    "   {section_2}\n",
    "    \"\"\"\n",
    ")\n",
    "\n",
    "section_2_chain = LLMChain(llm=model, prompt=section_2_prompt, output_key=\"expanded_section_2\")"
   ]
  },
  {
   "cell_type": "code",
   "execution_count": 216,
   "metadata": {},
   "outputs": [],
   "source": [
    "overall_chain = SequentialChain(\n",
    "    chains = [section_1_chain, section_2_chain],\n",
    "    input_variables = [\"blog_topic\", \"section_1\", \"section_2\"],\n",
    "    output_variables = [ \"expanded_section_1\", \"expanded_section_2\"],\n",
    "    verbose=True\n",
    ")"
   ]
  },
  {
   "cell_type": "code",
   "execution_count": 217,
   "metadata": {},
   "outputs": [
    {
     "name": "stdout",
     "output_type": "stream",
     "text": [
      "\n",
      "\n",
      "\u001b[1m> Entering new SequentialChain chain...\u001b[0m\n"
     ]
    },
    {
     "name": "stdout",
     "output_type": "stream",
     "text": [
      "\n",
      "\u001b[1m> Finished chain.\u001b[0m\n"
     ]
    }
   ],
   "source": [
    "output = overall_chain({\n",
    "    'section_1': parsed_output.section1,\n",
    "    'section_2': parsed_output.section2,\n",
    "    })"
   ]
  },
  {
   "cell_type": "code",
   "execution_count": 218,
   "metadata": {},
   "outputs": [
    {
     "name": "stdout",
     "output_type": "stream",
     "text": [
      "The initial step towards achieving an appealing aesthetic for your bookshelf involves understanding the critical role that balance and symmetry play in placing picture frames. This, however, does not imply that all frames must be identical in size or position. Instead, the premise is that the overall appearance of the bookshelf should exude a certain level of balance. For example, you can strategically place a large picture frame on one shelf, then counterbalance it with a couple of smaller frames placed on a separate shelf. Alternatively, you might opt to position a tall frame on the left side of the shelf and a shorter one on the right, thereby creating an appealing asymmetrical balance. The primary objective is to strike a visually pleasing balance, rather than perfect symmetry, which can sometimes feel rigid and uninteresting.\n",
      "\n",
      "In addition to balance and symmetry, the use of color in your picture frames can significantly alter the overall aesthetic of your bookshelf. Color can evoke different emotions and reactions, and using it wisely can make your bookshelf more inviting and visually stimulating. The frames you select should ideally complement the colors of the books and other objects on your bookshelf. For instance, if the majority of your books are muted in color, a brightly colored frame could be the perfect way to inject a pop of color and elevate interest. \n",
      "\n",
      "On the other hand, if your bookshelf is vibrant with brightly colored items, a frame in a neutral color palette could subtly balance out the overall look. This would prevent an overwhelming color clash and maintain a visually pleasing aesthetic. Thus, the right use of color in your picture frames can harmonize your bookshelf's look, making it a focal point in your space.\n",
      "\n",
      "Subsequently, remember to consider the concept of space when decorating your bookshelf. Each picture frame, book, or other decorative item on your bookshelf should have enough space to stand out and be appreciated in its own right. Overstuffing your bookshelf with an abundance of frames or other items can result in a messy and chaotic look. The goal is to create an organized and inviting space where each item can be admired individually.\n",
      "\n",
      "Therefore, aim to distribute your frames and other items evenly across the bookshelf. This will give each item its own 'breathing space', preventing an overcrowded look. It also allows the viewer's eye to move smoothly across the bookshelf, appreciating each item in turn. By carefully considering spacing when arranging your picture frames, you can transform your bookshelf from a simple storage space into a stylish and captivating display.\n"
     ]
    }
   ],
   "source": [
    "print(output[\"expanded_section_1\"])"
   ]
  },
  {
   "cell_type": "code",
   "execution_count": 219,
   "metadata": {},
   "outputs": [
    {
     "name": "stdout",
     "output_type": "stream",
     "text": [
      "Diving deeper into the art of arranging picture frames, we should first discuss the potential of creating a theme. Your bookshelf is more than just a storage space, it's a canvas for showcasing your unique personality and interests. You could choose to display photos from a memorable trip or event, effectively turning your bookshelf into a visual chronicle of your experiences. Alternatively, you might opt for a subject-based theme, such as adorable photos of your pets or heartwarming snaps of your children. By defining a theme, you are giving yourself a more focused direction when it comes to choosing which photos to display, while also adding a personal touch that makes your bookshelf intriguing and engaging.\n",
      "\n",
      "In addition to theming, the size and shape of your picture frames can be used to relay a narrative. One way to achieve a dynamic look is to mix frames of different sizes. For instance, you could use a large frame for a standout photo that you want to draw attention to, and then surround it with smaller frames containing photos that provide additional context or detail. Similarly, a mix of square, rectangular, and circular frames can create visual variety and prevent your bookshelf from looking monotone or static.\n",
      "\n",
      "Maintaining a balance and symmetry with your frames is crucial when playing with sizes and shapes. This is not to say that every frame must be identical or perfectly aligned, but rather, the overall composition should be harmonious to the eye. For example, if you have a large, rectangular frame on one side, consider balancing it with a similarly-sized frame or a group of smaller frames on the other side. You might also try arranging your frames in a symmetrical pattern, which can create a sense of order and cohesion.\n",
      "\n",
      "Venturing further, the content of your frames is a significant factor in telling your story. The photos or artwork you select will not only reflect your aesthetic taste but also give insight into your personality and values. For instance, black and white photos can lend a timeless, classic vibe to your bookshelf, speaking to a love for tradition and history. On the flip side, vibrant and colorful artwork can exude a fun, modern look that suggests a more playful and creative spirit.\n",
      "\n",
      "Ultimately, the key to a compelling bookshelf display is to choose photos and artwork that you genuinely love. Whether it's a candid shot from your favorite vacation, a cherished family portrait, or a piece of artwork that inspires you, these are the pieces that will imbue your bookshelf with your unique personality. They are the ones that will catch your eye every time you pass by, bringing a smile to your face and sparking conversations with visitors. In the end, it's not just about creating a visually pleasing arrangement, but about crafting a personal narrative that transforms your bookshelf from a mere storage space into a vibrant tableau of your life and experiences.\n"
     ]
    }
   ],
   "source": [
    "print(output[\"expanded_section_2\"])"
   ]
  },
  {
   "cell_type": "code",
   "execution_count": null,
   "metadata": {},
   "outputs": [],
   "source": []
  }
 ],
 "metadata": {
  "kernelspec": {
   "display_name": "ai-dev",
   "language": "python",
   "name": "python3"
  },
  "language_info": {
   "codemirror_mode": {
    "name": "ipython",
    "version": 3
   },
   "file_extension": ".py",
   "mimetype": "text/x-python",
   "name": "python",
   "nbconvert_exporter": "python",
   "pygments_lexer": "ipython3",
   "version": "3.11.5"
  },
  "orig_nbformat": 4
 },
 "nbformat": 4,
 "nbformat_minor": 2
}
