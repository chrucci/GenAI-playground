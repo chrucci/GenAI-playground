{
 "cells": [
  {
   "cell_type": "markdown",
   "metadata": {},
   "source": [
    "## Setup"
   ]
  },
  {
   "cell_type": "code",
   "execution_count": 7,
   "metadata": {},
   "outputs": [],
   "source": [
    "import os\n",
    "import openai\n",
    "import sys\n",
    "sys.path.append('../..')\n",
    "\n",
    "from dotenv import load_dotenv, find_dotenv\n",
    "_ = load_dotenv(find_dotenv()) # read local .env file\n",
    "\n",
    "openai.api_key  = os.environ['OPENAI_API_KEY']\n",
    "url_contact = os.environ[\"URL_CONTACT\"]\n",
    "url_newsletter = os.environ[\"URL_NEWSLETTER\"]"
   ]
  },
  {
   "cell_type": "code",
   "execution_count": 8,
   "metadata": {},
   "outputs": [],
   "source": [
    "from langchain.prompts import PromptTemplate, ChatPromptTemplate\n",
    "from langchain.llms import OpenAI\n",
    "from langchain.chains import LLMChain\n",
    "\n",
    "from langchain.output_parsers import PydanticOutputParser\n",
    "from pydantic import BaseModel, Field"
   ]
  },
  {
   "cell_type": "code",
   "execution_count": 9,
   "metadata": {},
   "outputs": [
    {
     "name": "stderr",
     "output_type": "stream",
     "text": [
      "/home/chris/anaconda3/envs/ai-dev/lib/python3.11/site-packages/langchain/llms/openai.py:216: UserWarning: You are trying to use a chat model. This way of initializing it is no longer supported. Instead, please use: `from langchain.chat_models import ChatOpenAI`\n",
      "  warnings.warn(\n",
      "/home/chris/anaconda3/envs/ai-dev/lib/python3.11/site-packages/langchain/llms/openai.py:811: UserWarning: You are trying to use a chat model. This way of initializing it is no longer supported. Instead, please use: `from langchain.chat_models import ChatOpenAI`\n",
      "  warnings.warn(\n"
     ]
    }
   ],
   "source": [
    "model_name = \"gpt-4\"\n",
    "temperature = 0.7\n",
    "model = OpenAI(model_name=model_name, temperature=temperature, max_tokens=4097)"
   ]
  },
  {
   "cell_type": "markdown",
   "metadata": {},
   "source": [
    "## Input"
   ]
  },
  {
   "cell_type": "code",
   "execution_count": 10,
   "metadata": {},
   "outputs": [],
   "source": [
    "input = \"How to play with different color schemes and patterns to give rooms personality.\""
   ]
  },
  {
   "cell_type": "markdown",
   "metadata": {},
   "source": [
    "## Execution"
   ]
  },
  {
   "cell_type": "code",
   "execution_count": 11,
   "metadata": {},
   "outputs": [],
   "source": [
    "# Define your desired data structure.\n",
    "class Outline(BaseModel):\n",
    "    intro: str = Field(description=\"The introduction to the blog post\")\n",
    "    section1: str = Field(description=\"The first section of the blog post, not including the introduction\")\n",
    "    section2: str = Field(description=\"The second section of the blog post, not including the introduction\")\n",
    "    section3: str = Field(description=\"The third section of the blog post, not including the introduction\")\n",
    "    section4: str = Field(description=\"The fourth section of the blog post, not including the introduction\")\n",
    "    section5: str = Field(description=\"The fith section of the blog post, not including the introduction\")\n",
    "    conclusion: str = Field(description=\"The conclusion of the blog post\")\n",
    "    \n"
   ]
  },
  {
   "cell_type": "code",
   "execution_count": 12,
   "metadata": {},
   "outputs": [
    {
     "name": "stdout",
     "output_type": "stream",
     "text": [
      "The output should be formatted as a JSON instance that conforms to the JSON schema below.\n",
      "\n",
      "As an example, for the schema {\"properties\": {\"foo\": {\"title\": \"Foo\", \"description\": \"a list of strings\", \"type\": \"array\", \"items\": {\"type\": \"string\"}}}, \"required\": [\"foo\"]}\n",
      "the object {\"foo\": [\"bar\", \"baz\"]} is a well-formatted instance of the schema. The object {\"properties\": {\"foo\": [\"bar\", \"baz\"]}} is not well-formatted.\n",
      "\n",
      "Here is the output schema:\n",
      "```\n",
      "{\"properties\": {\"intro\": {\"title\": \"Intro\", \"description\": \"The introduction to the blog post\", \"type\": \"string\"}, \"section1\": {\"title\": \"Section1\", \"description\": \"The first section of the blog post, not including the introduction\", \"type\": \"string\"}, \"section2\": {\"title\": \"Section2\", \"description\": \"The second section of the blog post, not including the introduction\", \"type\": \"string\"}, \"section3\": {\"title\": \"Section3\", \"description\": \"The third section of the blog post, not including the introduction\", \"type\": \"string\"}, \"section4\": {\"title\": \"Section4\", \"description\": \"The fourth section of the blog post, not including the introduction\", \"type\": \"string\"}, \"section5\": {\"title\": \"Section5\", \"description\": \"The fith section of the blog post, not including the introduction\", \"type\": \"string\"}, \"conclusion\": {\"title\": \"Conclusion\", \"description\": \"The conclusion of the blog post\", \"type\": \"string\"}}, \"required\": [\"intro\", \"section1\", \"section2\", \"section3\", \"section4\", \"section5\", \"conclusion\"]}\n",
      "```\n",
      "intro=\"As a self-proclaimed DIY home designer, I've always been fascinated by the way colors and patterns can transform a room. A carefully selected color scheme can create a soothing oasis, a vibrant social space, or a productive work area. The use of patterns can add depth and interest, breaking up solid blocks of color and tying different elements of the room together. In this blog post, I'll share some of my favorite tips and tricks for playing with color schemes and patterns to give your rooms personality.\\n\\nUnderstanding color theory is a key part of this process. Colors can evoke different emotions - blues are calming, yellows are cheerful, reds are passionate. By understanding how colors influence our mood, we can make strategic choices to create the atmosphere we want. \\n\\nPatterns, on the other hand, can add a visual interest to a room. They can be bold or subtle, modern or traditional, geometric or floral. The key is to find a balance that complements the overall design without overwhelming it.\" section1=\"The first step in playing with color schemes is to choose your base color. This is the dominant color in your room, which will set the tone for the space. Think about the mood you want to create - is it a serene bedroom, a vibrant living room, or a cool and calm office space? Once you've chosen your base color, you can start to build your color scheme around it.\\n\\nWhen selecting complementary colors, consider the color wheel. Colors directly opposite each other on the wheel are complementary and will work well together. For a more subtle look, choose colors next to each other on the wheel. These analogous colors create a harmonious scheme that's easy on the eyes. \\n\\nDon't forget about neutrals - they can provide a calming backdrop for your color scheme, and can help to balance out more vibrant hues.\" section2=\"Once you have your color scheme, it's time to bring in patterns. There are countless patterns to choose from, but remember, not all patterns will work in all spaces. The scale of the pattern should match the scale of the room. A large, bold pattern might work well in a spacious living room, but could overwhelm a small bathroom.\\n\\nStart by choosing one primary pattern to be the focus. This could be a striking wallpaper, a patterned rug, or a piece of art. Once you've chosen your primary pattern, you can choose secondary patterns that complement it. These should be less dominant and tie in with the colors in your primary pattern. \\n\\nRemember, patterns don't have to be bold to make a statement. Even subtle patterns can add depth and interest to a room.\" section3=\"Color and pattern aren't just about paint and fabric. You can also use furniture and accessories to bring your color scheme and patterns to life. An accent chair in a complementary color can become a focal point in the room. A patterned rug can tie together different elements of the room. \\n\\nDon't forget about the power of texture. A velvet sofa, a jute rug, or a glossy ceramic lamp can all add visual interest and depth to your room. Mixing different textures can also help to create a balanced and layered look. \\n\\nRemember, your color scheme and patterns should reflect your personal style. Don't be afraid to break the rules and experiment with different combinations until you find the look that feels right for you.\" section4=\"One of my favorite ways to experiment with color and pattern is through the use of wall art. Artwork can be a great way to introduce a new color or pattern into a room without making a major commitment. You can also easily switch out artwork as your tastes change over time.\\n\\nWhen choosing artwork, look for pieces that complement your color scheme and patterns. This doesn't mean that everything has to match perfectly - in fact, a bit of contrast can be a good thing. A piece of art with a bold, contrasting color or pattern can become a focal point in the room. \\n\\nRemember to consider the size and placement of your artwork. A large piece of art can make a bold statement, but it needs to be hung at the right height and in the right location to have the best impact.\" section5=\"Finally, don't forget about lighting. The way a room is lit can dramatically affect the way colors and patterns are perceived. Natural light will show the truest color, while artificial light can cast different hues. \\n\\nTry to make the most of natural light by keeping window areas unobstructed. For artificial lighting, consider the color temperature of the bulbs. Warm light tends to enhance warm colors (reds, oranges, yellows), while cool light enhances cool colors (blues, greens, purples). \\n\\nConsider using accent lighting to highlight certain areas of the room or specific elements, like a piece of art or a textured wall. This can add depth and interest to the space.\" conclusion=\"Playing with color schemes and patterns can be a fun and rewarding way to give your rooms personality. By understanding the basics of color theory and pattern use, you can create spaces that are visually interesting, cohesive, and reflective of your personal style. \\n\\nRemember, there are no hard and fast rules when it comes to design. The best spaces are those that make you feel comfortable and happy. So don't be afraid to experiment, to break the rules, and to create a home that's uniquely you. \\n\\nI hope these tips and tricks inspire you to play with color and pattern in your own home. Happy decorating!\"\n"
     ]
    }
   ],
   "source": [
    "# Set up a parser + inject instructions into the prompt template.\n",
    "parser = PydanticOutputParser(pydantic_object=Outline)\n",
    "outline_human_msg = \"\"\"Please write a blog post with 5 sections in addition to the introduction and conclusion in the first person about \"{input}\" \n",
    "\n",
    "Each section, including the introduction and conclusion, should be at least 3 paragraphs.\n",
    "\n",
    "{format_instructions}\n",
    "\"\"\"\n",
    "prompt = PromptTemplate(\n",
    "    template=outline_human_msg,\n",
    "    input_variables=[\"input\"],\n",
    "    partial_variables={\"format_instructions\": parser.get_format_instructions()}\n",
    ")\n",
    "print(parser.get_format_instructions())\n",
    "_input = prompt.format_prompt(input=input)\n",
    "output = model(_input.to_string())\n",
    "parsed_output = parser.parse(output)\n",
    "print(parsed_output)"
   ]
  },
  {
   "cell_type": "code",
   "execution_count": 13,
   "metadata": {},
   "outputs": [],
   "source": [
    "\n",
    "system_msg = \"\"\"You are a world class interior designer that specializes in the Transitional Design style.  \n",
    "You have a knack for explaining concepts related to interior design in a way that is accessible and engaging.  \n",
    "You avoid using the passive voice in any sentence. \n",
    "Your sentences should be no more than 20 words long.\"\"\"\n",
    "\n",
    "def get_section_chain(section_num, model):\n",
    "    prompt_template = f\"\"\"{{system_msg}}\n",
    "        \n",
    "            Below is a draft of the short version of a section from a blog post on '{{blog_topic}}'. \n",
    "            Please expand the section by writing at least 5 paragraphs on this topic.  \n",
    "            Ensure that the section has a succint header that summarizes the content of the section with HTML formatting.  \n",
    "            Please include subheaders within the section where appropriate.\n",
    "            Section headers should be in the format:\n",
    "            <h2>Section {section_num}</h2>\n",
    "            <h3>Subsection</h3>\n",
    "            <h4>Subsubsection</h4>\n",
    "            Because this is one section in a larger blog post, do not start any paragraph with \"Lastly\" or \"In Conclusion\".  \n",
    "            This secion merely must transition to the next one.  \n",
    "            The end of this section is NOT the end of the blog post.\n",
    "        \n",
    "        ### SECTION DRAFT  \n",
    "        {{section_{section_num}}}\n",
    "        \"\"\"\n",
    "    prompt=ChatPromptTemplate.from_template(prompt_template)\n",
    "        \n",
    "\n",
    "    return LLMChain(llm=model, prompt=prompt, output_key=f\"expanded_section_{section_num}\")\n",
    "\n",
    "def run_section_chain(section_num, section_draft, model=model, system_msg=system_msg, input=input):\n",
    "    section_chain = get_section_chain(section_num, model)\n",
    "    return section_chain.run(\n",
    "            {\n",
    "            'system_msg': system_msg,\n",
    "            'blog_topic': input,\n",
    "            f'section_{section_num}': section_draft,\n",
    "            }\n",
    "        )\n",
    "    \n",
    "\n"
   ]
  },
  {
   "cell_type": "code",
   "execution_count": 14,
   "metadata": {},
   "outputs": [
    {
     "name": "stdout",
     "output_type": "stream",
     "text": [
      "<h1>Unleashing the Power of Color and Pattern in Your Home</h1>\n",
      "\n",
      "Colors and patterns can transform your living space in unique ways. Understanding color theory and pattern application informs your design choices. It creates a striking balance between aesthetics and functionality. When you grasp the emotions colors evoke, you can tailor your space to embody your desired atmosphere. For example, blues induce calmness, yellows inspire cheerfulness, and reds ignite passion. By strategically selecting a color scheme, you can create a soothing oasis, a vibrant social space, or a productive work area.\n",
      "\n",
      "Patterns, like colors, play a crucial role in interior design. They hold the power to add an exciting visual interest, breaking up monotony and tying varying elements together. Patterns can range from bold to subtle, modern to traditional, geometric to floral. The trick lies in finding a harmonious balance that enhances your overall design without overwhelming it.\n",
      "\n",
      "Remember, it's your space and it should reflect your personality and style. Don't be afraid to experiment and mix things up. While this might seem daunting, I am here to help guide you. If you need advice or have questions, feel free to <a href=\"https://deborahrucci.decoratingden.com/contact/\">contact me</a>. Let's journey together in making your home a true reflection of you. Now, let's dive into more specifics on how you can play with color schemes and patterns.\n"
     ]
    }
   ],
   "source": [
    "intro_prompt=ChatPromptTemplate.from_template(\n",
    "    \"\"\"{system_msg}\n",
    "    \n",
    "    Below is a draft of the short version of introduction from a blog post on '{blog_topic}'. \n",
    "    Please expand the section by writing at least 3 paragraphs on this topic. \n",
    "    Let people know that they can always contact me if they would like advice our have questions by linking to my Contact me page.  Here is the link for that: {url_contact}\n",
    "    Ensure that the section has a succint header that summarizes the content of the section with HTML formatting.\n",
    "    The heading for this section should be an <h1> tag.\n",
    "    Because this is the introduction to the blog post, do not start any paragraph with \"Finally\", \"Lastly\" or \"In Conclusion\".\n",
    "    This section merely must transition to the next one.  \n",
    "    The end of this section is NOT the end of the blog post.\n",
    "   \n",
    "   \n",
    "   ### SECTION DRAFT   \n",
    "   {intro}\n",
    "    \"\"\"\n",
    ")\n",
    "\n",
    "intro_chain = LLMChain(llm=model, prompt=intro_prompt, output_key=\"expanded_intro\")\n",
    "\n",
    "expanded_intro = intro_chain.run(\n",
    "    {\n",
    "    'system_msg': system_msg,\n",
    "    'blog_topic': input,\n",
    "    'intro': parsed_output.intro,\n",
    "    'url_contact': url_contact,\n",
    "    }\n",
    ")\n",
    "print(expanded_intro)"
   ]
  },
  {
   "cell_type": "code",
   "execution_count": 15,
   "metadata": {},
   "outputs": [],
   "source": [
    "expanded_sec1 = run_section_chain(1, parsed_output.section1)\n",
    "expanded_sec2 = run_section_chain(2, parsed_output.section2)\n",
    "expanded_sec3 = run_section_chain(3, parsed_output.section3)\n",
    "expanded_sec4 = run_section_chain(4, parsed_output.section4)\n",
    "expanded_sec5 = run_section_chain(5, parsed_output.section5)"
   ]
  },
  {
   "cell_type": "code",
   "execution_count": 16,
   "metadata": {},
   "outputs": [
    {
     "name": "stdout",
     "output_type": "stream",
     "text": [
      "<h2>Conclusion: Unleashing Your Inner Designer</h2>\n",
      "\n",
      "Exploring varied color schemes and patterns in your rooms infuses them with life and personality. <a href=\"https://deborahrucci.decoratingden.com/contact/\">Get in touch</a> if you need expert guidance on where to begin. Your understanding of basic color theory and pattern use will help you craft visually captivating, harmonious spaces that are true to your style.\n",
      "\n",
      "There is no definitive blueprint for design. The most enchanting spaces are the ones that bring you comfort and joy. Therefore, feel free to experiment, bend the rules, and design a home that is distinctly yours. \n",
      "\n",
      "May these guidelines inspire you to delve into the world of color and pattern in your home. Enjoy the process of decorating! Remember, if you need further inspiration or tips, you can <a href=\"https://deborahrucci.decoratingden.com/newsletter/\">sign up for my newsletter</a>. Happy designing!\n"
     ]
    }
   ],
   "source": [
    "conclusion_prompt=ChatPromptTemplate.from_template(\n",
    "    \"\"\"{system_msg}\n",
    "     \n",
    "    Below is a draft of the short version of the conclusion from a blog post on '{blog_topic}'. \n",
    "    Please expand the section by writing at least 2 paragraphs on this topic. \n",
    "    There should be a <h2> section header indicating that the blog post is ending.\n",
    "    Also, please include hyperlinks so that readers can contact me for a free consultation or sign up for my newsletter. \n",
    "    The link to my newsletter is {url_newsletter}\n",
    "    The \"Contact Me\" link should have a URL of {url_contact}\n",
    "    The format should be HTML.\n",
    "    \n",
    "   \n",
    "   ### SECTION DRAFT   \n",
    "   {conclusion}\n",
    "    \"\"\"\n",
    ")\n",
    "\n",
    "conclusion_chain = LLMChain(llm=model, prompt=conclusion_prompt, output_key=\"expanded_conclusion\")\n",
    "\n",
    "expanded_conclusion = conclusion_chain.run(\n",
    "    {\n",
    "    'system_msg': system_msg,\n",
    "    'blog_topic': input,\n",
    "    'conclusion': parsed_output.conclusion,\n",
    "    'url_contact': url_contact,\n",
    "    'url_newsletter': url_newsletter\n",
    "    }\n",
    ")\n",
    "print(expanded_conclusion)"
   ]
  },
  {
   "cell_type": "code",
   "execution_count": 17,
   "metadata": {},
   "outputs": [],
   "source": [
    "full_post = f\"\"\"{expanded_intro}\n",
    "\n",
    "{expanded_sec1}\n",
    "\n",
    "{expanded_sec2}\n",
    "\n",
    "{expanded_sec3}\n",
    "\n",
    "{expanded_sec4}\n",
    "\n",
    "{expanded_sec5}\n",
    "\n",
    "{expanded_conclusion}\n",
    "\n",
    "\"\"\"\n",
    "\n",
    "\n"
   ]
  },
  {
   "cell_type": "code",
   "execution_count": 18,
   "metadata": {},
   "outputs": [],
   "source": [
    "seo_prompt = ChatPromptTemplate.from_template(\"\"\"\n",
    "Examine this blog post and make sure that it is SEO friendly. \n",
    "Please list a good seo keyphrase and a meta description.\n",
    "\n",
    "BLOG POST:\n",
    "{full_post}\n",
    "\"\"\")\n",
    "\n",
    "seo_chain = LLMChain(llm=model, prompt=seo_prompt)\n",
    "\n",
    "seo_vars = seo_chain.run(\n",
    "    {\n",
    "    'full_post': full_post\n",
    "    }\n",
    ")\n"
   ]
  },
  {
   "cell_type": "markdown",
   "metadata": {},
   "source": [
    "## Output"
   ]
  },
  {
   "cell_type": "code",
   "execution_count": 19,
   "metadata": {},
   "outputs": [
    {
     "name": "stdout",
     "output_type": "stream",
     "text": [
      "<h1>Unleashing the Power of Color and Pattern in Your Home</h1>\n",
      "\n",
      "Colors and patterns can transform your living space in unique ways. Understanding color theory and pattern application informs your design choices. It creates a striking balance between aesthetics and functionality. When you grasp the emotions colors evoke, you can tailor your space to embody your desired atmosphere. For example, blues induce calmness, yellows inspire cheerfulness, and reds ignite passion. By strategically selecting a color scheme, you can create a soothing oasis, a vibrant social space, or a productive work area.\n",
      "\n",
      "Patterns, like colors, play a crucial role in interior design. They hold the power to add an exciting visual interest, breaking up monotony and tying varying elements together. Patterns can range from bold to subtle, modern to traditional, geometric to floral. The trick lies in finding a harmonious balance that enhances your overall design without overwhelming it.\n",
      "\n",
      "Remember, it's your space and it should reflect your personality and style. Don't be afraid to experiment and mix things up. While this might seem daunting, I am here to help guide you. If you need advice or have questions, feel free to <a href=\"https://deborahrucci.decoratingden.com/contact/\">contact me</a>. Let's journey together in making your home a true reflection of you. Now, let's dive into more specifics on how you can play with color schemes and patterns.\n",
      "\n",
      "<h2>Mastering Color Schemes and Patterns in Transitional Interior Design</h2>\n",
      "\n",
      "<h3>Choosing Your Base Color</h3>\n",
      "The first step in color schemes involves choosing your base color. This dominant color sets the tone for the room. It's crucial to consider the mood you want to create. This could be a serene bedroom, a vibrant living room, or a cool, calm office space. Once you decide on your base color, you can start building your color scheme around it.\n",
      "\n",
      "<h3>Complementary Colors</h3>\n",
      "Consider the color wheel when selecting complementary colors. Colors sitting directly opposite each other on the wheel are complementary and work well together. This choice will lend a bold and vibrant look to your space.\n",
      "\n",
      "<h3>Analogous Colors</h3>\n",
      "For a more subtle look, choose colors next to each other on the wheel. These analogous colors create a harmonious scheme that's easy on the eyes. It's a great option if you are after a calm and cohesive aesthetic.\n",
      "\n",
      "<h3>Role of Neutrals</h3>\n",
      "Neutrals play an important part in your color scheme. They provide a calming backdrop and help balance out more vibrant hues. Neutrals can ground your design and prevent it from becoming too overwhelming.\n",
      "\n",
      "<h3>Playing with Patterns</h3>\n",
      "Patterns add personality and depth to your space. In transitional design, patterns often draw from both traditional and modern styles. Always remember to balance your patterns with solid colors to avoid a chaotic look. The next section will delve into how to effectively mix and match patterns.\n",
      "\n",
      "<h2>Section 2: Infusing Personality with Color Schemes and Patterns</h2>\n",
      "\n",
      "<h3>Choosing the Primary Pattern</h3>\n",
      "Your color scheme is in place, so now, it's pattern time. Countless patterns are available, but remember, each space will not work with every pattern. The pattern's scale should correspond to the room's scale. A large, bold pattern may suit a spacious living room, but could overpower a small bathroom.\n",
      "\n",
      "<h3>Setting the Tone with a Primary Pattern</h3>\n",
      "Begin by selecting a primary pattern to take center stage. This could be an eye-catching wallpaper, a patterned rug, or even a striking piece of art. Once you've selected your primary pattern, it will dictate the room's overall mood and aesthetic.\n",
      "\n",
      "<h3>Selecting Complementary Secondary Patterns</h3>\n",
      "With your primary pattern in place, it's time to pick secondary patterns that complement it. These patterns should be less dominant, subtly tying in with the colors in your primary pattern. They serve to enhance the room's depth, creating a rich and cohesive visual experience.\n",
      "\n",
      "<h3>Subtle Statements: The Power of Understated Patterns</h3>\n",
      "Patterns don't always have to shout to be heard. Even subtle patterns can make a statement, adding depth and interest to a room. They can be instrumental in creating an engaging, layered aesthetic that is both inviting and intriguing.\n",
      "\n",
      "<h3>Transitioning to the Next Element</h3>\n",
      "Now that you've mastered the art of playing with color schemes and patterns, it's time to explore the next element in interior design: texture. Just as patterns and colors work to define a space, textures can add an exciting new dimension to your rooms.\n",
      "\n",
      "<h2>Section 3: Unleashing Personality with Color Schemes and Patterns</h2>\n",
      "\n",
      "<h3>Color Play in Furniture and Accessories</h3>\n",
      "Colors and patterns are not confined to fabrics and paint. Furniture and accessories can also play this role. For example, an accent chair in a complementary hue can serve as a room’s focal point. \n",
      "\n",
      "<h4>Patterned Rugs</h4>\n",
      "A patterned rug can unite various elements within the room. This piece can either subtly blend or boldly contrast, either way, it adds dimension.\n",
      "\n",
      "<h3>The Power of Texture</h3>\n",
      "Texture brings additional visual richness to your room. A velvet sofa, a jute rug, or a glossy ceramic lamp can all contribute to this. Mixing varied textures can yield a balanced and layered look.\n",
      "\n",
      "<h3>Personal Style and Experimentation</h3>\n",
      "Your color scheme and patterns should echo your personal style. Don't hesitate to break conventional norms. Experiment with different combinations until you stumble upon the look that resonates with you.\n",
      "\n",
      "<h3>Transitioning with Color and Pattern</h3>\n",
      "Transitional design bridges the gap between different styles, and color schemes and patterns play a crucial role. Next, we'll explore how to harmonize these elements to create a cohesive transitional design.\n",
      "\n",
      "<h2>Section 4: Infusing Personality with Color Schemes and Patterns</h2>\n",
      "\n",
      "<h3>Artwork as a Color and Pattern Playground</h3>\n",
      "Artwork stands as a fantastic medium for color and pattern experimentation. It lets you introduce fresh hues or designs without a major overhaul. Moreover, artwork offers flexibility, as it can be swapped out as your preferences evolve.\n",
      "\n",
      "<h4>Selecting Complementary Artwork</h4>\n",
      "When hunting for artwork, aim for pieces that harmonize with your color scheme and patterns. Perfect matching isn't necessary; in fact, a touch of contrast can be beneficial. An artwork with a bold, contrasting color or pattern can serve as a room's focal point.\n",
      "\n",
      "<h3>Considerations for Artwork Size and Placement</h3>\n",
      "The size of your artwork carries substantial weight. A large piece can make a bold statement, but its impact relies heavily on proper placement and height.\n",
      "\n",
      "<h4>Choosing the Right Artwork Size</h4>\n",
      "Size plays a crucial role in artwork selection. A hefty piece can certainly captivate, but it also needs to harmonize with the room's scale. Be sure to pick an artwork size that complements the room's proportions.\n",
      "\n",
      "<h3>Strategic Artwork Placement</h3>\n",
      "Placement is as pivotal as size when it comes to artwork. Positioning at the correct height and location can significantly boost the artwork's impact. Consider the room's layout and furniture arrangement for optimal results.\n",
      "\n",
      "As we move onto the next section, let's delve deeper into the role of furniture in enhancing room personality.\n",
      "\n",
      "<h2>Section 5: Harmonizing Color Schemes and Patterns with Lighting</h2>\n",
      "\n",
      "<h3>Understanding the Impact of Lighting on Color Perception</h3>\n",
      "Colors and patterns gain life through lighting. Light sources can significantly change how we perceive them. Natural light reveals the truest color, while artificial light can cast various hues. \n",
      "\n",
      "<h3>Maximizing Natural Light</h3>\n",
      "Harness the magic of natural light to illuminate your design. Ensure window areas remain clear to allow an unimpeded flow of sunlight. This will amplify the vibrancy of your chosen color schemes and patterns.\n",
      "\n",
      "<h3>Choosing the Right Artificial Light</h3>\n",
      "Artificial light also has its role in enhancing your design. Pay attention to the color temperature of your bulbs. Warm light boosts the intensity of warm colors like reds, oranges, and yellows. Conversely, cool light augments the appeal of blues, greens, and purples.\n",
      "\n",
      "<h3>Integrating Accent Lighting</h3>\n",
      "Accent lighting is a fantastic tool to spotlight specific areas or elements in a room. For example, a textured wall or a piece of art. This technique adds depth and interest, bringing a new dimension to your space.\n",
      "\n",
      "<h3>Transitioning to the Next Topic</h3>\n",
      "Now that we've explored the interplay between color schemes, patterns, and lighting, let's delve into the next topic. We'll investigate how to use different materials and textures to add layers of sophistication to your design.\n",
      "\n",
      "<h2>Conclusion: Unleashing Your Inner Designer</h2>\n",
      "\n",
      "Exploring varied color schemes and patterns in your rooms infuses them with life and personality. <a href=\"https://deborahrucci.decoratingden.com/contact/\">Get in touch</a> if you need expert guidance on where to begin. Your understanding of basic color theory and pattern use will help you craft visually captivating, harmonious spaces that are true to your style.\n",
      "\n",
      "There is no definitive blueprint for design. The most enchanting spaces are the ones that bring you comfort and joy. Therefore, feel free to experiment, bend the rules, and design a home that is distinctly yours. \n",
      "\n",
      "May these guidelines inspire you to delve into the world of color and pattern in your home. Enjoy the process of decorating! Remember, if you need further inspiration or tips, you can <a href=\"https://deborahrucci.decoratingden.com/newsletter/\">sign up for my newsletter</a>. Happy designing!\n",
      "\n",
      "\n"
     ]
    }
   ],
   "source": [
    "print(full_post)"
   ]
  },
  {
   "cell_type": "code",
   "execution_count": 20,
   "metadata": {},
   "outputs": [
    {
     "name": "stdout",
     "output_type": "stream",
     "text": [
      "SEO Keyphrase: \"Color Schemes and Patterns in Interior Design\"\n",
      "\n",
      "Meta Description: \"Discover how to master the use of color schemes and patterns in your home's interior design. Learn about the theory, application, and impact of colors and patterns in creating spaces that reflect your personal style and mood.\"\n"
     ]
    }
   ],
   "source": [
    "print(seo_vars)"
   ]
  },
  {
   "cell_type": "code",
   "execution_count": 21,
   "metadata": {},
   "outputs": [
    {
     "name": "stdout",
     "output_type": "stream",
     "text": [
      "How to play with different color schemes and patterns to give rooms personality.\n"
     ]
    }
   ],
   "source": [
    "print(input)"
   ]
  },
  {
   "cell_type": "code",
   "execution_count": null,
   "metadata": {},
   "outputs": [],
   "source": []
  }
 ],
 "metadata": {
  "kernelspec": {
   "display_name": "ai-dev",
   "language": "python",
   "name": "python3"
  },
  "language_info": {
   "codemirror_mode": {
    "name": "ipython",
    "version": 3
   },
   "file_extension": ".py",
   "mimetype": "text/x-python",
   "name": "python",
   "nbconvert_exporter": "python",
   "pygments_lexer": "ipython3",
   "version": "3.11.5"
  },
  "orig_nbformat": 4
 },
 "nbformat": 4,
 "nbformat_minor": 2
}
