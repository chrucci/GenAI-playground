{
 "cells": [
  {
   "cell_type": "code",
   "execution_count": 1,
   "id": "8715dc4d-3ebb-47f2-ac1f-7db567227d2b",
   "metadata": {},
   "outputs": [],
   "source": [
    "import sys\n",
    "\n",
    "sys.path.append(\"../..\")\n",
    "\n",
    "from dotenv import load_dotenv, find_dotenv\n",
    "\n",
    "_ = load_dotenv(find_dotenv())  # read local .env file"
   ]
  },
  {
   "cell_type": "code",
   "execution_count": 2,
   "id": "c7a14fcc-6fb1-46e9-a50c-c03bdf7dea51",
   "metadata": {},
   "outputs": [],
   "source": [
    "import os\n",
    "import openai\n",
    "\n",
    "openai.api_key = os.environ[\"OPENAI_API_KEY\"]"
   ]
  },
  {
   "cell_type": "code",
   "execution_count": 9,
   "id": "90c1c660-37c5-4770-99ea-d53218cb2af2",
   "metadata": {},
   "outputs": [],
   "source": [
    "def generate_text(\n",
    "    prompt,\n",
    "    model=\"gpt-3.5-turbo\",\n",
    "    temperature=0,\n",
    "    max_tokens=500,\n",
    "    system_message=\"You are an expert at writing clear, concise, Python code.\",\n",
    "):\n",
    "    # messages = [{\"role\": \"user\", \"content\": prompt}]\n",
    "    messages = [\n",
    "        {\"role\": \"system\", \"content\": system_message},\n",
    "        {\"role\": \"user\", \"content\": prompt},\n",
    "    ]\n",
    "    response = openai.ChatCompletion.create(\n",
    "        model=model,\n",
    "        messages=messages,\n",
    "        temperature=temperature,\n",
    "        max_tokens=max_tokens,\n",
    "    )\n",
    "    return response.choices[0].message[\"content\"]"
   ]
  },
  {
   "cell_type": "markdown",
   "id": "f9f293a6-47ca-471f-bdf9-cd2701238229",
   "metadata": {},
   "source": [
    "#### Prompt template\n",
    "\n",
    "1. priming: getting the LLM ready for the type of task you'll ask it to do.\n",
    "2. question: the specific task.\n",
    "3. decorator: how to provide or format the output."
   ]
  },
  {
   "cell_type": "code",
   "execution_count": 4,
   "id": "38952aad-2d8c-45aa-9c45-13528f6323e7",
   "metadata": {},
   "outputs": [],
   "source": [
    "prompt_template = \"\"\"\n",
    "{question}\n",
    "\n",
    "{decorator}\n",
    "\n",
    "Your solution:\n",
    "\"\"\""
   ]
  },
  {
   "cell_type": "code",
   "execution_count": 5,
   "id": "c1ad1da8-425e-4d08-9091-d23c95dea131",
   "metadata": {},
   "outputs": [],
   "source": [
    "question = \"create a doubly linked list\""
   ]
  },
  {
   "cell_type": "markdown",
   "id": "09694476-7b3b-4c0e-a1ef-0332494159dd",
   "metadata": {},
   "source": [
    "#### Observe how the decorator affects the output\n",
    "- In other non-coding prompt engineering tasks, it's common to use \"chain-of-thought prompting\" by asking the model to work through the task \"step by step\".\n",
    "- For certain tasks like generating code, you may want to experiment with other wording that would make sense if you were asking a developer the same question.\n",
    "\n",
    "In the code cell below, try out option 1 first, then try out option 2."
   ]
  },
  {
   "cell_type": "code",
   "execution_count": 12,
   "id": "58a4a271-999e-47a3-bf7b-1135a64792ea",
   "metadata": {},
   "outputs": [],
   "source": [
    "# option 1\n",
    "# decorator = \"Work through it step by step, and show your work. One step per line.\"\n",
    "\n",
    "# option 2\n",
    "decorator = \"Insert comments for each line of code.\""
   ]
  },
  {
   "cell_type": "code",
   "execution_count": 13,
   "id": "e2dcd6f8-5d2f-4b4c-b577-f331caa65ccc",
   "metadata": {},
   "outputs": [],
   "source": [
    "prompt = prompt_template.format(question=question, decorator=decorator)"
   ]
  },
  {
   "cell_type": "code",
   "execution_count": 14,
   "id": "085f30f6-7333-4250-b991-4850da4f547d",
   "metadata": {},
   "outputs": [
    {
     "name": "stdout",
     "output_type": "stream",
     "text": [
      "\n",
      "create a doubly linked list\n",
      "\n",
      "Insert comments for each line of code.\n",
      "\n",
      "Your solution:\n",
      "\n"
     ]
    }
   ],
   "source": [
    "print(prompt)"
   ]
  },
  {
   "cell_type": "code",
   "execution_count": 15,
   "id": "d54e7188-3a6e-4d08-99f1-fec71334a8a0",
   "metadata": {},
   "outputs": [
    {
     "name": "stdout",
     "output_type": "stream",
     "text": [
      "# Define a class for the nodes of the doubly linked list\n",
      "class Node:\n",
      "    def __init__(self, data):\n",
      "        self.data = data\n",
      "        self.prev = None\n",
      "        self.next = None\n",
      "\n",
      "# Define a class for the doubly linked list\n",
      "class DoublyLinkedList:\n",
      "    def __init__(self):\n",
      "        self.head = None\n",
      "\n",
      "    # Method to add a new node at the beginning of the list\n",
      "    def add_at_beginning(self, data):\n",
      "        new_node = Node(data)\n",
      "        if self.head is None:\n",
      "            self.head = new_node\n",
      "        else:\n",
      "            new_node.next = self.head\n",
      "            self.head.prev = new_node\n",
      "            self.head = new_node\n",
      "\n",
      "    # Method to add a new node at the end of the list\n",
      "    def add_at_end(self, data):\n",
      "        new_node = Node(data)\n",
      "        if self.head is None:\n",
      "            self.head = new_node\n",
      "        else:\n",
      "            current = self.head\n",
      "            while current.next:\n",
      "                current = current.next\n",
      "            current.next = new_node\n",
      "            new_node.prev = current\n",
      "\n",
      "    # Method to delete a node from the list\n",
      "    def delete(self, data):\n",
      "        if self.head is None:\n",
      "            return\n",
      "        if self.head.data == data:\n",
      "            self.head = self.head.next\n",
      "            if self.head:\n",
      "                self.head.prev = None\n",
      "        else:\n",
      "            current = self.head\n",
      "            while current.next:\n",
      "                if current.next.data == data:\n",
      "                    current.next = current.next.next\n",
      "                    if current.next:\n",
      "                        current.next.prev = current\n",
      "                    break\n",
      "                current = current.next\n",
      "\n",
      "    # Method to print the elements of the list\n",
      "    def print_list(self):\n",
      "        current = self.head\n",
      "        while current:\n",
      "            print(current.data)\n",
      "            current = current.next\n",
      "\n",
      "# Create an instance of the DoublyLinkedList class\n",
      "dll = DoublyLinkedList()\n",
      "\n",
      "# Add nodes to the list\n",
      "dll.add_at_beginning(1)\n",
      "dll.add_at_end(2)\n",
      "dll.add_at_end(3)\n",
      "\n",
      "# Print the list\n",
      "dll.print_list()\n",
      "\n",
      "# Delete a node from the list\n",
      "dll.delete(2)\n",
      "\n",
      "# Print the updated list\n",
      "dll.print_list()\n"
     ]
    }
   ],
   "source": [
    "completion = generate_text(prompt)\n",
    "print(completion)"
   ]
  },
  {
   "cell_type": "markdown",
   "id": "4d73107a-903f-4fd1-aab1-fe44aef68be5",
   "metadata": {},
   "source": [
    "#### Try another question"
   ]
  },
  {
   "cell_type": "code",
   "execution_count": 16,
   "id": "d71defc9-aed5-4909-ab31-99a41cdd6449",
   "metadata": {},
   "outputs": [],
   "source": [
    "question = \"\"\"create a very large list of random numbers in python, \n",
    "and then write code to sort that list\"\"\""
   ]
  },
  {
   "cell_type": "code",
   "execution_count": 17,
   "id": "14dfdf7a-3fdc-4727-9a9f-89c4d7b9db7a",
   "metadata": {},
   "outputs": [],
   "source": [
    "prompt = prompt_template.format(question=question, decorator=decorator)"
   ]
  },
  {
   "cell_type": "code",
   "execution_count": 18,
   "id": "8e1b79c7-99de-4a29-8b3e-5bb25c2c3b91",
   "metadata": {},
   "outputs": [
    {
     "name": "stdout",
     "output_type": "stream",
     "text": [
      "\n",
      "create a very large list of random numbers in python, \n",
      "and then write code to sort that list\n",
      "\n",
      "Insert comments for each line of code.\n",
      "\n",
      "Your solution:\n",
      "\n"
     ]
    }
   ],
   "source": [
    "print(prompt)"
   ]
  },
  {
   "cell_type": "code",
   "execution_count": 17,
   "id": "6e8932b3-47ed-4750-8d81-9ad8e5ca5edc",
   "metadata": {},
   "outputs": [
    {
     "name": "stdout",
     "output_type": "stream",
     "text": [
      "```python\n",
      "# Create a list of 100,000 random numbers between 0 and 100\n",
      "random_numbers = [random.randint(0, 100) for _ in range(100000)]\n",
      "\n",
      "# Sort the list of random numbers\n",
      "sorted_random_numbers = sorted(random_numbers)\n",
      "\n",
      "# Print the first 10 elements of the sorted list\n",
      "print(sorted_random_numbers[:10])\n",
      "\n",
      "```\n",
      "\n",
      "**Explanation:**\n",
      "\n",
      "* The first line of code creates a list of 100,000 random numbers between 0 and 100. The `random.randint()` function is used to generate a random integer between two specified values.\n",
      "* The second line of code sorts the list of random numbers using the `sorted()` function. The `sorted()` function takes a list as its argument and returns a new list that is sorted in ascending order.\n",
      "* The third line of code prints the first 10 elements of the sorted list. The `print()` function is used to print the contents of a list to the console.\n",
      "\n",
      "This code is clear, concise, and Pythonic. It uses the standard Python library functions to create a list of random numbers, sort the list, and print the results.\n"
     ]
    }
   ],
   "source": [
    "completion = generate_text(prompt)\n",
    "print(completion.result)"
   ]
  },
  {
   "cell_type": "code",
   "execution_count": null,
   "id": "661cc460-777d-409d-a054-a171b2c11e77",
   "metadata": {},
   "outputs": [],
   "source": []
  }
 ],
 "metadata": {
  "kernelspec": {
   "display_name": "ai-dev",
   "language": "python",
   "name": "python3"
  },
  "language_info": {
   "codemirror_mode": {
    "name": "ipython",
    "version": 3
   },
   "file_extension": ".py",
   "mimetype": "text/x-python",
   "name": "python",
   "nbconvert_exporter": "python",
   "pygments_lexer": "ipython3",
   "version": "3.11.5"
  }
 },
 "nbformat": 4,
 "nbformat_minor": 5
}
