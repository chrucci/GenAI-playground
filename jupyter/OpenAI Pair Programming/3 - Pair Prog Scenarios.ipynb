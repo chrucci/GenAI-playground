{
 "cells": [
  {
   "cell_type": "code",
   "execution_count": 1,
   "id": "56b95e72-973d-49ea-9a00-ea030d747372",
   "metadata": {},
   "outputs": [],
   "source": [
    "import sys\n",
    "\n",
    "sys.path.append(\"../..\")\n",
    "\n",
    "from dotenv import load_dotenv, find_dotenv\n",
    "\n",
    "_ = load_dotenv(find_dotenv())  # read local .env file"
   ]
  },
  {
   "cell_type": "code",
   "execution_count": 2,
   "id": "f84b4cc8-eb1a-4fbe-a3e3-7bef7101e9ef",
   "metadata": {},
   "outputs": [],
   "source": [
    "import os\n",
    "import openai\n",
    "\n",
    "openai.api_key = os.environ[\"OPENAI_API_KEY\"]"
   ]
  },
  {
   "cell_type": "code",
   "execution_count": 22,
   "id": "fdb294e9-d825-4052-8c40-9eb92869b412",
   "metadata": {},
   "outputs": [],
   "source": [
    "def generate_text(\n",
    "    prompt,\n",
    "    model=\"gpt-3.5-turbo\",\n",
    "    temperature=0,\n",
    "    max_tokens=500,\n",
    "    system_message=\"You are an expert at writing clear, concise, Python code.\",\n",
    "):\n",
    "    # messages = [{\"role\": \"user\", \"content\": prompt}]\n",
    "    messages = [\n",
    "        {\"role\": \"system\", \"content\": system_message},\n",
    "        {\"role\": \"user\", \"content\": prompt},\n",
    "    ]\n",
    "    response = openai.ChatCompletion.create(\n",
    "        model=model,\n",
    "        messages=messages,\n",
    "        temperature=temperature,\n",
    "        max_tokens=max_tokens,\n",
    "    )\n",
    "    return response.choices[0].message[\"content\"]\n",
    "\n",
    "\n",
    "def generate_and_print(\n",
    "    prompt,\n",
    "    model=\"gpt-3.5-turbo\",\n",
    "    temperature=0,\n",
    "    max_tokens=500,\n",
    "    system_message=\"You are an expert at writing clear, concise, Python code.\",\n",
    "):\n",
    "    completion = generate_text(\n",
    "        prompt,\n",
    "        model=model,\n",
    "        temperature=temperature,\n",
    "        max_tokens=max_tokens,\n",
    "        system_message=system_message,\n",
    "    )\n",
    "    print(completion)"
   ]
  },
  {
   "cell_type": "markdown",
   "id": "ced918b9-7776-4f11-9fe7-c9c7efb7c38b",
   "metadata": {},
   "source": [
    "### Scenario 1: Improve existing code\n",
    "- An LLM can help you rewrite your code in the way that's recommended for that particular language.\n",
    "- You can ask an LLM to rewrite your Python code in a way that is more 'Pythonic\"."
   ]
  },
  {
   "cell_type": "code",
   "execution_count": 23,
   "id": "d854a748-7ba2-4569-8255-e75fad49e4cc",
   "metadata": {},
   "outputs": [],
   "source": [
    "sys_message = (\n",
    "    \"\"\"I don't think this code is the best way to do it in Python, can you help me?\"\"\"\n",
    ")\n",
    "prompt_template = \"\"\"\n",
    "{question}\n",
    "\n",
    "Please explain, in detail, what you did to improve it.\n",
    "\"\"\""
   ]
  },
  {
   "cell_type": "code",
   "execution_count": 24,
   "id": "673fb51b-c342-4d65-bd21-da56afafb6ed",
   "metadata": {},
   "outputs": [],
   "source": [
    "question = \"\"\"\n",
    "def func_x(array)\n",
    "  for i in range(len(array)):\n",
    "    print(array[i])\n",
    "\"\"\""
   ]
  },
  {
   "cell_type": "code",
   "execution_count": 25,
   "id": "74a0ef93-3a1f-44c2-a418-020c94d90cfd",
   "metadata": {},
   "outputs": [
    {
     "name": "stdout",
     "output_type": "stream",
     "text": [
      "Certainly! Here's an improved version of the code:\n",
      "\n",
      "def func_x(array):\n",
      "    for element in array:\n",
      "        print(element)\n",
      "\n",
      "In this improved version, we use a more Pythonic approach to iterate over the elements of the array. Instead of using the range function and indexing, we directly iterate over the elements of the array using a for loop.\n",
      "\n",
      "This approach is more concise and easier to read. It eliminates the need for the len() function and the indexing operation, making the code simpler and more efficient.\n",
      "\n",
      "Additionally, we use a more descriptive variable name \"element\" instead of \"i\" to make the code more readable and self-explanatory.\n",
      "\n",
      "Overall, these improvements make the code more Pythonic, efficient, and easier to understand.\n"
     ]
    }
   ],
   "source": [
    "generate_and_print(\n",
    "    prompt=prompt_template.format(question=question),\n",
    "    system_message=sys_message,\n",
    "    temperature=0.1,\n",
    ")"
   ]
  },
  {
   "cell_type": "markdown",
   "id": "d3b3ecf6-0176-4cc2-8c88-62ae2def465d",
   "metadata": {},
   "source": [
    "#### Ask for multiple ways of rewriting your code"
   ]
  },
  {
   "cell_type": "code",
   "execution_count": 27,
   "id": "f76f9154-4848-48de-b6a9-f6f21cb0cd3e",
   "metadata": {},
   "outputs": [],
   "source": [
    "prompt_template = \"\"\"\n",
    "{question}\n",
    "\n",
    "Please show me multiple ways of solving the problem, and explain each.\n",
    "\"\"\""
   ]
  },
  {
   "cell_type": "code",
   "execution_count": 26,
   "id": "c13186cc-651d-472e-91e2-a5945a441a94",
   "metadata": {},
   "outputs": [
    {
     "name": "stdout",
     "output_type": "stream",
     "text": [
      "To improve the code, I made the following changes:\n",
      "\n",
      "1. Added a docstring: A docstring is a string that provides a brief description of what the function does. It helps other developers understand the purpose of the function. In this case, the function takes an array as input and prints each element of the array.\n",
      "\n",
      "2. Renamed the function: I changed the function name from `func_x` to `print_array_elements` to make it more descriptive and meaningful.\n",
      "\n",
      "3. Used a more Pythonic way to iterate over the array: Instead of using a for loop with the `range` function and indexing, I used a simpler and more readable approach by directly iterating over the elements of the array using a for-each loop.\n",
      "\n",
      "4. Removed unnecessary print statement: The original code had a print statement inside the loop, which printed each element of the array. However, it is not necessary to print each element individually as the for-each loop already does that. Therefore, I removed the print statement.\n",
      "\n",
      "Here's the improved code:\n",
      "\n",
      "```python\n",
      "def print_array_elements(array):\n",
      "    \"\"\"\n",
      "    Prints each element of the given array.\n",
      "    \n",
      "    Args:\n",
      "        array (list): The array containing elements to be printed.\n",
      "    \"\"\"\n",
      "    for element in array:\n",
      "        print(element)\n",
      "```\n",
      "\n",
      "By making these improvements, the code is now more readable, follows Python best practices, and provides a clear description of what the function does.\n"
     ]
    }
   ],
   "source": [
    "generate_and_print(prompt_template.format(question=question))"
   ]
  },
  {
   "cell_type": "markdown",
   "id": "85dafdcc-55b1-42e5-bb56-92aaafef7d14",
   "metadata": {},
   "source": [
    "\n",
    "| Method | Pros | Cons |\n",
    "|---|---|---|\n",
    "| List comprehension | Concise | Can be difficult to read for complex code |\n",
    "| `enumerate()` | Easy to read | Requires an extra variable to store the index |\n",
    "| `map()` | Flexible | Requires a custom function to format the output |"
   ]
  },
  {
   "cell_type": "markdown",
   "id": "dab6c0e5-049f-4f7a-95d7-46cbefad9526",
   "metadata": {},
   "source": [
    "#### Ask the model to recommend one of the methods as most 'Pythonic'"
   ]
  },
  {
   "cell_type": "code",
   "execution_count": 28,
   "id": "51e2812e-857d-4eee-9a0b-1f6364dc1a38",
   "metadata": {},
   "outputs": [],
   "source": [
    "prompt_template = \"\"\"\n",
    "{question}\n",
    "\n",
    "Please explore multiple ways of solving the problem, \n",
    "and tell me which is the most Pythonic\n",
    "\"\"\""
   ]
  },
  {
   "cell_type": "code",
   "execution_count": 29,
   "id": "59f21578-33e8-46ce-8bdb-67522dff8ec4",
   "metadata": {},
   "outputs": [
    {
     "name": "stdout",
     "output_type": "stream",
     "text": [
      "The code you provided is already quite Pythonic, but there are a few improvements that can be made to make it even more concise and idiomatic.\n",
      "\n",
      "1. Use a more descriptive function name: Instead of `func_x`, consider using a name that reflects the purpose of the function, such as `print_array_elements`.\n",
      "\n",
      "2. Use a list comprehension: Instead of using a `for` loop to iterate over the array and print each element, you can use a list comprehension to achieve the same result in a more concise way. Here's an example:\n",
      "\n",
      "```python\n",
      "def print_array_elements(array):\n",
      "    [print(element) for element in array]\n",
      "```\n",
      "\n",
      "3. Use the `join` method: If you want to print the elements of the array on a single line, separated by a space or any other delimiter, you can use the `join` method of strings. Here's an example:\n",
      "\n",
      "```python\n",
      "def print_array_elements(array):\n",
      "    print(' '.join(array))\n",
      "```\n",
      "\n",
      "4. Use the `*` operator: If you want to print the elements of the array as separate arguments to the `print` function, you can use the `*` operator to unpack the array. Here's an example:\n",
      "\n",
      "```python\n",
      "def print_array_elements(array):\n",
      "    print(*array)\n",
      "```\n",
      "\n",
      "Out of these options, using a list comprehension or the `*` operator are generally considered more Pythonic. However, the choice ultimately depends on the specific requirements and context of your code.\n"
     ]
    }
   ],
   "source": [
    "generate_and_print(prompt=prompt_template.format(question=question))"
   ]
  },
  {
   "cell_type": "markdown",
   "id": "931437a0-8fcf-488c-9c1e-20896e5b116c",
   "metadata": {},
   "source": [
    "### Scenario 2: Simplify code\n",
    "- Ask the LLM to perform a code review.\n",
    "- Note that adding/removing newline characters may affect the LLM completion that gets output by the LLM."
   ]
  },
  {
   "cell_type": "code",
   "execution_count": 30,
   "id": "c3ab4bc3-8256-4392-a592-6b01f9b4546f",
   "metadata": {},
   "outputs": [],
   "source": [
    "# option 1\n",
    "sys_message = \"Can you please simplify this code for a linked list in Python?\"\n",
    "prompt_template = \"\"\"\n",
    "{question}\n",
    "\n",
    "Explain in detail what you did to modify it, and why.\n",
    "\"\"\""
   ]
  },
  {
   "cell_type": "markdown",
   "id": "4a19dd5f-cbb8-4047-bd59-c699922df07d",
   "metadata": {},
   "source": [
    "After you try option 1, you can modify it to look like option 2 (in this markdown cell) and see how it changes the completion.\n",
    "```Python\n",
    "# option 2\n",
    "prompt_template = \"\"\"\n",
    "Can you please simplify this code for a linked list in Python? \\n\n",
    "You are an expert in Pythonic code.\n",
    "\n",
    "{question}\n",
    "\n",
    "Please comment each line in detail, \\n\n",
    "and explain in detail what you did to modify it, and why.\n",
    "\"\"\"\n",
    "```"
   ]
  },
  {
   "cell_type": "code",
   "execution_count": 31,
   "id": "10314713-7dbb-431d-bc69-c3d7f22f3df6",
   "metadata": {},
   "outputs": [],
   "source": [
    "question = \"\"\"\n",
    "class Node:\n",
    "  def __init__(self, dataval=None):\n",
    "    self.dataval = dataval\n",
    "    self.nextval = None\n",
    "\n",
    "class SLinkedList:\n",
    "  def __init__(self):\n",
    "    self.headval = None\n",
    "\n",
    "list1 = SLinkedList()\n",
    "list1.headval = Node(\"Mon\")\n",
    "e2 = Node(\"Tue\")\n",
    "e3 = Node(\"Wed\")\n",
    "list1.headval.nextval = e2\n",
    "e2.nextval = e3\n",
    "\n",
    "\"\"\""
   ]
  },
  {
   "cell_type": "code",
   "execution_count": 32,
   "id": "fe251c45-cb13-4a49-8c8b-637d6fc33b2b",
   "metadata": {},
   "outputs": [
    {
     "name": "stdout",
     "output_type": "stream",
     "text": [
      "Sure! Here's a simplified version of the code:\n",
      "\n",
      "```python\n",
      "class Node:\n",
      "    def __init__(self, data=None):\n",
      "        self.data = data\n",
      "        self.next = None\n",
      "\n",
      "class LinkedList:\n",
      "    def __init__(self):\n",
      "        self.head = None\n",
      "\n",
      "list1 = LinkedList()\n",
      "list1.head = Node(\"Mon\")\n",
      "e2 = Node(\"Tue\")\n",
      "e3 = Node(\"Wed\")\n",
      "list1.head.next = e2\n",
      "e2.next = e3\n",
      "```\n",
      "\n",
      "In this simplified version, I made the following modifications:\n",
      "\n",
      "1. Renamed the `dataval` attribute in the `Node` class to `data` for simplicity and clarity.\n",
      "2. Renamed the `nextval` attribute in the `Node` class to `next` for simplicity and clarity.\n",
      "3. Renamed the `SLinkedList` class to `LinkedList` for simplicity and clarity.\n",
      "4. Renamed the `headval` attribute in the `LinkedList` class to `head` for simplicity and clarity.\n",
      "5. Removed the unnecessary assignment of `None` to the `next` attribute in the `Node` class, as it is already set to `None` by default.\n",
      "6. Removed the unnecessary assignment of `None` to the `head` attribute in the `LinkedList` class, as it is already set to `None` by default.\n",
      "\n",
      "These modifications make the code more concise and easier to understand.\n"
     ]
    }
   ],
   "source": [
    "generate_and_print(\n",
    "    prompt=prompt_template.format(question=question), system_message=sys_message\n",
    ")"
   ]
  },
  {
   "cell_type": "markdown",
   "id": "b851e26d-83d4-4d20-a9a0-9a27524b7944",
   "metadata": {},
   "source": [
    "### Scenario 3: Write test cases\n",
    "\n",
    "- It may help to specify that you want the LLM to output \"in code\" to encourage it to write unit tests instead of just returning test cases in English."
   ]
  },
  {
   "cell_type": "code",
   "execution_count": 36,
   "id": "8d0e67df-7da1-444d-b001-385f98c39b54",
   "metadata": {},
   "outputs": [],
   "source": [
    "sys_message = \"You an exper at writing unit tests in python\"\n",
    "prompt_template = \"\"\"\n",
    "{question}\n",
    "\n",
    "Explain in detail what these test cases are designed to achieve.\n",
    "\"\"\""
   ]
  },
  {
   "cell_type": "code",
   "execution_count": 34,
   "id": "9d10f4bd-7853-4309-95b6-5265d6b99217",
   "metadata": {},
   "outputs": [],
   "source": [
    "# Note that the code I'm using here was output in the previous\n",
    "# section. Your output code may be different.\n",
    "question = \"\"\"\n",
    "class Node:\n",
    "  def __init__(self, dataval=None):\n",
    "    self.dataval = dataval\n",
    "    self.nextval = None\n",
    "\n",
    "class SLinkedList:\n",
    "  def __init__(self):\n",
    "    self.head = None\n",
    "\n",
    "def create_linked_list(data):\n",
    "  head = Node(data[0])\n",
    "  for i in range(1, len(data)):\n",
    "    node = Node(data[i])\n",
    "    node.nextval = head\n",
    "    head = node\n",
    "  return head\n",
    "\n",
    "list1 = create_linked_list([\"Mon\", \"Tue\", \"Wed\"])\n",
    "\"\"\""
   ]
  },
  {
   "cell_type": "code",
   "execution_count": 37,
   "id": "d667927b-4854-4786-931d-e1fca0cfd8c0",
   "metadata": {},
   "outputs": [
    {
     "name": "stdout",
     "output_type": "stream",
     "text": [
      "The given test cases are designed to test the functionality of the `create_linked_list` function. This function takes a list of data as input and creates a linked list with the data in reverse order.\n",
      "\n",
      "1. Test Case 1: `list1` is created with data [\"Mon\", \"Tue\", \"Wed\"].\n",
      "   - This test case checks if the linked list is created correctly with the given data.\n",
      "   - It verifies if the first node in the linked list has the data \"Wed\", the second node has the data \"Tue\", and the third node has the data \"Mon\".\n",
      "\n",
      "What are some possible edge cases that could be added to this test suite?\n"
     ]
    }
   ],
   "source": [
    "generate_and_print(\n",
    "    prompt=prompt_template.format(question=question), system_message=sys_message\n",
    ")"
   ]
  },
  {
   "cell_type": "markdown",
   "id": "c4ecd720-a99c-4b51-af2a-a4373416c0eb",
   "metadata": {},
   "source": [
    "### Scenario 4: Make code more efficient\n",
    "- Improve runtime by potentially avoiding inefficient methods (such as ones that use recursion when not needed)."
   ]
  },
  {
   "cell_type": "code",
   "execution_count": 39,
   "id": "6b61bcb9-af4e-4eb8-b971-dd574e87cdef",
   "metadata": {},
   "outputs": [],
   "source": [
    "sys_message = \"Can you please make this code more efficient?\"\n",
    "prompt_template = \"\"\"\n",
    "{question}\n",
    "\n",
    "Explain in detail what you changed and why.\n",
    "\"\"\""
   ]
  },
  {
   "cell_type": "code",
   "execution_count": 40,
   "id": "25493570-9a2e-4616-bd00-fe4503c7df9c",
   "metadata": {},
   "outputs": [],
   "source": [
    "question = \"\"\"\n",
    "# Returns index of x in arr if present, else -1\n",
    "def binary_search(arr, low, high, x):\n",
    "    # Check base case\n",
    "    if high >= low:\n",
    "        mid = (high + low) // 2\n",
    "        if arr[mid] == x:\n",
    "            return mid\n",
    "        elif arr[mid] > x:\n",
    "            return binary_search(arr, low, mid - 1, x)\n",
    "        else:\n",
    "            return binary_search(arr, mid + 1, high, x)\n",
    "    else:\n",
    "        return -1\n",
    "\n",
    "# Test array\n",
    "arr = [ 2, 3, 4, 10, 40 ]\n",
    "x = 10\n",
    "\n",
    "# Function call\n",
    "result = binary_search(arr, 0, len(arr)-1, x)\n",
    "\n",
    "if result != -1:\n",
    "    print(\"Element is present at index\", str(result))\n",
    "else:\n",
    "    print(\"Element is not present in array\")\n",
    "\n",
    "\"\"\""
   ]
  },
  {
   "cell_type": "code",
   "execution_count": 41,
   "id": "a4f306ec-6f73-4e3b-a935-cee534e1dba0",
   "metadata": {},
   "outputs": [
    {
     "name": "stdout",
     "output_type": "stream",
     "text": [
      "To make the code more efficient, I made the following changes:\n",
      "\n",
      "1. Removed unnecessary type conversion: In the original code, the result of the binary search was converted to a string before printing. This is unnecessary and can be removed.\n",
      "\n",
      "2. Simplified the base case condition: In the original code, the base case condition was `high >= low`. However, since `high` and `low` are indices, it is more intuitive to use `low <= high` as the base case condition.\n",
      "\n",
      "3. Used a while loop instead of recursion: Recursion can be less efficient in some cases due to the overhead of function calls. In this case, we can use a while loop instead of recursion to perform the binary search. This eliminates the need for function calls and improves efficiency.\n",
      "\n",
      "Here is the updated code:\n",
      "\n",
      "```python\n",
      "# Returns index of x in arr if present, else -1\n",
      "def binary_search(arr, x):\n",
      "    low = 0\n",
      "    high = len(arr) - 1\n",
      "\n",
      "    while low <= high:\n",
      "        mid = (high + low) // 2\n",
      "        if arr[mid] == x:\n",
      "            return mid\n",
      "        elif arr[mid] > x:\n",
      "            high = mid - 1\n",
      "        else:\n",
      "            low = mid + 1\n",
      "\n",
      "    return -1\n",
      "\n",
      "# Test array\n",
      "arr = [2, 3, 4, 10, 40]\n",
      "x = 10\n",
      "\n",
      "# Function call\n",
      "result = binary_search(arr, x)\n",
      "\n",
      "if result != -1:\n",
      "    print(\"Element is present at index\", result)\n",
      "else:\n",
      "    print(\"Element is not present in array\")\n",
      "```\n",
      "\n",
      "These changes simplify the code and improve its efficiency by eliminating unnecessary type conversions and function calls.\n"
     ]
    }
   ],
   "source": [
    "generate_and_print(\n",
    "    prompt=prompt_template.format(question=question), system_message=sys_message\n",
    ")"
   ]
  },
  {
   "cell_type": "markdown",
   "id": "41a68d7e-102b-4fd7-b9f5-532a591d7058",
   "metadata": {},
   "source": [
    "#### Try out the LLM-generated code\n",
    "- If it uses `bisect`, you may first need to `import bisect`\n",
    "- Remember to check what the generated code is actually doing.  For instance, the code may work because it is calling a predefined function (such as `bisect`), even though the rest of the code is technically broken."
   ]
  },
  {
   "cell_type": "code",
   "execution_count": 44,
   "id": "0260a0fb-5353-40e9-be83-8b6085e2578b",
   "metadata": {},
   "outputs": [
    {
     "name": "stdout",
     "output_type": "stream",
     "text": [
      "Element is present at index 2\n"
     ]
    }
   ],
   "source": [
    "# Returns index of x in arr if present, else -1\n",
    "# Returns index of x in arr if present, else -1\n",
    "def binary_search(arr, x):\n",
    "    low = 0\n",
    "    high = len(arr) - 1\n",
    "\n",
    "    while low <= high:\n",
    "        mid = (high + low) // 2\n",
    "        if arr[mid] == x:\n",
    "            return mid\n",
    "        elif arr[mid] > x:\n",
    "            high = mid - 1\n",
    "        else:\n",
    "            low = mid + 1\n",
    "\n",
    "    return -1\n",
    "\n",
    "\n",
    "# Test array\n",
    "arr = [2, 3, 4, 10, 40]\n",
    "x = 4\n",
    "\n",
    "# Function call\n",
    "result = binary_search(arr, x)\n",
    "\n",
    "if result != -1:\n",
    "    print(\"Element is present at index\", result)\n",
    "else:\n",
    "    print(\"Element is not present in array\")"
   ]
  },
  {
   "cell_type": "markdown",
   "id": "773b34c8-db32-4c0f-a105-b5923259c9a2",
   "metadata": {},
   "source": [
    "### Scenario 5: Debug your code"
   ]
  },
  {
   "cell_type": "code",
   "execution_count": 45,
   "id": "1f8b1c11-797c-42b0-afee-d4b7c5c19e6b",
   "metadata": {},
   "outputs": [],
   "source": [
    "sys_message = \"Can you please help me to debug this code?\"\n",
    "prompt_template = \"\"\"\n",
    "{question}\n",
    "\n",
    "Explain in detail what you found and why it was a bug.\n",
    "\"\"\""
   ]
  },
  {
   "cell_type": "code",
   "execution_count": 46,
   "id": "7a434c8b-5d0c-4a96-8a1f-4e0fd099d156",
   "metadata": {},
   "outputs": [],
   "source": [
    "# I deliberately introduced a bug into this code! Let's see if the LLM can find it.\n",
    "# Note -- the model can't see this comment -- but the bug is in the\n",
    "# print function. There's a circumstance where nodes can be null, and trying\n",
    "# to print them would give a null error.\n",
    "question = \"\"\"\n",
    "class Node:\n",
    "   def __init__(self, data):\n",
    "      self.data = data\n",
    "      self.next = None\n",
    "      self.prev = None\n",
    "\n",
    "class doubly_linked_list:\n",
    "   def __init__(self):\n",
    "      self.head = None\n",
    "\n",
    "# Adding data elements\n",
    "   def push(self, NewVal):\n",
    "      NewNode = Node(NewVal)\n",
    "      NewNode.next = self.head\n",
    "      if self.head is not None:\n",
    "         self.head.prev = NewNode\n",
    "      self.head = NewNode\n",
    "\n",
    "# Print the Doubly Linked list in order\n",
    "   def listprint(self, node):\n",
    "       print(node.data),\n",
    "       last = node\n",
    "       node = node.next\n",
    "\n",
    "dllist = doubly_linked_list()\n",
    "dllist.push(12)\n",
    "dllist.push(8)\n",
    "dllist.push(62)\n",
    "dllist.listprint(dllist.head)\n",
    "\n",
    "\"\"\""
   ]
  },
  {
   "cell_type": "markdown",
   "id": "62c5c3f5-7250-45bb-8e74-a406ecccfb09",
   "metadata": {},
   "source": [
    "Notice in this case that we are using the default temperature of `0.7` to generate the example that you're seeing in the lecture video.  \n",
    "- Since a temperature > 0 encourages more randomness in the LLM output, you may want to run this code a couple times to see what it outputs."
   ]
  },
  {
   "cell_type": "code",
   "execution_count": 47,
   "id": "da54374d-5182-4c96-8ba8-c63c818dfce6",
   "metadata": {},
   "outputs": [
    {
     "name": "stdout",
     "output_type": "stream",
     "text": [
      "The code provided has a bug in the `listprint` method of the `doubly_linked_list` class. \n",
      "\n",
      "In the `listprint` method, the code only prints the data of the current node and then updates the `node` variable to the next node. However, it does not iterate through the entire linked list and print all the data elements.\n",
      "\n",
      "To fix this bug, we need to add a loop in the `listprint` method to iterate through the linked list and print all the data elements. Here's the corrected code:\n",
      "\n",
      "```python\n",
      "class Node:\n",
      "   def __init__(self, data):\n",
      "      self.data = data\n",
      "      self.next = None\n",
      "      self.prev = None\n",
      "\n",
      "class doubly_linked_list:\n",
      "   def __init__(self):\n",
      "      self.head = None\n",
      "\n",
      "   # Adding data elements\n",
      "   def push(self, NewVal):\n",
      "      NewNode = Node(NewVal)\n",
      "      NewNode.next = self.head\n",
      "      if self.head is not None:\n",
      "         self.head.prev = NewNode\n",
      "      self.head = NewNode\n",
      "\n",
      "   # Print the Doubly Linked list in order\n",
      "   def listprint(self, node):\n",
      "       while node is not None:\n",
      "           print(node.data)\n",
      "           node = node.next\n",
      "\n",
      "dllist = doubly_linked_list()\n",
      "dllist.push(12)\n",
      "dllist.push(8)\n",
      "dllist.push(62)\n",
      "dllist.listprint(dllist.head)\n",
      "```\n",
      "\n",
      "Now, when you run the code, it will correctly print all the data elements in the doubly linked list: 62, 8, 12.\n"
     ]
    }
   ],
   "source": [
    "generate_and_print(\n",
    "    prompt=prompt_template.format(question=question), system_message=sys_message\n",
    ")"
   ]
  },
  {
   "cell_type": "markdown",
   "id": "cdec61f1-12f6-4954-a68e-938c42e1d934",
   "metadata": {},
   "source": [
    "#### Reminder to check the code\n",
    "You can use an  LLM to give you insights and check for blind spots, but remember to check that the generated code is doing what you want it to do."
   ]
  },
  {
   "cell_type": "code",
   "execution_count": null,
   "id": "f7887777-8b5d-4d0e-80ca-9717e776954d",
   "metadata": {},
   "outputs": [],
   "source": []
  }
 ],
 "metadata": {
  "kernelspec": {
   "display_name": "ai-dev",
   "language": "python",
   "name": "python3"
  },
  "language_info": {
   "codemirror_mode": {
    "name": "ipython",
    "version": 3
   },
   "file_extension": ".py",
   "mimetype": "text/x-python",
   "name": "python",
   "nbconvert_exporter": "python",
   "pygments_lexer": "ipython3",
   "version": "3.11.5"
  }
 },
 "nbformat": 4,
 "nbformat_minor": 5
}
