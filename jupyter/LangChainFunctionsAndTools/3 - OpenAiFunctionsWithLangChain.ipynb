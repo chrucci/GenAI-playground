{
 "cells": [
  {
   "cell_type": "code",
   "execution_count": 1,
   "metadata": {},
   "outputs": [],
   "source": [
    "import os\n",
    "import openai\n",
    "\n",
    "from dotenv import load_dotenv, find_dotenv\n",
    "_ = load_dotenv(find_dotenv()) # read local .env file\n",
    "openai.api_key = os.environ['OPENAI_API_KEY']"
   ]
  },
  {
   "cell_type": "code",
   "execution_count": 2,
   "metadata": {},
   "outputs": [],
   "source": [
    "from typing import List\n",
    "from pydantic import BaseModel, Field"
   ]
  },
  {
   "cell_type": "markdown",
   "metadata": {},
   "source": [
    "## Pydantic Syntax\n",
    "\n",
    "Pydantic data classes are a blend of Python's data classes with the validation power of Pydantic. \n",
    "\n",
    "They offer a concise way to define data structures while ensuring that the data adheres to specified types and constraints.\n",
    "\n",
    "In standard python you would create a class like thi"
   ]
  },
  {
   "cell_type": "code",
   "execution_count": 3,
   "metadata": {},
   "outputs": [
    {
     "name": "stdout",
     "output_type": "stream",
     "text": [
      "Joe's age is bar\n"
     ]
    },
    {
     "data": {
      "text/plain": [
       "<__main__.User at 0x7fbb4aee8f10>"
      ]
     },
     "execution_count": 3,
     "metadata": {},
     "output_type": "execute_result"
    }
   ],
   "source": [
    "#standard class syntax (Not pydantic)\n",
    "# Doesn't do type checking\n",
    "class User:\n",
    "    def __init__(self, name: str, age: int, email: str):\n",
    "        self.name = name\n",
    "        self.age = age\n",
    "        self.email = email\n",
    "        \n",
    "foo = User(name=\"Joe\",age=\"bar\", email=\"joe@gmail.com\")     \n",
    "print(f\"Joe's age is {foo.age}\")  \n",
    "foo\n",
    "# we defined age as an INT, but it accepted a string happily.  WTH."
   ]
  },
  {
   "cell_type": "code",
   "execution_count": 4,
   "metadata": {},
   "outputs": [
    {
     "data": {
      "text/plain": [
       "pUser(name='Jane', age=32, email='jane@gmail.com')"
      ]
     },
     "execution_count": 4,
     "metadata": {},
     "output_type": "execute_result"
    }
   ],
   "source": [
    "# Pydantic allows you to strongly type your fields\n",
    "class pUser(BaseModel):\n",
    "    name: str\n",
    "    age: int\n",
    "    email: str\n",
    "    \n",
    "foo_p = pUser(name=\"Jane\", age=32, email=\"jane@gmail.com\")\n",
    "foo_p #pydantic objects also print with useful information."
   ]
  },
  {
   "cell_type": "code",
   "execution_count": 5,
   "metadata": {},
   "outputs": [
    {
     "ename": "ValidationError",
     "evalue": "1 validation error for pUser\nage\n  value is not a valid integer (type=type_error.integer)",
     "output_type": "error",
     "traceback": [
      "\u001b[0;31m---------------------------------------------------------------------------\u001b[0m",
      "\u001b[0;31mValidationError\u001b[0m                           Traceback (most recent call last)",
      "\u001b[1;32m/home/chris/Dev/GitHub/GenAI-playground/jupyter/LangChainFunctionsAndTools/3 - OpenAiFunctionsWithLangChain.ipynb Cell 6\u001b[0m line \u001b[0;36m1\n\u001b[0;32m----> <a href='vscode-notebook-cell://wsl%2Bubuntu-22.04/home/chris/Dev/GitHub/GenAI-playground/jupyter/LangChainFunctionsAndTools/3%20-%20OpenAiFunctionsWithLangChain.ipynb#W5sdnNjb2RlLXJlbW90ZQ%3D%3D?line=0'>1</a>\u001b[0m foo_p \u001b[39m=\u001b[39m pUser(name\u001b[39m=\u001b[39;49m\u001b[39m\"\u001b[39;49m\u001b[39mJane\u001b[39;49m\u001b[39m\"\u001b[39;49m, age\u001b[39m=\u001b[39;49m\u001b[39m\"\u001b[39;49m\u001b[39mbar\u001b[39;49m\u001b[39m\"\u001b[39;49m, email\u001b[39m=\u001b[39;49m\u001b[39m\"\u001b[39;49m\u001b[39mjane@gmail.com\u001b[39;49m\u001b[39m\"\u001b[39;49m)\n",
      "File \u001b[0;32m~/anaconda3/envs/ai-dev/lib/python3.11/site-packages/pydantic/main.py:341\u001b[0m, in \u001b[0;36mpydantic.main.BaseModel.__init__\u001b[0;34m()\u001b[0m\n",
      "\u001b[0;31mValidationError\u001b[0m: 1 validation error for pUser\nage\n  value is not a valid integer (type=type_error.integer)"
     ]
    }
   ],
   "source": [
    "# This throws a validation error, because \"bar\" is not an INT.\n",
    "foo_p = pUser(name=\"Jane\", age=\"bar\", email=\"jane@gmail.com\")"
   ]
  },
  {
   "cell_type": "code",
   "execution_count": 7,
   "metadata": {},
   "outputs": [
    {
     "data": {
      "text/plain": [
       "Class(students=[pUser(name='Jane', age=32, email='jane@gmail.com')])"
      ]
     },
     "execution_count": 7,
     "metadata": {},
     "output_type": "execute_result"
    }
   ],
   "source": [
    "# you can even next pydantic objects.  NOTE: a list of pUsers (defined above) is the data type for students.\n",
    "class Class(BaseModel):\n",
    "    students: List[pUser]\n",
    "\n",
    "obj = Class(\n",
    "    students=[pUser(name=\"Jane\", age=32, email=\"jane@gmail.com\")]\n",
    ")\n",
    "obj"
   ]
  },
  {
   "cell_type": "markdown",
   "metadata": {},
   "source": [
    "## Pydantic to OpenAI function definition\n"
   ]
  },
  {
   "cell_type": "code",
   "execution_count": null,
   "metadata": {},
   "outputs": [],
   "source": [
    "# this class is logically the same as the function that we defined in previous lessons\n",
    "class WeatherSearch(BaseModel):\n",
    "    \"\"\"Call this with an airport code to get the weather at that airport\"\"\"\n",
    "    airport_code: str = Field(description=\"airport code to get weather for\")\n",
    "    \n",
    "from langchain.utils.openai_functions import convert_pydantic_to_openai_function\n",
    "weather_function = convert_pydantic_to_openai_function(WeatherSearch)"
   ]
  }
 ],
 "metadata": {
  "kernelspec": {
   "display_name": "ai-dev",
   "language": "python",
   "name": "python3"
  },
  "language_info": {
   "codemirror_mode": {
    "name": "ipython",
    "version": 3
   },
   "file_extension": ".py",
   "mimetype": "text/x-python",
   "name": "python",
   "nbconvert_exporter": "python",
   "pygments_lexer": "ipython3",
   "version": "3.11.5"
  }
 },
 "nbformat": 4,
 "nbformat_minor": 2
}
