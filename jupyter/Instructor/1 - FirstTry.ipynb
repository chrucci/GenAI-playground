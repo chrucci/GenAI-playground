{
 "cells": [
  {
   "cell_type": "markdown",
   "metadata": {},
   "source": [
    "Getting Started"
   ]
  },
  {
   "cell_type": "code",
   "execution_count": 9,
   "metadata": {},
   "outputs": [],
   "source": [
    "import instructor\n",
    "from openai import OpenAI\n",
    "from pydantic import BaseModel, Field\n",
    "from typing import Optional\n",
    "\n",
    "# This enables response_model keyword\n",
    "# from client.chat.completions.create\n",
    "client = instructor.patch(OpenAI())\n",
    "\n",
    "class Age(BaseModel):\n",
    "    chain_of_thought: str = Field(...,\n",
    "        description=\"Think step by step to determine the correct number of years old the user is.\")\n",
    "    years: int\n",
    "\n",
    "class UserDetail(BaseModel):\n",
    "    \"\"\"This is information about a user.  \n",
    "    \"\"\"\n",
    "    name: str = Field(description=\"The first and last name of the user.\")\n",
    "    age: Age \n",
    "    occupation: Optional[str] = Field(description=\"The name of the users job.\")\n",
    "\n",
    "user = client.chat.completions.create(\n",
    "    model=\"gpt-4-1106-preview\",\n",
    "    response_model=UserDetail,\n",
    "    messages=[\n",
    "        {\"role\": \"user\", \"content\": \"The first person to walk in the room is named Steve Farmpt. He is the same age as the comedian Mel Brooks. He's from the Cornell family. He works down at the shoe factory on the assembly line. Because he's big, people typically address him as Mr. Gantenbien.\"},\n",
    "    ]\n",
    ")\n",
    "\n"
   ]
  },
  {
   "cell_type": "code",
   "execution_count": 10,
   "metadata": {},
   "outputs": [
    {
     "data": {
      "text/plain": [
       "UserDetail(name='Steve Farmpt', age=Age(chain_of_thought='the same age as Mel Brooks', years=94), occupation='Assembly Line Worker at the Shoe Factory')"
      ]
     },
     "execution_count": 10,
     "metadata": {},
     "output_type": "execute_result"
    }
   ],
   "source": [
    "user"
   ]
  },
  {
   "cell_type": "code",
   "execution_count": 28,
   "metadata": {},
   "outputs": [
    {
     "ename": "AssertionError",
     "evalue": "",
     "output_type": "error",
     "traceback": [
      "\u001b[0;31m---------------------------------------------------------------------------\u001b[0m",
      "\u001b[0;31mAssertionError\u001b[0m                            Traceback (most recent call last)",
      "\u001b[1;32m/home/chris/Dev/GitHub/GenAI-playground/jupyter/Instructor/1 - FirstTry.ipynb Cell 4\u001b[0m line \u001b[0;36m3\n\u001b[1;32m      <a href='vscode-notebook-cell://wsl%2Bubuntu-22.04/home/chris/Dev/GitHub/GenAI-playground/jupyter/Instructor/1%20-%20FirstTry.ipynb#W2sdnNjb2RlLXJlbW90ZQ%3D%3D?line=0'>1</a>\u001b[0m \u001b[39massert\u001b[39;00m \u001b[39misinstance\u001b[39m(user, UserDetail)\n\u001b[1;32m      <a href='vscode-notebook-cell://wsl%2Bubuntu-22.04/home/chris/Dev/GitHub/GenAI-playground/jupyter/Instructor/1%20-%20FirstTry.ipynb#W2sdnNjb2RlLXJlbW90ZQ%3D%3D?line=1'>2</a>\u001b[0m \u001b[39massert\u001b[39;00m user\u001b[39m.\u001b[39mname \u001b[39m==\u001b[39m \u001b[39m\"\u001b[39m\u001b[39mSteve Farmpt\u001b[39m\u001b[39m\"\u001b[39m\n\u001b[0;32m----> <a href='vscode-notebook-cell://wsl%2Bubuntu-22.04/home/chris/Dev/GitHub/GenAI-playground/jupyter/Instructor/1%20-%20FirstTry.ipynb#W2sdnNjb2RlLXJlbW90ZQ%3D%3D?line=2'>3</a>\u001b[0m \u001b[39massert\u001b[39;00m user\u001b[39m.\u001b[39mage \u001b[39m==\u001b[39m \u001b[39m97\u001b[39m\n\u001b[1;32m      <a href='vscode-notebook-cell://wsl%2Bubuntu-22.04/home/chris/Dev/GitHub/GenAI-playground/jupyter/Instructor/1%20-%20FirstTry.ipynb#W2sdnNjb2RlLXJlbW90ZQ%3D%3D?line=3'>4</a>\u001b[0m \u001b[39massert\u001b[39;00m user\u001b[39m.\u001b[39moccupation \u001b[39m==\u001b[39m \u001b[39m\"\u001b[39m\u001b[39mAssembly Line Worker\u001b[39m\u001b[39m\"\u001b[39m\n",
      "\u001b[0;31mAssertionError\u001b[0m: "
     ]
    }
   ],
   "source": [
    "assert isinstance(user, UserDetail)\n",
    "assert user.name == \"Steve Farmpt\"\n",
    "assert user.age == 97\n",
    "assert user.occupation == \"Assembly Line Worker\""
   ]
  },
  {
   "cell_type": "code",
   "execution_count": null,
   "metadata": {},
   "outputs": [],
   "source": []
  },
  {
   "cell_type": "code",
   "execution_count": null,
   "metadata": {},
   "outputs": [],
   "source": []
  },
  {
   "cell_type": "code",
   "execution_count": null,
   "metadata": {},
   "outputs": [],
   "source": []
  }
 ],
 "metadata": {
  "kernelspec": {
   "display_name": "instructor",
   "language": "python",
   "name": "python3"
  },
  "language_info": {
   "codemirror_mode": {
    "name": "ipython",
    "version": 3
   },
   "file_extension": ".py",
   "mimetype": "text/x-python",
   "name": "python",
   "nbconvert_exporter": "python",
   "pygments_lexer": "ipython3",
   "version": "3.11.5"
  }
 },
 "nbformat": 4,
 "nbformat_minor": 2
}
