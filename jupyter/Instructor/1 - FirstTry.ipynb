{
 "cells": [
  {
   "cell_type": "code",
   "execution_count": 5,
   "metadata": {},
   "outputs": [],
   "source": [
    "import os\n",
    "import openai\n",
    "import sys\n",
    "\n",
    "sys.path.append(\"../..\")\n",
    "\n",
    "from dotenv import load_dotenv, find_dotenv\n",
    "\n",
    "_ = load_dotenv(find_dotenv())  # read local .env file\n",
    "\n",
    "openai.api_key = os.environ[\"OPENAI_API_KEY\"]"
   ]
  },
  {
   "cell_type": "markdown",
   "metadata": {},
   "source": [
    "Getting Started"
   ]
  },
  {
   "cell_type": "code",
   "execution_count": 6,
   "metadata": {},
   "outputs": [],
   "source": [
    "import instructor\n",
    "from openai import OpenAI\n",
    "from pydantic import BaseModel, Field\n",
    "from typing import Optional\n",
    "\n",
    "# This enables response_model keyword\n",
    "# from client.chat.completions.create\n",
    "client = instructor.patch(OpenAI())\n",
    "\n",
    "\n",
    "class Age(BaseModel):\n",
    "    chain_of_thought: str = Field(\n",
    "        ...,\n",
    "        description=\"Think step by step to determine the correct number of years old the user is.\",\n",
    "    )\n",
    "    years: int\n",
    "\n",
    "\n",
    "class UserDetail(BaseModel):\n",
    "    \"\"\"This is information about a user.\"\"\"\n",
    "\n",
    "    name: str = Field(description=\"The first and last name of the user.\")\n",
    "    age: Age\n",
    "    occupation: Optional[str] = Field(description=\"The name of the users job.\")\n",
    "\n",
    "\n",
    "user = client.chat.completions.create(\n",
    "    model=\"gpt-4-1106-preview\",\n",
    "    response_model=UserDetail,\n",
    "    messages=[\n",
    "        {\n",
    "            \"role\": \"user\",\n",
    "            \"content\": \"Today is December 1, 2026. The first person to walk in the room is named Steve Farmpt. He is the same age as the comedian Mel Brooks. He's from the Cornell family. He works down at the shoe factory on the assembly line. Because he's big, people typically address him as Mr. Gantenbien.\",\n",
    "        },\n",
    "    ],\n",
    ")"
   ]
  },
  {
   "cell_type": "code",
   "execution_count": 7,
   "metadata": {},
   "outputs": [
    {
     "data": {
      "text/plain": [
       "UserDetail(name='Steve Farmpt', age=Age(chain_of_thought='To know the current age of Steve Farmpt, we need to determine the age of Mel Brooks as of 2026. Mel Brooks was born on June 28, 1926. By December 1, 2026, he would have celebrated his 100th birthday. Therefore, Steve Farmpt is also 100 years old.', years=100), occupation='assembly line worker at a shoe factory')"
      ]
     },
     "execution_count": 7,
     "metadata": {},
     "output_type": "execute_result"
    }
   ],
   "source": [
    "user"
   ]
  },
  {
   "cell_type": "markdown",
   "metadata": {},
   "source": [
    "Handle error messages"
   ]
  },
  {
   "cell_type": "code",
   "execution_count": 8,
   "metadata": {},
   "outputs": [],
   "source": [
    "# class UserDetail(BaseModel):\n",
    "#     age: int\n",
    "#     name: str\n",
    "#     role: Optional[str] = Field(default=None)\n",
    "\n",
    "\n",
    "class MaybeUser(BaseModel):\n",
    "    result: Optional[UserDetail] = Field(default=None)\n",
    "    error: bool = Field(default=False)\n",
    "    message: Optional[str]\n",
    "\n",
    "    def __bool__(self):\n",
    "        return self.result is not None\n",
    "\n",
    "\n",
    "def create_user_from_sentence(sentence):\n",
    "    return client.chat.completions.create(\n",
    "        model=\"gpt-3.5-turbo\",\n",
    "        response_model=MaybeUser,\n",
    "        messages=[\n",
    "            {\"role\": \"user\", \"content\": sentence},\n",
    "        ],\n",
    "    )"
   ]
  },
  {
   "cell_type": "code",
   "execution_count": 9,
   "metadata": {},
   "outputs": [
    {
     "name": "stdout",
     "output_type": "stream",
     "text": [
      "this was successful: name='John' age=Age(chain_of_thought='mechanic', years=10) occupation='mechanic'\n"
     ]
    }
   ],
   "source": [
    "# user = create_user_from_sentence(\"No one is anybody\")\n",
    "user = create_user_from_sentence(\n",
    "    \"John was a mechanic since he was 10 years old in 1983.\"\n",
    ")\n",
    "\n",
    "\n",
    "if user:\n",
    "    print(f\"this was successful: {user.result}\")\n",
    "else:\n",
    "    print(f\"this was unsuccessful: {user.error} {user.message}\")"
   ]
  },
  {
   "cell_type": "code",
   "execution_count": 10,
   "metadata": {},
   "outputs": [],
   "source": [
    "EasyMaybeUser = instructor.Maybe(UserDetail)\n",
    "\n",
    "\n",
    "def create_user_from_sentence_easy(sentence):\n",
    "    return client.chat.completions.create(\n",
    "        model=\"gpt-3.5-turbo\",\n",
    "        response_model=EasyMaybeUser,\n",
    "        messages=[\n",
    "            {\"role\": \"user\", \"content\": sentence},\n",
    "        ],\n",
    "    )"
   ]
  },
  {
   "cell_type": "code",
   "execution_count": 11,
   "metadata": {},
   "outputs": [
    {
     "name": "stdout",
     "output_type": "stream",
     "text": [
      "this was unsuccessful: True No user was found\n"
     ]
    }
   ],
   "source": [
    "user = create_user_from_sentence_easy(\"No one is anybody\")\n",
    "# user = create_user_from_sentence_easy(\"John was a mechanic since he was 10 years old in 1983.\")\n",
    "\n",
    "\n",
    "if user:\n",
    "    print(f\"this was successful: {user.result}\")\n",
    "else:\n",
    "    print(f\"this was unsuccessful: {user.error} {user.message}\")"
   ]
  },
  {
   "cell_type": "code",
   "execution_count": null,
   "metadata": {},
   "outputs": [],
   "source": []
  },
  {
   "cell_type": "code",
   "execution_count": null,
   "metadata": {},
   "outputs": [],
   "source": []
  }
 ],
 "metadata": {
  "kernelspec": {
   "display_name": "instructor",
   "language": "python",
   "name": "python3"
  },
  "language_info": {
   "codemirror_mode": {
    "name": "ipython",
    "version": 3
   },
   "file_extension": ".py",
   "mimetype": "text/x-python",
   "name": "python",
   "nbconvert_exporter": "python",
   "pygments_lexer": "ipython3",
   "version": "3.11.5"
  }
 },
 "nbformat": 4,
 "nbformat_minor": 2
}
