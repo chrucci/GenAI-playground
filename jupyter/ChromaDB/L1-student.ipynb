{
 "cells": [
  {
   "cell_type": "markdown",
   "id": "ec889d86-0d16-477f-8b7f-be03d73ad957",
   "metadata": {},
   "source": [
    "# Lab 1 - Overview of embeddings-based retrieval"
   ]
  },
  {
   "cell_type": "markdown",
   "id": "58ee2f53-d88b-4f00-94a2-75a66d4149e9",
   "metadata": {},
   "source": [
    "Welcome! Here's a few notes about the Chroma course notebooks.\n",
    " - A number of warnings pop up when running the notebooks. These are normal and can be ignored.\n",
    " - Some operations such as calling an LLM or an opeation using generated data return unpredictable results and so your notebook outputs may differ from the video.\n",
    "  \n",
    "Enjoy the course!"
   ]
  },
  {
   "cell_type": "code",
   "execution_count": 3,
   "id": "5a5536f0-651c-40e7-aa15-27ee0cda80b7",
   "metadata": {
    "height": 30
   },
   "outputs": [],
   "source": [
    "from helper_utils import word_wrap"
   ]
  },
  {
   "cell_type": "code",
   "execution_count": 4,
   "id": "3748b16d-d4a7-49c3-a48a-57dcfc42acd6",
   "metadata": {
    "height": 166
   },
   "outputs": [
    {
     "name": "stdout",
     "output_type": "stream",
     "text": [
      "1 Dear shareholders, colleagues, customers, and partners:  \n",
      "We are living through a period of historic economic, societal, and geopolitical change. The world in 2022 looks nothing like \n",
      "the world in 2019. As I write this, inflation is at a 40 -year\n",
      "high, supply chains are stretched, and the war in Ukraine is \n",
      "ongoing. At the same time, we are entering a technological era with the potential to power awesome advancements \n",
      "across every sector of our economy and society. As the world’s largest\n",
      "software company, this places us at a historic \n",
      "intersection of opportunity and responsibility to the world around us.  \n",
      "Our mission to empower every person and every organization on the planet to achieve more has never been more \n",
      "urgent or more\n",
      "necessary. For all the uncertainty in the world, one thing is clear: People and organizations in every \n",
      "industry are increasingly looking to digital technology to overcome today’s challenges and emerge stronger. And no \n",
      "company is better positioned\n",
      "to help them than Microsoft.  \n",
      "Every day this past fiscal year I have had the privilege to witness our customers use our platforms and tools to connect \n",
      "what technology can do with what the world needs  it to do.  \n",
      "Here are just a few examples:  \n",
      "•\n",
      "Ferrovial, which builds and manages some of the world’s busiest airports and highways, is using our cloud \n",
      "infrastructure to build safer roads as it prepares for a future of autonomous transportation.  \n",
      "• Peace Parks Foundation, a nonprofit helping\n",
      "protect natural ecosystems in Southern Africa, is using Microsoft \n",
      "Dynamics 365 and Power BI to secure essential funding, as well as our Azure AI and IoT solutions to help \n",
      "rangers scale their park maintenance and wildlife crime prevention work.  \n",
      "•\n",
      "One of the world’s largest robotics companies, Kawasaki Heavy Industries, is using the breadth of our tools —\n",
      "from Azure IoT and HoloLens —to create an industrial metaverse solution that brings its distributed workforce \n",
      "together with its network of\n",
      "connected equipment to improve productivity and keep employees safe.  \n",
      "• Globo, the biggest media and TV company in Brazil, is using Power Platform to empower its employees to \n",
      "build their own solutions for everything from booking sets to setting\n",
      "schedules.  \n",
      "• And Ørsted, which produces a quarter of the world’s wind energy, is using the Microsoft Intelligent Data \n",
      "Platform to turn data from its offshore turbines into insights for predictive maintenance.  \n",
      "Amid this dynamic environment, we\n",
      "delivered record results in fiscal year 2022: We reported $198  billion in revenue and \n",
      "$83 billion in operating income. And the Microsoft Cloud surpassed $100  billion in annualized revenue for the first time.  \n",
      "OUR RESPONSIBILITY  \n",
      "As a\n",
      "corporation, our purpose and actions must be aligned with addressing the world’s problems, not creating new ones. \n",
      "At our very core, we need to deliver innovation that helps drive broad economic growth. We, as a company, will do well \n",
      "when the world\n",
      "around us does well.  \n",
      "That’s what I believe will lead to widespread human progress and ultimately improve the lives of everyone. There is no \n",
      "more powerful input than digital technology to drive the world’s economic output. This is the core thesis\n",
      "for our being as a \n",
      "company, but it’s not enough. As we drive global economic growth, we must also commit to creating a more inclusive, \n",
      "equitable, sustainable, and trusted future.  \n",
      "Support inclusive economic growth  \n",
      "We must ensure the growth we\n",
      "drive reaches every person, organization, community, and country. This starts with \n",
      "increasing access to digital skills. This year alone, more than 23  million people accessed digital skills training as part of \n",
      "our global skills initiative.\n"
     ]
    }
   ],
   "source": [
    "from pypdf import PdfReader\n",
    "\n",
    "reader = PdfReader(\"microsoft_annual_report_2022.pdf\")\n",
    "pdf_texts = [p.extract_text().strip() for p in reader.pages]\n",
    "\n",
    "# Filter the empty strings\n",
    "pdf_texts = [text for text in pdf_texts if text]\n",
    "\n",
    "print(word_wrap(pdf_texts[0], 250))"
   ]
  },
  {
   "cell_type": "markdown",
   "id": "bbd608a5-b6c9-4ae9-a871-a3e470a4d12a",
   "metadata": {},
   "source": [
    "You can view the pdf in your browser [here](./microsoft_annual_report_2022.pdf) if you would like. "
   ]
  },
  {
   "cell_type": "code",
   "execution_count": 5,
   "id": "a338ec83-6301-41a5-9ab1-e5d583306a3f",
   "metadata": {
    "height": 64
   },
   "outputs": [],
   "source": [
    "from langchain.text_splitter import RecursiveCharacterTextSplitter, SentenceTransformersTokenTextSplitter\n"
   ]
  },
  {
   "cell_type": "code",
   "execution_count": 6,
   "id": "888a86f8-2fe2-4682-bdaf-c15129ed1a32",
   "metadata": {
    "height": 183
   },
   "outputs": [
    {
     "name": "stdout",
     "output_type": "stream",
     "text": [
      "increased, due in large part to significant global datacenter\n",
      "expansions and the growth in Xbox sales and usage. Despite \n",
      "these\n",
      "increases, we remain dedicated to achieving a net -zero future. We\n",
      "recognize that progress won’t always be linear, \n",
      "and the rate at which\n",
      "we can implement emissions reductions is dependent on many factors that\n",
      "can fluctuate over time.  \n",
      "On the path to becoming water positive, we\n",
      "invested in 21 water replenishment projects that are expected to\n",
      "generate \n",
      "over 1.3  million cubic meters of volumetric benefits in nine\n",
      "water basins around the world. Progress toward our zero waste\n",
      "\n",
      "commitment included diverting more than 15,200 metric tons of solid\n",
      "waste otherwise headed to landfills and incinerators, \n",
      "as well as\n",
      "launching new Circular Centers to increase reuse and reduce e -waste at\n",
      "our datacenters.  \n",
      "We contracted to protect over 17,000 acres of land\n",
      "(50% more than the land we use to operate), thus achieving our\n",
      "\n",
      "Total chunks: 347\n"
     ]
    }
   ],
   "source": [
    "# The separators is a hierarchy of splitting characters.  It will use the minimum required to get to chunk of `chunk_size` characters.\n",
    "character_splitter = RecursiveCharacterTextSplitter(\n",
    "    separators=[\"\\n\\n\", \"\\n\", \". \", \" \", \"\"],\n",
    "    chunk_size=1000,\n",
    "    chunk_overlap=0\n",
    ")\n",
    "character_split_texts = character_splitter.split_text('\\n\\n'.join(pdf_texts))\n",
    "\n",
    "print(word_wrap(character_split_texts[10]))\n",
    "print(f\"\\nTotal chunks: {len(character_split_texts)}\")"
   ]
  },
  {
   "cell_type": "code",
   "execution_count": 7,
   "id": "5665c695-22ea-4264-b1ac-5ba720b6d78b",
   "metadata": {
    "height": 166
   },
   "outputs": [
    {
     "name": "stderr",
     "output_type": "stream",
     "text": [
      "/home/chris/anaconda3/envs/rag/lib/python3.10/site-packages/tqdm/auto.py:21: TqdmWarning: IProgress not found. Please update jupyter and ipywidgets. See https://ipywidgets.readthedocs.io/en/stable/user_install.html\n",
      "  from .autonotebook import tqdm as notebook_tqdm\n"
     ]
    },
    {
     "name": "stdout",
     "output_type": "stream",
     "text": [
      "increased, due in large part to significant global datacenter\n",
      "expansions and the growth in xbox sales and usage. despite these\n",
      "increases, we remain dedicated to achieving a net - zero future. we\n",
      "recognize that progress won ’ t always be linear, and the rate at which\n",
      "we can implement emissions reductions is dependent on many factors that\n",
      "can fluctuate over time. on the path to becoming water positive, we\n",
      "invested in 21 water replenishment projects that are expected to\n",
      "generate over 1. 3 million cubic meters of volumetric benefits in nine\n",
      "water basins around the world. progress toward our zero waste\n",
      "commitment included diverting more than 15, 200 metric tons of solid\n",
      "waste otherwise headed to landfills and incinerators, as well as\n",
      "launching new circular centers to increase reuse and reduce e - waste\n",
      "at our datacenters. we contracted to protect over 17, 000 acres of land\n",
      "( 50 % more than the land we use to operate ), thus achieving our\n",
      "\n",
      "Total chunks: 349\n"
     ]
    }
   ],
   "source": [
    "token_splitter = SentenceTransformersTokenTextSplitter(chunk_overlap=0, tokens_per_chunk=256)\n",
    "\n",
    "token_split_texts = []\n",
    "for text in character_split_texts:\n",
    "    token_split_texts += token_splitter.split_text(text)\n",
    "\n",
    "print(word_wrap(token_split_texts[10]))\n",
    "print(f\"\\nTotal chunks: {len(token_split_texts)}\")"
   ]
  },
  {
   "cell_type": "code",
   "execution_count": 8,
   "id": "c2a13d14-4484-46f0-8e67-277337f9d138",
   "metadata": {
    "height": 115
   },
   "outputs": [
    {
     "name": "stdout",
     "output_type": "stream",
     "text": [
      "[[0.04256264865398407, 0.033211804926395416, 0.030340073630213737, -0.034866590052843094, 0.06841649860143661, -0.08090909570455551, -0.015474398620426655, -0.0014509257161989808, -0.01674444042146206, 0.06770771741867065, -0.050541363656520844, -0.049195390194654465, 0.05139993876218796, 0.09192727506160736, -0.07177841663360596, 0.03951968625187874, -0.0128335477784276, -0.024947471916675568, -0.04622863233089447, -0.02435753308236599, 0.033949654549360275, 0.025502434000372887, 0.027317125350236893, -0.00412623630836606, -0.036338359117507935, 0.003690894693136215, -0.027430463582277298, 0.004796718247234821, -0.028896236792206764, -0.018870722502470016, 0.03666628897190094, 0.02569587342441082, 0.03131282329559326, -0.0639343410730362, 0.05394404008984566, 0.08225350826978683, -0.04175683856010437, -0.006995777599513531, -0.023486042395234108, -0.030747951939702034, -0.0029791633132845163, -0.07790937274694443, 0.009353100322186947, 0.00316286226734519, -0.02225702442228794, -0.018294649198651314, -0.009612462483346462, -0.031506847590208054, -0.005519642494618893, -0.03270302712917328, 0.1680297702550888, -0.04745966196060181, -0.050016850233078, -0.0026596440002322197, -0.04104725271463394, -0.07003938406705856, 0.018295947462320328, -0.03143111988902092, -0.047411177307367325, -0.02366362139582634, 0.05944950878620148, -0.07201440632343292, 0.004945232067257166, -0.05532696843147278, 0.08745485544204712, 0.02787269465625286, -0.039772529155015945, 0.03452998027205467, -0.09992030262947083, 0.032897621393203735, -0.05780421942472458, 0.0024546426720917225, -0.02789231576025486, -0.04994703084230423, -0.04058249667286873, 0.011917482130229473, 0.020419035106897354, 0.07765397429466248, 0.06351619958877563, 0.017546897754073143, 0.023460961878299713, -0.007916618138551712, 0.017074229195713997, 0.008641211315989494, -0.06815342605113983, 0.0342961847782135, 0.0006465188344009221, 0.022735415026545525, 0.05279362201690674, -0.05857319384813309, -0.09784109145402908, -0.0014718385646119714, 0.1373988687992096, 0.0020794253796339035, -0.07581518590450287, 0.05786573141813278, -0.060696400701999664, -0.06595752388238907, -0.03365060314536095, -0.031859222799539566, 0.012266610749065876, 0.09373298287391663, 0.0679951012134552, -0.08434035629034042, 0.04402473196387291, -0.04263873025774956, 0.011163064278662205, 0.1050521656870842, 0.029505811631679535, -0.01852111890912056, -0.029688289389014244, -0.033770278096199036, 0.0014967020833864808, 0.03732364997267723, -0.02024972066283226, 0.058420777320861816, -0.03979167342185974, -0.021219676360487938, 0.006418100092560053, -0.01029015053063631, 0.01962612196803093, 0.003679695539176464, -0.05031091719865799, -0.01689709909260273, 0.04854494333267212, 0.06682310253381729, 0.01953633688390255, 2.72274962668067e-33, -0.035934045910835266, 0.015661882236599922, 0.0967765673995018, -0.000285194197203964, -0.009768516756594181, -0.09068471938371658, 0.014486276544630527, 0.012590741738677025, 0.025435831397771835, -0.03443485498428345, 0.004262961912900209, 0.027121391147375107, -0.020409973338246346, 0.07688487321138382, 0.03572099655866623, -0.13492533564567566, 0.05657855421304703, 0.018364526331424713, 0.022577906027436256, -0.03589029610157013, -0.011456675827503204, -0.04993825778365135, -0.016012396663427353, -0.06335372477769852, 0.10463957488536835, -0.08801605552434921, -0.004462333396077156, -0.010301036760210991, -0.01763072796165943, -0.020292282104492188, 0.006704165134578943, 0.09172351658344269, -0.007795046083629131, 0.005949402693659067, -0.015348820947110653, 0.018279539421200752, -0.018921509385108948, 0.039875276386737823, -0.003967315424233675, 0.03341924399137497, -0.056077271699905396, 0.07581259310245514, -0.005625528283417225, -0.05445525795221329, 0.06698443740606308, -0.025974377989768982, 0.11199560761451721, -0.03642139583826065, 0.0050126020796597, 0.0320100300014019, 0.04963689669966698, 0.09711594879627228, -0.11546945571899414, 0.06413275003433228, -0.03397883102297783, -0.0929156243801117, 0.049754798412323, -0.08613419532775879, -0.00836638081818819, -0.013703778386116028, -0.07882801443338394, 0.019654307514429092, -0.03715047985315323, 0.014476142823696136, -0.04940309748053551, 0.053492411971092224, 0.09139010310173035, 0.031002871692180634, 0.030287638306617737, 0.021342799067497253, -0.04393775016069412, -0.042974382638931274, -0.0022650461178272963, -0.0219440795481205, 0.005474605597555637, -0.010243907570838928, 0.021677998825907707, -0.027323657646775246, -0.0007882357458584011, 0.03308916091918945, -0.007402368821203709, 0.009829975664615631, 0.013544118031859398, -0.03274480998516083, 0.05601906403899193, -0.0601164735853672, 0.031122008338570595, 0.03442242741584778, 0.02655048482120037, -0.006807925645262003, -0.011054223403334618, -0.014439890161156654, 0.022785354405641556, -0.027951976284384727, -0.016208985820412636, -3.689252285857286e-33, 0.02920369803905487, 0.04670488461852074, -0.04964415356516838, 0.06324491649866104, 0.0284380242228508, -0.022357160225510597, 0.033479854464530945, -0.018478721380233765, 0.018780123442411423, 0.0024116907734423876, -0.0816783607006073, 0.10084161162376404, 0.049023162573575974, 0.03646731376647949, -0.045560430735349655, -0.07049193978309631, 0.025340432301163673, -0.03267941623926163, -0.04296499863266945, -0.07251019030809402, 0.041307125240564346, 0.05049726366996765, 0.006477139890193939, -0.003324998077005148, -0.08235662430524826, 0.08007718622684479, -0.0346539132297039, 0.00847051665186882, 0.041389454156160355, -0.0101476414129138, -0.102896548807621, 0.045671246945858, 0.012796048074960709, -0.06017765775322914, -0.026627855375409126, -0.09725235402584076, 0.01579860784113407, 0.07219132035970688, -0.015325821936130524, 0.0018071203958243132, 0.06039535999298096, -0.07077637314796448, -0.02127876691520214, -0.03851626440882683, -0.05741113796830177, -0.004253827501088381, 0.03280763700604439, -0.01759558543562889, 0.04975761100649834, -0.007379062473773956, -0.00835465732961893, 0.04313787817955017, -0.05429156497120857, 0.04316212981939316, 0.02368859015405178, 0.01817159354686737, 0.09282208234071732, -0.004222957883030176, -0.022514583542943, 0.01928827166557312, -0.03684438019990921, 0.1001519188284874, 0.017764801159501076, 0.022849570959806442, -0.03967686742544174, 0.0016808253712952137, 0.05066925287246704, 0.0856492817401886, -0.02641354128718376, -0.032668616622686386, -0.03694957494735718, -0.02099401131272316, 0.017766060307621956, -0.07413073629140854, -0.024688120931386948, -0.03994891047477722, -0.024768007919192314, -0.024194100871682167, -0.010816432535648346, 0.010815990157425404, -0.03055175207555294, 0.10519371181726456, -0.008021771907806396, -0.032896317541599274, 0.14804388582706451, -0.07094292342662811, -0.05021907389163971, -0.15231886506080627, 0.0227674413472414, 0.13845957815647125, -0.0792330801486969, -0.041601017117500305, -0.09371672570705414, 0.06601826101541519, 0.04352035000920296, -4.9979703931057884e-08, -0.010548059828579426, 0.06008026748895645, 0.028823520988225937, 0.07072246074676514, 0.03157537803053856, -0.05913800001144409, 0.05488333851099014, 0.16316646337509155, 0.03475948050618172, 0.02787543088197708, 0.07126773148775101, -0.006946374662220478, -0.05290441960096359, 0.011618980206549168, -0.026834990829229355, 0.028954356908798218, 0.04344691336154938, -0.07012000679969788, -0.05879399552941322, -0.039219342172145844, -0.017293931916356087, -0.0300544872879982, -0.08112524449825287, -0.045062094926834106, 0.05249616876244545, -0.04923573136329651, 0.08052126318216324, 0.06585510075092316, -0.0006081077735871077, -0.04566412419080734, 0.0305869709700346, -0.006386060267686844, -0.0317557230591774, 0.008228801190853119, 0.010760965757071972, 0.0010412799892947078, 0.01907871663570404, 0.03227991238236427, -0.014408760704100132, 0.03579791262745857, -0.0722818672657013, 0.03363296389579773, 0.006663561798632145, -0.01820623129606247, -0.020436305552721024, -0.002635382115840912, -0.1854771077632904, 0.012449292466044426, 0.029731351882219315, -0.038548510521650314, -0.009753366932272911, -0.013694305904209614, 0.009183336980640888, 0.08488922566175461, 0.12721876800060272, 0.05546000227332115, -0.04936165362596512, -0.01191199105232954, -0.05697931349277496, 0.1042008250951767, 0.05718067288398743, -0.10395055264234543, -0.023767875507473946, -0.0271689984947443]]\n",
      "len = 384\n"
     ]
    }
   ],
   "source": [
    "import chromadb\n",
    "from chromadb.utils.embedding_functions import SentenceTransformerEmbeddingFunction\n",
    "\n",
    "embedding_function = SentenceTransformerEmbeddingFunction()\n",
    "output = embedding_function([token_split_texts[10]])\n",
    "print(output)\n",
    "print(f\"len = {len(output[0])}\")"
   ]
  },
  {
   "cell_type": "code",
   "execution_count": 9,
   "id": "8ba6c8c5-9ce4-44d0-9223-6fdd77871f87",
   "metadata": {
    "height": 149
   },
   "outputs": [
    {
     "data": {
      "text/plain": [
       "349"
      ]
     },
     "execution_count": 9,
     "metadata": {},
     "output_type": "execute_result"
    }
   ],
   "source": [
    "chroma_client = chromadb.Client()\n",
    "chroma_collection = chroma_client.create_collection(\"microsoft_annual_report_2022\", embedding_function=embedding_function)\n",
    "\n",
    "ids = [str(i) for i in range(len(token_split_texts))]\n",
    "\n",
    "chroma_collection.add(ids=ids, documents=token_split_texts)\n",
    "chroma_collection.count()"
   ]
  },
  {
   "cell_type": "code",
   "execution_count": 23,
   "id": "bfdb54db-a442-423c-b006-c33a257cd7d7",
   "metadata": {
    "height": 149
   },
   "outputs": [
    {
     "name": "stdout",
     "output_type": "stream",
     "text": [
      "addressing the world ’ s most pressing issues. this year, we provided $\n",
      "3. 2 billion in donated and discounted technology to 302, 000\n",
      "nonprofits serving over 1. 2 billion people globally. and earlier this\n",
      "month, we announced that microsoft will double the number of nonprofits\n",
      "we reach worldwide over the next five years. protect fundamental rights\n",
      "we unequivocally support the fundamental rights of people, from\n",
      "defending democracy, to protecting human rights, to addressing racial\n",
      "injustice and inequity. and, as people ’ s access to education,\n",
      "healthcare, jobs, and other critical services becomes increasingly\n",
      "dependent on technology, it ’ s clear that access to broadband and\n",
      "accessible technology is also fundamental to building a more equitable\n",
      "future. since 2017, we ’ ve helped more than 50 million people in\n",
      "unserved rural communities globally gain access to affordable\n",
      "\n",
      "\n",
      "7 220, 000 people who work at microsoft. essential to this is our\n",
      "commitment to continually exercise our growth mindset and confront our\n",
      "fixed mindset with humility, curiosity, compassion, and the recognition\n",
      "that, while none of us will ever be perfect, we can always be better\n",
      "than we are today. this growth mindset served us well through the\n",
      "historic changes of the past few years. it sustains our everyday\n",
      "practice of customer obsession. it helps us care for our colleagues and\n",
      "collaborate more effectively across the company. and it deeply informs\n",
      "our longstanding commitment to diversity and inclusion. if we want to\n",
      "serve the world, we need to represent the world. each year we strive to\n",
      "increase representation, and 2022 was no exception. we saw the\n",
      "strongest progress in years across several demographic groups, as you\n",
      "can see in our latest diversity & inclusion report. we are one of the\n",
      "most transparent companies of our size when it comes to the data\n",
      "\n",
      "\n",
      "we share, and we continually challenge ourselves to increase visibility\n",
      "into where we ’ re succeeding and where we need to address gaps. we ’\n",
      "ve added new data, such as military status, gender representation by\n",
      "geography, employee exits, and additional pay data, to reflect our\n",
      "workforce more broadly. as we make meaningful pro gress, we continue\n",
      "our commitment to meet the increasing expectations for driving\n",
      "innovation, welcoming diverse perspectives, and leading global change.\n",
      "giving is also core to our culture at microsoft. in 2022, our employees\n",
      "gave $ 255 million ( with company match ) to over 32, 000 nonprofits.\n",
      "and more than 29, 000 employees volunteered over 720, 000 hours to\n",
      "causes they care about. i ’ m constantly in awe of how our employees\n",
      "bring their passion to work each day — for each other, for our\n",
      "customers, and for their communities. * * * i want to close by thanking\n",
      "you for your continued investment in microsoft. our growth and impact\n",
      "this past year would not\n",
      "\n",
      "\n",
      "company is better positioned to help them than microsoft. every day\n",
      "this past fiscal year i have had the privilege to witness our customers\n",
      "use our platforms and tools to connect what technology can do with what\n",
      "the world needs it to do. here are just a few examples : • ferrovial,\n",
      "which builds and manages some of the world ’ s busiest airports and\n",
      "highways, is using our cloud infrastructure to build safer roads as it\n",
      "prepares for a future of autonomous transportation. • peace parks\n",
      "foundation, a nonprofit helping protect natural ecosystems in southern\n",
      "africa, is using microsoft dynamics 365 and power bi to secure\n",
      "essential funding, as well as our azure ai and iot solutions to help\n",
      "rangers scale their park maintenance and wildlife crime prevention\n",
      "work. • one of the world ’ s largest robotics companies, kawasaki heavy\n",
      "industries, is using the breadth of our tools — from azure iot and\n",
      "hololens — to create an industrial metaverse solution that brings its\n",
      "distributed workforce\n",
      "\n",
      "\n",
      "broadband coverage. building on our work in eight us cities, we ’ re\n",
      "now partnering with five us states with significant broadband adoption\n",
      "gaps to increase access, adoption, and equity. and — given the\n",
      "importance of current data to broadband planning — the new microsoft\n",
      "digital equity dashboard will help us policymakers and communities\n",
      "identify neighborhoods where funding and programmatic investment can\n",
      "achieve measurable impact. this year, we continued our journey to\n",
      "address racial injustice and inequity by increasing representation\n",
      "within microsoft, engaging our ecosystem, and strengthening our\n",
      "communities. across our ecosystem, we are more than 90 % of the way\n",
      "toward our commitment to spend an incremental $ 500 million with black\n",
      "- and african american - owned suppliers. we ’ ve coordinated over 80\n",
      "justice reform partnerships to help 145 communities expand access to\n",
      "data - driven insights that advance a more equitable system of justice\n",
      "and public safety.\n",
      "\n",
      "\n"
     ]
    }
   ],
   "source": [
    "# query = \"What was the total revenue?\"\n",
    "\n",
    "results = chroma_collection.query(query_texts=[query], n_results=5)\n",
    "retrieved_documents = results['documents'][0]\n",
    "\n",
    "for document in retrieved_documents:\n",
    "    print(word_wrap(document))\n",
    "    print('\\n')"
   ]
  },
  {
   "cell_type": "code",
   "execution_count": 11,
   "id": "377a84aa-1d93-4e97-9b2d-d59c46355338",
   "metadata": {
    "height": 166
   },
   "outputs": [],
   "source": [
    "import os\n",
    "import openai\n",
    "from openai import OpenAI\n",
    "\n",
    "from dotenv import load_dotenv, find_dotenv\n",
    "_ = load_dotenv(find_dotenv()) # read local .env file\n",
    "openai.api_key = os.environ['OPENAI_API_KEY']\n",
    "\n",
    "openai_client = OpenAI()"
   ]
  },
  {
   "cell_type": "code",
   "execution_count": 19,
   "id": "ba0ed8ca-6640-4c09-9cb3-9de5e7cf46dc",
   "metadata": {
    "height": 336
   },
   "outputs": [],
   "source": [
    "def rag(query, retrieved_documents, model=\"gpt-4\"):\n",
    "    information = \"\\n\\n\".join(retrieved_documents)\n",
    "\n",
    "    messages = [\n",
    "        {\n",
    "            \"role\": \"system\",\n",
    "            \"content\": \"You are a helpful expert financial research assistant. Your users are asking questions about information contained in an annual report.\"\n",
    "            \"You will be shown the user's question, and the relevant information from the annual report. Answer the user's question using only this information.\"\n",
    "        },\n",
    "        {\"role\": \"user\", \"content\": f\"Question: {query}. \\n Information: {information}\"}\n",
    "    ]\n",
    "    \n",
    "    response = openai_client.chat.completions.create(\n",
    "        model=model,\n",
    "        messages=messages,\n",
    "    )\n",
    "    content = response.choices[0].message.content\n",
    "    return content"
   ]
  },
  {
   "cell_type": "code",
   "execution_count": 22,
   "id": "28bac3a2-0d29-48dc-9b48-2d9313239a25",
   "metadata": {
    "height": 64
   },
   "outputs": [
    {
     "name": "stdout",
     "output_type": "stream",
     "text": [
      "The information provided does not contain data on how many people Microsoft has helped in unserved\n",
      "rural communities since 2017.\n"
     ]
    }
   ],
   "source": [
    "query = \"How many people has Microsoft helped in unserved rural communities since 2017?\"\n",
    "output = rag(query=query, retrieved_documents=retrieved_documents)\n",
    "\n",
    "print(word_wrap(output,n_chars=100))"
   ]
  },
  {
   "cell_type": "code",
   "execution_count": null,
   "id": "db9f2758-0f5a-49e5-b1fa-517b91324575",
   "metadata": {
    "height": 30
   },
   "outputs": [],
   "source": []
  },
  {
   "cell_type": "code",
   "execution_count": null,
   "id": "aee59493-8a99-4da8-b94f-4747efcfc79d",
   "metadata": {
    "height": 30
   },
   "outputs": [],
   "source": []
  },
  {
   "cell_type": "code",
   "execution_count": null,
   "id": "f5eda9bc-ae76-4db6-9e0c-ae099d852d78",
   "metadata": {
    "height": 30
   },
   "outputs": [],
   "source": []
  },
  {
   "cell_type": "code",
   "execution_count": null,
   "id": "b1183e75-4c65-422e-bc47-48010d8b29c9",
   "metadata": {
    "height": 30
   },
   "outputs": [],
   "source": []
  },
  {
   "cell_type": "code",
   "execution_count": null,
   "id": "5fcd85cc-8898-41ed-a0aa-bd8a33fc565a",
   "metadata": {
    "height": 30
   },
   "outputs": [],
   "source": []
  },
  {
   "cell_type": "code",
   "execution_count": null,
   "id": "c65337e9-85ee-47f7-89fd-7fe77cd0e1b2",
   "metadata": {
    "height": 30
   },
   "outputs": [],
   "source": []
  },
  {
   "cell_type": "code",
   "execution_count": null,
   "id": "a7794092-4195-4cf3-9eab-11c9c05a26b9",
   "metadata": {
    "height": 30
   },
   "outputs": [],
   "source": []
  },
  {
   "cell_type": "code",
   "execution_count": null,
   "id": "f2cab7a1-1be7-45f0-83b7-543e48f83901",
   "metadata": {
    "height": 30
   },
   "outputs": [],
   "source": []
  },
  {
   "cell_type": "code",
   "execution_count": null,
   "id": "fe0343be-73c9-4aed-83b0-aba09569ac87",
   "metadata": {
    "height": 30
   },
   "outputs": [],
   "source": []
  },
  {
   "cell_type": "code",
   "execution_count": null,
   "id": "6f0f3e33-e517-4f6b-8b38-c47c1e3d40b4",
   "metadata": {
    "height": 30
   },
   "outputs": [],
   "source": []
  },
  {
   "cell_type": "code",
   "execution_count": null,
   "id": "a16fdcb1-57d0-4f04-af8f-7c7fc594d947",
   "metadata": {
    "height": 30
   },
   "outputs": [],
   "source": []
  },
  {
   "cell_type": "code",
   "execution_count": null,
   "id": "babe7893-9cbc-43c5-94ef-cbf8f5d68cf2",
   "metadata": {
    "height": 30
   },
   "outputs": [],
   "source": []
  },
  {
   "cell_type": "code",
   "execution_count": null,
   "id": "60a9524b-1085-4bdf-a161-39f11397dc1f",
   "metadata": {
    "height": 30
   },
   "outputs": [],
   "source": []
  },
  {
   "cell_type": "code",
   "execution_count": null,
   "id": "d189f088-b58e-4583-9590-afdfa624cf87",
   "metadata": {
    "height": 30
   },
   "outputs": [],
   "source": []
  },
  {
   "cell_type": "code",
   "execution_count": null,
   "id": "7b26a01a-4575-446b-b8dc-a8c5ab153172",
   "metadata": {
    "height": 30
   },
   "outputs": [],
   "source": []
  },
  {
   "cell_type": "code",
   "execution_count": null,
   "id": "0950575b-b69d-46a3-8c91-c7af89f5c204",
   "metadata": {
    "height": 30
   },
   "outputs": [],
   "source": []
  },
  {
   "cell_type": "code",
   "execution_count": null,
   "id": "3f123ad8-b2e8-4a25-8b42-a520ecaf566b",
   "metadata": {
    "height": 30
   },
   "outputs": [],
   "source": []
  },
  {
   "cell_type": "code",
   "execution_count": null,
   "id": "83c04587-d1de-419c-a213-2e3eb67dc33d",
   "metadata": {
    "height": 30
   },
   "outputs": [],
   "source": []
  },
  {
   "cell_type": "code",
   "execution_count": null,
   "id": "d3155972-824e-4ebe-a692-2227c113c5a8",
   "metadata": {
    "height": 30
   },
   "outputs": [],
   "source": []
  },
  {
   "cell_type": "code",
   "execution_count": null,
   "id": "d8144a4a-85f6-4800-87f9-36a1b6ceda1f",
   "metadata": {
    "height": 30
   },
   "outputs": [],
   "source": []
  },
  {
   "cell_type": "code",
   "execution_count": null,
   "id": "8ff0b18e-12a0-4ac0-97dd-8618b22e7dbf",
   "metadata": {
    "height": 30
   },
   "outputs": [],
   "source": []
  },
  {
   "cell_type": "code",
   "execution_count": null,
   "id": "03ca7e7c-4b47-4652-9b46-a40b3dffa5e6",
   "metadata": {
    "height": 30
   },
   "outputs": [],
   "source": []
  },
  {
   "cell_type": "code",
   "execution_count": null,
   "id": "f74e7d67-7f51-41c4-8e25-edbaa02d0bd8",
   "metadata": {
    "height": 30
   },
   "outputs": [],
   "source": []
  },
  {
   "cell_type": "code",
   "execution_count": null,
   "id": "9188e886-d406-406f-b234-f5c3353a77a2",
   "metadata": {
    "height": 30
   },
   "outputs": [],
   "source": []
  },
  {
   "cell_type": "code",
   "execution_count": null,
   "id": "3d3bb286-2694-4ed4-8466-46865e997ced",
   "metadata": {
    "height": 30
   },
   "outputs": [],
   "source": []
  },
  {
   "cell_type": "code",
   "execution_count": null,
   "id": "2876084b-4038-4b0c-8ec8-8294a86adfc1",
   "metadata": {
    "height": 30
   },
   "outputs": [],
   "source": []
  },
  {
   "cell_type": "code",
   "execution_count": null,
   "id": "3ac542e1-b094-431f-9611-cf7e36d3f0de",
   "metadata": {
    "height": 30
   },
   "outputs": [],
   "source": []
  },
  {
   "cell_type": "code",
   "execution_count": null,
   "id": "bcd6114b-c09d-4173-a623-9a08aaf63e4b",
   "metadata": {
    "height": 30
   },
   "outputs": [],
   "source": []
  },
  {
   "cell_type": "code",
   "execution_count": null,
   "id": "ad10ab65-b351-4f4b-b7d2-63474acfb9f9",
   "metadata": {
    "height": 30
   },
   "outputs": [],
   "source": []
  },
  {
   "cell_type": "code",
   "execution_count": null,
   "id": "800f3d81-cbdb-4ba4-8d49-85747fdfded8",
   "metadata": {
    "height": 30
   },
   "outputs": [],
   "source": []
  },
  {
   "cell_type": "code",
   "execution_count": null,
   "id": "37847448-c9f6-4f51-bf06-f7809964a8b2",
   "metadata": {
    "height": 30
   },
   "outputs": [],
   "source": []
  },
  {
   "cell_type": "code",
   "execution_count": null,
   "id": "2dcefc87-0964-4b94-946b-2145781ad606",
   "metadata": {
    "height": 30
   },
   "outputs": [],
   "source": []
  },
  {
   "cell_type": "code",
   "execution_count": null,
   "id": "5fc994bc-7b1e-476a-9df9-300a3e374882",
   "metadata": {
    "height": 30
   },
   "outputs": [],
   "source": []
  },
  {
   "cell_type": "code",
   "execution_count": null,
   "id": "9ef5f5d5-acb7-4b0a-93ef-e61306708e69",
   "metadata": {
    "height": 30
   },
   "outputs": [],
   "source": []
  },
  {
   "cell_type": "code",
   "execution_count": null,
   "id": "44e4b33f-d8fb-4f3a-b884-8b43a3766583",
   "metadata": {
    "height": 30
   },
   "outputs": [],
   "source": []
  },
  {
   "cell_type": "code",
   "execution_count": null,
   "id": "c2a480a2-2c29-4a01-80dd-ee41934b7901",
   "metadata": {
    "height": 30
   },
   "outputs": [],
   "source": []
  },
  {
   "cell_type": "code",
   "execution_count": null,
   "id": "8127c2bf-0d15-4b62-b46a-f7a17ad2ec92",
   "metadata": {
    "height": 30
   },
   "outputs": [],
   "source": []
  },
  {
   "cell_type": "code",
   "execution_count": null,
   "id": "18ded129-a637-4269-a116-550fe9a90570",
   "metadata": {
    "height": 30
   },
   "outputs": [],
   "source": []
  },
  {
   "cell_type": "code",
   "execution_count": null,
   "id": "c1d7ee44-7b29-483f-a3f2-cc9d8e18880e",
   "metadata": {
    "height": 30
   },
   "outputs": [],
   "source": []
  },
  {
   "cell_type": "code",
   "execution_count": null,
   "id": "8e450dd8-9719-42c6-8c3c-33cac910e0a5",
   "metadata": {
    "height": 30
   },
   "outputs": [],
   "source": []
  }
 ],
 "metadata": {
  "kernelspec": {
   "display_name": "Python 3 (ipykernel)",
   "language": "python",
   "name": "python3"
  },
  "language_info": {
   "codemirror_mode": {
    "name": "ipython",
    "version": 3
   },
   "file_extension": ".py",
   "mimetype": "text/x-python",
   "name": "python",
   "nbconvert_exporter": "python",
   "pygments_lexer": "ipython3",
   "version": "3.10.13"
  }
 },
 "nbformat": 4,
 "nbformat_minor": 5
}
