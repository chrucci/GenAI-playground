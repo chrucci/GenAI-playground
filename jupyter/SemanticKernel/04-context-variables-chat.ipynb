{
 "cells": [
  {
   "attachments": {},
   "cell_type": "markdown",
   "id": "fde98ddf",
   "metadata": {},
   "source": [
    "# Creating a basic chat experience with context variables\n",
    "\n",
    "In this example, we show how you can build a simple chat bot by sending and updating context with your requests. \n",
    "\n",
    "We introduce the Context Variables object which in this demo functions similarly as a key-value store that you can use when running the kernel.\n",
    "\n",
    "The context is local (i.e. in your computer's RAM) and not persisted anywhere beyond the life of this Jupyter session.\n",
    "\n",
    "In future examples, we will show how to persist the context on disk so that you can bring it into your applications.  \n",
    "\n",
    "In this chat scenario, as the user talks back and forth with the bot, the context gets populated with the history of the conversation. During each new run of the kernel, the context can provide the AI with its variables' content. "
   ]
  },
  {
   "cell_type": "code",
   "execution_count": null,
   "id": "92f69b34",
   "metadata": {},
   "outputs": [],
   "source": [
    "!python -m pip install semantic-kernel==0.3.15.dev0"
   ]
  },
  {
   "cell_type": "code",
   "execution_count": 1,
   "id": "68301108",
   "metadata": {},
   "outputs": [],
   "source": [
    "import semantic_kernel as sk\n",
    "from semantic_kernel.connectors.ai.open_ai import AzureChatCompletion, OpenAIChatCompletion\n",
    "\n",
    "kernel = sk.Kernel()\n",
    "\n",
    "useAzureOpenAI = False\n",
    "\n",
    "# Configure AI service used by the kernel\n",
    "if useAzureOpenAI:\n",
    "    deployment, api_key, endpoint = sk.azure_openai_settings_from_dot_env()\n",
    "    kernel.add_chat_service(\"chat_completion\", AzureChatCompletion(deployment, endpoint, api_key))\n",
    "else:\n",
    "    api_key, org_id = sk.openai_settings_from_dot_env()\n",
    "    kernel.add_chat_service(\"chat-gpt\", OpenAIChatCompletion(\"gpt-3.5-turbo\", api_key, org_id))\n"
   ]
  },
  {
   "attachments": {},
   "cell_type": "markdown",
   "id": "7971783d",
   "metadata": {},
   "source": [
    "Let's define a prompt outlining a dialogue chat bot."
   ]
  },
  {
   "cell_type": "code",
   "execution_count": 2,
   "id": "e84a05fc",
   "metadata": {},
   "outputs": [],
   "source": [
    "sk_prompt = \"\"\"\n",
    "ChatBot can have a conversation with you about any topic.\n",
    "It can give explicit instructions or say 'I don't know' if it does not have an answer.\n",
    "\n",
    "{{$history}}\n",
    "User: {{$user_input}}\n",
    "ChatBot: \"\"\""
   ]
  },
  {
   "attachments": {},
   "cell_type": "markdown",
   "id": "61716b16",
   "metadata": {},
   "source": [
    "Register your semantic function"
   ]
  },
  {
   "cell_type": "code",
   "execution_count": 3,
   "id": "a3e4b160",
   "metadata": {},
   "outputs": [],
   "source": [
    "chat_function = kernel.create_semantic_function(sk_prompt, \"ChatBot\", max_tokens=2000, temperature=0.7, top_p=0.5)"
   ]
  },
  {
   "attachments": {},
   "cell_type": "markdown",
   "id": "6e8a676f",
   "metadata": {},
   "source": [
    "Initialize your context"
   ]
  },
  {
   "cell_type": "code",
   "execution_count": 4,
   "id": "a4be7394",
   "metadata": {},
   "outputs": [],
   "source": [
    "context = kernel.create_new_context()\n",
    "context[\"history\"] = \"\""
   ]
  },
  {
   "attachments": {},
   "cell_type": "markdown",
   "id": "4ce7c497",
   "metadata": {},
   "source": [
    "Chat with the Bot"
   ]
  },
  {
   "cell_type": "code",
   "execution_count": 5,
   "id": "5ec41eb8",
   "metadata": {},
   "outputs": [
    {
     "name": "stdout",
     "output_type": "stream",
     "text": [
      "Hi! I'd be happy to help you with book suggestions. What genre or type of books are you interested in?\n"
     ]
    }
   ],
   "source": [
    "context[\"user_input\"] = \"Hi, I'm looking for book suggestions\"\n",
    "bot_answer = await chat_function.invoke_async(context=context)\n",
    "print(bot_answer)"
   ]
  },
  {
   "attachments": {},
   "cell_type": "markdown",
   "id": "a5b03748",
   "metadata": {},
   "source": [
    "Update the history with the output"
   ]
  },
  {
   "cell_type": "code",
   "execution_count": 6,
   "id": "f50f517d",
   "metadata": {},
   "outputs": [
    {
     "name": "stdout",
     "output_type": "stream",
     "text": [
      "\n",
      "User: Hi, I'm looking for book suggestions\n",
      "ChatBot: Hi! I'd be happy to help you with book suggestions. What genre or type of books are you interested in?\n",
      "\n"
     ]
    }
   ],
   "source": [
    "context[\"history\"] += f\"\\nUser: {context['user_input']}\\nChatBot: {bot_answer}\\n\"\n",
    "print(context[\"history\"])"
   ]
  },
  {
   "attachments": {},
   "cell_type": "markdown",
   "id": "23a2eb02",
   "metadata": {},
   "source": [
    "Keep Chatting!"
   ]
  },
  {
   "cell_type": "code",
   "execution_count": 7,
   "id": "c59efe45",
   "metadata": {},
   "outputs": [],
   "source": [
    "async def chat(input_text: str) -> None:\n",
    "    # Save new message in the context variables\n",
    "    print(f\"User: {input_text}\")\n",
    "    context[\"user_input\"] = input_text\n",
    "\n",
    "    # Process the user message and get an answer\n",
    "    answer = await chat_function.invoke_async(context=context)\n",
    "\n",
    "    # Show the response\n",
    "    print(f\"ChatBot: {answer}\")\n",
    "\n",
    "    # Append the new interaction to the chat history\n",
    "    context[\"history\"] += f\"\\nUser: {input_text}\\nChatBot: {answer}\\n\""
   ]
  },
  {
   "cell_type": "code",
   "execution_count": 8,
   "id": "06ee244e",
   "metadata": {},
   "outputs": [
    {
     "name": "stdout",
     "output_type": "stream",
     "text": [
      "User: I love history and philosophy, I'd like to learn something new about Greece, any suggestion?\n",
      "ChatBot: Sure! I would recommend \"The Greeks: History, Culture, and Society\" by Ian Morris and Barry B. Powell. It provides a comprehensive overview of ancient Greek history, culture, and society, covering topics such as politics, philosophy, art, and literature. It's a great book to learn more about Greece and its influence on Western civilization.\n"
     ]
    }
   ],
   "source": [
    "await chat(\"I love history and philosophy, I'd like to learn something new about Greece, any suggestion?\")"
   ]
  },
  {
   "cell_type": "code",
   "execution_count": 10,
   "id": "82be4e7e",
   "metadata": {},
   "outputs": [
    {
     "name": "stdout",
     "output_type": "stream",
     "text": [
      "User: that sounds interesting, what is it about?\n",
      "ChatBot: \"The Greeks: History, Culture, and Society\" explores the history of ancient Greece from the Bronze Age to the Hellenistic period. It delves into various aspects of Greek civilization, including politics, religion, art, literature, philosophy, and daily life. The book examines the development of Greek city-states, the rise and fall of Athens, the Peloponnesian War, the conquests of Alexander the Great, and the spread of Hellenistic culture. It also discusses the contributions of famous Greek philosophers, such as Socrates, Plato, and Aristotle. Overall, it provides a comprehensive and insightful look into the rich history and culture of Greece.\n"
     ]
    }
   ],
   "source": [
    "await chat(\"that sounds interesting, what is it about?\")"
   ]
  },
  {
   "cell_type": "code",
   "execution_count": 12,
   "id": "82fe0139",
   "metadata": {},
   "outputs": [
    {
     "name": "stdout",
     "output_type": "stream",
     "text": [
      "User: if I read that book, what exactly will I learn about Greek history?\n",
      "ChatBot: If you read \"The Greeks: History, Culture, and Society,\" you will learn about the major events and developments in Greek history, such as the rise of the city-states, the Persian Wars, the Golden Age of Athens, the Peloponnesian War, and the conquests of Alexander the Great. You will also gain an understanding of Greek society and culture, including their political systems, religious beliefs, artistic achievements, and literary works. Additionally, the book explores the contributions of Greek philosophers and their impact on Western thought. Overall, it provides a comprehensive overview of Greek history and its significance in shaping Western civilization.\n"
     ]
    }
   ],
   "source": [
    "await chat(\"if I read that book, what exactly will I learn about Greek history?\")"
   ]
  },
  {
   "cell_type": "code",
   "execution_count": 14,
   "id": "55b3a9f2",
   "metadata": {},
   "outputs": [
    {
     "name": "stdout",
     "output_type": "stream",
     "text": [
      "User: could you list some more books I could read about this topic?\n",
      "ChatBot: Certainly! Here are a few more books you might find interesting:\n",
      "\n",
      "1. \"The Peloponnesian War\" by Thucydides - This ancient Greek historian's account of the war between Athens and Sparta provides valuable insights into the politics and military strategies of the time.\n",
      "\n",
      "2. \"The Iliad\" by Homer - This epic poem tells the story of the Trojan War and offers a glimpse into ancient Greek mythology and heroism.\n",
      "\n",
      "3. \"The Republic\" by Plato - In this philosophical work, Plato explores the nature of justice and the ideal society, presenting his famous allegory of the cave.\n",
      "\n",
      "4. \"The Histories\" by Herodotus - Often considered the first work of history, this book covers a wide range of topics, including the Persian Wars and various cultures of the ancient world.\n",
      "\n",
      "5. \"The Odyssey\" by Homer - This epic poem follows the adventures of Odysseus as he tries to return home after the Trojan War, providing insights into ancient Greek values and the concept of heroism.\n",
      "\n",
      "These books should provide you with a deeper understanding of Greek history, philosophy, and culture.\n"
     ]
    }
   ],
   "source": [
    "await chat(\"could you list some more books I could read about this topic?\")"
   ]
  },
  {
   "attachments": {},
   "cell_type": "markdown",
   "id": "c30bac97",
   "metadata": {},
   "source": [
    "After chatting for a while, we have built a growing history, which we are attaching to each prompt and which contains the full conversation. Let's take a look!"
   ]
  },
  {
   "cell_type": "code",
   "execution_count": 15,
   "id": "5e34ae55",
   "metadata": {},
   "outputs": [
    {
     "name": "stdout",
     "output_type": "stream",
     "text": [
      "\n",
      "User: Hi, I'm looking for book suggestions\n",
      "ChatBot: Hi! I'd be happy to help you with book suggestions. What genre or type of books are you interested in?\n",
      "\n",
      "User: I love history and philosophy, I'd like to learn something new about Greece, any suggestion?\n",
      "ChatBot: Sure! I would recommend \"The Greeks: History, Culture, and Society\" by Ian Morris and Barry B. Powell. It provides a comprehensive overview of ancient Greek history, culture, and society, covering topics such as politics, philosophy, art, and literature. It's a great book to learn more about Greece and its influence on Western civilization.\n",
      "\n",
      "User: that sounds interesting, what is it about?\n",
      "ChatBot: \"The Greeks: History, Culture, and Society\" explores the history of ancient Greece from the Bronze Age to the Hellenistic period. It delves into various aspects of Greek civilization, including politics, religion, art, literature, philosophy, and daily life. The book examines the development of Greek city-states, the rise and fall of Athens, the Peloponnesian War, the conquests of Alexander the Great, and the spread of Hellenistic culture. It also discusses the contributions of famous Greek philosophers, such as Socrates, Plato, and Aristotle. Overall, it provides a comprehensive and insightful look into the rich history and culture of Greece.\n",
      "\n",
      "User: if I read that book, what exactly will I learn about Greek history?\n",
      "ChatBot: If you read \"The Greeks: History, Culture, and Society,\" you will learn about the major events and developments in Greek history, such as the rise of the city-states, the Persian Wars, the Golden Age of Athens, the Peloponnesian War, and the conquests of Alexander the Great. You will also gain an understanding of Greek society and culture, including their political systems, religious beliefs, artistic achievements, and literary works. Additionally, the book explores the contributions of Greek philosophers and their impact on Western thought. Overall, it provides a comprehensive overview of Greek history and its significance in shaping Western civilization.\n",
      "\n",
      "User: could you list some more books I could read about this topic?\n",
      "ChatBot: Certainly! Here are a few more books you might find interesting:\n",
      "\n",
      "1. \"The Peloponnesian War\" by Thucydides - This ancient Greek historian's account of the war between Athens and Sparta provides valuable insights into the politics and military strategies of the time.\n",
      "\n",
      "2. \"The Iliad\" by Homer - This epic poem tells the story of the Trojan War and offers a glimpse into ancient Greek mythology and heroism.\n",
      "\n",
      "3. \"The Republic\" by Plato - In this philosophical work, Plato explores the nature of justice and the ideal society, presenting his famous allegory of the cave.\n",
      "\n",
      "4. \"The Histories\" by Herodotus - Often considered the first work of history, this book covers a wide range of topics, including the Persian Wars and various cultures of the ancient world.\n",
      "\n",
      "5. \"The Odyssey\" by Homer - This epic poem follows the adventures of Odysseus as he tries to return home after the Trojan War, providing insights into ancient Greek values and the concept of heroism.\n",
      "\n",
      "These books should provide you with a deeper understanding of Greek history, philosophy, and culture.\n",
      "\n"
     ]
    }
   ],
   "source": [
    "print(context[\"history\"])"
   ]
  },
  {
   "cell_type": "code",
   "execution_count": null,
   "metadata": {},
   "outputs": [],
   "source": []
  }
 ],
 "metadata": {
  "kernelspec": {
   "display_name": "Python 3 (ipykernel)",
   "language": "python",
   "name": "python3"
  },
  "language_info": {
   "codemirror_mode": {
    "name": "ipython",
    "version": 3
   },
   "file_extension": ".py",
   "mimetype": "text/x-python",
   "name": "python",
   "nbconvert_exporter": "python",
   "pygments_lexer": "ipython3",
   "version": "3.11.5"
  }
 },
 "nbformat": 4,
 "nbformat_minor": 5
}
