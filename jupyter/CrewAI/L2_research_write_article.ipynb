{
 "cells": [
  {
   "cell_type": "markdown",
   "metadata": {},
   "source": [
    "You can download the `requirements.txt` for this course from the workspace of this lab. `File --> Open...`"
   ]
  },
  {
   "cell_type": "markdown",
   "metadata": {},
   "source": [
    "# L2: Create Agents to Research and Write an Article\n",
    "\n",
    "In this lesson, you will be introduced to the foundational concepts of multi-agent systems and get an overview of the crewAI framework."
   ]
  },
  {
   "cell_type": "markdown",
   "metadata": {},
   "source": [
    "The libraries are already installed in the classroom. If you're running this notebook on your own machine, you can install the following:\n",
    "```Python\n",
    "!pip install crewai==0.28.8 crewai_tools==0.1.6 langchain_community==0.0.29\n",
    "```"
   ]
  },
  {
   "cell_type": "code",
   "execution_count": 1,
   "metadata": {
    "height": 64
   },
   "outputs": [],
   "source": [
    "# Warning control\n",
    "import warnings\n",
    "\n",
    "warnings.filterwarnings(\"ignore\")"
   ]
  },
  {
   "cell_type": "markdown",
   "metadata": {},
   "source": [
    "- Import from the crewAI libray."
   ]
  },
  {
   "cell_type": "code",
   "execution_count": 2,
   "metadata": {
    "height": 30
   },
   "outputs": [],
   "source": [
    "from crewai import Agent, Task, Crew"
   ]
  },
  {
   "cell_type": "markdown",
   "metadata": {},
   "source": [
    "- As a LLM for your agents, you'll be using OpenAI's `gpt-3.5-turbo`.\n",
    "\n",
    "**Optional Note:** crewAI also allow other popular models to be used as a LLM for your Agents. You can see some of the examples at the [bottom of the notebook](#1)."
   ]
  },
  {
   "cell_type": "code",
   "execution_count": 11,
   "metadata": {},
   "outputs": [],
   "source": [
    "import os\n",
    "\n",
    "# import openai\n",
    "import sys\n",
    "\n",
    "sys.path.append(\"../..\")\n",
    "\n",
    "from dotenv import load_dotenv, find_dotenv\n",
    "\n",
    "_ = load_dotenv(find_dotenv())  # read local .env file"
   ]
  },
  {
   "cell_type": "code",
   "execution_count": 12,
   "metadata": {
    "height": 98
   },
   "outputs": [],
   "source": [
    "import os\n",
    "from utils import get_openai_api_key\n",
    "\n",
    "openai_api_key = get_openai_api_key()\n",
    "os.environ[\"OPENAI_MODEL_NAME\"] = \"gpt-3.5-turbo\""
   ]
  },
  {
   "cell_type": "code",
   "execution_count": 13,
   "metadata": {},
   "outputs": [
    {
     "data": {
      "text/plain": [
       "environ{'USER': 'chris',\n",
       "        'VSCODE_WSL_EXT_LOCATION': '/mnt/c/Users/chruc/.vscode/extensions/ms-vscode-remote.remote-wsl-0.88.2',\n",
       "        'SHLVL': '2',\n",
       "        'HOME': '/home/chris',\n",
       "        'DBUS_SESSION_BUS_ADDRESS': 'unix:path=/run/user/1000/bus',\n",
       "        'WSL_DISTRO_NAME': 'Ubuntu-22.04',\n",
       "        'WAYLAND_DISPLAY': 'wayland-0',\n",
       "        'LOGNAME': 'chris',\n",
       "        'NAME': 'Code',\n",
       "        'WSL_INTEROP': '/run/WSL/849_interop',\n",
       "        'PULSE_SERVER': 'unix:/mnt/wslg/PulseServer',\n",
       "        '_': '/home/chris/anaconda3/envs/crewai/bin/python',\n",
       "        'TERM': 'xterm-color',\n",
       "        'PATH': '/home/chris/anaconda3/envs/crewai/bin:/home/chris/.vscode-server/bin/b58957e67ee1e712cebf466b995adf4c5307b2bd/bin/remote-cli:/home/chris/.local/bin:/home/chris/anaconda3/envs/crewai/bin:/home/chris/anaconda3/condabin:/usr/local/sbin:/usr/local/bin:/usr/sbin:/usr/bin:/sbin:/bin:/usr/games:/usr/local/games:/usr/lib/wsl/lib:/mnt/c/Windows/system32:/mnt/c/Windows:/mnt/c/Windows/System32/Wbem:/mnt/c/Windows/System32/WindowsPowerShell/v1.0:/mnt/c/Windows/System32/OpenSSH:/mnt/c/Program Files/dotnet:/mnt/c/Program Files (x86)/NVIDIA Corporation/PhysX/Common:/mnt/c/Program Files/NVIDIA Corporation/NVIDIA NvDLISR:/mnt/c/Program Files/Docker/Docker/resources/bin:/mnt/c/Users/chruc/AppData/Local/Microsoft/WindowsApps:/mnt/c/Users/chruc/AppData/Local/Programs/Microsoft VS Code/bin:/snap/bin',\n",
       "        'XDG_RUNTIME_DIR': '/run/user/1000/',\n",
       "        'DISPLAY': ':0',\n",
       "        'LANG': 'C.UTF-8',\n",
       "        'SHELL': '/bin/bash',\n",
       "        'PWD': '/mnt/c/Users/chruc/AppData/Local/Programs/Microsoft VS Code',\n",
       "        'WSL2_GUI_APPS_ENABLED': '1',\n",
       "        'HOSTTYPE': 'x86_64',\n",
       "        'WSLENV': 'ELECTRON_RUN_AS_NODE/w:\\n',\n",
       "        'VSCODE_HANDLES_SIGPIPE': 'true',\n",
       "        'CONDA_EXE': '/home/chris/anaconda3/bin/conda',\n",
       "        '_CE_M': '',\n",
       "        'CONDA_PREFIX': '/home/chris/anaconda3/envs/crewai',\n",
       "        'LS_COLORS': 'rs=0:di=01;34:ln=01;36:mh=00:pi=40;33:so=01;35:do=01;35:bd=40;33;01:cd=40;33;01:or=40;31;01:mi=00:su=37;41:sg=30;43:ca=30;41:tw=30;42:ow=34;42:st=37;44:ex=01;32:*.tar=01;31:*.tgz=01;31:*.arc=01;31:*.arj=01;31:*.taz=01;31:*.lha=01;31:*.lz4=01;31:*.lzh=01;31:*.lzma=01;31:*.tlz=01;31:*.txz=01;31:*.tzo=01;31:*.t7z=01;31:*.zip=01;31:*.z=01;31:*.dz=01;31:*.gz=01;31:*.lrz=01;31:*.lz=01;31:*.lzo=01;31:*.xz=01;31:*.zst=01;31:*.tzst=01;31:*.bz2=01;31:*.bz=01;31:*.tbz=01;31:*.tbz2=01;31:*.tz=01;31:*.deb=01;31:*.rpm=01;31:*.jar=01;31:*.war=01;31:*.ear=01;31:*.sar=01;31:*.rar=01;31:*.alz=01;31:*.ace=01;31:*.zoo=01;31:*.cpio=01;31:*.7z=01;31:*.rz=01;31:*.cab=01;31:*.wim=01;31:*.swm=01;31:*.dwm=01;31:*.esd=01;31:*.jpg=01;35:*.jpeg=01;35:*.mjpg=01;35:*.mjpeg=01;35:*.gif=01;35:*.bmp=01;35:*.pbm=01;35:*.pgm=01;35:*.ppm=01;35:*.tga=01;35:*.xbm=01;35:*.xpm=01;35:*.tif=01;35:*.tiff=01;35:*.png=01;35:*.svg=01;35:*.svgz=01;35:*.mng=01;35:*.pcx=01;35:*.mov=01;35:*.mpg=01;35:*.mpeg=01;35:*.m2v=01;35:*.mkv=01;35:*.webm=01;35:*.webp=01;35:*.ogm=01;35:*.mp4=01;35:*.m4v=01;35:*.mp4v=01;35:*.vob=01;35:*.qt=01;35:*.nuv=01;35:*.wmv=01;35:*.asf=01;35:*.rm=01;35:*.rmvb=01;35:*.flc=01;35:*.avi=01;35:*.fli=01;35:*.flv=01;35:*.gl=01;35:*.dl=01;35:*.xcf=01;35:*.xwd=01;35:*.yuv=01;35:*.cgm=01;35:*.emf=01;35:*.ogv=01;35:*.ogx=01;35:*.aac=00;36:*.au=00;36:*.flac=00;36:*.m4a=00;36:*.mid=00;36:*.midi=00;36:*.mka=00;36:*.mp3=00;36:*.mpc=00;36:*.ogg=00;36:*.ra=00;36:*.wav=00;36:*.oga=00;36:*.opus=00;36:*.spx=00;36:*.xspf=00;36:',\n",
       "        'CONDA_PROMPT_MODIFIER': '(crewai) ',\n",
       "        'LESSCLOSE': '/usr/bin/lesspipe %s %s',\n",
       "        '_CE_CONDA': '',\n",
       "        'LESSOPEN': '| /usr/bin/lesspipe %s',\n",
       "        'CONDA_SHLVL': '2',\n",
       "        'CONDA_PYTHON_EXE': '/home/chris/anaconda3/bin/python',\n",
       "        'LD_LIBRARY_PATH': '/home/chris/anaconda3/envs/llava/lib/python3.10/site-packages/nvidia/cudnn/lib',\n",
       "        'CONDA_DEFAULT_ENV': 'crewai',\n",
       "        'XDG_DATA_DIRS': '/usr/local/share:/usr/share:/var/lib/snapd/desktop',\n",
       "        'VSCODE_AMD_ENTRYPOINT': 'vs/workbench/api/node/extensionHostProcess',\n",
       "        'VSCODE_HANDLES_UNCAUGHT_ERRORS': 'true',\n",
       "        'VSCODE_NLS_CONFIG': '{\"locale\":\"en\",\"osLocale\":\"en\",\"availableLanguages\":{}}',\n",
       "        'MOTD_SHOWN': 'update-motd',\n",
       "        'VSCODE_CWD': '/mnt/c/Users/chruc/AppData/Local/Programs/Microsoft VS Code',\n",
       "        'ELECTRON_RUN_AS_NODE': '1',\n",
       "        'VSCODE_IPC_HOOK_CLI': '/run/user/1000/vscode-ipc-229ce213-5505-44b4-b200-89531e409b85.sock',\n",
       "        'APPLICATION_INSIGHTS_NO_DIAGNOSTIC_CHANNEL': '1',\n",
       "        '__TELEMETRY_CLIENT_ID': '7c873efc-7ee9-41b2-ae94-ebb5b5263f44',\n",
       "        'VSCODE_L10N_BUNDLE_LOCATION': '',\n",
       "        'PYTHONUNBUFFERED': '1',\n",
       "        'CONDA_ROOT': '/home/chris/anaconda3',\n",
       "        'PYTHONIOENCODING': 'utf-8',\n",
       "        'CONDA_PREFIX_1': '/home/chris/anaconda3',\n",
       "        'PYDEVD_IPYTHON_COMPATIBLE_DEBUGGING': '1',\n",
       "        'PYTHON_FROZEN_MODULES': 'on',\n",
       "        'PYDEVD_USE_FRAME_EVAL': 'NO',\n",
       "        'CLICOLOR': '1',\n",
       "        'FORCE_COLOR': '1',\n",
       "        'CLICOLOR_FORCE': '1',\n",
       "        'PAGER': 'cat',\n",
       "        'GIT_PAGER': 'cat',\n",
       "        'MPLBACKEND': 'module://matplotlib_inline.backend_inline',\n",
       "        'EMBEDCHAIN_DB_URI': 'sqlite:////home/chris/.embedchain/embedchain.db',\n",
       "        'OPENAI_MODEL_NAME': 'gpt-3.5-turbo',\n",}"
      ]
     },
     "execution_count": 13,
     "metadata": {},
     "output_type": "execute_result"
    }
   ],
   "source": [
    "os.environ"
   ]
  },
  {
   "cell_type": "markdown",
   "metadata": {},
   "source": [
    "## Creating Agents\n",
    "\n",
    "- Define your Agents, and provide them a `role`, `goal` and `backstory`.\n",
    "- It has been seen that LLMs perform better when they are role playing."
   ]
  },
  {
   "cell_type": "markdown",
   "metadata": {},
   "source": [
    "### Agent: Planner\n",
    "\n",
    "**Note**: The benefit of using _multiple strings_ :\n",
    "```Python\n",
    "varname = \"line 1 of text\"\n",
    "          \"line 2 of text\"\n",
    "```\n",
    "\n",
    "versus the _triple quote docstring_:\n",
    "```Python\n",
    "varname = \"\"\"line 1 of text\n",
    "             line 2 of text\n",
    "          \"\"\"\n",
    "```\n",
    "is that it can avoid adding those whitespaces and newline characters, making it better formatted to be passed to the LLM."
   ]
  },
  {
   "cell_type": "code",
   "execution_count": 14,
   "metadata": {
    "height": 234
   },
   "outputs": [],
   "source": [
    "planner = Agent(\n",
    "    role=\"Content Planner\",\n",
    "    goal=\"Plan engaging and factually accurate content on {topic}\",\n",
    "    backstory=\"You're working on planning a blog article \"\n",
    "    \"about the topic: {topic}.\"\n",
    "    \"You collect information that helps the \"\n",
    "    \"audience learn something \"\n",
    "    \"and make informed decisions. \"\n",
    "    \"Your work is the basis for \"\n",
    "    \"the Content Writer to write an article on this topic.\",\n",
    "    allow_delegation=False,\n",
    "    verbose=True,\n",
    ")"
   ]
  },
  {
   "cell_type": "markdown",
   "metadata": {},
   "source": [
    "### Agent: Writer"
   ]
  },
  {
   "cell_type": "code",
   "execution_count": 16,
   "metadata": {
    "height": 370
   },
   "outputs": [],
   "source": [
    "writer = Agent(\n",
    "    role=\"Content Writer\",\n",
    "    goal=\"Write insightful and factually accurate \"\n",
    "    \"opinion piece about the topic: {topic}\",\n",
    "    backstory=\"You're working on a writing \"\n",
    "    \"a new opinion piece about the topic: {topic}. \"\n",
    "    \"You base your writing on the work of \"\n",
    "    \"the Content Planner, who provides an outline \"\n",
    "    \"and relevant context about the topic. \"\n",
    "    \"You follow the main objectives and \"\n",
    "    \"direction of the outline, \"\n",
    "    \"as provide by the Content Planner. \"\n",
    "    \"You also provide objective and impartial insights \"\n",
    "    \"and back them up with information \"\n",
    "    \"provide by the Content Planner. \"\n",
    "    \"You acknowledge in your opinion piece \"\n",
    "    \"when your statements are opinions \"\n",
    "    \"as opposed to objective statements.\",\n",
    "    allow_delegation=False,\n",
    "    verbose=True,\n",
    ")"
   ]
  },
  {
   "cell_type": "markdown",
   "metadata": {},
   "source": [
    "### Agent: Editor"
   ]
  },
  {
   "cell_type": "code",
   "execution_count": 15,
   "metadata": {
    "height": 268
   },
   "outputs": [],
   "source": [
    "editor = Agent(\n",
    "    role=\"Editor\",\n",
    "    goal=\"Edit a given blog post to align with \"\n",
    "    \"the writing style of the organization. \",\n",
    "    backstory=\"You are an editor who receives a blog post \"\n",
    "    \"from the Content Writer. \"\n",
    "    \"Your goal is to review the blog post \"\n",
    "    \"to ensure that it follows journalistic best practices,\"\n",
    "    \"provides balanced viewpoints \"\n",
    "    \"when providing opinions or assertions, \"\n",
    "    \"and also avoids major controversial topics \"\n",
    "    \"or opinions when possible.\",\n",
    "    allow_delegation=False,\n",
    "    verbose=True,\n",
    ")"
   ]
  },
  {
   "cell_type": "markdown",
   "metadata": {},
   "source": [
    "## Creating Tasks\n",
    "\n",
    "- Define your Tasks, and provide them a `description`, `expected_output` and `agent`."
   ]
  },
  {
   "cell_type": "markdown",
   "metadata": {},
   "source": [
    "### Task: Plan"
   ]
  },
  {
   "cell_type": "code",
   "execution_count": 18,
   "metadata": {
    "height": 268
   },
   "outputs": [],
   "source": [
    "plan = Task(\n",
    "    description=(\n",
    "        \"1. Prioritize the latest trends, key players, \"\n",
    "        \"and noteworthy news on {topic}.\\n\"\n",
    "        \"2. Identify the target audience, considering \"\n",
    "        \"their interests and pain points.\\n\"\n",
    "        \"3. Develop a detailed content outline including \"\n",
    "        \"an introduction, key points, and a call to action.\\n\"\n",
    "        \"4. Include SEO keywords and relevant data or sources.\"\n",
    "    ),\n",
    "    expected_output=\"A comprehensive content plan document \"\n",
    "    \"with an outline, audience analysis, \"\n",
    "    \"SEO keywords, and resources.\",\n",
    "    agent=planner,\n",
    ")"
   ]
  },
  {
   "cell_type": "markdown",
   "metadata": {},
   "source": [
    "### Task: Write"
   ]
  },
  {
   "cell_type": "code",
   "execution_count": 19,
   "metadata": {
    "height": 319
   },
   "outputs": [],
   "source": [
    "write = Task(\n",
    "    description=(\n",
    "        \"1. Use the content plan to craft a compelling \"\n",
    "        \"blog post on {topic}.\\n\"\n",
    "        \"2. Incorporate SEO keywords naturally.\\n\"\n",
    "        \"3. Sections/Subtitles are properly named \"\n",
    "        \"in an engaging manner.\\n\"\n",
    "        \"4. Ensure the post is structured with an \"\n",
    "        \"engaging introduction, insightful body, \"\n",
    "        \"and a summarizing conclusion.\\n\"\n",
    "        \"5. Proofread for grammatical errors and \"\n",
    "        \"alignment with the brand's voice.\\n\"\n",
    "    ),\n",
    "    expected_output=\"A well-written blog post \"\n",
    "    \"in markdown format, ready for publication, \"\n",
    "    \"each section should have 2 or 3 paragraphs.\",\n",
    "    agent=writer,\n",
    ")"
   ]
  },
  {
   "cell_type": "markdown",
   "metadata": {},
   "source": [
    "### Task: Edit"
   ]
  },
  {
   "cell_type": "code",
   "execution_count": 20,
   "metadata": {
    "height": 166
   },
   "outputs": [],
   "source": [
    "edit = Task(\n",
    "    description=(\n",
    "        \"Proofread the given blog post for \"\n",
    "        \"grammatical errors and \"\n",
    "        \"alignment with the brand's voice.\"\n",
    "    ),\n",
    "    expected_output=\"A well-written blog post in markdown format, \"\n",
    "    \"ready for publication, \"\n",
    "    \"each section should have 2 or 3 paragraphs.\",\n",
    "    agent=editor,\n",
    ")"
   ]
  },
  {
   "cell_type": "markdown",
   "metadata": {},
   "source": [
    "## Creating the Crew\n",
    "\n",
    "- Create your crew of Agents\n",
    "- Pass the tasks to be performed by those agents.\n",
    "    - **Note**: *For this simple example*, the tasks will be performed sequentially (i.e they are dependent on each other), so the _order_ of the task in the list _matters_.\n",
    "- `verbose=2` allows you to see all the logs of the execution. "
   ]
  },
  {
   "cell_type": "code",
   "execution_count": 21,
   "metadata": {
    "height": 98
   },
   "outputs": [],
   "source": [
    "crew = Crew(agents=[planner, writer, editor], tasks=[plan, write, edit], verbose=2)"
   ]
  },
  {
   "cell_type": "markdown",
   "metadata": {},
   "source": [
    "## Running the Crew"
   ]
  },
  {
   "cell_type": "markdown",
   "metadata": {},
   "source": [
    "**Note**: LLMs can provide different outputs for they same input, so what you get might be different than what you see in the video."
   ]
  },
  {
   "cell_type": "code",
   "execution_count": 22,
   "metadata": {
    "height": 30
   },
   "outputs": [
    {
     "name": "stdout",
     "output_type": "stream",
     "text": [
      "\u001b[1m\u001b[95m [DEBUG]: == Working Agent: Content Planner\u001b[00m\n",
      "\u001b[1m\u001b[95m [INFO]: == Starting Task: 1. Prioritize the latest trends, key players, and noteworthy news on Artificial Intelligence.\n",
      "2. Identify the target audience, considering their interests and pain points.\n",
      "3. Develop a detailed content outline including an introduction, key points, and a call to action.\n",
      "4. Include SEO keywords and relevant data or sources.\u001b[00m\n",
      "\n",
      "\n",
      "\u001b[1m> Entering new CrewAgentExecutor chain...\u001b[0m\n",
      "\u001b[32;1m\u001b[1;3mI now can give a great answer\n",
      "\n",
      "Final Answer:\n",
      "Content Plan: Artificial Intelligence\n",
      "\n",
      "Outline:\n",
      "I. Introduction\n",
      "- Definition of Artificial Intelligence\n",
      "- Importance of AI in today's world\n",
      "\n",
      "II. Latest Trends in Artificial Intelligence\n",
      "- Machine learning advancements\n",
      "- Natural language processing developments\n",
      "- Robotics integration with AI\n",
      "\n",
      "III. Key Players in the AI Industry\n",
      "- Google's DeepMind\n",
      "- IBM Watson\n",
      "- Amazon Web Services\n",
      "- Microsoft Azure\n",
      "\n",
      "IV. Noteworthy News in Artificial Intelligence\n",
      "- Breakthroughs in AI ethics and bias\n",
      "- AI applications in healthcare\n",
      "- AI's impact on the job market\n",
      "\n",
      "V. Target Audience Analysis\n",
      "- Tech enthusiasts\n",
      "- Business professionals looking to implement AI solutions\n",
      "- General audience interested in the future of technology\n",
      "\n",
      "VI. SEO Keywords\n",
      "- Artificial Intelligence trends\n",
      "- Key players in AI industry\n",
      "- Latest news on Artificial Intelligence\n",
      "- Artificial Intelligence applications\n",
      "\n",
      "VII. Resources\n",
      "- Forbes article on AI trends\n",
      "- Gartner report on top AI vendors\n",
      "- Harvard Business Review on AI ethics\n",
      "\n",
      "Call to Action:\n",
      "Stay informed on the latest developments in Artificial Intelligence by subscribing to our newsletter for regular updates and insights.\n",
      "\n",
      "This content plan is designed to provide valuable information on Artificial Intelligence trends, key players, and noteworthy news to educate and engage our target audience. By incorporating SEO keywords and relevant resources, we aim to create a comprehensive blog article that informs and inspires our readers.\u001b[0m\n",
      "\n",
      "\u001b[1m> Finished chain.\u001b[0m\n",
      "\u001b[1m\u001b[92m [DEBUG]: == [Content Planner] Task output: Content Plan: Artificial Intelligence\n",
      "\n",
      "Outline:\n",
      "I. Introduction\n",
      "- Definition of Artificial Intelligence\n",
      "- Importance of AI in today's world\n",
      "\n",
      "II. Latest Trends in Artificial Intelligence\n",
      "- Machine learning advancements\n",
      "- Natural language processing developments\n",
      "- Robotics integration with AI\n",
      "\n",
      "III. Key Players in the AI Industry\n",
      "- Google's DeepMind\n",
      "- IBM Watson\n",
      "- Amazon Web Services\n",
      "- Microsoft Azure\n",
      "\n",
      "IV. Noteworthy News in Artificial Intelligence\n",
      "- Breakthroughs in AI ethics and bias\n",
      "- AI applications in healthcare\n",
      "- AI's impact on the job market\n",
      "\n",
      "V. Target Audience Analysis\n",
      "- Tech enthusiasts\n",
      "- Business professionals looking to implement AI solutions\n",
      "- General audience interested in the future of technology\n",
      "\n",
      "VI. SEO Keywords\n",
      "- Artificial Intelligence trends\n",
      "- Key players in AI industry\n",
      "- Latest news on Artificial Intelligence\n",
      "- Artificial Intelligence applications\n",
      "\n",
      "VII. Resources\n",
      "- Forbes article on AI trends\n",
      "- Gartner report on top AI vendors\n",
      "- Harvard Business Review on AI ethics\n",
      "\n",
      "Call to Action:\n",
      "Stay informed on the latest developments in Artificial Intelligence by subscribing to our newsletter for regular updates and insights.\n",
      "\n",
      "This content plan is designed to provide valuable information on Artificial Intelligence trends, key players, and noteworthy news to educate and engage our target audience. By incorporating SEO keywords and relevant resources, we aim to create a comprehensive blog article that informs and inspires our readers.\n",
      "\n",
      "\u001b[00m\n",
      "\u001b[1m\u001b[95m [DEBUG]: == Working Agent: Content Writer\u001b[00m\n",
      "\u001b[1m\u001b[95m [INFO]: == Starting Task: 1. Use the content plan to craft a compelling blog post on Artificial Intelligence.\n",
      "2. Incorporate SEO keywords naturally.\n",
      "3. Sections/Subtitles are properly named in an engaging manner.\n",
      "4. Ensure the post is structured with an engaging introduction, insightful body, and a summarizing conclusion.\n",
      "5. Proofread for grammatical errors and alignment with the brand's voice.\n",
      "\u001b[00m\n",
      "\n",
      "\n",
      "\u001b[1m> Entering new CrewAgentExecutor chain...\u001b[0m\n",
      "\u001b[32;1m\u001b[1;3mI now can give a great answer\n",
      "\n",
      "Final Answer:\n",
      "\n",
      "# The Rise of Artificial Intelligence: A Look at Trends, Players, and News\n",
      "\n",
      "## Introduction\n",
      "Artificial Intelligence (AI) has transformed the way we live and work, with its ability to mimic human intelligence and perform tasks that traditionally required human intervention. From advanced machine learning algorithms to natural language processing and robotics integration, AI has become a driving force in today's world, revolutionizing industries and shaping the future of technology.\n",
      "\n",
      "## Latest Trends in Artificial Intelligence\n",
      "The field of AI is constantly evolving, with continuous advancements in machine learning techniques leading to more accurate predictions and insights. Natural language processing has also seen significant developments, enabling AI systems to understand and generate human language with remarkable accuracy. Additionally, the integration of robotics with AI has paved the way for intelligent machines that can perform complex tasks autonomously.\n",
      "\n",
      "## Key Players in the AI Industry\n",
      "Several prominent companies are leading the way in the AI industry, including Google's DeepMind, known for its groundbreaking research in AI and machine learning. IBM Watson is another key player, offering AI-powered solutions for businesses across various sectors. Amazon Web Services and Microsoft Azure are also major players, providing cloud-based AI services to organizations worldwide.\n",
      "\n",
      "## Noteworthy News in Artificial Intelligence\n",
      "Recent breakthroughs in AI ethics and bias have sparked important discussions on the ethical implications of AI technologies. AI applications in healthcare have shown great promise in improving patient outcomes and streamlining medical processes. However, concerns about AI's impact on the job market remain, as automation and AI-powered systems continue to replace traditional roles.\n",
      "\n",
      "## Target Audience Analysis\n",
      "Our blog caters to a diverse audience, including tech enthusiasts, business professionals seeking to implement AI solutions, and individuals interested in the future of technology. By providing valuable insights and updates on AI trends, key players in the industry, and the latest news in AI, we aim to educate and engage our readers on the transformative power of artificial intelligence.\n",
      "\n",
      "## Call to Action\n",
      "Stay informed on the latest developments in Artificial Intelligence by subscribing to our newsletter for regular updates and insights.\n",
      "\n",
      "In conclusion, Artificial Intelligence is a dynamic and rapidly growing field that holds immense potential for innovation and progress. By staying informed on the latest trends, key players, and news in the AI industry, we can better understand the impact of AI on our lives and prepare for a future shaped by intelligent technologies. Subscribe to our newsletter to join the conversation and stay ahead in the world of Artificial Intelligence.\u001b[0m\n",
      "\n",
      "\u001b[1m> Finished chain.\u001b[0m\n",
      "\u001b[1m\u001b[92m [DEBUG]: == [Content Writer] Task output: # The Rise of Artificial Intelligence: A Look at Trends, Players, and News\n",
      "\n",
      "## Introduction\n",
      "Artificial Intelligence (AI) has transformed the way we live and work, with its ability to mimic human intelligence and perform tasks that traditionally required human intervention. From advanced machine learning algorithms to natural language processing and robotics integration, AI has become a driving force in today's world, revolutionizing industries and shaping the future of technology.\n",
      "\n",
      "## Latest Trends in Artificial Intelligence\n",
      "The field of AI is constantly evolving, with continuous advancements in machine learning techniques leading to more accurate predictions and insights. Natural language processing has also seen significant developments, enabling AI systems to understand and generate human language with remarkable accuracy. Additionally, the integration of robotics with AI has paved the way for intelligent machines that can perform complex tasks autonomously.\n",
      "\n",
      "## Key Players in the AI Industry\n",
      "Several prominent companies are leading the way in the AI industry, including Google's DeepMind, known for its groundbreaking research in AI and machine learning. IBM Watson is another key player, offering AI-powered solutions for businesses across various sectors. Amazon Web Services and Microsoft Azure are also major players, providing cloud-based AI services to organizations worldwide.\n",
      "\n",
      "## Noteworthy News in Artificial Intelligence\n",
      "Recent breakthroughs in AI ethics and bias have sparked important discussions on the ethical implications of AI technologies. AI applications in healthcare have shown great promise in improving patient outcomes and streamlining medical processes. However, concerns about AI's impact on the job market remain, as automation and AI-powered systems continue to replace traditional roles.\n",
      "\n",
      "## Target Audience Analysis\n",
      "Our blog caters to a diverse audience, including tech enthusiasts, business professionals seeking to implement AI solutions, and individuals interested in the future of technology. By providing valuable insights and updates on AI trends, key players in the industry, and the latest news in AI, we aim to educate and engage our readers on the transformative power of artificial intelligence.\n",
      "\n",
      "## Call to Action\n",
      "Stay informed on the latest developments in Artificial Intelligence by subscribing to our newsletter for regular updates and insights.\n",
      "\n",
      "In conclusion, Artificial Intelligence is a dynamic and rapidly growing field that holds immense potential for innovation and progress. By staying informed on the latest trends, key players, and news in the AI industry, we can better understand the impact of AI on our lives and prepare for a future shaped by intelligent technologies. Subscribe to our newsletter to join the conversation and stay ahead in the world of Artificial Intelligence.\n",
      "\n",
      "\u001b[00m\n",
      "\u001b[1m\u001b[95m [DEBUG]: == Working Agent: Editor\u001b[00m\n",
      "\u001b[1m\u001b[95m [INFO]: == Starting Task: Proofread the given blog post for grammatical errors and alignment with the brand's voice.\u001b[00m\n",
      "\n",
      "\n",
      "\u001b[1m> Entering new CrewAgentExecutor chain...\u001b[0m\n",
      "\u001b[32;1m\u001b[1;3mI now can give a great answer\n",
      "\n",
      "Final Answer:\n",
      "\n",
      "# The Rise of Artificial Intelligence: A Look at Trends, Players, and News\n",
      "\n",
      "Artificial Intelligence (AI) has undeniably revolutionized the way we live and work. With its remarkable ability to mimic human intelligence and perform tasks that were once exclusive to human capabilities, AI has become a driving force in shaping the future of technology. From advanced machine learning algorithms to natural language processing and the integration of robotics, AI has permeated various industries, paving the way for unprecedented innovation and efficiency.\n",
      "\n",
      "In the ever-evolving field of AI, continuous advancements in machine learning techniques have led to more accurate predictions and insights. Natural language processing has also seen significant developments, enabling AI systems to understand and generate human language with remarkable accuracy. Furthermore, the integration of robotics with AI has given rise to intelligent machines capable of autonomously performing complex tasks, further pushing the boundaries of technological capabilities.\n",
      "\n",
      "Prominent companies such as Google's DeepMind and IBM Watson are at the forefront of the AI industry, spearheading groundbreaking research and offering AI-powered solutions across various sectors. Amazon Web Services and Microsoft Azure also play significant roles by providing cloud-based AI services to organizations worldwide. However, the ethical implications of AI technologies, recent breakthroughs in AI ethics and bias, and the impact of AI on the job market remain important topics of discussion as the industry continues to evolve and expand.\n",
      "\n",
      "Our blog caters to a diverse audience, including tech enthusiasts, business professionals looking to implement AI solutions, and individuals interested in the future of technology. By providing valuable insights on AI trends, key industry players, and the latest news in AI, we aim to educate and engage our readers on the transformative power of artificial intelligence. Stay informed on the latest developments in AI by subscribing to our newsletter for regular updates and insights, and join the conversation on the future of intelligent technologies.\n",
      "\n",
      "In conclusion, Artificial Intelligence is a dynamic and rapidly growing field that holds immense potential for innovation and progress. By staying informed on the latest trends, key players, and news in the AI industry, we can better understand the impact of AI on our lives and prepare for a future shaped by intelligent technologies. Subscribe to our newsletter to stay ahead in the world of Artificial Intelligence.\u001b[0m\n",
      "\n",
      "\u001b[1m> Finished chain.\u001b[0m\n",
      "\u001b[1m\u001b[92m [DEBUG]: == [Editor] Task output: # The Rise of Artificial Intelligence: A Look at Trends, Players, and News\n",
      "\n",
      "Artificial Intelligence (AI) has undeniably revolutionized the way we live and work. With its remarkable ability to mimic human intelligence and perform tasks that were once exclusive to human capabilities, AI has become a driving force in shaping the future of technology. From advanced machine learning algorithms to natural language processing and the integration of robotics, AI has permeated various industries, paving the way for unprecedented innovation and efficiency.\n",
      "\n",
      "In the ever-evolving field of AI, continuous advancements in machine learning techniques have led to more accurate predictions and insights. Natural language processing has also seen significant developments, enabling AI systems to understand and generate human language with remarkable accuracy. Furthermore, the integration of robotics with AI has given rise to intelligent machines capable of autonomously performing complex tasks, further pushing the boundaries of technological capabilities.\n",
      "\n",
      "Prominent companies such as Google's DeepMind and IBM Watson are at the forefront of the AI industry, spearheading groundbreaking research and offering AI-powered solutions across various sectors. Amazon Web Services and Microsoft Azure also play significant roles by providing cloud-based AI services to organizations worldwide. However, the ethical implications of AI technologies, recent breakthroughs in AI ethics and bias, and the impact of AI on the job market remain important topics of discussion as the industry continues to evolve and expand.\n",
      "\n",
      "Our blog caters to a diverse audience, including tech enthusiasts, business professionals looking to implement AI solutions, and individuals interested in the future of technology. By providing valuable insights on AI trends, key industry players, and the latest news in AI, we aim to educate and engage our readers on the transformative power of artificial intelligence. Stay informed on the latest developments in AI by subscribing to our newsletter for regular updates and insights, and join the conversation on the future of intelligent technologies.\n",
      "\n",
      "In conclusion, Artificial Intelligence is a dynamic and rapidly growing field that holds immense potential for innovation and progress. By staying informed on the latest trends, key players, and news in the AI industry, we can better understand the impact of AI on our lives and prepare for a future shaped by intelligent technologies. Subscribe to our newsletter to stay ahead in the world of Artificial Intelligence.\n",
      "\n",
      "\u001b[00m\n"
     ]
    }
   ],
   "source": [
    "result = crew.kickoff(inputs={\"topic\": \"Artificial Intelligence\"})"
   ]
  },
  {
   "cell_type": "markdown",
   "metadata": {},
   "source": [
    "- Display the results of your execution as markdown in the notebook."
   ]
  },
  {
   "cell_type": "code",
   "execution_count": 23,
   "metadata": {
    "height": 47
   },
   "outputs": [
    {
     "data": {
      "text/markdown": [
       "# The Rise of Artificial Intelligence: A Look at Trends, Players, and News\n",
       "\n",
       "Artificial Intelligence (AI) has undeniably revolutionized the way we live and work. With its remarkable ability to mimic human intelligence and perform tasks that were once exclusive to human capabilities, AI has become a driving force in shaping the future of technology. From advanced machine learning algorithms to natural language processing and the integration of robotics, AI has permeated various industries, paving the way for unprecedented innovation and efficiency.\n",
       "\n",
       "In the ever-evolving field of AI, continuous advancements in machine learning techniques have led to more accurate predictions and insights. Natural language processing has also seen significant developments, enabling AI systems to understand and generate human language with remarkable accuracy. Furthermore, the integration of robotics with AI has given rise to intelligent machines capable of autonomously performing complex tasks, further pushing the boundaries of technological capabilities.\n",
       "\n",
       "Prominent companies such as Google's DeepMind and IBM Watson are at the forefront of the AI industry, spearheading groundbreaking research and offering AI-powered solutions across various sectors. Amazon Web Services and Microsoft Azure also play significant roles by providing cloud-based AI services to organizations worldwide. However, the ethical implications of AI technologies, recent breakthroughs in AI ethics and bias, and the impact of AI on the job market remain important topics of discussion as the industry continues to evolve and expand.\n",
       "\n",
       "Our blog caters to a diverse audience, including tech enthusiasts, business professionals looking to implement AI solutions, and individuals interested in the future of technology. By providing valuable insights on AI trends, key industry players, and the latest news in AI, we aim to educate and engage our readers on the transformative power of artificial intelligence. Stay informed on the latest developments in AI by subscribing to our newsletter for regular updates and insights, and join the conversation on the future of intelligent technologies.\n",
       "\n",
       "In conclusion, Artificial Intelligence is a dynamic and rapidly growing field that holds immense potential for innovation and progress. By staying informed on the latest trends, key players, and news in the AI industry, we can better understand the impact of AI on our lives and prepare for a future shaped by intelligent technologies. Subscribe to our newsletter to stay ahead in the world of Artificial Intelligence."
      ],
      "text/plain": [
       "<IPython.core.display.Markdown object>"
      ]
     },
     "execution_count": 23,
     "metadata": {},
     "output_type": "execute_result"
    }
   ],
   "source": [
    "from IPython.display import Markdown\n",
    "\n",
    "Markdown(result)"
   ]
  },
  {
   "cell_type": "markdown",
   "metadata": {},
   "source": [
    "## Try it Yourself\n",
    "\n",
    "- Pass in a topic of your choice and see what the agents come up with!"
   ]
  },
  {
   "cell_type": "code",
   "execution_count": 24,
   "metadata": {
    "height": 47
   },
   "outputs": [
    {
     "name": "stdout",
     "output_type": "stream",
     "text": [
      "\u001b[1m\u001b[95m [DEBUG]: == Working Agent: Content Planner\u001b[00m\n",
      "\u001b[1m\u001b[95m [INFO]: == Starting Task: 1. Prioritize the latest trends, key players, and noteworthy news on How to Mix Patterns Like a Pro.\n",
      "2. Identify the target audience, considering their interests and pain points.\n",
      "3. Develop a detailed content outline including an introduction, key points, and a call to action.\n",
      "4. Include SEO keywords and relevant data or sources.\u001b[00m\n",
      "\n",
      "\n",
      "\u001b[1m> Entering new CrewAgentExecutor chain...\u001b[0m\n",
      "\u001b[32;1m\u001b[1;3mI now can give a great answer\n",
      "\n",
      "Final Answer:\n",
      "Content Plan: How to Mix Patterns Like a Pro\n",
      "\n",
      "Introduction:\n",
      "- Brief overview of the importance of mixing patterns in fashion\n",
      "- Explanation of how mastering pattern mixing can elevate your style game\n",
      "\n",
      "Key Points:\n",
      "1. Latest Trends:\n",
      "- Discuss current trends in pattern mixing such as mixing florals with stripes or polka dots with animal prints\n",
      "- Highlight key players in the fashion industry known for their expertise in pattern mixing\n",
      "\n",
      "2. Target Audience:\n",
      "- Fashion enthusiasts looking to enhance their styling skills\n",
      "- Individuals who want to experiment with pattern mixing but are unsure how to do it successfully\n",
      "- People interested in staying up-to-date with the latest fashion trends\n",
      "\n",
      "3. Audience Analysis:\n",
      "- Interests: Fashion, styling tips, trendsetting\n",
      "- Pain Points: Lack of confidence in mixing patterns, fear of looking mismatched or clashing\n",
      "\n",
      "4. Detailed Content Outline:\n",
      "- Introduction: Importance of pattern mixing in fashion\n",
      "- Latest Trends: Current pattern mixing trends and key players\n",
      "- How-To Guide: Tips and tricks for successfully mixing patterns\n",
      "- Real-Life Examples: Visual examples of successful pattern mixing outfits\n",
      "- Call to Action: Encourage readers to experiment with pattern mixing and share their creations on social media using a specific hashtag\n",
      "\n",
      "5. SEO Keywords:\n",
      "- Pattern mixing, fashion trends, how to mix patterns, pattern mixing tips, pattern mixing outfits\n",
      "\n",
      "6. Resources:\n",
      "- Fashion magazines and websites for trend inspiration\n",
      "- Style influencers known for their pattern mixing skills\n",
      "- Online tutorials on pattern mixing techniques\n",
      "\n",
      "Overall, this content plan aims to provide readers with valuable information on how to mix patterns like a pro, incorporating the latest trends, audience analysis, SEO keywords, and relevant resources to ensure a comprehensive and engaging blog article.\u001b[0m\n",
      "\n",
      "\u001b[1m> Finished chain.\u001b[0m\n",
      "\u001b[1m\u001b[92m [DEBUG]: == [Content Planner] Task output: Content Plan: How to Mix Patterns Like a Pro\n",
      "\n",
      "Introduction:\n",
      "- Brief overview of the importance of mixing patterns in fashion\n",
      "- Explanation of how mastering pattern mixing can elevate your style game\n",
      "\n",
      "Key Points:\n",
      "1. Latest Trends:\n",
      "- Discuss current trends in pattern mixing such as mixing florals with stripes or polka dots with animal prints\n",
      "- Highlight key players in the fashion industry known for their expertise in pattern mixing\n",
      "\n",
      "2. Target Audience:\n",
      "- Fashion enthusiasts looking to enhance their styling skills\n",
      "- Individuals who want to experiment with pattern mixing but are unsure how to do it successfully\n",
      "- People interested in staying up-to-date with the latest fashion trends\n",
      "\n",
      "3. Audience Analysis:\n",
      "- Interests: Fashion, styling tips, trendsetting\n",
      "- Pain Points: Lack of confidence in mixing patterns, fear of looking mismatched or clashing\n",
      "\n",
      "4. Detailed Content Outline:\n",
      "- Introduction: Importance of pattern mixing in fashion\n",
      "- Latest Trends: Current pattern mixing trends and key players\n",
      "- How-To Guide: Tips and tricks for successfully mixing patterns\n",
      "- Real-Life Examples: Visual examples of successful pattern mixing outfits\n",
      "- Call to Action: Encourage readers to experiment with pattern mixing and share their creations on social media using a specific hashtag\n",
      "\n",
      "5. SEO Keywords:\n",
      "- Pattern mixing, fashion trends, how to mix patterns, pattern mixing tips, pattern mixing outfits\n",
      "\n",
      "6. Resources:\n",
      "- Fashion magazines and websites for trend inspiration\n",
      "- Style influencers known for their pattern mixing skills\n",
      "- Online tutorials on pattern mixing techniques\n",
      "\n",
      "Overall, this content plan aims to provide readers with valuable information on how to mix patterns like a pro, incorporating the latest trends, audience analysis, SEO keywords, and relevant resources to ensure a comprehensive and engaging blog article.\n",
      "\n",
      "\u001b[00m\n",
      "\u001b[1m\u001b[95m [DEBUG]: == Working Agent: Content Writer\u001b[00m\n",
      "\u001b[1m\u001b[95m [INFO]: == Starting Task: 1. Use the content plan to craft a compelling blog post on How to Mix Patterns Like a Pro.\n",
      "2. Incorporate SEO keywords naturally.\n",
      "3. Sections/Subtitles are properly named in an engaging manner.\n",
      "4. Ensure the post is structured with an engaging introduction, insightful body, and a summarizing conclusion.\n",
      "5. Proofread for grammatical errors and alignment with the brand's voice.\n",
      "\u001b[00m\n",
      "\n",
      "\n",
      "\u001b[1m> Entering new CrewAgentExecutor chain...\u001b[0m\n",
      "\u001b[32;1m\u001b[1;3mI now can give a great answer\n",
      "\n",
      "Final Answer:\n",
      "\n",
      "# How to Mix Patterns Like a Pro\n",
      "\n",
      "In the world of fashion, mastering the art of mixing patterns can truly elevate your style game. It allows you to create unique and eye-catching outfits that showcase your creativity and individuality. Whether you're a fashion enthusiast looking to enhance your styling skills or someone who wants to experiment with pattern mixing but is unsure how to do it successfully, this guide will provide you with valuable tips and insights on how to mix patterns like a pro.\n",
      "\n",
      "## Latest Trends\n",
      "\n",
      "One of the current trends in pattern mixing is the combination of florals with stripes or polka dots with animal prints. This unexpected pairing adds a fun and playful element to your outfit, making a bold statement. Key players in the fashion industry known for their expertise in pattern mixing include designers like Diane von Furstenberg, who is renowned for her use of bold prints and vibrant colors. Drawing inspiration from these trendsetters can help you incorporate pattern mixing into your own wardrobe with confidence.\n",
      "\n",
      "## How-To Guide\n",
      "\n",
      "When it comes to successfully mixing patterns, the key is to start with pieces that have a common color scheme or theme. For example, pairing a striped top with floral bottoms works well when both pieces share a similar color palette. Additionally, mixing different scales of patterns can create visual interest without looking overwhelming. Experimenting with accessories like scarves or handbags can also be a subtle way to introduce pattern mixing into your look. Remember, the goal is to have fun and express your personal style through creative combinations.\n",
      "\n",
      "## Real-Life Examples\n",
      "\n",
      "Visual examples of successful pattern mixing outfits can provide inspiration and guidance for your own styling endeavors. Look to fashion magazines, websites, and style influencers known for their pattern mixing skills for ideas on how to put together cohesive and stylish looks. Online tutorials on pattern mixing techniques can also offer step-by-step guidance on how to mix patterns effectively. By studying real-life examples and experimenting with different combinations, you can gain the confidence to mix patterns like a pro.\n",
      "\n",
      "In conclusion, embracing pattern mixing in your wardrobe can open up a world of possibilities for creating dynamic and fashion-forward outfits. Don't be afraid to step out of your comfort zone and try new combinations – you may be surprised by the stylish results. So go ahead, experiment with pattern mixing and share your creations on social media using the hashtag #PatternMixingPro. Let your creativity shine and show the world that you can mix patterns like a true fashion pro.\u001b[0m\n",
      "\n",
      "\u001b[1m> Finished chain.\u001b[0m\n",
      "\u001b[1m\u001b[92m [DEBUG]: == [Content Writer] Task output: # How to Mix Patterns Like a Pro\n",
      "\n",
      "In the world of fashion, mastering the art of mixing patterns can truly elevate your style game. It allows you to create unique and eye-catching outfits that showcase your creativity and individuality. Whether you're a fashion enthusiast looking to enhance your styling skills or someone who wants to experiment with pattern mixing but is unsure how to do it successfully, this guide will provide you with valuable tips and insights on how to mix patterns like a pro.\n",
      "\n",
      "## Latest Trends\n",
      "\n",
      "One of the current trends in pattern mixing is the combination of florals with stripes or polka dots with animal prints. This unexpected pairing adds a fun and playful element to your outfit, making a bold statement. Key players in the fashion industry known for their expertise in pattern mixing include designers like Diane von Furstenberg, who is renowned for her use of bold prints and vibrant colors. Drawing inspiration from these trendsetters can help you incorporate pattern mixing into your own wardrobe with confidence.\n",
      "\n",
      "## How-To Guide\n",
      "\n",
      "When it comes to successfully mixing patterns, the key is to start with pieces that have a common color scheme or theme. For example, pairing a striped top with floral bottoms works well when both pieces share a similar color palette. Additionally, mixing different scales of patterns can create visual interest without looking overwhelming. Experimenting with accessories like scarves or handbags can also be a subtle way to introduce pattern mixing into your look. Remember, the goal is to have fun and express your personal style through creative combinations.\n",
      "\n",
      "## Real-Life Examples\n",
      "\n",
      "Visual examples of successful pattern mixing outfits can provide inspiration and guidance for your own styling endeavors. Look to fashion magazines, websites, and style influencers known for their pattern mixing skills for ideas on how to put together cohesive and stylish looks. Online tutorials on pattern mixing techniques can also offer step-by-step guidance on how to mix patterns effectively. By studying real-life examples and experimenting with different combinations, you can gain the confidence to mix patterns like a pro.\n",
      "\n",
      "In conclusion, embracing pattern mixing in your wardrobe can open up a world of possibilities for creating dynamic and fashion-forward outfits. Don't be afraid to step out of your comfort zone and try new combinations – you may be surprised by the stylish results. So go ahead, experiment with pattern mixing and share your creations on social media using the hashtag #PatternMixingPro. Let your creativity shine and show the world that you can mix patterns like a true fashion pro.\n",
      "\n",
      "\u001b[00m\n",
      "\u001b[1m\u001b[95m [DEBUG]: == Working Agent: Editor\u001b[00m\n",
      "\u001b[1m\u001b[95m [INFO]: == Starting Task: Proofread the given blog post for grammatical errors and alignment with the brand's voice.\u001b[00m\n",
      "\n",
      "\n",
      "\u001b[1m> Entering new CrewAgentExecutor chain...\u001b[0m\n",
      "\u001b[32;1m\u001b[1;3mI now can give a great answer.\n",
      "\n",
      "Final Answer:\n",
      "\n",
      "# How to Mix Patterns Like a Pro\n",
      "\n",
      "In the world of fashion, mastering the art of mixing patterns can truly elevate your style game. It allows you to create unique and eye-catching outfits that showcase your creativity and individuality. Whether you're a fashion enthusiast looking to enhance your styling skills or someone who wants to experiment with pattern mixing but is unsure how to do it successfully, this guide will provide you with valuable tips and insights on how to mix patterns like a pro.\n",
      "\n",
      "## Latest Trends\n",
      "\n",
      "One of the current trends in pattern mixing is the combination of florals with stripes or polka dots with animal prints. This unexpected pairing adds a fun and playful element to your outfit, making a bold statement. Key players in the fashion industry known for their expertise in pattern mixing include designers like Diane von Furstenberg, who is renowned for her use of bold prints and vibrant colors. Drawing inspiration from these trendsetters can help you incorporate pattern mixing into your own wardrobe with confidence.\n",
      "\n",
      "## How-To Guide\n",
      "\n",
      "When it comes to successfully mixing patterns, the key is to start with pieces that have a common color scheme or theme. For example, pairing a striped top with floral bottoms works well when both pieces share a similar color palette. Additionally, mixing different scales of patterns can create visual interest without looking overwhelming. Experimenting with accessories like scarves or handbags can also be a subtle way to introduce pattern mixing into your look. Remember, the goal is to have fun and express your personal style through creative combinations.\n",
      "\n",
      "## Real-Life Examples\n",
      "\n",
      "Visual examples of successful pattern mixing outfits can provide inspiration and guidance for your own styling endeavors. Look to fashion magazines, websites, and style influencers known for their pattern mixing skills for ideas on how to put together cohesive and stylish looks. Online tutorials on pattern mixing techniques can also offer step-by-step guidance on how to mix patterns effectively. By studying real-life examples and experimenting with different combinations, you can gain the confidence to mix patterns like a pro.\n",
      "\n",
      "In conclusion, embracing pattern mixing in your wardrobe can open up a world of possibilities for creating dynamic and fashion-forward outfits. Don't be afraid to step out of your comfort zone and try new combinations – you may be surprised by the stylish results. So go ahead, experiment with pattern mixing and share your creations on social media using the hashtag #PatternMixingPro. Let your creativity shine and show the world that you can mix patterns like a true fashion pro.\u001b[0m\n",
      "\n",
      "\u001b[1m> Finished chain.\u001b[0m\n",
      "\u001b[1m\u001b[92m [DEBUG]: == [Editor] Task output: # How to Mix Patterns Like a Pro\n",
      "\n",
      "In the world of fashion, mastering the art of mixing patterns can truly elevate your style game. It allows you to create unique and eye-catching outfits that showcase your creativity and individuality. Whether you're a fashion enthusiast looking to enhance your styling skills or someone who wants to experiment with pattern mixing but is unsure how to do it successfully, this guide will provide you with valuable tips and insights on how to mix patterns like a pro.\n",
      "\n",
      "## Latest Trends\n",
      "\n",
      "One of the current trends in pattern mixing is the combination of florals with stripes or polka dots with animal prints. This unexpected pairing adds a fun and playful element to your outfit, making a bold statement. Key players in the fashion industry known for their expertise in pattern mixing include designers like Diane von Furstenberg, who is renowned for her use of bold prints and vibrant colors. Drawing inspiration from these trendsetters can help you incorporate pattern mixing into your own wardrobe with confidence.\n",
      "\n",
      "## How-To Guide\n",
      "\n",
      "When it comes to successfully mixing patterns, the key is to start with pieces that have a common color scheme or theme. For example, pairing a striped top with floral bottoms works well when both pieces share a similar color palette. Additionally, mixing different scales of patterns can create visual interest without looking overwhelming. Experimenting with accessories like scarves or handbags can also be a subtle way to introduce pattern mixing into your look. Remember, the goal is to have fun and express your personal style through creative combinations.\n",
      "\n",
      "## Real-Life Examples\n",
      "\n",
      "Visual examples of successful pattern mixing outfits can provide inspiration and guidance for your own styling endeavors. Look to fashion magazines, websites, and style influencers known for their pattern mixing skills for ideas on how to put together cohesive and stylish looks. Online tutorials on pattern mixing techniques can also offer step-by-step guidance on how to mix patterns effectively. By studying real-life examples and experimenting with different combinations, you can gain the confidence to mix patterns like a pro.\n",
      "\n",
      "In conclusion, embracing pattern mixing in your wardrobe can open up a world of possibilities for creating dynamic and fashion-forward outfits. Don't be afraid to step out of your comfort zone and try new combinations – you may be surprised by the stylish results. So go ahead, experiment with pattern mixing and share your creations on social media using the hashtag #PatternMixingPro. Let your creativity shine and show the world that you can mix patterns like a true fashion pro.\n",
      "\n",
      "\u001b[00m\n"
     ]
    }
   ],
   "source": [
    "topic = \"How to Mix Patterns Like a Pro\"\n",
    "result = crew.kickoff(inputs={\"topic\": topic})"
   ]
  },
  {
   "cell_type": "code",
   "execution_count": 25,
   "metadata": {
    "height": 30
   },
   "outputs": [
    {
     "data": {
      "text/markdown": [
       "# How to Mix Patterns Like a Pro\n",
       "\n",
       "In the world of fashion, mastering the art of mixing patterns can truly elevate your style game. It allows you to create unique and eye-catching outfits that showcase your creativity and individuality. Whether you're a fashion enthusiast looking to enhance your styling skills or someone who wants to experiment with pattern mixing but is unsure how to do it successfully, this guide will provide you with valuable tips and insights on how to mix patterns like a pro.\n",
       "\n",
       "## Latest Trends\n",
       "\n",
       "One of the current trends in pattern mixing is the combination of florals with stripes or polka dots with animal prints. This unexpected pairing adds a fun and playful element to your outfit, making a bold statement. Key players in the fashion industry known for their expertise in pattern mixing include designers like Diane von Furstenberg, who is renowned for her use of bold prints and vibrant colors. Drawing inspiration from these trendsetters can help you incorporate pattern mixing into your own wardrobe with confidence.\n",
       "\n",
       "## How-To Guide\n",
       "\n",
       "When it comes to successfully mixing patterns, the key is to start with pieces that have a common color scheme or theme. For example, pairing a striped top with floral bottoms works well when both pieces share a similar color palette. Additionally, mixing different scales of patterns can create visual interest without looking overwhelming. Experimenting with accessories like scarves or handbags can also be a subtle way to introduce pattern mixing into your look. Remember, the goal is to have fun and express your personal style through creative combinations.\n",
       "\n",
       "## Real-Life Examples\n",
       "\n",
       "Visual examples of successful pattern mixing outfits can provide inspiration and guidance for your own styling endeavors. Look to fashion magazines, websites, and style influencers known for their pattern mixing skills for ideas on how to put together cohesive and stylish looks. Online tutorials on pattern mixing techniques can also offer step-by-step guidance on how to mix patterns effectively. By studying real-life examples and experimenting with different combinations, you can gain the confidence to mix patterns like a pro.\n",
       "\n",
       "In conclusion, embracing pattern mixing in your wardrobe can open up a world of possibilities for creating dynamic and fashion-forward outfits. Don't be afraid to step out of your comfort zone and try new combinations – you may be surprised by the stylish results. So go ahead, experiment with pattern mixing and share your creations on social media using the hashtag #PatternMixingPro. Let your creativity shine and show the world that you can mix patterns like a true fashion pro."
      ],
      "text/plain": [
       "<IPython.core.display.Markdown object>"
      ]
     },
     "execution_count": 25,
     "metadata": {},
     "output_type": "execute_result"
    }
   ],
   "source": [
    "Markdown(result)"
   ]
  },
  {
   "cell_type": "markdown",
   "metadata": {},
   "source": [
    "<a name='1'></a>\n",
    " ## Other Popular Models as LLM for your Agents"
   ]
  },
  {
   "cell_type": "markdown",
   "metadata": {},
   "source": [
    "#### Hugging Face (HuggingFaceHub endpoint)\n",
    "\n",
    "```Python\n",
    "from langchain_community.llms import HuggingFaceHub\n",
    "\n",
    "llm = HuggingFaceHub(\n",
    "    repo_id=\"HuggingFaceH4/zephyr-7b-beta\",\n",
    "    huggingfacehub_api_token=\"<HF_TOKEN_HERE>\",\n",
    "    task=\"text-generation\",\n",
    ")\n",
    "\n",
    "### you will pass \"llm\" to your agent function\n",
    "```"
   ]
  },
  {
   "cell_type": "markdown",
   "metadata": {},
   "source": [
    "#### Mistral API\n",
    "\n",
    "```Python\n",
    "OPENAI_API_KEY=your-mistral-api-key\n",
    "OPENAI_API_BASE=https://api.mistral.ai/v1\n",
    "OPENAI_MODEL_NAME=\"mistral-small\"\n",
    "```"
   ]
  },
  {
   "cell_type": "markdown",
   "metadata": {},
   "source": [
    "#### Cohere\n",
    "\n",
    "```Python\n",
    "from langchain_community.chat_models import ChatCohere\n",
    "# Initialize language model\n",
    "os.environ[\"COHERE_API_KEY\"] = \"your-cohere-api-key\"\n",
    "llm = ChatCohere()\n",
    "\n",
    "### you will pass \"llm\" to your agent function\n",
    "```"
   ]
  },
  {
   "cell_type": "markdown",
   "metadata": {},
   "source": [
    "### For using Llama locally with Ollama and more, checkout the crewAI documentation on [Connecting to any LLM](https://docs.crewai.com/how-to/LLM-Connections/)."
   ]
  },
  {
   "cell_type": "code",
   "execution_count": null,
   "metadata": {
    "height": 30
   },
   "outputs": [],
   "source": []
  },
  {
   "cell_type": "code",
   "execution_count": null,
   "metadata": {
    "height": 30
   },
   "outputs": [],
   "source": []
  },
  {
   "cell_type": "code",
   "execution_count": null,
   "metadata": {
    "height": 30
   },
   "outputs": [],
   "source": []
  }
 ],
 "metadata": {
  "colab": {
   "gpuType": "T4",
   "provenance": []
  },
  "kernelspec": {
   "display_name": "Python 3 (ipykernel)",
   "language": "python",
   "name": "python3"
  },
  "language_info": {
   "codemirror_mode": {
    "name": "ipython",
    "version": 3
   },
   "file_extension": ".py",
   "mimetype": "text/x-python",
   "name": "python",
   "nbconvert_exporter": "python",
   "pygments_lexer": "ipython3",
   "version": "3.11.9"
  }
 },
 "nbformat": 4,
 "nbformat_minor": 4
}
